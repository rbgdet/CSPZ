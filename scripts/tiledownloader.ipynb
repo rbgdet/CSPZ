{
 "cells": [
  {
   "cell_type": "code",
   "execution_count": 1,
   "id": "f4f8d827",
   "metadata": {},
   "outputs": [],
   "source": [
    "# imports\n",
    "import numpy as np\n",
    "import pandas as pd\n",
    "import h5py\n",
    "from astropy.utils.data import download_file  #import file from URL\n",
    "import astropy.table\n",
    "import subprocess as sp\n",
    "import glob\n",
    "import sys"
   ]
  },
  {
   "cell_type": "code",
   "execution_count": 13,
   "id": "6326cc03",
   "metadata": {},
   "outputs": [],
   "source": [
    "# get file names\n",
    "tilelist = glob.glob('https://decade.ncsa.illinois.edu/deca_archive/DEC/multiepoch/delve/r5918/')"
   ]
  },
  {
   "cell_type": "code",
   "execution_count": null,
   "id": "fe670d77",
   "metadata": {},
   "outputs": [],
   "source": [
    "ntiles = 1000\n",
    "for tile in tilelist[0:ntiles]:\n",
    "    "
   ]
  }
 ],
 "metadata": {
  "kernelspec": {
   "display_name": "Python 3",
   "language": "python",
   "name": "python3"
  },
  "language_info": {
   "codemirror_mode": {
    "name": "ipython",
    "version": 3
   },
   "file_extension": ".py",
   "mimetype": "text/x-python",
   "name": "python",
   "nbconvert_exporter": "python",
   "pygments_lexer": "ipython3",
   "version": "3.7.6"
  }
 },
 "nbformat": 4,
 "nbformat_minor": 5
}
