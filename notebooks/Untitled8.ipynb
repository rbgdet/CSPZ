{
 "cells": [
  {
   "cell_type": "code",
   "execution_count": 1,
   "id": "c0af7f06",
   "metadata": {},
   "outputs": [],
   "source": [
    "import numpy as np\n",
    "import h5py\n",
    "import time\n",
    "import pandas as pd\n",
    "import matplotlib.pyplot as plt\n",
    "import glob\n",
    "import scipy\n",
    "import pickle as pkl\n",
    "import matplotlib as mpl\n",
    "from astropy.coordinates import SkyCoord\n",
    "from astropy import units as u\n",
    "\n",
    "n = 48\n",
    "\n",
    "deep = pd.read_csv('/project/chihway/raulteixeira/data/deep_fields_nice_n_z.csv.gz')\n",
    "wide = pd.read_csv('/project/chihway/raulteixeira/data/BPZ+SOM_mcal_gold_wide_48x48_ids+cells+fluxes.csv.gz')\n",
    "Balrog_Term = np.load('/project/chihway/raulteixeira/data/BalrogTerm_v01_29072023.npy')"
   ]
  },
  {
   "cell_type": "code",
   "execution_count": 2,
   "id": "86cf611d",
   "metadata": {},
   "outputs": [],
   "source": [
    "def flux2mag(flux):\n",
    "    return -2.5 * np.log10(flux) + 30\n",
    "\n",
    "bands = ['R', 'I', 'Z']\n",
    "for band in bands:\n",
    "    wide[f'MAG_{band}']=flux2mag(wide[f'FLUX_{band}'])"
   ]
  },
  {
   "cell_type": "code",
   "execution_count": 3,
   "id": "d213ca1c",
   "metadata": {},
   "outputs": [
    {
     "data": {
      "text/plain": [
       "Index(['Unnamed: 0.2', 'Unnamed: 0', 'Unnamed: 0.1', 'COADD_OBJECT_ID',\n",
       "       'FLUX_R', 'FLUX_ERR_R', 'FLUX_I', 'FLUX_ERR_I', 'FLUX_Z', 'FLUX_ERR_Z',\n",
       "       'cells', 'CHI_SQ', 'ID', 'M_0', 'ODDS', 'T_B', 'T_ML', 'Z_B', 'Z_B_MAX',\n",
       "       'Z_B_MIN', 'Z_MEAN', 'Z_ML', 'Z_SAMP', 'Z_SIG', 'MAG_R', 'MAG_I',\n",
       "       'MAG_Z'],\n",
       "      dtype='object')"
      ]
     },
     "execution_count": 3,
     "metadata": {},
     "output_type": "execute_result"
    }
   ],
   "source": [
    "wide.columns"
   ]
  },
  {
   "cell_type": "code",
   "execution_count": 4,
   "id": "4f48cb31",
   "metadata": {},
   "outputs": [
    {
     "ename": "NameError",
     "evalue": "name 'square' is not defined",
     "output_type": "error",
     "traceback": [
      "\u001b[0;31m---------------------------------------------------------------------------\u001b[0m",
      "\u001b[0;31mNameError\u001b[0m                                 Traceback (most recent call last)",
      "Cell \u001b[0;32mIn[4], line 9\u001b[0m\n\u001b[1;32m      7\u001b[0m title \u001b[38;5;241m=\u001b[39m \u001b[38;5;124m'\u001b[39m\u001b[38;5;124mmean sampled redshift\u001b[39m\u001b[38;5;124m'\u001b[39m\n\u001b[1;32m      8\u001b[0m square_len_wide \u001b[38;5;241m=\u001b[39m wide[[feat, \u001b[38;5;124m'\u001b[39m\u001b[38;5;124mcells\u001b[39m\u001b[38;5;124m'\u001b[39m]]\u001b[38;5;241m.\u001b[39mgroupby(\u001b[38;5;124m'\u001b[39m\u001b[38;5;124mcells\u001b[39m\u001b[38;5;124m'\u001b[39m)\u001b[38;5;241m.\u001b[39magg([\u001b[38;5;124m'\u001b[39m\u001b[38;5;124mmean\u001b[39m\u001b[38;5;124m'\u001b[39m, \u001b[38;5;124m'\u001b[39m\u001b[38;5;124mmedian\u001b[39m\u001b[38;5;124m'\u001b[39m, \u001b[38;5;124m'\u001b[39m\u001b[38;5;124mstd\u001b[39m\u001b[38;5;124m'\u001b[39m, \u001b[38;5;28mlen\u001b[39m])\n\u001b[0;32m----> 9\u001b[0m im_len \u001b[38;5;241m=\u001b[39m \u001b[43msquare\u001b[49m[(feat, fun)]\u001b[38;5;241m.\u001b[39mvalues\u001b[38;5;241m.\u001b[39mreshape(n,n)\n\u001b[1;32m     10\u001b[0m image \u001b[38;5;241m=\u001b[39m plt\u001b[38;5;241m.\u001b[39mimshow(im_len, cmap\u001b[38;5;241m=\u001b[39mcmap, vmin\u001b[38;5;241m=\u001b[39mvmin, vmax\u001b[38;5;241m=\u001b[39mvmax, norm\u001b[38;5;241m=\u001b[39mnorm)\n\u001b[1;32m     11\u001b[0m \u001b[38;5;66;03m#divider = make_axes_locatable(axes[i,j])\u001b[39;00m\n\u001b[1;32m     12\u001b[0m \u001b[38;5;66;03m#cax = divider.append_axes('right', size='5%', pad=0.05)\u001b[39;00m\n",
      "\u001b[0;31mNameError\u001b[0m: name 'square' is not defined"
     ]
    }
   ],
   "source": [
    "n=48\n",
    "cmap='magma'\n",
    "fun = 'len'\n",
    "feat = 'FLUX_I'\n",
    "vmin,vmax=None,None#-1,3\n",
    "norm=None\n",
    "title = 'mean sampled redshift'\n",
    "square_len_wide = wide[[feat, 'cells']].groupby('cells').agg(['mean', 'median', 'std', len])\n",
    "im_len = square[(feat, fun)].values.reshape(n,n)\n",
    "image = plt.imshow(im_len, cmap=cmap, vmin=vmin, vmax=vmax, norm=norm)\n",
    "#divider = make_axes_locatable(axes[i,j])\n",
    "#cax = divider.append_axes('right', size='5%', pad=0.05)\n",
    "plt.colorbar(image, orientation='vertical') # cax=cax\n",
    "plt.title(f'{title}',style='italic')\n",
    "plt.show()"
   ]
  },
  {
   "cell_type": "code",
   "execution_count": 6,
   "id": "126688a3",
   "metadata": {},
   "outputs": [
    {
     "data": {
      "image/png": "[encoded data removed]",
      "text/plain": [
       "<Figure size 640x480 with 2 Axes>"
      ]
     },
     "metadata": {},
     "output_type": "display_data"
    }
   ],
   "source": [
    "n=48\n",
    "cmap='magma'\n",
    "fun = 'mean'\n",
    "feat = 'Z_SAMP'\n",
    "vmin,vmax=None,None#-1,3\n",
    "norm=None\n",
    "title = 'mean sampled redshift'\n",
    "square_mean_z_wide = wide[[feat, 'cells']].groupby('cells').agg(['mean', 'median', 'std', len])\n",
    "im_z = square_mean_z_wide[(feat, fun)].values.reshape(n,n)\n",
    "image = plt.imshow(im_z, cmap=cmap, vmin=vmin, vmax=vmax, norm=norm)\n",
    "#divider = make_axes_locatable(axes[i,j])\n",
    "#cax = divider.append_axes('right', size='5%', pad=0.05)\n",
    "plt.colorbar(image, orientation='vertical') # cax=cax\n",
    "plt.title(f'{title}',style='italic')\n",
    "plt.show()"
   ]
  },
  {
   "cell_type": "code",
   "execution_count": 7,
   "id": "7db384cc",
   "metadata": {},
   "outputs": [],
   "source": [
    "ids = np.argsort(im_z.flatten())"
   ]
  },
  {
   "cell_type": "code",
   "execution_count": 9,
   "id": "d5a9f0b7",
   "metadata": {},
   "outputs": [],
   "source": [
    "percentages = im_len.flatten()[ids].cumsum()/len(wide)"
   ]
  },
  {
   "cell_type": "code",
   "execution_count": 10,
   "id": "09e7403c",
   "metadata": {},
   "outputs": [],
   "source": [
    "masks = []\n",
    "for lim1, lim2 in zip([0, .25, .5, .75], [.25, .5, .75, 1.]):\n",
    "    masks.append(ids[(lim1<percentages) & (percentages<=lim2)])"
   ]
  },
  {
   "cell_type": "code",
   "execution_count": 11,
   "id": "e9340071",
   "metadata": {},
   "outputs": [
    {
     "data": {
      "text/plain": [
       "[746, 520, 483, 555]"
      ]
     },
     "execution_count": 11,
     "metadata": {},
     "output_type": "execute_result"
    }
   ],
   "source": [
    "[len(mask) for mask in masks]"
   ]
  },
  {
   "cell_type": "code",
   "execution_count": 12,
   "id": "31f02b2a",
   "metadata": {},
   "outputs": [
    {
     "name": "stdout",
     "output_type": "stream",
     "text": [
      "11367796\n",
      "11383521\n",
      "11383372\n",
      "11379938\n",
      "45514627\n"
     ]
    }
   ],
   "source": [
    "sum_=0\n",
    "for mask in masks:\n",
    "    iv_ =im_len.flatten()[mask].sum()\n",
    "    print(iv_)\n",
    "    sum_+=iv_\n",
    "print(sum_)"
   ]
  },
  {
   "cell_type": "code",
   "execution_count": null,
   "id": "285f86e2",
   "metadata": {},
   "outputs": [],
   "source": [
    "square_len_wide.FLUX_I"
   ]
  },
  {
   "cell_type": "code",
   "execution_count": 15,
   "id": "0a763822",
   "metadata": {},
   "outputs": [
    {
     "data": {
      "image/png": "[encoded data removed]",
      "text/plain": [
       "<Figure size 640x480 with 2 Axes>"
      ]
     },
     "metadata": {},
     "output_type": "display_data"
    }
   ],
   "source": [
    "n=48\n",
    "cmap='Set1'\n",
    "fun = 'mean'\n",
    "feat = 'Z_SAMP'\n",
    "vmin,vmax=None,None#-1,3\n",
    "norm=None\n",
    "title = 'tomographic bins'\n",
    "#square = df[[feat, 'cells']].groupby('cells').agg(['mean', 'median', 'std', len])\n",
    "im = np.zeros(n**2)\n",
    "\n",
    "for i, mask in enumerate(masks):\n",
    "    im[mask] = (i+1)\n",
    "    \n",
    "im = im.reshape(n,n)\n",
    "\n",
    "image = plt.imshow(im, cmap=cmap, vmin=vmin, vmax=vmax, norm=norm)\n",
    "#divider = make_axes_locatable(axes[i,j])\n",
    "#cax = divider.append_axes('right', size='5%', pad=0.05)\n",
    "plt.colorbar(image, orientation='vertical') # cax=cax\n",
    "plt.title(f'{title}',style='italic')\n",
    "plt.show()"
   ]
  }
 ],
 "metadata": {
  "kernelspec": {
   "display_name": "Python 3 (ipykernel)",
   "language": "python",
   "name": "python3"
  },
  "language_info": {
   "codemirror_mode": {
    "name": "ipython",
    "version": 3
   },
   "file_extension": ".py",
   "mimetype": "text/x-python",
   "name": "python",
   "nbconvert_exporter": "python",
   "pygments_lexer": "ipython3",
   "version": "3.11.4"
  }
 },
 "nbformat": 4,
 "nbformat_minor": 5
}
