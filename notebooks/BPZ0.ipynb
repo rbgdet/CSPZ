{
 "cells": [
  {
   "cell_type": "code",
   "execution_count": 1,
   "metadata": {},
   "outputs": [],
   "source": [
    "import numpy as np\n",
    "import pandas as pd\n",
    "import pylab as plt\n",
    "import h5py\n",
    "import matplotlib\n",
    "%matplotlib inline\n",
    "from astropy.utils.data import download_file  #import file from URL\n",
    "from matplotlib.ticker import NullFormatter\n",
    "import astropy.table\n",
    "import subprocess as sp\n",
    "import glob\n",
    "import sys"
   ]
  },
  {
   "cell_type": "code",
   "execution_count": 2,
   "metadata": {},
   "outputs": [],
   "source": [
    "flist = glob.glob('/home/raulteixeira/scratch-midway2/CosmicShearData/bpztiles/*.h5')\n",
    "\n",
    "tilenums = [] #initiates tilenums (see below)\n",
    "\n",
    "for fname in flist:                                         #generates list of ints (pxnums)\n",
    "    tilenums.append(fname.split('\\'')[1].split('\\'')[-1]) #containing pixel numbers\n",
    "    \n",
    "tilenums = np.array(tilenums) #converts pxnums to array"
   ]
  },
  {
   "cell_type": "code",
   "execution_count": 3,
   "metadata": {},
   "outputs": [],
   "source": [
    "tile = tilenums[0]"
   ]
  },
  {
   "cell_type": "code",
   "execution_count": null,
   "metadata": {
    "tags": []
   },
   "outputs": [],
   "source": [
    "for tile in tilenums:\n",
    "    #changing pars file to have correctly labeled output\n",
    "    list_lines = ['COLUMNS     /home/raulteixeira/photoz/code/software/DESC_BPZ/tests/CosmicShearPZ.columns\\n'\n",
    "                  , f'OUTPUT\\t    /home/raulteixeira/photoz/CosmicShearData/bpztiles/output/pzs/pz_gold_{tile}.h5\\n'\n",
    "                  , 'SPECTRA     CWWSB4.list\\n', 'PRIOR\\t  hdfn_gen\\n', 'DZ          0.1\\n', 'ZMIN        0.005\\n'\n",
    "                  , 'ZMAX        3.505\\n', 'MAG         yes\\n', 'NEW_AB      no\\n', 'MADAU\\t    no #TURN OFF MADAU!!!!\\n'\n",
    "                  , 'EXCLUDE     none\\n', 'CHECK       yes\\n', '#ZC          1.0,2.0\\n', '#FC          0.2,0.4\\n'\n",
    "                  , 'VERBOSE     no\\n', '#INTERP      0\\n', 'ODDS        0.68\\n', 'PROBS       yes\\n', 'PROBS2       no\\n'\n",
    "                  , f'PROBS_LITE /home/raulteixeira/photoz/CosmicShearData/bpztiles/output/probs/PZ_OUTPUT_probs_{tile}.h5\\n'\n",
    "                  , 'GET_Z       yes\\n', 'INTERACTIVE yes\\n', 'PLOTS       no\\n', '#ONLY_TYPE   yes\\n']\n",
    "    pars = open('/home/raulteixeira/photoz/code/software/DESC_BPZ/tests/DELVEdata_example.pars', mode='w')\n",
    "    pars.writelines(list_lines)\n",
    "    pars.close()\n",
    "\n",
    "    catalog_name = f'/home/raulteixeira/photoz/CosmicShearData/bpztiles/pzinput/pz_input_gold_b\\'{tile}\\'.h5'\n",
    "    #running bpz using subprocess\n",
    "    sp.run(['python', '/home/raulteixeira/photoz/code/software/DESC_BPZ/scripts/bpz.py', catalog_name, '-P', '/home/raulteixeira/photoz/code/software/DESC_BPZ/tests/DELVEdata_example.pars'])"
   ]
  },
  {
   "cell_type": "code",
   "execution_count": 4,
   "metadata": {},
   "outputs": [
    {
     "data": {
      "text/plain": [
       "CompletedProcess(args=['python', '/home/raulteixeira/photoz/code/software/DESC_BPZ/scripts/bpz.py', '/home/raulteixeira/scratch-midway2/CosmicShearData/bpztiles/pzinput/pz_input_gold_DES1155-3749.h5', '-P', '/home/raulteixeira/photoz/code/software/DESC_BPZ/tests/DELVEdata_example.pars'], returncode=0)"
      ]
     },
     "execution_count": 4,
     "metadata": {},
     "output_type": "execute_result"
    }
   ],
   "source": [
    "list_lines = ['COLUMNS     /home/raulteixeira/photoz/code/software/DESC_BPZ/tests/CosmicShearPZ.columns\\n'\n",
    "              , f'OUTPUT\\t    /home/raulteixeira/scratch-midway2/CosmicShearData/bpztiles/output/pzs/pz_gold_DES1155-3749_finer.h5\\n'\n",
    "              , 'SPECTRA     CWWSB4.list\\n', 'PRIOR\\t  hdfn_gen\\n', 'DZ          0.01\\n', 'ZMIN        0.005\\n'\n",
    "              , 'ZMAX        3.505\\n', 'MAG         yes\\n', 'NEW_AB      no\\n', 'MADAU\\t    no #TURN OFF MADAU!!!!\\n'\n",
    "              , 'EXCLUDE     none\\n', 'CHECK       yes\\n', '#ZC          1.0,2.0\\n', '#FC          0.2,0.4\\n'\n",
    "              , 'VERBOSE     no\\n', '#INTERP      0\\n', 'ODDS        0.68\\n'\n",
    "              , f'PROBS      /home/raulteixeira/scratch-midway2/CosmicShearData/bpztiles/output/probs/PZ_OUTPUT_probs_{tile}_finer\\n'\n",
    "              , f'PROBS2     no\\n'\n",
    "              , f'PROBS_LITE no\\n', 'GET_Z       yes\\n', 'INTERACTIVE yes\\n', 'PLOTS       no\\n'\n",
    "              , '#ONLY_TYPE   yes\\n']\n",
    "pars = open('/home/raulteixeira/photoz/code/software/DESC_BPZ/tests/DELVEdata_example.pars', mode='w')\n",
    "pars.writelines(list_lines)\n",
    "pars.close()\n",
    "\n",
    "catalog_name = f'/home/raulteixeira/scratch-midway2/CosmicShearData/bpztiles/pzinput/pz_input_gold_DES1155-3749.h5'\n",
    "#running bpz using subprocess\n",
    "sp.run(['python', '/home/raulteixeira/photoz/code/software/DESC_BPZ/scripts/bpz.py', catalog_name, '-P', '/home/raulteixeira/photoz/code/software/DESC_BPZ/tests/DELVEdata_example.pars'])"
   ]
  }
 ],
 "metadata": {
  "kernelspec": {
   "display_name": "Python 3",
   "language": "python",
   "name": "python3"
  },
  "language_info": {
   "codemirror_mode": {
    "name": "ipython",
    "version": 3
   },
   "file_extension": ".py",
   "mimetype": "text/x-python",
   "name": "python",
   "nbconvert_exporter": "python",
   "pygments_lexer": "ipython3",
   "version": "3.7.6"
  }
 },
 "nbformat": 4,
 "nbformat_minor": 5
}
