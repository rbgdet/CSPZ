{
 "cells": [
  {
   "cell_type": "code",
   "execution_count": 1,
   "metadata": {
    "tags": []
   },
   "outputs": [],
   "source": [
    "import astropy.table\n",
    "import glob"
   ]
  },
  {
   "cell_type": "markdown",
   "metadata": {},
   "source": [
    "## This notebook stacks all astropy tables inside of a directory (or only the ones you want, if you use glob)\n",
    "### It also writes those files into another fits file"
   ]
  },
  {
   "cell_type": "code",
   "execution_count": 2,
   "metadata": {},
   "outputs": [],
   "source": [
    "# edit the path for your purposes\n",
    "flist = glob.glob('/data/des90.a/data/raulteix/data/BOSSDELVE/*.fits')"
   ]
  },
  {
   "cell_type": "code",
   "execution_count": 5,
   "metadata": {},
   "outputs": [],
   "source": [
    "# purpose of this cell is to stack all datatables\n",
    "\n",
    "# creating list of all tables\n",
    "tables = []\n",
    "for tablename in flist:\n",
    "    tables.append(astropy.table.Table.read(tablename))\n",
    "    \n",
    "# vstacking all tables into one\n",
    "table = astropy.table.vstack(tables)"
   ]
  },
  {
   "cell_type": "code",
   "execution_count": 9,
   "metadata": {},
   "outputs": [
    {
     "data": {
      "text/plain": [
       "857677"
      ]
     },
     "execution_count": 9,
     "metadata": {},
     "output_type": "execute_result"
    }
   ],
   "source": [
    "# sanity check\n",
    "len(table)"
   ]
  },
  {
   "cell_type": "code",
   "execution_count": 10,
   "metadata": {},
   "outputs": [],
   "source": [
    "# Now we will write the file\n",
    "# Change the file path for your purposes\n",
    "table.write('/data/des90.a/data/raulteix/data/BOSSDELVE/BOSSDELVE.fits', format='fits')"
   ]
  }
 ],
 "metadata": {
  "kernelspec": {
   "display_name": "Python 3",
   "language": "python",
   "name": "python3"
  },
  "language_info": {
   "codemirror_mode": {
    "name": "ipython",
    "version": 3
   },
   "file_extension": ".py",
   "mimetype": "text/x-python",
   "name": "python",
   "nbconvert_exporter": "python",
   "pygments_lexer": "ipython3",
   "version": "3.7.6"
  }
 },
 "nbformat": 4,
 "nbformat_minor": 5
}
