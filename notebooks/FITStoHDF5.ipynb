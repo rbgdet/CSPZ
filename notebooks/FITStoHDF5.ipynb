{
 "cells": [
  {
   "cell_type": "markdown",
   "metadata": {},
   "source": [
    "# **FITS to HDF5**"
   ]
  },
  {
   "cell_type": "code",
   "execution_count": 2,
   "metadata": {},
   "outputs": [],
   "source": [
    "# 3rd party # remove imports that are not needed\n",
    "import numpy as np\n",
    "import pandas as pd\n",
    "import h5py\n",
    "import astropy.table"
   ]
  },
  {
   "cell_type": "code",
   "execution_count": 3,
   "metadata": {},
   "outputs": [],
   "source": [
    "data=astropy.table.Table.read('/home/raulteixeira/photoz/CosmicShearData/shear_test_coadd_object_gold.fits')"
   ]
  },
  {
   "cell_type": "code",
   "execution_count": 4,
   "metadata": {},
   "outputs": [],
   "source": [
    "# creating mask\n",
    "mask1 = (data['MAG_AUTO_G']!=99) * (data['MAG_AUTO_R']!=99) * (data['MAG_AUTO_I']!=99) * (data['MAG_AUTO_Z']!=99)\n",
    "mask2 = (data['MAG_AUTO_G']!=99) * (data['MAG_AUTO_R']!=99) * (data['MAG_AUTO_I']!=99) \n",
    "mask3 = (data['MAG_AUTO_G']!=99) * (data['MAG_AUTO_R']!=99) * (data['MAG_AUTO_Z']!=99)\n",
    "mask4 = (data['MAG_AUTO_G']!=99) * (data['MAG_AUTO_I']!=99) * (data['MAG_AUTO_Z']!=99)\n",
    "mask5 = (data['MAG_AUTO_R']!=99) * (data['MAG_AUTO_I']!=99) * (data['MAG_AUTO_Z']!=99)\n",
    "\n",
    "mask = mask1 + mask2 + mask3 + mask4 + mask5"
   ]
  },
  {
   "cell_type": "code",
   "execution_count": 5,
   "metadata": {},
   "outputs": [],
   "source": [
    "bandlist = ['G', 'R', 'I', 'Z']\n",
    "for band in bandlist:\n",
    "    data[f'MAG_AUTO_{band}'][data[f'MAG_AUTO_{band}']==99]=-99\n",
    "    data[f'MAGERR_AUTO_{band}'][data[f'MAG_AUTO_{band}']==99]=0"
   ]
  },
  {
   "cell_type": "code",
   "execution_count": 6,
   "metadata": {},
   "outputs": [],
   "source": [
    "tiles = np.unique(np.array(data['TILENAME']))"
   ]
  },
  {
   "cell_type": "code",
   "execution_count": null,
   "metadata": {
    "tags": []
   },
   "outputs": [],
   "source": [
    "#creating the table to be converted\n",
    "for tile in np.unique(data['TILENAME']):\n",
    "    #converting to pandas dataframe\n",
    "    masktile=data['TILENAME']==tile\n",
    "    table_i = data[mask][masktile]['COADD_OBJECT_ID', 'TILENAME', 'MAG_AUTO_G', 'MAG_AUTO_R'\\\n",
    "                         , 'MAG_AUTO_I', 'MAG_AUTO_Z', 'MAGERR_AUTO_G', 'MAGERR_AUTO_R'\\\n",
    "                         , 'MAGERR_AUTO_I', 'MAGERR_AUTO_Z'] \n",
    "                         #[tab_all['extended_class']>1]\n",
    "    dframe_i = pd.DataFrame(data=table_i['COADD_OBJECT_ID']\\\n",
    "                            , columns = ['COADD_OBJECT_ID'])\n",
    "    for label in table_i.columns:\n",
    "            dframe_i[label] = data[label][masktile]\n",
    "    dframe_i.to_hdf(f'/home/raulteixeira/photoz/CosmicShearData/bpztiles/pzinput/pz_input_gold_{tile}.h5', key='df')"
   ]
  },
  {
   "cell_type": "code",
   "execution_count": 12,
   "metadata": {},
   "outputs": [],
   "source": [
    "tile = tiles[0].astype('str')"
   ]
  },
  {
   "cell_type": "code",
   "execution_count": 14,
   "metadata": {},
   "outputs": [],
   "source": [
    "#converting to pandas dataframe\n",
    "masktile=data['TILENAME']==tile\n",
    "table_i = data[mask][masktile]['COADD_OBJECT_ID', 'TILENAME', 'MAG_AUTO_G', 'MAG_AUTO_R'\\\n",
    "                     , 'MAG_AUTO_I', 'MAG_AUTO_Z', 'MAGERR_AUTO_G', 'MAGERR_AUTO_R'\\\n",
    "                     , 'MAGERR_AUTO_I', 'MAGERR_AUTO_Z'] \n",
    "                     #[tab_all['extended_class']>1]\n",
    "dframe_i = pd.DataFrame(data=table_i['COADD_OBJECT_ID']\\\n",
    "                        , columns = ['COADD_OBJECT_ID'])\n",
    "for label in table_i.columns:\n",
    "        dframe_i[label] = data[label][masktile]\n",
    "dframe_i.to_hdf('/home/raulteixeira/photoz/CosmicShearData/bpztiles/pzinput/pz_input_gold_'+tile+'.h5', key='df')"
   ]
  },
  {
   "cell_type": "code",
   "execution_count": null,
   "metadata": {},
   "outputs": [],
   "source": []
  }
 ],
 "metadata": {
  "kernelspec": {
   "display_name": "Python 3",
   "language": "python",
   "name": "python3"
  },
  "language_info": {
   "codemirror_mode": {
    "name": "ipython",
    "version": 3
   },
   "file_extension": ".py",
   "mimetype": "text/x-python",
   "name": "python",
   "nbconvert_exporter": "python",
   "pygments_lexer": "ipython3",
   "version": "3.7.6"
  }
 },
 "nbformat": 4,
 "nbformat_minor": 5
}
