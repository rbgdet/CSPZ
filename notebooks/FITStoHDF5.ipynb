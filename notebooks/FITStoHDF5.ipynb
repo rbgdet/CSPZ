{
 "cells": [
  {
   "cell_type": "markdown",
   "metadata": {},
   "source": [
    "# **FITS to HDF5**"
   ]
  },
  {
   "cell_type": "code",
   "execution_count": 2,
   "metadata": {},
   "outputs": [],
   "source": [
    "import numpy as np\n",
    "import pandas as pd\n",
    "import h5py\n",
    "import astropy.table\n",
    "from astropy.table import Table\n",
    "import astropy.io.fits as pf"
   ]
  },
  {
   "cell_type": "code",
   "execution_count": 3,
   "metadata": {},
   "outputs": [
    {
     "name": "stdout",
     "output_type": "stream",
     "text": [
      "Filename: /home/raulteixeira/scratch-midway2/CosmicShearData/shear_test_coadd_object_gold.fits\n",
      "No.    Name      Ver    Type      Cards   Dimensions   Format\n",
      "  0  PRIMARY       1 PrimaryHDU       4   ()      \n",
      "  1                1 BinTableHDU    238   18617785R x 45C   [K, D, D, D, D, D, D, D, D, D, D, D, D, D, D, D, D, D, D, D, D, D, D, D, D, D, D, D, D, D, D, J, J, J, J, I, I, I, I, K, J, J, J, J, 48A]   \n"
     ]
    }
   ],
   "source": [
    "filename = '/home/raulteixeira/scratch-midway2/CosmicShearData/shear_test_coadd_object_gold.fits'\n",
    "pf.open(filename).info()"
   ]
  },
  {
   "cell_type": "code",
   "execution_count": 4,
   "metadata": {},
   "outputs": [],
   "source": [
    "data = Table.read('/home/raulteixeira/scratch-midway2/CosmicShearData/shear_test_coadd_object_gold.fits')"
   ]
  },
  {
   "cell_type": "code",
   "execution_count": 5,
   "metadata": {},
   "outputs": [],
   "source": [
    "#s/g cut Y3\n",
    "WAVG_SPREAD_MODEL_I = data['WAVG_SPREAD_MODEL_I']\n",
    "WAVG_SPREADERR_MODEL_I = data['WAVG_SPREADERR_MODEL_I']\n",
    "\n",
    "s1 = (WAVG_SPREAD_MODEL_I + 3. * WAVG_SPREADERR_MODEL_I) > 0.005\n",
    "s2 = (WAVG_SPREAD_MODEL_I + 1. * WAVG_SPREADERR_MODEL_I) > 0.003\n",
    "s3 = (WAVG_SPREAD_MODEL_I - 1. * WAVG_SPREADERR_MODEL_I) > 0.001\n",
    "ext_wavg = s1.astype(int) + s2.astype(int) + s3.astype(int)\n",
    "sg_mask = (ext_wavg>=2)"
   ]
  },
  {
   "cell_type": "code",
   "execution_count": null,
   "metadata": {},
   "outputs": [],
   "source": [
    "#s/g cut Y6\n"
   ]
  },
  {
   "cell_type": "code",
   "execution_count": 7,
   "metadata": {},
   "outputs": [],
   "source": [
    "data = data[sg_mask]"
   ]
  },
  {
   "cell_type": "code",
   "execution_count": 25,
   "metadata": {},
   "outputs": [],
   "source": [
    "# creating mask\n",
    "# mask1 = (data['MAG_AUTO_G']!=99) * (data['MAG_AUTO_R']!=99) * (data['MAG_AUTO_I']!=99) * (data['MAG_AUTO_Z']!=99)\n",
    "# mask2 = (data['MAG_AUTO_G']!=99) * (data['MAG_AUTO_R']!=99) * (data['MAG_AUTO_I']!=99) \n",
    "# mask3 = (data['MAG_AUTO_G']!=99) * (data['MAG_AUTO_R']!=99) * (data['MAG_AUTO_Z']!=99)\n",
    "# mask4 = (data['MAG_AUTO_G']!=99) * (data['MAG_AUTO_I']!=99) * (data['MAG_AUTO_Z']!=99)\n",
    "# mask5 = (data['MAG_AUTO_R']!=99) * (data['MAG_AUTO_I']!=99) * (data['MAG_AUTO_Z']!=99)\n",
    "\n",
    "# mask = mask1 + mask2 + mask3 + mask4 + mask5"
   ]
  },
  {
   "cell_type": "code",
   "execution_count": 26,
   "metadata": {},
   "outputs": [],
   "source": [
    "# data=data[mask]"
   ]
  },
  {
   "cell_type": "code",
   "execution_count": 8,
   "metadata": {},
   "outputs": [],
   "source": [
    "bandlist = ['G', 'R', 'I', 'Z']\n",
    "for band in bandlist:\n",
    "    data[f'MAG_AUTO_{band}'][data[f'MAG_AUTO_{band}']==99]=-99\n",
    "    data[f'MAGERR_AUTO_{band}'][data[f'MAG_AUTO_{band}']==99]=0"
   ]
  },
  {
   "cell_type": "code",
   "execution_count": 9,
   "metadata": {},
   "outputs": [],
   "source": [
    "tiles = np.unique(np.array(data['TILENAME']))"
   ]
  },
  {
   "cell_type": "code",
   "execution_count": null,
   "metadata": {
    "tags": []
   },
   "outputs": [],
   "source": [
    "#creating the table to be converted\n",
    "for tile in np.unique(data['TILENAME']):\n",
    "    #converting to pandas dataframe\n",
    "    masktile=data['TILENAME']==tile\n",
    "    table_i = data[masktile]['COADD_OBJECT_ID', 'TILENAME', 'MAG_AUTO_G', 'MAG_AUTO_R'\\\n",
    "                         , 'MAG_AUTO_I', 'MAG_AUTO_Z', 'MAGERR_AUTO_G', 'MAGERR_AUTO_R'\\\n",
    "                         , 'MAGERR_AUTO_I', 'MAGERR_AUTO_Z'] \n",
    "                         #[tab_all['extended_class']>1]\n",
    "    dframe_i = pd.DataFrame(data=table_i['COADD_OBJECT_ID']\\\n",
    "                            , columns = ['COADD_OBJECT_ID'])\n",
    "    for label in table_i.columns:\n",
    "            dframe_i[label] = data[label][masktile]\n",
    "    dframe_i.to_hdf(f'/home/raulteixeira/scratch-midway2/CosmicShearData/bpztiles/pzinput/pzinput_sg_{tile}.h5', key='df')"
   ]
  },
  {
   "cell_type": "code",
   "execution_count": null,
   "metadata": {},
   "outputs": [],
   "source": [
    "tile = tiles[0].astype('str')"
   ]
  },
  {
   "cell_type": "code",
   "execution_count": 14,
   "metadata": {},
   "outputs": [],
   "source": [
    "#converting to pandas dataframe\n",
    "masktile=data['TILENAME']==tile\n",
    "table_i = data[mask][masktile]['COADD_OBJECT_ID', 'TILENAME', 'MAG_AUTO_G', 'MAG_AUTO_R'\\\n",
    "                     , 'MAG_AUTO_I', 'MAG_AUTO_Z', 'MAGERR_AUTO_G', 'MAGERR_AUTO_R'\\\n",
    "                     , 'MAGERR_AUTO_I', 'MAGERR_AUTO_Z'] \n",
    "                     #[tab_all['extended_class']>1]\n",
    "dframe_i = pd.DataFrame(data=table_i['COADD_OBJECT_ID']\\\n",
    "                        , columns = ['COADD_OBJECT_ID'])\n",
    "for label in table_i.columns:\n",
    "        dframe_i[label] = data[label][masktile]\n",
    "dframe_i.to_hdf('/home/raulteixeira/photoz/CosmicShearData/bpztiles/pzinput/pz_input_gold_'+tile+'.h5', key='df')"
   ]
  },
  {
   "cell_type": "code",
   "execution_count": null,
   "metadata": {},
   "outputs": [],
   "source": []
  }
 ],
 "metadata": {
  "kernelspec": {
   "display_name": "Python 3",
   "language": "python",
   "name": "python3"
  },
  "language_info": {
   "codemirror_mode": {
    "name": "ipython",
    "version": 3
   },
   "file_extension": ".py",
   "mimetype": "text/x-python",
   "name": "python",
   "nbconvert_exporter": "python",
   "pygments_lexer": "ipython3",
   "version": "3.7.6"
  }
 },
 "nbformat": 4,
 "nbformat_minor": 5
}
