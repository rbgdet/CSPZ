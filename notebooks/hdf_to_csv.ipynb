{
 "cells": [
  {
   "cell_type": "code",
   "execution_count": null,
   "id": "fbb02ced",
   "metadata": {},
   "outputs": [],
   "source": [
    "import pandas as pd\n",
    "import time\n",
    "\n",
    "start_time = time.time()\n",
    "for i in range(1,50):\n",
    "    df = pd.read_hdf(f'/project2/chihway/raulteixeira/data/bdf_photometry/dr3_1_1_bdf_0000{i:02}.h5')\n",
    "    df.to_csv(f'/project2/chihway/raulteixeira/data/bdf_photometry/dr3_1_1_bdf_0000{i:02}_v2.csv.gz')\n",
    "    print(i, 'file:', start_time-time.time(), 'seconds')"
   ]
  }
 ],
 "metadata": {
  "kernelspec": {
   "display_name": "Python 3 (ipykernel)",
   "language": "python",
   "name": "python3"
  },
  "language_info": {
   "codemirror_mode": {
    "name": "ipython",
    "version": 3
   },
   "file_extension": ".py",
   "mimetype": "text/x-python",
   "name": "python",
   "nbconvert_exporter": "python",
   "pygments_lexer": "ipython3",
   "version": "3.7.6"
  }
 },
 "nbformat": 4,
 "nbformat_minor": 5
}
