{
 "cells": [
  {
   "cell_type": "code",
   "execution_count": 1,
   "id": "13b29c7a",
   "metadata": {},
   "outputs": [
    {
     "name": "stdout",
     "output_type": "stream",
     "text": [
      "[['ID' dtype('int64')]\n",
      " ['mcal_s2n_noshear' dtype('<f8')]\n",
      " ['mcal_T_ratio_noshear' dtype('<f8')]\n",
      " ['mcal_T_noshear' dtype('<f8')]\n",
      " ['mcal_flags' dtype('int64')]\n",
      " ['FLAGS_FOREGROUND' dtype('>i2')]\n",
      " ['mcal_g_noshear' dtype('<f8')]]\n",
      "time: 4.135343551635742 seconds\n"
     ]
    }
   ],
   "source": [
    "import numpy as np\n",
    "import h5py\n",
    "import time\n",
    "import pandas as pd\n",
    "\n",
    "t0 = time.time()\n",
    "\n",
    "df = pd.DataFrame()\n",
    "with h5py.File('/project/chihway/dhayaa/DECADE/BalrogOfTheDECADE_20231120.hdf5') as f:\n",
    "    #print(f.keys())\n",
    "\n",
    " #unused\n",
    "    keys = ['ID', 'mcal_s2n_noshear', 'mcal_T_ratio_noshear', 'mcal_T_noshear', 'mcal_flags', 'FLAGS_FOREGROUND', 'mcal_g_noshear']\n",
    "    print(np.array([(key, np.array(f[key]).dtype) for key in keys]))\n",
    "\n",
    "    ID      = np.array(f['ID'])\n",
    "    SNR     = np.array(f['mcal_s2n_noshear'])\n",
    "    T_ratio = np.array(f['mcal_T_ratio_noshear'])\n",
    "    T       = np.array(f['mcal_T_noshear'])\n",
    "    flags = np.array(f['mcal_flags'])\n",
    "    \n",
    "    fg = np.array(f['FLAGS_FOREGROUND'])\n",
    "    \n",
    "    g1, g2  = np.array(f['mcal_g_noshear']).T\n",
    "    \n",
    "    col_n_dtypes = [('ID', np.int64), ('SNR', np.float64), ('T_ratio', np.float64),\\\n",
    "                    ('T', np.float64), ('flags', np.int64), ('FLAGS_FOREGROUND', np.int64),\\\n",
    "                    ('g1', np.float64), ('g2', np.float64)]\n",
    "    df = np.rec.array([ID, SNR, T_ratio, T, flags, fg, g1, g2], dtype=col_n_dtypes)\n",
    "    \n",
    "np.savez('/project/chihway/raulteixeira/data/Balrog_Extra_Cols_20231120.npz', df)\n",
    "\n",
    "print('time:', time.time()-t0, 'seconds')"
   ]
  },
  {
   "cell_type": "code",
   "execution_count": null,
   "id": "335c7376",
   "metadata": {},
   "outputs": [],
   "source": []
  }
 ],
 "metadata": {
  "kernelspec": {
   "display_name": "Python 3 (ipykernel)",
   "language": "python",
   "name": "python3"
  },
  "language_info": {
   "codemirror_mode": {
    "name": "ipython",
    "version": 3
   },
   "file_extension": ".py",
   "mimetype": "text/x-python",
   "name": "python",
   "nbconvert_exporter": "python",
   "pygments_lexer": "ipython3",
   "version": "3.11.4"
  }
 },
 "nbformat": 4,
 "nbformat_minor": 5
}
