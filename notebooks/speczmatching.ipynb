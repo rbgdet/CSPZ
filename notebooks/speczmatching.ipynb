{
 "cells": [
  {
   "cell_type": "code",
   "execution_count": 1,
   "id": "171c1f66",
   "metadata": {},
   "outputs": [],
   "source": [
    "import numpy as np\n",
    "import pandas as pd\n",
    "from astropy.coordinates import SkyCoord\n",
    "from astropy import units as u\n",
    "import glob"
   ]
  },
  {
   "cell_type": "code",
   "execution_count": 2,
   "id": "659ed903",
   "metadata": {},
   "outputs": [],
   "source": [
    "# Loop over all files\n",
    "\n",
    "filenames = glob.glob(\"/project2/chihway/raulteixeira/data/bdf_photometry/dr3_1_1_bdf_0000**.h5\")"
   ]
  },
  {
   "cell_type": "code",
   "execution_count": 3,
   "id": "9b0b5dcc",
   "metadata": {},
   "outputs": [
    {
     "data": {
      "text/plain": [
       "49"
      ]
     },
     "execution_count": 3,
     "metadata": {},
     "output_type": "execute_result"
    }
   ],
   "source": [
    "len(filenames)"
   ]
  },
  {
   "cell_type": "code",
   "execution_count": 4,
   "id": "a3662165",
   "metadata": {},
   "outputs": [],
   "source": [
    "def get_dataframes(filenames):\n",
    "    all_dataframes = []\n",
    "    for filename in filenames:\n",
    "        # Open catalogs\n",
    "        all_dataframes.append(pd.read_hdf(filename, key='data/table', mode='r'))\n",
    "\n",
    "    data_df = pd.concat(all_dataframes)\n",
    "    \n",
    "    return data_df"
   ]
  },
  {
   "cell_type": "code",
   "execution_count": 5,
   "id": "f21f3679",
   "metadata": {},
   "outputs": [],
   "source": [
    "# Open catalogs\n",
    "data_df = get_dataframes(filenames[:1])\n",
    "\n",
    "specz = pd.read_table(\"/project2/chihway/delve_shear/BRPORTAL_E_6315_18670.csv\", sep=',')"
   ]
  },
  {
   "cell_type": "code",
   "execution_count": 7,
   "id": "d8966ad2",
   "metadata": {},
   "outputs": [
    {
     "data": {
      "text/plain": [
       "Index(['index', 'COADD_OBJECT_ID', 'RA', 'DEC', 'BDF_MAG_G', 'BDF_MAG_R',\n",
       "       'BDF_MAG_I', 'BDF_MAG_Z', 'BDF_MAG_ERR_G', 'BDF_MAG_ERR_R',\n",
       "       'BDF_MAG_ERR_I', 'BDF_MAG_ERR_Z', 'BDF_S2N', 'BDF_T', 'BDF_T_ERR',\n",
       "       'BDF_T_RATIO', 'BDF_FLUX_G', 'BDF_FLUX_R', 'BDF_FLUX_I', 'BDF_FLUX_Z',\n",
       "       'BDF_FLUX_ERR_G', 'BDF_FLUX_ERR_R', 'BDF_FLUX_ERR_I', 'BDF_FLUX_ERR_Z',\n",
       "       'TILENAME'],\n",
       "      dtype='object')"
      ]
     },
     "execution_count": 7,
     "metadata": {},
     "output_type": "execute_result"
    }
   ],
   "source": [
    "data_df.columns"
   ]
  },
  {
   "cell_type": "code",
   "execution_count": 8,
   "id": "5d3ef823",
   "metadata": {},
   "outputs": [
    {
     "data": {
      "text/plain": [
       "Index(['IDSPEC', 'RA', 'DEC', 'Z', 'ERR_Z', 'FLAG', 'SOURCE', 'CLASS',\n",
       "       'FLAG_DES', 'ID'],\n",
       "      dtype='object')"
      ]
     },
     "execution_count": 8,
     "metadata": {},
     "output_type": "execute_result"
    }
   ],
   "source": [
    "specz.columns"
   ]
  },
  {
   "cell_type": "code",
   "execution_count": 5,
   "id": "aa568116",
   "metadata": {},
   "outputs": [],
   "source": [
    "# Match spectra to DELVE catalog\n",
    "spec_cd = SkyCoord(ra=specz['RA'].values*u.degree, dec=specz['DEC'].values*u.degree)\n",
    "delve_cd = SkyCoord(ra=data_df['RA'].values*u.deg, dec=data_df['DEC'].values*u.deg)\n",
    "idx, d2d, d3d = delve_cd.match_to_catalog_sky(spec_cd)\n",
    "good_matches = d2d < 1.0*u.arcsec"
   ]
  },
  {
   "cell_type": "code",
   "execution_count": 6,
   "id": "6c0aa8d7",
   "metadata": {},
   "outputs": [
    {
     "name": "stdout",
     "output_type": "stream",
     "text": [
      "523813 524026\n"
     ]
    }
   ],
   "source": [
    "print(len(np.unique(idx[good_matches])), np.count_nonzero(good_matches))"
   ]
  },
  {
   "cell_type": "code",
   "execution_count": 7,
   "id": "c6ce3ded",
   "metadata": {},
   "outputs": [],
   "source": [
    "# Add spectra to DELVE catalog\n",
    "data_df['zspec'] = np.nan\n",
    "data_df.loc[good_matches, 'zspec'] = specz.iloc[idx[good_matches], specz.columns.get_loc('Z')].values"
   ]
  },
  {
   "cell_type": "code",
   "execution_count": 8,
   "id": "ee0a6cf6",
   "metadata": {},
   "outputs": [
    {
     "data": {
      "text/plain": [
       "(6684,)"
      ]
     },
     "execution_count": 8,
     "metadata": {},
     "output_type": "execute_result"
    }
   ],
   "source": [
    "# Save each tile separately\n",
    "unique_tilenames = np.unique(data_df.TILENAME)\n",
    "unique_tilenames.shape"
   ]
  },
  {
   "cell_type": "code",
   "execution_count": null,
   "id": "cfcb175f",
   "metadata": {},
   "outputs": [],
   "source": [
    "for tilename in unique_tilenames:\n",
    "    data_df_sub = data_df[data_df.TILENAME==tilename]\n",
    "    data_df_sub.to_csv('/home/raulteixeira/scratch-midway2/CosmicShearData/spectiles/'+tilename+'.csv.gz', sep=',', header=True, index=False)"
   ]
  },
  {
   "cell_type": "code",
   "execution_count": 1,
   "id": "53162f6a",
   "metadata": {},
   "outputs": [],
   "source": [
    "# Save one file containing the subset with matched spectra.\n",
    "data_df_spec = data_df[np.isfinite(data_df.zspec.values)]\n",
    "data_df_spec.to_csv('/home/raulteixeira/scratch-midway2/CosmicShearData/DELVE_data_with_zspec012623.csv.gz', sep=',', header=True, index=False)"
   ]
  }
 ],
 "metadata": {
  "kernelspec": {
   "display_name": "Python 3 (ipykernel)",
   "language": "python",
   "name": "python3"
  },
  "language_info": {
   "codemirror_mode": {
    "name": "ipython",
    "version": 3
   },
   "file_extension": ".py",
   "mimetype": "text/x-python",
   "name": "python",
   "nbconvert_exporter": "python",
   "pygments_lexer": "ipython3",
   "version": "3.7.6"
  }
 },
 "nbformat": 4,
 "nbformat_minor": 5
}
