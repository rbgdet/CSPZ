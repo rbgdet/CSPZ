{
 "cells": [
  {
   "cell_type": "code",
   "execution_count": 1,
   "id": "171c1f66",
   "metadata": {},
   "outputs": [],
   "source": [
    "import numpy as np\n",
    "import pandas as pd\n",
    "from astropy.coordinates import SkyCoord\n",
    "from astropy import units as u\n",
    "import glob"
   ]
  },
  {
   "cell_type": "code",
   "execution_count": 4,
   "id": "659ed903",
   "metadata": {},
   "outputs": [],
   "source": [
    "# Loop over all files\n",
    "\n",
    "filenames = glob.glob(\"/home/raulteixeira/scratch-midway2/dr3_1_1_bdf*\")"
   ]
  },
  {
   "cell_type": "code",
   "execution_count": 5,
   "id": "9b0b5dcc",
   "metadata": {},
   "outputs": [
    {
     "data": {
      "text/plain": [
       "['/home/raulteixeira/scratch-midway2/dr3_1_1_bdf_000020.h5',\n",
       " '/home/raulteixeira/scratch-midway2/dr3_1_1_bdf_000021.h5',\n",
       " '/home/raulteixeira/scratch-midway2/dr3_1_1_bdf_000010.h5',\n",
       " '/home/raulteixeira/scratch-midway2/dr3_1_1_bdf_000002.h5',\n",
       " '/home/raulteixeira/scratch-midway2/dr3_1_1_bdf_000040.h5',\n",
       " '/home/raulteixeira/scratch-midway2/dr3_1_1_bdf_000001.h5',\n",
       " '/home/raulteixeira/scratch-midway2/dr3_1_1_bdf_000034.h5',\n",
       " '/home/raulteixeira/scratch-midway2/dr3_1_1_bdf_000006.h5',\n",
       " '/home/raulteixeira/scratch-midway2/dr3_1_1_bdf_000026.h5',\n",
       " '/home/raulteixeira/scratch-midway2/dr3_1_1_bdf_000037.h5',\n",
       " '/home/raulteixeira/scratch-midway2/dr3_1_1_bdf_000018.h5',\n",
       " '/home/raulteixeira/scratch-midway2/dr3_1_1_bdf_000023.h5',\n",
       " '/home/raulteixeira/scratch-midway2/dr3_1_1_bdf_000036.h5',\n",
       " '/home/raulteixeira/scratch-midway2/dr3_1_1_bdf_000044.h5',\n",
       " '/home/raulteixeira/scratch-midway2/dr3_1_1_bdf_000017.h5',\n",
       " '/home/raulteixeira/scratch-midway2/dr3_1_1_bdf_000038.h5',\n",
       " '/home/raulteixeira/scratch-midway2/dr3_1_1_bdf_000019.h5',\n",
       " '/home/raulteixeira/scratch-midway2/dr3_1_1_bdf_000004.h5',\n",
       " '/home/raulteixeira/scratch-midway2/dr3_1_1_bdf_000028.h5',\n",
       " '/home/raulteixeira/scratch-midway2/dr3_1_1_bdf_000032.h5',\n",
       " '/home/raulteixeira/scratch-midway2/dr3_1_1_bdf_000029.h5',\n",
       " '/home/raulteixeira/scratch-midway2/dr3_1_1_bdf_000047.h5',\n",
       " '/home/raulteixeira/scratch-midway2/dr3_1_1_bdf_000043.h5',\n",
       " '/home/raulteixeira/scratch-midway2/dr3_1_1_bdf_000033.h5',\n",
       " '/home/raulteixeira/scratch-midway2/dr3_1_1_bdf_000015.h5',\n",
       " '/home/raulteixeira/scratch-midway2/dr3_1_1_bdf_000031.h5',\n",
       " '/home/raulteixeira/scratch-midway2/dr3_1_1_bdf_000007.h5',\n",
       " '/home/raulteixeira/scratch-midway2/dr3_1_1_bdf_000016.h5',\n",
       " '/home/raulteixeira/scratch-midway2/dr3_1_1_bdf_000012.h5',\n",
       " '/home/raulteixeira/scratch-midway2/dr3_1_1_bdf_000027.h5',\n",
       " '/home/raulteixeira/scratch-midway2/dr3_1_1_bdf_000009.h5',\n",
       " '/home/raulteixeira/scratch-midway2/dr3_1_1_bdf_000042.h5',\n",
       " '/home/raulteixeira/scratch-midway2/dr3_1_1_bdf_000035.h5',\n",
       " '/home/raulteixeira/scratch-midway2/dr3_1_1_bdf_000045.h5',\n",
       " '/home/raulteixeira/scratch-midway2/dr3_1_1_bdf_000030.h5',\n",
       " '/home/raulteixeira/scratch-midway2/dr3_1_1_bdf_000049.h5',\n",
       " '/home/raulteixeira/scratch-midway2/dr3_1_1_bdf_000005.h5',\n",
       " '/home/raulteixeira/scratch-midway2/dr3_1_1_bdf_000014.h5',\n",
       " '/home/raulteixeira/scratch-midway2/dr3_1_1_bdf_000022.h5',\n",
       " '/home/raulteixeira/scratch-midway2/dr3_1_1_bdf_000048.h5',\n",
       " '/home/raulteixeira/scratch-midway2/dr3_1_1_bdf_000003.h5',\n",
       " '/home/raulteixeira/scratch-midway2/dr3_1_1_bdf_000011.h5',\n",
       " '/home/raulteixeira/scratch-midway2/dr3_1_1_bdf_000013.h5',\n",
       " '/home/raulteixeira/scratch-midway2/dr3_1_1_bdf_000046.h5',\n",
       " '/home/raulteixeira/scratch-midway2/dr3_1_1_bdf_000039.h5',\n",
       " '/home/raulteixeira/scratch-midway2/dr3_1_1_bdf_000008.h5',\n",
       " '/home/raulteixeira/scratch-midway2/dr3_1_1_bdf_000025.h5',\n",
       " '/home/raulteixeira/scratch-midway2/dr3_1_1_bdf_000024.h5',\n",
       " '/home/raulteixeira/scratch-midway2/dr3_1_1_bdf_000041.h5']"
      ]
     },
     "execution_count": 5,
     "metadata": {},
     "output_type": "execute_result"
    }
   ],
   "source": [
    "filenames"
   ]
  },
  {
   "cell_type": "code",
   "execution_count": 3,
   "id": "a3662165",
   "metadata": {},
   "outputs": [],
   "source": [
    "def get_dataframes():\n",
    "    all_dataframes = []\n",
    "    for filename in filenames:\n",
    "        # Open catalogs\n",
    "        all_dataframes.append(pd.read_hdf(filename, key='data/table', mode='r'))\n",
    "\n",
    "    data_df = pd.concat(all_dataframes)\n",
    "    \n",
    "    return data_df"
   ]
  },
  {
   "cell_type": "code",
   "execution_count": 4,
   "id": "f21f3679",
   "metadata": {},
   "outputs": [],
   "source": [
    "# Open catalogs\n",
    "data_df = get_dataframes()\n",
    "\n",
    "specz = pd.read_table(\"/project2/chihway/delve_shear/BRPORTAL_E_6315_18670.csv\", sep=',')"
   ]
  },
  {
   "cell_type": "code",
   "execution_count": 5,
   "id": "aa568116",
   "metadata": {},
   "outputs": [],
   "source": [
    "# Match spectra to DELVE catalog\n",
    "spec_cd = SkyCoord(ra=specz['RA'].values*u.degree, dec=specz['DEC'].values*u.degree)\n",
    "delve_cd = SkyCoord(ra=data_df['RA'].values*u.deg, dec=data_df['DEC'].values*u.deg)\n",
    "idx, d2d, d3d = delve_cd.match_to_catalog_sky(spec_cd)\n",
    "good_matches = d2d < 1.0*u.arcsec"
   ]
  },
  {
   "cell_type": "code",
   "execution_count": 6,
   "id": "6c0aa8d7",
   "metadata": {},
   "outputs": [
    {
     "name": "stdout",
     "output_type": "stream",
     "text": [
      "523813 524026\n"
     ]
    }
   ],
   "source": [
    "print(len(np.unique(idx[good_matches])), np.count_nonzero(good_matches))"
   ]
  },
  {
   "cell_type": "code",
   "execution_count": 7,
   "id": "c6ce3ded",
   "metadata": {},
   "outputs": [],
   "source": [
    "# Add spectra to DELVE catalog\n",
    "data_df['zspec'] = np.nan\n",
    "data_df.loc[good_matches, 'zspec'] = specz.iloc[idx[good_matches], specz.columns.get_loc('Z')].values"
   ]
  },
  {
   "cell_type": "code",
   "execution_count": 8,
   "id": "ee0a6cf6",
   "metadata": {},
   "outputs": [
    {
     "data": {
      "text/plain": [
       "(6684,)"
      ]
     },
     "execution_count": 8,
     "metadata": {},
     "output_type": "execute_result"
    }
   ],
   "source": [
    "# Save each tile separately\n",
    "unique_tilenames = np.unique(data_df.TILENAME)\n",
    "unique_tilenames.shape"
   ]
  },
  {
   "cell_type": "code",
   "execution_count": null,
   "id": "cfcb175f",
   "metadata": {},
   "outputs": [],
   "source": [
    "for tilename in unique_tilenames:\n",
    "    data_df_sub = data_df[data_df.TILENAME==tilename]\n",
    "    data_df_sub.to_csv('/home/raulteixeira/scratch-midway2/CosmicShearData/spectiles/'+tilename+'.csv.gz', sep=',', header=True, index=False)"
   ]
  },
  {
   "cell_type": "code",
   "execution_count": 1,
   "id": "53162f6a",
   "metadata": {},
   "outputs": [],
   "source": [
    "# Save one file containing the subset with matched spectra.\n",
    "data_df_spec = data_df[np.isfinite(data_df.zspec.values)]\n",
    "data_df_spec.to_csv('/home/raulteixeira/scratch-midway2/CosmicShearData/DELVE_data_with_zspec012623.csv.gz', sep=',', header=True, index=False)"
   ]
  }
 ],
 "metadata": {
  "kernelspec": {
   "display_name": "Python 3",
   "language": "python",
   "name": "python3"
  },
  "language_info": {
   "codemirror_mode": {
    "name": "ipython",
    "version": 3
   },
   "file_extension": ".py",
   "mimetype": "text/x-python",
   "name": "python",
   "nbconvert_exporter": "python",
   "pygments_lexer": "ipython3",
   "version": "3.7.6"
  }
 },
 "nbformat": 4,
 "nbformat_minor": 5
}
