{
 "cells": [
  {
   "cell_type": "code",
   "execution_count": 7,
   "id": "7cba46c1",
   "metadata": {},
   "outputs": [
    {
     "name": "stdout",
     "output_type": "stream",
     "text": [
      "[[1.28900e+04 0.00000e+00]\n",
      " [1.31500e+04 5.91635e-08]\n",
      " [1.34100e+04 1.27100e-07]\n",
      " [1.36800e+04 0.00000e+00]\n",
      " [1.39700e+04 0.00000e+00]\n",
      " [1.41800e+04 1.71065e-05]\n",
      " [1.44000e+04 5.11074e-04]\n",
      " [1.46200e+04 2.76582e-03]\n",
      " [1.47800e+04 8.08827e-03]\n",
      " [1.48600e+04 2.87356e-02]\n",
      " [1.49300e+04 8.71147e-02]\n",
      " [1.50400e+04 2.01449e-01]\n",
      " [1.51490e+04 4.38159e-01]\n",
      " [1.52800e+04 6.86357e-01]\n",
      " [1.53900e+04 8.18076e-01]\n",
      " [1.54600e+04 8.82073e-01]\n",
      " [1.55100e+04 9.11825e-01]\n",
      " [1.55600e+04 9.26872e-01]\n",
      " [1.56500e+04 9.29288e-01]\n",
      " [1.57200e+04 8.72747e-01]\n",
      " [1.57700e+04 8.56619e-01]\n",
      " [1.58300e+04 8.82556e-01]\n",
      " [1.59200e+04 9.18084e-01]\n",
      " [1.59700e+04 9.26654e-01]\n",
      " [1.60200e+04 9.07594e-01]\n",
      " [1.61300e+04 9.25974e-01]\n",
      " [1.61900e+04 9.20496e-01]\n",
      " [1.62790e+04 9.24198e-01]\n",
      " [1.63300e+04 9.23533e-01]\n",
      " [1.64200e+04 9.41788e-01]\n",
      " [1.64800e+04 9.49134e-01]\n",
      " [1.65700e+04 9.80658e-01]\n",
      " [1.65900e+04 9.93744e-01]\n",
      " [1.67100e+04 1.00000e+00]\n",
      " [1.68400e+04 9.56052e-01]\n",
      " [1.70100e+04 9.24116e-01]\n",
      " [1.71500e+04 9.82120e-01]\n",
      " [1.72700e+04 9.91589e-01]\n",
      " [1.73900e+04 9.88683e-01]\n",
      " [1.74600e+04 9.79168e-01]\n",
      " [1.75100e+04 9.68184e-01]\n",
      " [1.75300e+04 9.37040e-01]\n",
      " [1.75600e+04 9.18998e-01]\n",
      " [1.76400e+04 8.42264e-01]\n",
      " [1.77500e+04 6.67111e-01]\n",
      " [1.78500e+04 2.69402e-01]\n",
      " [1.79000e+04 4.51630e-01]\n",
      " [1.79600e+04 1.73062e-01]\n",
      " [1.80300e+04 1.07726e-01]\n",
      " [1.81000e+04 7.07003e-02]\n",
      " [1.81300e+04 5.10945e-03]\n",
      " [1.81800e+04 1.99705e-02]\n",
      " [1.82800e+04 3.91934e-04]\n",
      " [1.83500e+04 1.53053e-06]\n",
      " [1.85000e+04 5.94581e-05]\n",
      " [1.87100e+04 0.00000e+00]\n",
      " [1.89300e+04 3.05088e-05]\n",
      " [1.91400e+04 0.00000e+00]]\n"
     ]
    }
   ],
   "source": [
    "import numpy as np\n",
    "a = np.loadtxt('/home/raulteixeira/repos/DESC_BPZ/FILTER/2MASS_H.res')\n",
    "a[:,0]=(a[:,0]*1e4).astype(int)\n",
    "print(a)\n",
    "np.savetxt('/home/raulteixeira/repos/DESC_BPZ/FILTER/2MASS_H.res', a)"
   ]
  },
  {
   "cell_type": "code",
   "execution_count": 8,
   "id": "a9d770e5",
   "metadata": {},
   "outputs": [],
   "source": [
    "a = np.loadtxt('/home/raulteixeira/repos/DESC_BPZ/FILTER/2MASS_J.res')\n",
    "a[:,0]=(a[:,0]*1e4).astype(int)\n",
    "np.savetxt('/home/raulteixeira/repos/DESC_BPZ/FILTER/2MASS_J.res', a)\n",
    "\n",
    "a = np.loadtxt('/home/raulteixeira/repos/DESC_BPZ/FILTER/2MASS_K.res')\n",
    "a[:,0]=(a[:,0]*1e4).astype(int)\n",
    "np.savetxt('/home/raulteixeira/repos/DESC_BPZ/FILTER/2MASS_K.res', a)"
   ]
  }
 ],
 "metadata": {
  "kernelspec": {
   "display_name": "Python 3",
   "language": "python",
   "name": "python3"
  },
  "language_info": {
   "codemirror_mode": {
    "name": "ipython",
    "version": 3
   },
   "file_extension": ".py",
   "mimetype": "text/x-python",
   "name": "python",
   "nbconvert_exporter": "python",
   "pygments_lexer": "ipython3",
   "version": "3.7.6"
  }
 },
 "nbformat": 4,
 "nbformat_minor": 5
}
