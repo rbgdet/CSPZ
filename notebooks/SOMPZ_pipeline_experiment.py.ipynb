{
 "cells": [
  {
   "cell_type": "markdown",
   "id": "ae0e1991",
   "metadata": {},
   "source": [
    "# SOMPZ (trying things)\n",
    "### The purpose of this notebook is to take a wide, deep and balrog catalogs and create N(z)'s"
   ]
  },
  {
   "cell_type": "markdown",
   "id": "81f0840c",
   "metadata": {},
   "source": [
    "### 1. Load packages"
   ]
  },
  {
   "cell_type": "code",
   "execution_count": 33,
   "id": "58a9ee84",
   "metadata": {},
   "outputs": [],
   "source": [
    "import numpy as np\n",
    "import h5py\n",
    "import time\n",
    "import pandas as pd\n",
    "import matplotlib.pyplot as plt\n",
    "import glob\n",
    "import scipy\n",
    "import pickle as pkl\n",
    "import matplotlib as mpl\n",
    "from astropy.coordinates import SkyCoord\n",
    "from astropy import units as u\n",
    "import healpy as hp\n",
    "import scipy\n",
    "from scipy.optimize import differential_evolution\n",
    "from matplotlib.colors import LogNorm\n",
    "\n",
    "outpath = '/project/chihway/raulteixeira/data/'\n",
    "n_deep, n_wide = 48, 26\n",
    "nbins = 30\n",
    "zmin, zmax = 0., 2.\n",
    "assert ( (zmin>=0) & (zmax>=zmin) & (nbins>0) & (n_deep>0) & (n_wide>0) )\n",
    "z_edges = np.linspace(zmin,zmax,nbins)\n",
    "zs = .5*np.array([z_edges[i]+z_edges[i+1] for i in range(nbins-1)])"
   ]
  },
  {
   "cell_type": "markdown",
   "id": "53a9e16e",
   "metadata": {},
   "source": [
    "### 2. load functions"
   ]
  },
  {
   "cell_type": "code",
   "execution_count": 2,
   "id": "783bcda2",
   "metadata": {},
   "outputs": [],
   "source": [
    "#add descriptions to functions!!!\n",
    "\n",
    "def hist(a):\n",
    "    '''\n",
    "    Returns the counts of each bin in a histogram of sample a (numerical list-like object)\n",
    "    '''\n",
    "    return list(np.histogram(a, bins=z_edges, density=False)[0])\n",
    "\n",
    "def flux2mag(flux):\n",
    "    '''\n",
    "    Converts fluxes to magnitudes\n",
    "    '''\n",
    "    return -2.5 * np.log10(flux) + 30\n",
    "\n",
    "# gold cut delegated to specialized scripts see \n",
    "# [location of repo]/CSPZ/scripts/(Balrog_fg_mask_20231120.py and metacal_gold_mask.py)\n",
    "\n",
    "def deep_cuts(df):\n",
    "    '''\n",
    "    places color cuts on deep field catalog\n",
    "    Credit: Alex Alarcon\n",
    "    '''\n",
    "    \n",
    "    # Mask flagged regions -- not needed, saved deep catalog already has flag cuts in place\n",
    "#     mask = df.MASK_FLAGS_NIR==0\n",
    "#     mask &= df.MASK_FLAGS==0\n",
    "#     mask &= df.FLAGS_NIR==0\n",
    "#     mask &= df.FLAGS==0\n",
    "#     mask &= df.FLAGSTR==\"b'ok'\"\n",
    "#     mask &= df.FLAGSTR_NIR==\"b'ok'\"\n",
    "#     df = df[mask]\n",
    "#     df = df.drop(columns=[\n",
    "#         \"MASK_FLAGS\",\n",
    "#         \"MASK_FLAGS_NIR\",\n",
    "#         \"FLAGS\",\n",
    "#         \"FLAGS_NIR\",\n",
    "#         \"FLAGSTR\",\n",
    "#         \"FLAGSTR_NIR\",\n",
    "#     ])\n",
    "    deep_bands_ = [\"U\",\"G\",\"R\",\"I\",\"Z\",\"J\",\"H\",\"KS\"]\n",
    "    # remove crazy colors, defined as two \n",
    "    # consecutive colors (e.g u-g, g-r, r-i, etc) \n",
    "    # that have a value smaler than -1\n",
    "    mags_d = np.zeros((len(df),len(deep_bands_)))\n",
    "    magerrs_d = np.zeros((len(df),len(deep_bands_)))\n",
    "\n",
    "    for i,band in enumerate(deep_bands_):\n",
    "        #print(i,band)\n",
    "        mags_d[:,i] = flux2mag(df['BDF_FLUX_DERED_CALIB_%s'%band])\n",
    "\n",
    "    colors = np.zeros((len(df),len(deep_bands_)-1))\n",
    "    for i in range(len(deep_bands_)-1):\n",
    "        colors[:,i] = mags_d[:,i] - mags_d[:,i+1]\n",
    "\n",
    "    normal_colors = np.mean(colors > -1, axis=1) == 1\n",
    "    normal_colors.sum()\n",
    "\n",
    "    i = flux2mag(df.BDF_FLUX_DERED_CALIB_I.values)\n",
    "    r = flux2mag(df.BDF_FLUX_DERED_CALIB_R.values)\n",
    "    z = flux2mag(df.BDF_FLUX_DERED_CALIB_Z.values)\n",
    "    k = flux2mag(df.BDF_FLUX_DERED_CALIB_KS.values)\n",
    "\n",
    "    return (flux2mag(df.BDF_FLUX_DERED_CALIB_I.values) < 25)&(normal_colors)&((z-k) > 0.5*(r-z))\n",
    "\n",
    "def foreground_gold(cat, ra_col='true_ra', dec_col='true_dec'):\n",
    "    '''\n",
    "    applies foreground mask to a given catalog\n",
    "    '''\n",
    "    #delegated to a separate script. see ../scripts/Balrog_fg_mask_20231120.py (gold and foreground cut applied together)\n",
    "    MASK = hp.read_map('/project/chihway/dhayaa/DECADE/Gold_Foreground_20230520.fits') == 0\n",
    "    return MASK[hp.ang2pix(4096, cat[ra_col].values, cat[dec_col].values, lonlat = True)]"
   ]
  },
  {
   "cell_type": "markdown",
   "id": "f8097cdf",
   "metadata": {},
   "source": [
    "### 3. Load relevant catalogs (wide, deep, balrog), apply relevant cuts and add relevant columns"
   ]
  },
  {
   "cell_type": "code",
   "execution_count": 3,
   "id": "26d229ae",
   "metadata": {},
   "outputs": [
    {
     "data": {
      "text/html": [
       "<div>\n",
       "<style scoped>\n",
       "    .dataframe tbody tr th:only-of-type {\n",
       "        vertical-align: middle;\n",
       "    }\n",
       "\n",
       "    .dataframe tbody tr th {\n",
       "        vertical-align: top;\n",
       "    }\n",
       "\n",
       "    .dataframe thead th {\n",
       "        text-align: right;\n",
       "    }\n",
       "</style>\n",
       "<table border=\"1\" class=\"dataframe\">\n",
       "  <thead>\n",
       "    <tr style=\"text-align: right;\">\n",
       "      <th></th>\n",
       "      <th>COADD_OBJECT_ID</th>\n",
       "      <th>FLUX_R</th>\n",
       "      <th>FLUX_ERR_R</th>\n",
       "      <th>FLUX_I</th>\n",
       "      <th>FLUX_ERR_I</th>\n",
       "      <th>FLUX_Z</th>\n",
       "      <th>FLUX_ERR_Z</th>\n",
       "      <th>CHI_SQ</th>\n",
       "      <th>ID</th>\n",
       "      <th>M_0</th>\n",
       "      <th>...</th>\n",
       "      <th>T_B</th>\n",
       "      <th>T_ML</th>\n",
       "      <th>Z_B</th>\n",
       "      <th>Z_B_MAX</th>\n",
       "      <th>Z_B_MIN</th>\n",
       "      <th>Z_MEAN</th>\n",
       "      <th>Z_ML</th>\n",
       "      <th>Z_SAMP</th>\n",
       "      <th>Z_SIG</th>\n",
       "      <th>wide_cells</th>\n",
       "    </tr>\n",
       "  </thead>\n",
       "  <tbody>\n",
       "    <tr>\n",
       "      <th>0</th>\n",
       "      <td>7109304883</td>\n",
       "      <td>3697.074912</td>\n",
       "      <td>41.510975</td>\n",
       "      <td>4342.987764</td>\n",
       "      <td>49.896796</td>\n",
       "      <td>5399.346127</td>\n",
       "      <td>101.126423</td>\n",
       "      <td>0.572120</td>\n",
       "      <td>7109304883</td>\n",
       "      <td>20.794094</td>\n",
       "      <td>...</td>\n",
       "      <td>5.0</td>\n",
       "      <td>5.0</td>\n",
       "      <td>0.155</td>\n",
       "      <td>0.215000</td>\n",
       "      <td>0.097571</td>\n",
       "      <td>0.193081</td>\n",
       "      <td>0.165</td>\n",
       "      <td>0.445</td>\n",
       "      <td>0.163029</td>\n",
       "      <td>8</td>\n",
       "    </tr>\n",
       "    <tr>\n",
       "      <th>1</th>\n",
       "      <td>7109304892</td>\n",
       "      <td>1060.265660</td>\n",
       "      <td>32.105632</td>\n",
       "      <td>2483.591726</td>\n",
       "      <td>41.284574</td>\n",
       "      <td>3354.406431</td>\n",
       "      <td>87.896135</td>\n",
       "      <td>1.192293</td>\n",
       "      <td>7109304892</td>\n",
       "      <td>21.408283</td>\n",
       "      <td>...</td>\n",
       "      <td>2.0</td>\n",
       "      <td>2.0</td>\n",
       "      <td>0.775</td>\n",
       "      <td>0.863257</td>\n",
       "      <td>0.555000</td>\n",
       "      <td>0.709006</td>\n",
       "      <td>0.775</td>\n",
       "      <td>0.835</td>\n",
       "      <td>0.105364</td>\n",
       "      <td>590</td>\n",
       "    </tr>\n",
       "    <tr>\n",
       "      <th>2</th>\n",
       "      <td>7109304896</td>\n",
       "      <td>2632.422146</td>\n",
       "      <td>45.376178</td>\n",
       "      <td>3391.575227</td>\n",
       "      <td>68.988487</td>\n",
       "      <td>4295.313674</td>\n",
       "      <td>125.899520</td>\n",
       "      <td>0.326125</td>\n",
       "      <td>7109304896</td>\n",
       "      <td>21.130915</td>\n",
       "      <td>...</td>\n",
       "      <td>5.0</td>\n",
       "      <td>5.0</td>\n",
       "      <td>0.435</td>\n",
       "      <td>0.506352</td>\n",
       "      <td>0.285000</td>\n",
       "      <td>0.399023</td>\n",
       "      <td>0.365</td>\n",
       "      <td>0.455</td>\n",
       "      <td>0.104050</td>\n",
       "      <td>137</td>\n",
       "    </tr>\n",
       "    <tr>\n",
       "      <th>3</th>\n",
       "      <td>7109304898</td>\n",
       "      <td>2133.722123</td>\n",
       "      <td>38.464039</td>\n",
       "      <td>2287.077329</td>\n",
       "      <td>46.422072</td>\n",
       "      <td>3271.006405</td>\n",
       "      <td>99.938773</td>\n",
       "      <td>0.463370</td>\n",
       "      <td>7109304898</td>\n",
       "      <td>21.517611</td>\n",
       "      <td>...</td>\n",
       "      <td>5.0</td>\n",
       "      <td>5.0</td>\n",
       "      <td>0.365</td>\n",
       "      <td>0.435000</td>\n",
       "      <td>0.297129</td>\n",
       "      <td>0.388183</td>\n",
       "      <td>0.365</td>\n",
       "      <td>0.375</td>\n",
       "      <td>0.051087</td>\n",
       "      <td>133</td>\n",
       "    </tr>\n",
       "    <tr>\n",
       "      <th>4</th>\n",
       "      <td>7109304902</td>\n",
       "      <td>751.718904</td>\n",
       "      <td>53.678323</td>\n",
       "      <td>992.224432</td>\n",
       "      <td>54.098644</td>\n",
       "      <td>1250.526081</td>\n",
       "      <td>120.534894</td>\n",
       "      <td>0.008982</td>\n",
       "      <td>7109304902</td>\n",
       "      <td>22.695087</td>\n",
       "      <td>...</td>\n",
       "      <td>4.0</td>\n",
       "      <td>3.0</td>\n",
       "      <td>0.485</td>\n",
       "      <td>0.685000</td>\n",
       "      <td>0.285000</td>\n",
       "      <td>0.503720</td>\n",
       "      <td>0.215</td>\n",
       "      <td>0.315</td>\n",
       "      <td>0.209248</td>\n",
       "      <td>361</td>\n",
       "    </tr>\n",
       "    <tr>\n",
       "      <th>...</th>\n",
       "      <td>...</td>\n",
       "      <td>...</td>\n",
       "      <td>...</td>\n",
       "      <td>...</td>\n",
       "      <td>...</td>\n",
       "      <td>...</td>\n",
       "      <td>...</td>\n",
       "      <td>...</td>\n",
       "      <td>...</td>\n",
       "      <td>...</td>\n",
       "      <td>...</td>\n",
       "      <td>...</td>\n",
       "      <td>...</td>\n",
       "      <td>...</td>\n",
       "      <td>...</td>\n",
       "      <td>...</td>\n",
       "      <td>...</td>\n",
       "      <td>...</td>\n",
       "      <td>...</td>\n",
       "      <td>...</td>\n",
       "      <td>...</td>\n",
       "    </tr>\n",
       "    <tr>\n",
       "      <th>47341771</th>\n",
       "      <td>7238533745</td>\n",
       "      <td>314.153069</td>\n",
       "      <td>18.548237</td>\n",
       "      <td>505.979069</td>\n",
       "      <td>56.803356</td>\n",
       "      <td>633.341440</td>\n",
       "      <td>131.662368</td>\n",
       "      <td>0.567029</td>\n",
       "      <td>7238533745</td>\n",
       "      <td>23.360582</td>\n",
       "      <td>...</td>\n",
       "      <td>5.0</td>\n",
       "      <td>5.0</td>\n",
       "      <td>0.805</td>\n",
       "      <td>1.035000</td>\n",
       "      <td>0.625000</td>\n",
       "      <td>0.826410</td>\n",
       "      <td>0.795</td>\n",
       "      <td>1.475</td>\n",
       "      <td>0.265486</td>\n",
       "      <td>437</td>\n",
       "    </tr>\n",
       "    <tr>\n",
       "      <th>47341772</th>\n",
       "      <td>7238533748</td>\n",
       "      <td>964.399538</td>\n",
       "      <td>15.952696</td>\n",
       "      <td>1356.360993</td>\n",
       "      <td>43.581431</td>\n",
       "      <td>1415.369620</td>\n",
       "      <td>57.492529</td>\n",
       "      <td>0.093127</td>\n",
       "      <td>7238533748</td>\n",
       "      <td>22.206959</td>\n",
       "      <td>...</td>\n",
       "      <td>5.0</td>\n",
       "      <td>2.0</td>\n",
       "      <td>0.515</td>\n",
       "      <td>0.590330</td>\n",
       "      <td>0.265000</td>\n",
       "      <td>0.429240</td>\n",
       "      <td>0.175</td>\n",
       "      <td>0.515</td>\n",
       "      <td>0.131464</td>\n",
       "      <td>93</td>\n",
       "    </tr>\n",
       "    <tr>\n",
       "      <th>47341773</th>\n",
       "      <td>7238533765</td>\n",
       "      <td>911.598527</td>\n",
       "      <td>10.944956</td>\n",
       "      <td>1507.449772</td>\n",
       "      <td>39.471370</td>\n",
       "      <td>1832.381211</td>\n",
       "      <td>56.297044</td>\n",
       "      <td>1.375936</td>\n",
       "      <td>7238533765</td>\n",
       "      <td>22.136280</td>\n",
       "      <td>...</td>\n",
       "      <td>4.0</td>\n",
       "      <td>2.0</td>\n",
       "      <td>0.715</td>\n",
       "      <td>0.800274</td>\n",
       "      <td>0.605000</td>\n",
       "      <td>0.680019</td>\n",
       "      <td>1.995</td>\n",
       "      <td>0.715</td>\n",
       "      <td>0.060506</td>\n",
       "      <td>490</td>\n",
       "    </tr>\n",
       "    <tr>\n",
       "      <th>47341774</th>\n",
       "      <td>7238533780</td>\n",
       "      <td>833.704984</td>\n",
       "      <td>11.755467</td>\n",
       "      <td>1079.063185</td>\n",
       "      <td>40.732953</td>\n",
       "      <td>821.096510</td>\n",
       "      <td>69.823689</td>\n",
       "      <td>0.590451</td>\n",
       "      <td>7238533780</td>\n",
       "      <td>22.400141</td>\n",
       "      <td>...</td>\n",
       "      <td>4.0</td>\n",
       "      <td>3.0</td>\n",
       "      <td>0.245</td>\n",
       "      <td>0.555000</td>\n",
       "      <td>0.183095</td>\n",
       "      <td>0.374921</td>\n",
       "      <td>0.015</td>\n",
       "      <td>0.265</td>\n",
       "      <td>0.192955</td>\n",
       "      <td>99</td>\n",
       "    </tr>\n",
       "    <tr>\n",
       "      <th>47341775</th>\n",
       "      <td>7238533781</td>\n",
       "      <td>247.254957</td>\n",
       "      <td>19.404400</td>\n",
       "      <td>685.510456</td>\n",
       "      <td>39.114125</td>\n",
       "      <td>1575.156087</td>\n",
       "      <td>65.045110</td>\n",
       "      <td>0.363488</td>\n",
       "      <td>7238533781</td>\n",
       "      <td>22.873941</td>\n",
       "      <td>...</td>\n",
       "      <td>1.0</td>\n",
       "      <td>1.0</td>\n",
       "      <td>0.875</td>\n",
       "      <td>1.245000</td>\n",
       "      <td>0.781770</td>\n",
       "      <td>1.009421</td>\n",
       "      <td>1.285</td>\n",
       "      <td>1.365</td>\n",
       "      <td>0.178866</td>\n",
       "      <td>574</td>\n",
       "    </tr>\n",
       "  </tbody>\n",
       "</table>\n",
       "<p>47341776 rows × 21 columns</p>\n",
       "</div>"
      ],
      "text/plain": [
       "          COADD_OBJECT_ID       FLUX_R  FLUX_ERR_R       FLUX_I  FLUX_ERR_I  \\\n",
       "0              7109304883  3697.074912   41.510975  4342.987764   49.896796   \n",
       "1              7109304892  1060.265660   32.105632  2483.591726   41.284574   \n",
       "2              7109304896  2632.422146   45.376178  3391.575227   68.988487   \n",
       "3              7109304898  2133.722123   38.464039  2287.077329   46.422072   \n",
       "4              7109304902   751.718904   53.678323   992.224432   54.098644   \n",
       "...                   ...          ...         ...          ...         ...   \n",
       "47341771       7238533745   314.153069   18.548237   505.979069   56.803356   \n",
       "47341772       7238533748   964.399538   15.952696  1356.360993   43.581431   \n",
       "47341773       7238533765   911.598527   10.944956  1507.449772   39.471370   \n",
       "47341774       7238533780   833.704984   11.755467  1079.063185   40.732953   \n",
       "47341775       7238533781   247.254957   19.404400   685.510456   39.114125   \n",
       "\n",
       "               FLUX_Z  FLUX_ERR_Z    CHI_SQ          ID        M_0  ...  T_B  \\\n",
       "0         5399.346127  101.126423  0.572120  7109304883  20.794094  ...  5.0   \n",
       "1         3354.406431   87.896135  1.192293  7109304892  21.408283  ...  2.0   \n",
       "2         4295.313674  125.899520  0.326125  7109304896  21.130915  ...  5.0   \n",
       "3         3271.006405   99.938773  0.463370  7109304898  21.517611  ...  5.0   \n",
       "4         1250.526081  120.534894  0.008982  7109304902  22.695087  ...  4.0   \n",
       "...               ...         ...       ...         ...        ...  ...  ...   \n",
       "47341771   633.341440  131.662368  0.567029  7238533745  23.360582  ...  5.0   \n",
       "47341772  1415.369620   57.492529  0.093127  7238533748  22.206959  ...  5.0   \n",
       "47341773  1832.381211   56.297044  1.375936  7238533765  22.136280  ...  4.0   \n",
       "47341774   821.096510   69.823689  0.590451  7238533780  22.400141  ...  4.0   \n",
       "47341775  1575.156087   65.045110  0.363488  7238533781  22.873941  ...  1.0   \n",
       "\n",
       "          T_ML    Z_B   Z_B_MAX   Z_B_MIN    Z_MEAN   Z_ML  Z_SAMP     Z_SIG  \\\n",
       "0          5.0  0.155  0.215000  0.097571  0.193081  0.165   0.445  0.163029   \n",
       "1          2.0  0.775  0.863257  0.555000  0.709006  0.775   0.835  0.105364   \n",
       "2          5.0  0.435  0.506352  0.285000  0.399023  0.365   0.455  0.104050   \n",
       "3          5.0  0.365  0.435000  0.297129  0.388183  0.365   0.375  0.051087   \n",
       "4          3.0  0.485  0.685000  0.285000  0.503720  0.215   0.315  0.209248   \n",
       "...        ...    ...       ...       ...       ...    ...     ...       ...   \n",
       "47341771   5.0  0.805  1.035000  0.625000  0.826410  0.795   1.475  0.265486   \n",
       "47341772   2.0  0.515  0.590330  0.265000  0.429240  0.175   0.515  0.131464   \n",
       "47341773   2.0  0.715  0.800274  0.605000  0.680019  1.995   0.715  0.060506   \n",
       "47341774   3.0  0.245  0.555000  0.183095  0.374921  0.015   0.265  0.192955   \n",
       "47341775   1.0  0.875  1.245000  0.781770  1.009421  1.285   1.365  0.178866   \n",
       "\n",
       "          wide_cells  \n",
       "0                  8  \n",
       "1                590  \n",
       "2                137  \n",
       "3                133  \n",
       "4                361  \n",
       "...              ...  \n",
       "47341771         437  \n",
       "47341772          93  \n",
       "47341773         490  \n",
       "47341774          99  \n",
       "47341775         574  \n",
       "\n",
       "[47341776 rows x 21 columns]"
      ]
     },
     "execution_count": 3,
     "metadata": {},
     "output_type": "execute_result"
    }
   ],
   "source": [
    "wide = np.load('%sBPZ+SOM_mcal_gold_wide_26x26_ids+cells+fluxes.npz'%outpath)['arr_0']\n",
    "# opens .npz containing BPZ estimates, wide SOM cell assignments, ids, and fluxes. \n",
    "# Catalog has foreground and gold cut applied already.\n",
    "wide = pd.DataFrame(wide) #convert to pandas dataframe for easier data manipulation\n",
    "\n",
    "wide['wide_cells']=wide['cells'] #rename 'cells' column for easier identification\n",
    "wide.drop(columns=['cells']) #see comment above\n",
    "\n",
    "# bdf_wide = pd.read_hdf('/project2/chihway/raulteixeira/data/bdf_photometry/dr3_1_1_bdf_metacal_gold.h5', key='df')\n",
    "# wide = wide.merge(bdf_wide, on='COADD_OBJECT_ID') # unnecessary unless you would like to do SOM imshow plots on the BDF photometry"
   ]
  },
  {
   "cell_type": "code",
   "execution_count": 4,
   "id": "0062d2d6",
   "metadata": {},
   "outputs": [],
   "source": [
    "#adding positions to wide and fg masking - it was already there...\n",
    "#joining balrog catalogs - just did a mask, easier and less comp. expensive\n",
    "#applying gold cut to catalogs - see above\n",
    "#then hopefully better n(z)s - let's see!!! Somewhat!!!\n",
    "\n",
    "#clean notebook"
   ]
  },
  {
   "cell_type": "code",
   "execution_count": 5,
   "id": "8eac2750",
   "metadata": {},
   "outputs": [],
   "source": [
    "# deep_cells = pd.read_csv('/project/chihway/raulteixeira/data/deep_fields_nice_n_z.csv.gz')[['ID', 'cells']]\n",
    "# deep_cells['deep_cells']=deep_cells['cells']\n",
    "# deep_cells.drop(columns=['cells'])\n",
    "# deep = pd.read_csv('/project/chihway/raulteixeira/data/deepfields_with_redshifts.csv.gz')\n",
    "# deepmask = deep_cuts(deep)\n",
    "# deep = deep[deepmask]\n",
    "# deep = deep.merge(deep_cells, on='ID', how='left')"
   ]
  },
  {
   "cell_type": "code",
   "execution_count": 6,
   "id": "5f1a174a",
   "metadata": {},
   "outputs": [],
   "source": [
    "deep_cells = np.load('%ssom_DES_DF_baldet_112123_48x48.npz'%outpath)['cells']\n",
    "deep = pd.read_csv('%sBalrogOfTheDECADE_20231002/deep_fields_obj_detected_BalrogoftheDECADE_20231002.csv.gz'%outpath)\n",
    "deep['deep_cells'] = deep_cells\n",
    "deep_Z = pd.read_csv('/project/chihway/raulteixeira/data/deepfields_with_redshifts.csv.gz')[['ID', 'Z']]\n",
    "deep = deep.merge(deep_Z, on='ID', how='left')"
   ]
  },
  {
   "cell_type": "code",
   "execution_count": 7,
   "id": "92d61b2a",
   "metadata": {},
   "outputs": [
    {
     "data": {
      "text/plain": [
       "115409"
      ]
     },
     "execution_count": 7,
     "metadata": {},
     "output_type": "execute_result"
    }
   ],
   "source": [
    "np.isfinite(deep['Z']).sum()"
   ]
  },
  {
   "cell_type": "code",
   "execution_count": 8,
   "id": "86b5db60",
   "metadata": {},
   "outputs": [
    {
     "name": "stdout",
     "output_type": "stream",
     "text": [
      "fraction of balrog injections that pass fg and gold cut: 0.04467459781331364\n"
     ]
    }
   ],
   "source": [
    "balrog = pd.read_csv('%ssom_BalrogOfTheDECADE_20231002_26x26_ids+cells+fluxes.csv.gz'%outpath)\n",
    "#read balrog catalog\n",
    "#print('Balrog length:', len(balrog))\n",
    "#print('Balrog Columns', np.array([(col, balrog[col].dtype) for col in balrog.columns]), f'\\ntotal: {len(balrog.columns)}')\n",
    "\n",
    "balrog_mask = np.load('%sBalrog_20231120_MASK.npz'%outpath)['arr_0'] #gold and foreground mask\n",
    "\n",
    "balrog_rest = pd.read_csv('%ssom_BalrogOfTheDECADE_20231002_26x26_REST.csv.gz'%outpath)\n",
    "balrog['detected']=balrog_rest['detected'] #detected objects\n",
    "\n",
    "print(f'fraction of balrog injections that pass fg and gold cut: {balrog_mask.sum()/len(balrog_mask):02}')\n",
    "\n",
    "#add balrog dr3_1_1 footprint cut"
   ]
  },
  {
   "cell_type": "code",
   "execution_count": 9,
   "id": "4c91dbbe",
   "metadata": {},
   "outputs": [],
   "source": [
    "balrog_fp_mask = (balrog['true_ra'] < 180) & (balrog['true_dec'] > -25) #footprint mask for DR3_1_1\n",
    "\n",
    "balrog = balrog[balrog_fp_mask] #applying DR3_1_1 footprint mask"
   ]
  },
  {
   "cell_type": "code",
   "execution_count": 10,
   "id": "905ef0af",
   "metadata": {},
   "outputs": [
    {
     "name": "stdout",
     "output_type": "stream",
     "text": [
      "fraction of balrog injections in DR3_1_1: 0.5892128592756939\n"
     ]
    }
   ],
   "source": [
    "print(f'fraction of balrog injections in DR3_1_1: {balrog_fp_mask.sum()/len(balrog_fp_mask):02}')"
   ]
  },
  {
   "cell_type": "code",
   "execution_count": 11,
   "id": "4fc4ff14",
   "metadata": {},
   "outputs": [
    {
     "data": {
      "text/plain": [
       "5309281"
      ]
     },
     "execution_count": 11,
     "metadata": {},
     "output_type": "execute_result"
    }
   ],
   "source": [
    "len(balrog) #length of balrog after footprint mask"
   ]
  },
  {
   "cell_type": "code",
   "execution_count": 12,
   "id": "e519bcf7",
   "metadata": {},
   "outputs": [],
   "source": [
    "# DF stands for Deep Fields\n",
    "# np.unique(balrog['ID'].values).size #not what we want for DF training (yet)\n",
    "# balrog_det_ids = np.unique(balrog[balrog['detected'].values.astype(bool)]['ID']) # what we want for DF training\n",
    "# np.savez('%outpathBalrogOfTheDECADE_20231002/BalrogoftheDECADE_20231002_detected_ids.npz'%outpath, balrog_det_ids)"
   ]
  },
  {
   "cell_type": "code",
   "execution_count": 13,
   "id": "3f907b86",
   "metadata": {},
   "outputs": [],
   "source": [
    "# # Create magnitude columns in deep catalog\n",
    "\n",
    "# for band in 'GRIZ':\n",
    "\n",
    "#     fluxcol = f'BDF_FLUX_DERED_CALIB_{band}'\n",
    "#     fluxerrcol = f'BDF_FLUX_ERR_DERED_CALIB_{band}'\n",
    "    \n",
    "#     magcol = f'BDF_MAG_DERED_CALIB_{band}'\n",
    "#     magerrcol = f'BDF_MAG_ERR_DERED_CALIB_{band}'\n",
    "\n",
    "#     deep[magcol]=flux2mag(deep[fluxcol])\n",
    "#     deep[magerrcol]=flux2mag(deep[fluxerrcol])"
   ]
  },
  {
   "cell_type": "markdown",
   "id": "d41918e9",
   "metadata": {},
   "source": [
    "### contaminant cut"
   ]
  },
  {
   "cell_type": "code",
   "execution_count": 14,
   "id": "daf5fee3",
   "metadata": {},
   "outputs": [],
   "source": [
    "# !!!\n",
    "\n",
    "d_arcsec = balrog_rest['d_arcsec']                    \n",
    "d_contam_arcsec = balrog_rest['d_contam_arcsec']     \n",
    "\n",
    "balrog['contmask'] = (d_contam_arcsec > 1.5)          # I am not sure if I should be applying this here or later \n",
    "                                                      # See two cells down where I define sel_mask\n",
    "    \n",
    "balrog['passes'] = balrog_mask[balrog_fp_mask]        # whether balrog injection passes gold cut\n",
    "                                                      # fg mask applied to gold mask\n",
    "    \n",
    "balrog_deep = balrog.merge(deep, on='ID', how='left') # merge balrog w/ deep catalog for later\n",
    "                                                      # will have same length as barlog catalog"
   ]
  },
  {
   "cell_type": "markdown",
   "id": "c86d2bad",
   "metadata": {},
   "source": [
    "### estimating the probability of a given galaxy in the deep fields making a detection\n",
    "* Note here that we are obtaining 'counts_dec' not with 'detected' column but with gold cut (double check this is correct!)"
   ]
  },
  {
   "cell_type": "code",
   "execution_count": 15,
   "id": "c0b25e73",
   "metadata": {
    "scrolled": true
   },
   "outputs": [
    {
     "name": "stderr",
     "output_type": "stream",
     "text": [
      "/tmp/jobs/31299463/ipykernel_137533/407432572.py:20: SettingWithCopyWarning: \n",
      "A value is trying to be set on a copy of a slice from a DataFrame\n",
      "\n",
      "See the caveats in the documentation: https://pandas.pydata.org/pandas-docs/stable/user_guide/indexing.html#returning-a-view-versus-a-copy\n",
      "  df_['counts_dec'][np.isnan(df_['counts_dec'])] = 0 # !!! check if this is needed,\n"
     ]
    }
   ],
   "source": [
    "unique_ids, counts_true = np.unique(balrog.ID.values, return_counts=True) \n",
    "# how many injections for each DF galaxy were made\n",
    "\n",
    "unique_ids_detected, counts_detected = np.unique(balrog.ID.values[balrog.detected.values], return_counts=True)\n",
    "# how many gold \"detections\" for each DF galaxy were made\n",
    "\n",
    "# pandas to simplify life\n",
    "df0 = pd.DataFrame()\n",
    "df0['ID'] = unique_ids\n",
    "df0['counts_ins'] = counts_true\n",
    "\n",
    "df1 = pd.DataFrame()\n",
    "df1['ID'] = unique_ids_detected\n",
    "df1['counts_dec'] = counts_detected\n",
    "\n",
    "df_ = df0.merge(df1, on='ID', how='left') \n",
    "# merge on id, this dataframe, df_, will have length equal to \n",
    "# the number of DF galaxies being used for balrog injections\n",
    "\n",
    "df_['counts_dec'][np.isnan(df_['counts_dec'])] = 0 # !!! check if this is needed, \n",
    "                                                   # I can probably do this on the array to not get a warning\n",
    "\n",
    "df_['p_pass'] = df_['counts_dec']/df_['counts_ins'] \n",
    "#p(\\hat{c}) i.e., probability of passing for a given DF galaxy\n",
    "\n",
    "balrog = balrog.merge(df_[['ID', 'p_pass']], on='ID') \n",
    "# merging to have everything under balrog and be able\n",
    "# to make cell statistics of the columns generated in this cell"
   ]
  },
  {
   "cell_type": "markdown",
   "id": "e2a56944",
   "metadata": {},
   "source": [
    "### Create and marginalize probabilities to obtain Balrog Transfer Matrix"
   ]
  },
  {
   "cell_type": "code",
   "execution_count": 95,
   "id": "468164b6",
   "metadata": {},
   "outputs": [],
   "source": [
    "#p(c) - i.e. probability that a galaxy in the deep fields will belong to a cell c\n",
    "square_len_deep = deep[['BDF_FLUX_DERED_CALIB_I', 'deep_cells']].groupby('deep_cells').agg(['mean', 'median', 'std', len])\n",
    "counts_deep = square_len_deep.BDF_FLUX_DERED_CALIB_I.len\n",
    "p_c = (counts_deep/counts_deep.sum()).values.reshape(n_deep,n_deep)\n",
    "\n",
    "#p(\\hat{c}) - NOTE: I believe this is \"wro \n",
    "#square_p_c_hat = balrog[balrog.detected.values.astype(bool)]\\\n",
    "#[['p_pass', 'wide_cells']].groupby('wide_cells').agg(['mean', 'median', 'std', len])\n",
    "\n",
    "#square_wide = wide['wide_cells'].groupby('wide_cells').agg(['mean', 'median', 'std', len])\n",
    "\n",
    "#p(\\hat{c}) - i.e. probability that a galaxy in the wide fields will belong to a cell c \n",
    "square_p_c_hat = wide[['COADD_OBJECT_ID', 'wide_cells']].groupby('wide_cells').agg([len])\n",
    "counts_wide = square_p_c_hat.COADD_OBJECT_ID.len\n",
    "\n",
    "# - Balrog version - see if detection masking is appropriate here\n",
    "\n",
    "square_p_c_hat_bal = balrog[balrog.detected.values.astype(bool)][['ID', 'wide_cells']].groupby('wide_cells').agg([len])\n",
    "counts_wide_bal = square_p_c_hat_bal.ID.len\n",
    "\n",
    "balrog['detected_float'] = balrog.detected.astype(float)\n",
    "\n",
    "square_det = balrog[['detected_float', 'wide_cells']].groupby('wide_cells')\\\n",
    ".agg(['mean', 'median', 'std', len])\n",
    "\n",
    "p_c_hat_bal = (counts_wide_bal.values*square_det.detected_float['mean'].values).reshape(n_wide,n_wide)\n",
    "p_c_hat_bal /= np.sum(p_c_hat_bal)\n",
    "\n",
    "#p - Wide field version\n",
    "p_c_hat = (counts_wide.values).reshape(n_wide,n_wide)\n",
    "p_c_hat = p_c_hat/np.sum(p_c_hat)\n",
    "\n",
    "#p(c,\\hat{c}) - joint probability of a galaxy in balrog_deep being in cell c and \\hat{c}\n",
    "N_wide, N_deep = 26**2, 48**2\n",
    "sel_mask = balrog_deep.detected&balrog_deep['contmask'].values&\\\n",
    "(~(np.isnan(balrog_deep.deep_cells.values)|np.isnan(balrog_deep.wide_cells.values)))\n",
    "\n",
    "unique_ids, index, rev_index, counts_true =\\\n",
    "np.unique(balrog_deep.ID.values, return_counts=True, return_index=True, return_inverse=True)\n",
    "\n",
    "InjDF = pd.DataFrame({'ID': balrog_deep.ID.values[index],\n",
    "'wide_cell': balrog_deep.wide_cells.values[index],\n",
    "'deep_cell': balrog_deep.deep_cells.values[index],\n",
    "'N_inj':counts_true})\n",
    "\n",
    "p_cchat = np.zeros((N_wide, N_deep))\n",
    "np.add.at(p_cchat, (InjDF.wide_cell.values[sel_mask[index]].astype(int),\\\n",
    "                    InjDF.deep_cell.values[sel_mask[index]].astype(int)), 1.0 /\\\n",
    "          InjDF.N_inj.values[sel_mask[index]])\n",
    "\n",
    "#p(c)p(\\hat{c})\n",
    "p_c_p_c_hat = (p_c.flatten() * np.repeat(p_c_hat_bal, n_deep**2).reshape(n_deep**2, n_wide**2).T)\n",
    "#p_c horizontal and p_c_hat vertical\n",
    "\n",
    "balrog_term = p_cchat/np.where(p_c_p_c_hat>0, p_c_p_c_hat, 1)\n",
    "#np.save('/project/chihway/raulteixeira/data/BalrogTerm_v02_10022023.npy', balrog_term)"
   ]
  },
  {
   "cell_type": "code",
   "execution_count": 98,
   "id": "79f93049",
   "metadata": {},
   "outputs": [
    {
     "data": {
      "text/plain": [
       "(2304,)"
      ]
     },
     "execution_count": 98,
     "metadata": {},
     "output_type": "execute_result"
    }
   ],
   "source": [
    "np.sum(p_cchat, axis=0)"
   ]
  },
  {
   "cell_type": "code",
   "execution_count": 99,
   "id": "720104a3",
   "metadata": {},
   "outputs": [],
   "source": [
    "p_c_marg = np.sum(p_cchat, axis=0).reshape(n_deep, n_deep)\n",
    "p_c_marg /= np.sum(p_c_marg, axis=1)[:,None]"
   ]
  },
  {
   "cell_type": "code",
   "execution_count": 103,
   "id": "8cedf5a7",
   "metadata": {},
   "outputs": [],
   "source": [
    "p_c/=np.sum(p_c, axis=1)[:,None]"
   ]
  },
  {
   "cell_type": "code",
   "execution_count": 107,
   "id": "d7222c8a",
   "metadata": {},
   "outputs": [
    {
     "data": {
      "image/png": "[encoded data removed]",
      "text/plain": [
       "<Figure size 640x480 with 1 Axes>"
      ]
     },
     "metadata": {},
     "output_type": "display_data"
    }
   ],
   "source": [
    "plt.hist((p_c_marg-p_c).flatten());"
   ]
  },
  {
   "cell_type": "markdown",
   "id": "3d419444",
   "metadata": {},
   "source": [
    "### $p(z|\\hat{c}) = \\sum_{c} p(z|c) p(c) \\dfrac{p(c,\\hat{c})}{p(c)p(\\hat{c})} p(\\hat{c})$"
   ]
  },
  {
   "cell_type": "code",
   "execution_count": 17,
   "id": "ad54cd6a",
   "metadata": {},
   "outputs": [],
   "source": [
    "#cell weights\n",
    "joint_cell_weight = p_c.flatten() * balrog_term * p_c_hat.flatten()[:,None]\n",
    "\n",
    "#p(z|c)\n",
    "cell_z = deep[['Z', 'deep_cells']].groupby('deep_cells').agg(func=hist)\n",
    "p_z_c = np.array([cell_z['Z'][cell] for cell in cell_z['Z'].index])\n",
    "\n",
    "zero_mask = np.sum(p_z_c, axis=1)==0\n",
    "rangedeep = np.arange(0, n_deep**2)\n",
    "nonzero_indices = rangedeep[~zero_mask]\n",
    "\n",
    "p_z_c = p_z_c[nonzero_indices].astype('float64')\n",
    "p_z_c /= np.sum(p_z_c, axis=1)[:,None]\n",
    "\n",
    "#inner sum result of eq. 14 in Myles, Alarcon\n",
    "p_z_c_hat = (joint_cell_weight[:,nonzero_indices]@p_z_c)"
   ]
  },
  {
   "cell_type": "markdown",
   "id": "8dd6a9b2",
   "metadata": {},
   "source": [
    "### BPZ Binning (no need to run, can run any of other 2 binning strategies, can also run all three!)"
   ]
  },
  {
   "cell_type": "markdown",
   "id": "5f76d664",
   "metadata": {},
   "source": [
    "### $p(z|\\hat{b}) = \\sum_{\\hat{c}\\in\\hat{b}} p(z|\\hat{c})$"
   ]
  },
  {
   "cell_type": "code",
   "execution_count": 64,
   "id": "9622e1b1",
   "metadata": {},
   "outputs": [],
   "source": [
    "Tomo_cells = np.load('/project/chihway/raulteixeira/data/TomoBins_cell_wide_26x26.npz')\n",
    "p_z_c_hat[Tomo_cells[f'bin0_cells']].sum(axis=0).shape\n",
    "p_z_c_hat_bins = [np.sum(p_z_c_hat[Tomo_cells[f'bin{i}_cells']], axis=0) for i in range(4)]"
   ]
  },
  {
   "cell_type": "code",
   "execution_count": 65,
   "id": "17506a72",
   "metadata": {},
   "outputs": [
    {
     "data": {
      "text/plain": [
       "[0.37053165211568434,\n",
       " 0.7482079865057102,\n",
       " 0.7696526523862702,\n",
       " 0.9170662548481204]"
      ]
     },
     "execution_count": 65,
     "metadata": {},
     "output_type": "execute_result"
    }
   ],
   "source": [
    "[np.sum(p_z_c_hat_bins[i]/np.sum(p_z_c_hat_bins[i]) * np.linspace(0, 2, nbins)[:-1]) for i in range(4)]"
   ]
  },
  {
   "cell_type": "code",
   "execution_count": 67,
   "id": "fa743b33",
   "metadata": {
    "scrolled": false
   },
   "outputs": [
    {
     "data": {
      "image/png": "[encoded data removed]",
      "text/plain": [
       "<Figure size 1200x500 with 1 Axes>"
      ]
     },
     "metadata": {},
     "output_type": "display_data"
    }
   ],
   "source": [
    "plt.figure(figsize=(12,5))\n",
    "plt.xlabel('z')\n",
    "plt.ylabel('probability')\n",
    "plt.title('SOMPZ redshifts on BPZ binning - Balrog gold')\n",
    "plt.xlim(0, zmax)\n",
    "#plt.xticks(ticks=np.arange(0,1.5,.1))\n",
    "colors = ['blue', 'red', 'green', 'orange']\n",
    "for i in range(4):\n",
    "    plt.plot(zs, p_z_c_hat_bins[i]/np.sum(p_z_c_hat_bins[i]), c=colors[i])\n",
    "plt.show()"
   ]
  },
  {
   "cell_type": "code",
   "execution_count": null,
   "id": "5e30e339",
   "metadata": {},
   "outputs": [],
   "source": [
    "#np.savez('/project/chihway/raulteixeira/data/p_z_c_hat_bins_BPZ.npz', np.array(p_z_c_hat_bins))\n",
    "\n",
    "#np.savetxt('/project/chihway/raulteixeira/data/p_z_c_hat_bins_BPZ.txt', np.array(p_z_c_hat_bins))"
   ]
  },
  {
   "cell_type": "markdown",
   "id": "0a765403",
   "metadata": {},
   "source": [
    "### Tomographic Binning with SOMPZ (no external template-fitting code required)"
   ]
  },
  {
   "cell_type": "markdown",
   "id": "97fbf098",
   "metadata": {},
   "source": [
    "### Mean cell redshift binning"
   ]
  },
  {
   "cell_type": "code",
   "execution_count": 68,
   "id": "7f7366a8",
   "metadata": {},
   "outputs": [
    {
     "name": "stderr",
     "output_type": "stream",
     "text": [
      "/tmp/jobs/31298594/ipykernel_119883/1658099213.py:2: RuntimeWarning: invalid value encountered in divide\n",
      "  ids = np.argsort(weight_tomo/np.sum(p_z_c_hat, axis=1))\n"
     ]
    }
   ],
   "source": [
    "weight_tomo = np.sum(p_z_c_hat*zs, axis=1)\n",
    "ids = np.argsort(weight_tomo/np.sum(p_z_c_hat, axis=1))\n",
    "square_wide_len = wide[['COADD_OBJECT_ID', 'cells']].groupby('cells').agg([len])\n",
    "im_len = square_wide_len[('COADD_OBJECT_ID', 'len')].values\n",
    "percentages = im_len[ids].cumsum()/np.sum(im_len)"
   ]
  },
  {
   "cell_type": "code",
   "execution_count": 69,
   "id": "0a7e7177",
   "metadata": {},
   "outputs": [],
   "source": [
    "cell_masks = []\n",
    "for lim1, lim2 in zip([0, .25, .5, .75], [.25, .5, .75, 1.]):\n",
    "    cell_masks.append(ids[(lim1<percentages) & (percentages<=lim2)])"
   ]
  },
  {
   "cell_type": "code",
   "execution_count": 70,
   "id": "0d187b2f",
   "metadata": {},
   "outputs": [
    {
     "data": {
      "text/plain": [
       "Text(0.5, 1.0, 'TomoBins - SOMPZ mean $z|\\\\hat{c}$ Balrog Gold')"
      ]
     },
     "execution_count": 70,
     "metadata": {},
     "output_type": "execute_result"
    },
    {
     "data": {
      "image/png": "[encoded data removed]",
      "text/plain": [
       "<Figure size 640x480 with 1 Axes>"
      ]
     },
     "metadata": {},
     "output_type": "display_data"
    }
   ],
   "source": [
    "TomoBin4cell = np.empty(n_wide**2)\n",
    "for i, mask in enumerate(cell_masks):\n",
    "    TomoBin4cell[mask]=i+1\n",
    "plt.imshow(TomoBin4cell.reshape(n_wide,n_wide))\n",
    "plt.title('TomoBins - SOMPZ mean $z|\\hat{c}$ Balrog Gold')"
   ]
  },
  {
   "cell_type": "code",
   "execution_count": 71,
   "id": "3dc32b46",
   "metadata": {},
   "outputs": [
    {
     "name": "stdout",
     "output_type": "stream",
     "text": [
      "[0.3105388965006218, 0.5134081165118348, 0.7026423242868891, 0.8752956585532008]\n"
     ]
    }
   ],
   "source": [
    "p_z_c_hat_bins = [np.sum(p_z_c_hat[cell_masks[i]], axis=0) for i in range(4)]\n",
    "\n",
    "print([np.sum(p_z_c_hat_bins[i]/np.sum(p_z_c_hat_bins[i]) * np.linspace(0, 2, nbins)[:-1]) for i in range(4)])"
   ]
  },
  {
   "cell_type": "code",
   "execution_count": 72,
   "id": "c4c3f799",
   "metadata": {},
   "outputs": [
    {
     "data": {
      "text/plain": [
       "0.5980907772634374"
      ]
     },
     "execution_count": 72,
     "metadata": {},
     "output_type": "execute_result"
    }
   ],
   "source": [
    "balrog.detected.sum()/len(balrog)"
   ]
  },
  {
   "cell_type": "code",
   "execution_count": 74,
   "id": "2beeed34",
   "metadata": {
    "scrolled": true
   },
   "outputs": [
    {
     "data": {
      "image/png": "[encoded data removed]",
      "text/plain": [
       "<Figure size 1200x500 with 1 Axes>"
      ]
     },
     "metadata": {},
     "output_type": "display_data"
    }
   ],
   "source": [
    "plt.figure(figsize=(12,5))\n",
    "plt.title('SOMPZ (mean $z|\\hat{c}$) binning contam 1.5 gold foreg')\n",
    "plt.xlabel('z')\n",
    "#plt.yscale('log')\n",
    "plt.ylabel('probability')\n",
    "colors = ['blue', 'red', 'green', 'orange']\n",
    "#plt.xticks(ticks=np.arange(0, 2.1, 0.25))\n",
    "plt.xlim(0,zmax)\n",
    "for i in range(4):\n",
    "    plt.plot(zs, p_z_c_hat_bins[i]/np.sum(p_z_c_hat_bins[i]), c=colors[i])\n",
    "plt.show()"
   ]
  },
  {
   "cell_type": "markdown",
   "id": "8e9e0355",
   "metadata": {},
   "source": [
    "### Binning algorithm described in Myles, Alarcon 2021"
   ]
  },
  {
   "cell_type": "code",
   "execution_count": 33,
   "id": "1e5ce3f1",
   "metadata": {},
   "outputs": [],
   "source": [
    "#p_z_c_hat = np.load('/project/chihway/raulteixeira/data/p_z_c_hat_DR3_1_1.npz')['arr_0']\n",
    "# uncomment if want to save running time"
   ]
  },
  {
   "cell_type": "code",
   "execution_count": 18,
   "id": "f249859b",
   "metadata": {},
   "outputs": [],
   "source": [
    "#bins_0 = np.concatenate(([0], np.random.normal([0.358, 0.631, 0.872], scale=.03), [2]))\n",
    "bins_0 = np.concatenate(([0], [0.358, 0.631, 0.872], [2]))\n",
    "bins_0 = np.round(bins_0, decimals=3)"
   ]
  },
  {
   "cell_type": "code",
   "execution_count": 19,
   "id": "d044e0d0",
   "metadata": {},
   "outputs": [],
   "source": [
    "def bin_loss(bins=bins_0):\n",
    "    bins = np.concatenate(([0], bins, [2]))\n",
    "    bin_masks = [(bins[i]<zs)&(zs<bins[i+1]) for i in range(4)]\n",
    "    tb_assign = np.argmax(np.array([np.sum(p_z_c_hat[:,bin_mask], axis=1) for bin_mask in bin_masks]), axis=0)\n",
    "    tb_norm_counts = [np.sum(p_c_hat.flatten()[tb_assign==i]) for i in range(4)]\n",
    "    return (np.mean(tb_norm_counts)-.25)**2+np.std(tb_norm_counts)"
   ]
  },
  {
   "cell_type": "code",
   "execution_count": 20,
   "id": "b965ba7f",
   "metadata": {},
   "outputs": [],
   "source": [
    "def tb_share(bins=bins_0):\n",
    "    #bins = np.concatenate(([0], bins, [2]))\n",
    "    print()\n",
    "    bin_masks = [(bins[i]<zs)&(zs<bins[i+1]) for i in range(4)]\n",
    "    tb_assign = np.argmax(np.array([np.sum(p_z_c_hat[:,bin_mask], axis=1) for bin_mask in bin_masks]), axis=0)\n",
    "    tb_norm_counts = [np.sum(p_c_hat.flatten()[tb_assign==i]) for i in range(4)]\n",
    "    return tb_norm_counts"
   ]
  },
  {
   "cell_type": "code",
   "execution_count": 21,
   "id": "19eef634",
   "metadata": {
    "scrolled": true
   },
   "outputs": [
    {
     "name": "stdout",
     "output_type": "stream",
     "text": [
      "0.046701129936408715\n"
     ]
    },
    {
     "data": {
      "text/plain": [
       "array([0.32897216, 0.55435291, 0.88867831])"
      ]
     },
     "execution_count": 21,
     "metadata": {},
     "output_type": "execute_result"
    }
   ],
   "source": [
    "loss_curr = np.inf\n",
    "best_bins = bins_0\n",
    "for i in range(10):\n",
    "    bins_0 = np.random.normal([0.358, 0.631, 0.872], scale=.1)\n",
    "\n",
    "    n_bins = 4\n",
    "    result_DE = differential_evolution(bin_loss, bounds=[(0,2), (0,2), (0,2)], x0=bins_0)\n",
    "    bins = result_DE.x\n",
    "    \n",
    "    if result_DE.fun<loss_curr:\n",
    "        loss_curr = result_DE.fun\n",
    "        best_bins = bins\n",
    "print(loss_curr)\n",
    "\n",
    "best_bins"
   ]
  },
  {
   "cell_type": "code",
   "execution_count": 22,
   "id": "55085f2a",
   "metadata": {},
   "outputs": [
    {
     "data": {
      "text/plain": [
       "array([0.34043569, 0.56686973, 0.8979184 ])"
      ]
     },
     "execution_count": 22,
     "metadata": {},
     "output_type": "execute_result"
    }
   ],
   "source": [
    "bins"
   ]
  },
  {
   "cell_type": "code",
   "execution_count": 23,
   "id": "03e13e25",
   "metadata": {},
   "outputs": [
    {
     "name": "stdout",
     "output_type": "stream",
     "text": [
      " message: Optimization terminated successfully.\n",
      " success: True\n",
      "     fun: 0.046701129936408715\n",
      "       x: [ 3.362e-01  5.393e-01  8.847e-01]\n",
      "     nit: 27\n",
      "    nfev: 1264\n"
     ]
    }
   ],
   "source": [
    "bins_0 = np.random.normal([0.358, 0.631, 0.872], scale=.1)\n",
    "\n",
    "n_bins = 4\n",
    "result_DE = differential_evolution(bin_loss, bounds=[(0,zmax), (0,zmax), (0,zmax)], x0=bins_0)\n",
    "bins = result_DE.x\n",
    "print(result_DE)"
   ]
  },
  {
   "cell_type": "code",
   "execution_count": 24,
   "id": "87f4cbfa",
   "metadata": {
    "scrolled": true
   },
   "outputs": [
    {
     "name": "stdout",
     "output_type": "stream",
     "text": [
      "[0.         0.32897216 0.55435291 0.88867831 2.        ]\n"
     ]
    },
    {
     "data": {
      "text/plain": [
       "<matplotlib.image.AxesImage at 0x7f83fbbfec10>"
      ]
     },
     "execution_count": 24,
     "metadata": {},
     "output_type": "execute_result"
    },
    {
     "data": {
      "image/png": "[encoded data removed]",
      "text/plain": [
       "<Figure size 640x480 with 1 Axes>"
      ]
     },
     "metadata": {},
     "output_type": "display_data"
    }
   ],
   "source": [
    "#bins = differential_evolution(bin_loss, bounds=[(0,0), (0,1), (0,1), (2,2)], x0= [0, 0.4, 0.8, 2]).x\n",
    "bins = np.concatenate(([0], best_bins, [2]))\n",
    "#bins=[0.000e+00,  4.230e-01,  6.738e-01,  9.931e-01,  2.000e+00]\n",
    "bin_masks = [(bins[i]<zs)&(zs<bins[i+1]) for i in range(n_bins)]\n",
    "bin_masks = [np.tile(bin_masks[i], n_wide**2).reshape(n_wide**2, nbins-1) for i in range(n_bins)]\n",
    "\n",
    "tb_test = np.array([np.sum(p_z_c_hat[bin_masks[i]].reshape(n_wide**2, bin_masks[i][0].sum()), axis=1) for i in range(n_bins)])\n",
    "\n",
    "tomo_bins = np.argsort(tb_test.T)[:,-1]\n",
    "\n",
    "#np.savez('/project/chihway/raulteixeira/data/TomoBins_DESY3_Algo_DELVE_DR3_1_1.npz', tomo_bins)\n",
    "print(bins)\n",
    "plt.title('DES Y3 Binning w/ gold cut')\n",
    "plt.imshow(tomo_bins.reshape(n_wide, n_wide))"
   ]
  },
  {
   "cell_type": "code",
   "execution_count": 25,
   "id": "d76ff6f5",
   "metadata": {},
   "outputs": [
    {
     "name": "stdout",
     "output_type": "stream",
     "text": [
      "mean z per bin [0.45225087310608797, 0.49319145600978004, 0.7294955038276056, 0.8954160820046659]\n"
     ]
    }
   ],
   "source": [
    "cell_masks = [tomo_bins==i for i in range(n_bins)]\n",
    "\n",
    "p_z_c_hat_bins = np.array([np.sum(p_z_c_hat[cell_masks[i]], axis=0) for i in range(n_bins)])\n",
    "\n",
    "print('mean z per bin', [np.sum(p_z_c_hat_bins[i]/np.sum(p_z_c_hat_bins[i]) * zs)\\\n",
    "       for i in range(n_bins)])"
   ]
  },
  {
   "cell_type": "code",
   "execution_count": 26,
   "id": "50bde958",
   "metadata": {},
   "outputs": [
    {
     "data": {
      "text/plain": [
       "0.08626890803469417"
      ]
     },
     "execution_count": 26,
     "metadata": {},
     "output_type": "execute_result"
    }
   ],
   "source": [
    "i=0\n",
    "np.sum(p_z_c_hat_bins[i]*p_z_c_hat_bins[i+1])/np.sum(p_z_c_hat_bins[i])/np.sum(p_z_c_hat_bins[i+1])"
   ]
  },
  {
   "cell_type": "code",
   "execution_count": 27,
   "id": "3f890c3f",
   "metadata": {},
   "outputs": [],
   "source": [
    "p_z_c_hat_bins/=np.sum(p_z_c_hat_bins, axis=1)[:,None]"
   ]
  },
  {
   "cell_type": "code",
   "execution_count": 28,
   "id": "829abe36",
   "metadata": {},
   "outputs": [
    {
     "data": {
      "image/png": "[encoded data removed]",
      "text/plain": [
       "<Figure size 1200x500 with 1 Axes>"
      ]
     },
     "metadata": {},
     "output_type": "display_data"
    }
   ],
   "source": [
    "plt.figure(figsize=(12,5))\n",
    "plt.title(f'DES Y3 binning (v4) gold foreg. mask (zmax={zmax})')\n",
    "plt.xlabel('z')\n",
    "#plt.yscale('log')\n",
    "plt.ylabel('probability')\n",
    "colors = ['blue', 'red', 'green', 'orange']\n",
    "#plt.xticks(ticks=np.arange(0, 1.7, 0.1))\n",
    "plt.xlim(0,2)\n",
    "for i in range(n_bins):\n",
    "    plt.plot(zs, p_z_c_hat_bins[i], c=colors[i])\n",
    "plt.show()"
   ]
  },
  {
   "cell_type": "code",
   "execution_count": 72,
   "id": "27e3a1bf",
   "metadata": {},
   "outputs": [
    {
     "data": {
      "text/plain": [
       "array([3, 3, 0, 0, 0, 0, 0, 0, 0, 0, 0, 0, 0, 0, 2, 2, 0, 3, 0, 2, 3, 0,\n",
       "       3, 3, 1, 3, 3, 0, 0, 1, 0, 0, 0, 0, 0, 0, 0, 1, 0, 1, 2, 1, 2, 0,\n",
       "       3, 0, 2, 2, 3, 3, 0, 3, 0, 0, 1, 0, 1, 0, 1, 0, 0, 1, 1, 0, 1, 0,\n",
       "       0, 0, 2, 1, 1, 0, 1, 0, 0, 0, 2, 3, 3, 0, 0, 0, 0, 1, 0, 1, 1, 0,\n",
       "       0, 0, 0, 0, 2, 0, 1, 1, 1, 0, 1, 0, 0, 3, 0, 1, 3, 3, 0, 0, 1, 1,\n",
       "       1, 1, 0, 1, 3, 1, 0, 1, 0, 0, 2, 0, 1, 0, 0, 0, 0, 0, 0, 3, 3, 1,\n",
       "       1, 1, 1, 1, 0, 0, 1, 0, 0, 1, 0, 0, 0, 0, 0, 2, 0, 0, 0, 0, 0, 0,\n",
       "       0, 1, 3, 1, 0, 0, 1, 1, 1, 1, 0, 1, 1, 0, 0, 0, 0, 0, 2, 0, 0, 0,\n",
       "       0, 0, 0, 0, 0, 0, 1, 3, 1, 1, 1, 0, 1, 1, 1, 1, 1, 0, 0, 0, 1, 0,\n",
       "       0, 0, 0, 3, 0, 0, 0, 0, 0, 0, 3, 3, 1, 1, 1, 1, 1, 1, 1, 1, 0, 0,\n",
       "       1, 0, 0, 0, 0, 0, 0, 0, 0, 0, 0, 0, 0, 0, 3, 1, 1, 0, 1, 1, 2, 1,\n",
       "       1, 1, 1, 0, 1, 0, 0, 0, 0, 0, 0, 0, 1, 0, 0, 1, 0, 0, 3, 3, 0, 0,\n",
       "       3, 1, 1, 3, 2, 1, 1, 1, 1, 0, 0, 0, 0, 0, 0, 1, 0, 0, 1, 1, 0, 0,\n",
       "       1, 3, 1, 3, 3, 3, 1, 1, 1, 1, 1, 0, 1, 0, 0, 0, 0, 0, 0, 0, 0, 1,\n",
       "       0, 1, 1, 1, 3, 3, 3, 3, 2, 1, 1, 1, 1, 1, 2, 1, 1, 1, 1, 1, 1, 0,\n",
       "       0, 2, 1, 2, 0, 1, 0, 0, 3, 3, 3, 3, 3, 2, 2, 1, 1, 1, 1, 1, 1, 1,\n",
       "       1, 1, 1, 1, 1, 1, 1, 0, 0, 2, 1, 1, 3, 3, 3, 3, 3, 3, 3, 3, 1, 1,\n",
       "       1, 1, 1, 1, 1, 1, 1, 1, 2, 1, 2, 1, 1, 3, 1, 2, 3, 3, 3, 3, 3, 3,\n",
       "       2, 2, 1, 1, 1, 1, 1, 1, 1, 1, 1, 1, 3, 1, 0, 2, 2, 2, 3, 1, 3, 3,\n",
       "       3, 3, 3, 3, 3, 1, 1, 1, 1, 1, 1, 1, 1, 2, 2, 2, 2, 3, 3, 3, 2, 2,\n",
       "       1, 2, 3, 3, 3, 3, 3, 3, 3, 3, 3, 1, 1, 1, 2, 1, 2, 1, 2, 3, 2, 3,\n",
       "       2, 2, 1, 1, 1, 1, 3, 3, 3, 3, 3, 3, 2, 2, 2, 2, 1, 2, 2, 2, 2, 1,\n",
       "       2, 1, 3, 3, 3, 2, 2, 1, 2, 2, 3, 3, 3, 2, 3, 3, 2, 2, 2, 2, 2, 1,\n",
       "       2, 2, 1, 3, 3, 3, 3, 3, 2, 2, 2, 2, 2, 2, 3, 3, 3, 3, 3, 2, 3, 2,\n",
       "       2, 2, 2, 2, 2, 1, 2, 2, 3, 3, 3, 2, 2, 2, 2, 2, 2, 2, 3, 3, 3, 3,\n",
       "       3, 3, 2, 2, 2, 2, 2, 2, 2, 2, 2, 2, 2, 2, 3, 2, 2, 2, 2, 2, 2, 2,\n",
       "       3, 3, 3, 3, 3, 3, 3, 2, 2, 2, 2, 2, 2, 2, 3, 2, 2, 2, 2, 3, 2, 3,\n",
       "       0, 2, 2, 2, 3, 3, 3, 3, 3, 2, 3, 2, 2, 2, 2, 2, 2, 2, 2, 2, 2, 2,\n",
       "       3, 3, 3, 2, 2, 2, 3, 2, 3, 3, 3, 3, 3, 3, 3, 2, 2, 3, 2, 2, 2, 2,\n",
       "       2, 2, 2, 2, 3, 2, 3, 2, 3, 2, 3, 3, 3, 3, 3, 3, 3, 3, 3, 3, 2, 3,\n",
       "       2, 2, 2, 2, 3, 3, 3, 2, 2, 3, 2, 3, 3, 2, 2, 3])"
      ]
     },
     "execution_count": 72,
     "metadata": {},
     "output_type": "execute_result"
    }
   ],
   "source": [
    "for i in     \n",
    "    wide[['COADD_OBJECT_ID', 'wide_cells']][cell_masks[i]]=i+1"
   ]
  },
  {
   "cell_type": "code",
   "execution_count": null,
   "id": "89ea3a75",
   "metadata": {},
   "outputs": [],
   "source": [
    "#np.savez('/project/chihway/raulteixeira/data/p_z_c_hat_bins_SOMPZ.npz', np.array(p_z_c_hat_bins))"
   ]
  },
  {
   "cell_type": "code",
   "execution_count": null,
   "id": "5f5b2c75",
   "metadata": {},
   "outputs": [],
   "source": [
    "#np.savetxt('/project/chihway/raulteixeira/data/p_z_c_hat_bins_SOMPZ.txt', np.array(p_z_c_hat_bins))"
   ]
  },
  {
   "cell_type": "code",
   "execution_count": 20,
   "id": "2134064c",
   "metadata": {
    "scrolled": true
   },
   "outputs": [],
   "source": [
    "tomo_cells = [np.arange(n_wide**2)[cell_masks[i]] for i in range(4)]"
   ]
  },
  {
   "cell_type": "code",
   "execution_count": 21,
   "id": "d898b98a",
   "metadata": {},
   "outputs": [
    {
     "name": "stderr",
     "output_type": "stream",
     "text": [
      "/tmp/jobs/31083417/ipykernel_240594/788202748.py:3: SettingWithCopyWarning: \n",
      "A value is trying to be set on a copy of a slice from a DataFrame\n",
      "\n",
      "See the caveats in the documentation: https://pandas.pydata.org/pandas-docs/stable/user_guide/indexing.html#returning-a-view-versus-a-copy\n",
      "  wide['Tomo_Bin'][np.isin(wide['cells'], cells)] = i\n",
      "/tmp/jobs/31083417/ipykernel_240594/788202748.py:3: SettingWithCopyWarning: \n",
      "A value is trying to be set on a copy of a slice from a DataFrame\n",
      "\n",
      "See the caveats in the documentation: https://pandas.pydata.org/pandas-docs/stable/user_guide/indexing.html#returning-a-view-versus-a-copy\n",
      "  wide['Tomo_Bin'][np.isin(wide['cells'], cells)] = i\n",
      "/tmp/jobs/31083417/ipykernel_240594/788202748.py:3: SettingWithCopyWarning: \n",
      "A value is trying to be set on a copy of a slice from a DataFrame\n",
      "\n",
      "See the caveats in the documentation: https://pandas.pydata.org/pandas-docs/stable/user_guide/indexing.html#returning-a-view-versus-a-copy\n",
      "  wide['Tomo_Bin'][np.isin(wide['cells'], cells)] = i\n",
      "/tmp/jobs/31083417/ipykernel_240594/788202748.py:3: SettingWithCopyWarning: \n",
      "A value is trying to be set on a copy of a slice from a DataFrame\n",
      "\n",
      "See the caveats in the documentation: https://pandas.pydata.org/pandas-docs/stable/user_guide/indexing.html#returning-a-view-versus-a-copy\n",
      "  wide['Tomo_Bin'][np.isin(wide['cells'], cells)] = i\n"
     ]
    }
   ],
   "source": [
    "wide['Tomo_Bin'] = np.zeros(len(wide))\n",
    "for i, cells in enumerate(tomo_cells):\n",
    "    wide['Tomo_Bin'][np.isin(wide['cells'], cells)] = i"
   ]
  },
  {
   "cell_type": "markdown",
   "id": "35155333",
   "metadata": {},
   "source": [
    "### Bootstrapping"
   ]
  },
  {
   "cell_type": "code",
   "execution_count": 22,
   "id": "bd5d7495",
   "metadata": {},
   "outputs": [],
   "source": [
    "BT_TB3 = np.random.choice(wide['COADD_OBJECT_ID'][].values, size=int(1e8)*)"
   ]
  },
  {
   "cell_type": "code",
   "execution_count": null,
   "id": "d272d04a",
   "metadata": {},
   "outputs": [],
   "source": []
  },
  {
   "cell_type": "code",
   "execution_count": 23,
   "id": "d668f388",
   "metadata": {},
   "outputs": [
    {
     "data": {
      "text/plain": [
       "array([7014348313, 7052155497, 7251013006, ..., 7104803073, 7114942970,\n",
       "       7231729025])"
      ]
     },
     "execution_count": 23,
     "metadata": {},
     "output_type": "execute_result"
    }
   ],
   "source": [
    "BT_TB3 "
   ]
  },
  {
   "cell_type": "code",
   "execution_count": null,
   "id": "b99e6693",
   "metadata": {},
   "outputs": [],
   "source": [
    "BT_TB3 "
   ]
  },
  {
   "cell_type": "code",
   "execution_count": null,
   "id": "1a7b9790",
   "metadata": {},
   "outputs": [],
   "source": [
    "np.rec.array()"
   ]
  },
  {
   "cell_type": "code",
   "execution_count": null,
   "id": "fbc29fe6",
   "metadata": {},
   "outputs": [],
   "source": [
    "wide.to_csv('/')"
   ]
  },
  {
   "cell_type": "markdown",
   "id": "6a0f9026",
   "metadata": {},
   "source": [
    "### Deep2Wide plots (sanity checks!)"
   ]
  },
  {
   "cell_type": "code",
   "execution_count": null,
   "id": "85d3e2a2",
   "metadata": {},
   "outputs": [],
   "source": [
    "def group_i_deep(i, max_d, n):\n",
    "    ps = np.array(np.unravel_index(np.arange(0,n**2), (n,n), order='F'))\n",
    "    p = np.array(np.unravel_index(i, (n,n), order='F'))\n",
    "    d = np.sum(np.abs(ps-p[:, None]),axis=0)\n",
    "    return np.arange(0,n**2)[d<=max_d]"
   ]
  },
  {
   "cell_type": "code",
   "execution_count": null,
   "id": "d6dd65d9",
   "metadata": {
    "scrolled": false
   },
   "outputs": [],
   "source": [
    "fig, axes = plt.subplots(nx, ny, figsize=(12, 24))\n",
    "i_deeps = np.random.randint(0,n_deep**2, (nx, ny))\n",
    "for i_deep in i_deeps:\n",
    "\n",
    "    idx_deep = group_i_deep(i_deep, max_d=2, n=n_deep)\n",
    "\n",
    "    plt.title(f'Deep SOM cell: {i_deep-1}')\n",
    "\n",
    "    im = np.sum(p_cchat[:,idx_deep],axis=1).reshape(n_wide,n_wide)\n",
    "\n",
    "    im /= np.sum(im)\n",
    "\n",
    "    plt.title(f'Deep SOM cell: {i_deep-1}')\n",
    "    plt.imshow(im, norm=mpl.colors.LogNorm())\n",
    "    plt.colorbar()\n",
    "    plt.show()"
   ]
  },
  {
   "cell_type": "code",
   "execution_count": null,
   "id": "62c26bc0",
   "metadata": {},
   "outputs": [],
   "source": []
  }
 ],
 "metadata": {
  "kernelspec": {
   "display_name": "Python 3 (ipykernel)",
   "language": "python",
   "name": "python3"
  },
  "language_info": {
   "codemirror_mode": {
    "name": "ipython",
    "version": 3
   },
   "file_extension": ".py",
   "mimetype": "text/x-python",
   "name": "python",
   "nbconvert_exporter": "python",
   "pygments_lexer": "ipython3",
   "version": "3.11.4"
  }
 },
 "nbformat": 4,
 "nbformat_minor": 5
}
