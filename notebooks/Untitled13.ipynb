{
 "cells": [
  {
   "cell_type": "code",
   "execution_count": 1,
   "id": "8e7310e4",
   "metadata": {
    "scrolled": true
   },
   "outputs": [
    {
     "name": "stdout",
     "output_type": "stream",
     "text": [
      "<KeysViewHDF5 ['Ag_planck13', 'Ag_sfd98', 'Ai_planck13', 'Ai_sfd98', 'Ar_planck13', 'Ar_sfd98', 'Az_planck13', 'Az_sfd98', 'DEC', 'FLAGS_FOREGROUND', 'FLUXERR_AUTO_G', 'FLUXERR_AUTO_G_DERED_PLANCK13', 'FLUXERR_AUTO_G_DERED_SFD98', 'FLUXERR_AUTO_I', 'FLUXERR_AUTO_I_DERED_PLANCK13', 'FLUXERR_AUTO_I_DERED_SFD98', 'FLUXERR_AUTO_R', 'FLUXERR_AUTO_R_DERED_PLANCK13', 'FLUXERR_AUTO_R_DERED_SFD98', 'FLUXERR_AUTO_Z', 'FLUXERR_AUTO_Z_DERED_PLANCK13', 'FLUXERR_AUTO_Z_DERED_SFD98', 'FLUX_AUTO_G', 'FLUX_AUTO_G_DERED_PLANCK13', 'FLUX_AUTO_G_DERED_SFD98', 'FLUX_AUTO_I', 'FLUX_AUTO_I_DERED_PLANCK13', 'FLUX_AUTO_I_DERED_SFD98', 'FLUX_AUTO_R', 'FLUX_AUTO_R_DERED_PLANCK13', 'FLUX_AUTO_R_DERED_SFD98', 'FLUX_AUTO_Z', 'FLUX_AUTO_Z_DERED_PLANCK13', 'FLUX_AUTO_Z_DERED_SFD98', 'FLUX_RADIUS_G', 'FLUX_RADIUS_I', 'FLUX_RADIUS_R', 'FLUX_RADIUS_Z', 'Ncutouts_raw', 'RA', 'badfrac', 'id', 'mcal_T_1m', 'mcal_T_1p', 'mcal_T_2m', 'mcal_T_2p', 'mcal_T_noshear', 'mcal_T_ratio_1m', 'mcal_T_ratio_1p', 'mcal_T_ratio_2m', 'mcal_T_ratio_2p', 'mcal_T_ratio_noshear', 'mcal_flags', 'mcal_flux_1m', 'mcal_flux_1m_dered_planck13', 'mcal_flux_1m_dered_sfd98', 'mcal_flux_1p', 'mcal_flux_1p_dered_planck13', 'mcal_flux_1p_dered_sfd98', 'mcal_flux_2m', 'mcal_flux_2m_dered_planck13', 'mcal_flux_2m_dered_sfd98', 'mcal_flux_2p', 'mcal_flux_2p_dered_planck13', 'mcal_flux_2p_dered_sfd98', 'mcal_flux_err_1m', 'mcal_flux_err_1m_dered_planck13', 'mcal_flux_err_1m_dered_sfd98', 'mcal_flux_err_1p', 'mcal_flux_err_1p_dered_planck13', 'mcal_flux_err_1p_dered_sfd98', 'mcal_flux_err_2m', 'mcal_flux_err_2m_dered_planck13', 'mcal_flux_err_2m_dered_sfd98', 'mcal_flux_err_2p', 'mcal_flux_err_2p_dered_planck13', 'mcal_flux_err_2p_dered_sfd98', 'mcal_flux_err_noshear', 'mcal_flux_err_noshear_dered_planck13', 'mcal_flux_err_noshear_dered_sfd98', 'mcal_flux_noshear', 'mcal_flux_noshear_dered_planck13', 'mcal_flux_noshear_dered_sfd98', 'mcal_g_1m', 'mcal_g_1p', 'mcal_g_2m', 'mcal_g_2p', 'mcal_g_cov_1m', 'mcal_g_cov_1p', 'mcal_g_cov_2m', 'mcal_g_cov_2p', 'mcal_g_cov_noshear', 'mcal_g_noshear', 'mcal_g_w', 'mcal_psf_T_noshear', 'mcal_psf_g_noshear', 'mcal_s2n_1m', 'mcal_s2n_1p', 'mcal_s2n_2m', 'mcal_s2n_2p', 'mcal_s2n_noshear', 'x', 'y']>\n"
     ]
    }
   ],
   "source": [
    "import sys\n",
    "sys.path.append(\"/home/raulteixeira/repos/CSPZ/scripts/\")\n",
    "import NoiseSOM as ns\n",
    "import numpy as np\n",
    "import pandas as pd\n",
    "import h5py\n",
    "import matplotlib.pyplot as plt\n",
    "import scipy\n",
    "import sys\n",
    "import time\n",
    "start_time = time.time()\n",
    "np.random.seed(42)\n",
    "indices = np.random.choice(int(1e8), size=int(1e6), replace=False)\n",
    "\n",
    "def flux2mag(flux):\n",
    "    return -2.5 * np.log10(flux) + 30\n",
    "\n",
    "\n",
    "with h5py.File('/project/chihway/data/decade/metacal_gold_combined_20231212.hdf') as f:\n",
    "    print(f.keys())\n",
    "    #flux_r, flux_i, flux_z = np.array(f['mcal_flux_noshear_dered_sfd98']).T[:,indices]\n",
    "#     flux_err_r, flux_err_i, flux_err_z = np.array(f['mcal_flux_err_noshear_dered_sfd98']).T[:,indices]\n",
    "    \n",
    "#     #These are the fluxes with all metacal cuts applied\n",
    "#     flux_r = flux_r\n",
    "#     flux_i = flux_i\n",
    "#     flux_z = flux_z\n",
    "#     flux_err_r = flux_err_r\n",
    "#     flux_err_i = flux_err_i\n",
    "#     flux_err_z = flux_err_z\n",
    "\n",
    "# fluxes_d = np.array([flux_r, flux_i, flux_z]).T\n",
    "# fluxerrs_d = np.array([flux_err_r, flux_err_i, flux_err_z]).T\n",
    "\n",
    "# bands = ['r', 'i', 'z']\n",
    "\n",
    "# cols = [f'flux_{band}' for band in bands]+[f'flux_err_{band}' for band in bands]\n",
    "# df = pd.DataFrame(np.hstack([fluxes_d, fluxerrs_d]), columns=cols)\n",
    "\n",
    "# mags_d = np.zeros((len(df),len(bands)))\n",
    "# magerrs_d = np.zeros((len(df),len(bands)))\n",
    "\n",
    "# for i,band in enumerate(bands):\n",
    "#     print(i,band)\n",
    "#     mags_d[:,i] = flux2mag(fluxes_d[:,i])"
   ]
  },
  {
   "cell_type": "code",
   "execution_count": null,
   "id": "f8f8c24f",
   "metadata": {},
   "outputs": [],
   "source": []
  },
  {
   "cell_type": "code",
   "execution_count": 24,
   "id": "9d37ebd1",
   "metadata": {},
   "outputs": [],
   "source": [
    "colors = np.zeros((len(fluxes_d),len(bands)-1))\n",
    "for i in range(len(bands)-1):\n",
    "    colors[:,i] = mags_d[:,i] - mags_d[:,i+1]"
   ]
  },
  {
   "cell_type": "code",
   "execution_count": 25,
   "id": "16ff9585",
   "metadata": {},
   "outputs": [
    {
     "data": {
      "text/plain": [
       "921721"
      ]
     },
     "execution_count": 25,
     "metadata": {},
     "output_type": "execute_result"
    }
   ],
   "source": [
    "normal_colors = np.mean(colors > -1, axis=1) == 1\n",
    "normal_colors.sum()"
   ]
  },
  {
   "cell_type": "code",
   "execution_count": 28,
   "id": "80085f29",
   "metadata": {},
   "outputs": [
    {
     "data": {
      "text/plain": [
       "(1000000, 3)"
      ]
     },
     "execution_count": 28,
     "metadata": {},
     "output_type": "execute_result"
    }
   ],
   "source": [
    "fluxes_d.shape"
   ]
  },
  {
   "cell_type": "code",
   "execution_count": 4,
   "id": "49da5059",
   "metadata": {},
   "outputs": [],
   "source": [
    "with h5py.File('/project/chihway/data/decade/metacal_gold_combined_mask_20231212.hdf') as f:\n",
    "    Mask = np.array(f['baseline_mcal_mask_noshear'])"
   ]
  },
  {
   "cell_type": "code",
   "execution_count": 8,
   "id": "e3b2f866",
   "metadata": {},
   "outputs": [
    {
     "data": {
      "text/plain": [
       "108904669"
      ]
     },
     "execution_count": 8,
     "metadata": {},
     "output_type": "execute_result"
    }
   ],
   "source": [
    "Mask.sum()"
   ]
  },
  {
   "cell_type": "code",
   "execution_count": null,
   "id": "278a43ee",
   "metadata": {},
   "outputs": [],
   "source": []
  },
  {
   "cell_type": "code",
   "execution_count": 16,
   "id": "0a8757a7",
   "metadata": {},
   "outputs": [
    {
     "data": {
      "text/plain": [
       "array([45300403, 90756616, 85566921, ..., 99495751, 44753758, 79779839])"
      ]
     },
     "execution_count": 16,
     "metadata": {},
     "output_type": "execute_result"
    }
   ],
   "source": [
    "indices"
   ]
  },
  {
   "cell_type": "code",
   "execution_count": null,
   "id": "e7bbd1b3",
   "metadata": {},
   "outputs": [],
   "source": []
  }
 ],
 "metadata": {
  "kernelspec": {
   "display_name": "Python 3 (ipykernel)",
   "language": "python",
   "name": "python3"
  },
  "language_info": {
   "codemirror_mode": {
    "name": "ipython",
    "version": 3
   },
   "file_extension": ".py",
   "mimetype": "text/x-python",
   "name": "python",
   "nbconvert_exporter": "python",
   "pygments_lexer": "ipython3",
   "version": "3.11.4"
  }
 },
 "nbformat": 4,
 "nbformat_minor": 5
}
