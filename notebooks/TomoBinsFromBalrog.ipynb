{
 "cells": [
  {
   "cell_type": "code",
   "execution_count": 1,
   "id": "da254b99",
   "metadata": {},
   "outputs": [],
   "source": [
    "n_wide = 26\n",
    "n_deep = 48"
   ]
  },
  {
   "cell_type": "code",
   "execution_count": 2,
   "id": "c2bb673d",
   "metadata": {},
   "outputs": [],
   "source": [
    "import numpy as np\n",
    "import h5py\n",
    "import time\n",
    "import pandas as pd\n",
    "import matplotlib.pyplot as plt\n",
    "import glob\n",
    "import scipy\n",
    "import pickle as pkl\n",
    "import matplotlib as mpl\n",
    "from astropy.coordinates import SkyCoord\n",
    "from astropy import units as u"
   ]
  },
  {
   "cell_type": "code",
   "execution_count": 3,
   "id": "4fcf5386",
   "metadata": {},
   "outputs": [],
   "source": [
    "def flux2mag(flux):\n",
    "    return -2.5 * np.log10(flux) + 30\n",
    "\n",
    "balrog_term = np.load('/project/chihway/raulteixeira/data/BalrogTerm_v02_29072023.npy')\n",
    "wide = pd.read_csv('/project/chihway/raulteixeira/data/BalorgOfTheDECADE_v01_29072023_cells_wide_26x26.csv.gz')\n",
    "deep = pd.read_csv('/project/chihway/raulteixeira/data/deep_fields_nice_n_z.csv.gz')\n",
    "wide_deep = pd.read_csv('/project/chihway/raulteixeira/data/BalorgOfTheDECADE_v01_29072023_cells_wide_deep_26x26.csv.gz')\n",
    "\n",
    "wide['ID']=wide.coadd_object_id\n",
    "wide_deep['wide_cells']=wide_deep.cells_x\n",
    "wide_deep['deep_cells']=wide_deep.cells_y"
   ]
  },
  {
   "cell_type": "code",
   "execution_count": 4,
   "id": "edb5e57b",
   "metadata": {
    "scrolled": true
   },
   "outputs": [],
   "source": [
    "fun = 'len'\n",
    "feat = 'ID'\n",
    "square_len_deep = deep[[feat, 'cells']].groupby('cells').agg(['mean', 'median', 'std', len])\n",
    "\n",
    "counts_deep = square_len_deep[(feat, fun)].values\n",
    "\n",
    "square_len_wide = wide[[feat, 'cells']].groupby('cells').agg(['mean', 'median', 'std', len])\n",
    "\n",
    "counts_wide = square_len_wide[(feat, fun)].values"
   ]
  },
  {
   "cell_type": "code",
   "execution_count": 5,
   "id": "29d913ff",
   "metadata": {},
   "outputs": [],
   "source": [
    "p_c = counts_deep/np.sum(counts_deep) #note this p_c is the probability for all galaxies in the deep field catalog\n",
    "                     #QUESTION: When balrog is done, will this be the same as the p_c in SOM_D2W_balrog.ipynb?\n",
    "    \n",
    "p_c_hat = counts_wide/np.sum(counts_wide)"
   ]
  },
  {
   "cell_type": "code",
   "execution_count": 6,
   "id": "3277da44",
   "metadata": {},
   "outputs": [],
   "source": [
    "# multiplying p_c, balrog_term, and p_c_hat"
   ]
  },
  {
   "cell_type": "code",
   "execution_count": 7,
   "id": "fada2c24",
   "metadata": {},
   "outputs": [],
   "source": [
    "joint_cell_weight = p_c * balrog_term * p_c_hat[:,None]"
   ]
  },
  {
   "cell_type": "code",
   "execution_count": 8,
   "id": "e9063c54",
   "metadata": {
    "scrolled": true
   },
   "outputs": [
    {
     "data": {
      "text/plain": [
       "array([[0.        , 0.        , 0.        , ..., 0.        , 0.        ,\n",
       "        0.        ],\n",
       "       [0.        , 0.        , 0.        , ..., 0.        , 0.        ,\n",
       "        0.        ],\n",
       "       [0.        , 0.        , 0.        , ..., 0.        , 0.        ,\n",
       "        0.        ],\n",
       "       ...,\n",
       "       [0.00985289, 0.        , 0.00985289, ..., 0.        , 0.        ,\n",
       "        0.        ],\n",
       "       [0.        , 0.        , 0.        , ..., 0.        , 0.        ,\n",
       "        0.        ],\n",
       "       [0.02669501, 0.        , 0.05339002, ..., 0.        , 0.        ,\n",
       "        0.        ]])"
      ]
     },
     "execution_count": 8,
     "metadata": {},
     "output_type": "execute_result"
    }
   ],
   "source": [
    "joint_cell_weight"
   ]
  },
  {
   "cell_type": "code",
   "execution_count": 9,
   "id": "09f9e193",
   "metadata": {},
   "outputs": [],
   "source": [
    "def func(df):\n",
    "    \"\"\"\n",
    "    returns numpy array of dataframe given\n",
    "    \"\"\"\n",
    "    col = df\n",
    "    return list(np.array(df))"
   ]
  },
  {
   "cell_type": "code",
   "execution_count": 10,
   "id": "3dc30ba1",
   "metadata": {},
   "outputs": [],
   "source": [
    "def hist(a):\n",
    "    return list(np.histogram(a, bins=np.linspace(0,2,30), density=False)[0])"
   ]
  },
  {
   "cell_type": "code",
   "execution_count": 11,
   "id": "ce30040b",
   "metadata": {},
   "outputs": [],
   "source": [
    "fun = 'len'\n",
    "feat = 'Z'\n",
    "cell_z = deep[[feat, 'cells']].groupby('cells').agg(func=hist)\n",
    "\n",
    "#counts_deep = square_len_deep[(feat, fun)].values"
   ]
  },
  {
   "cell_type": "code",
   "execution_count": 12,
   "id": "5a6d8752",
   "metadata": {},
   "outputs": [
    {
     "data": {
      "text/html": [
       "<div>\n",
       "<style scoped>\n",
       "    .dataframe tbody tr th:only-of-type {\n",
       "        vertical-align: middle;\n",
       "    }\n",
       "\n",
       "    .dataframe tbody tr th {\n",
       "        vertical-align: top;\n",
       "    }\n",
       "\n",
       "    .dataframe thead th {\n",
       "        text-align: right;\n",
       "    }\n",
       "</style>\n",
       "<table border=\"1\" class=\"dataframe\">\n",
       "  <thead>\n",
       "    <tr style=\"text-align: right;\">\n",
       "      <th></th>\n",
       "      <th>Z</th>\n",
       "    </tr>\n",
       "    <tr>\n",
       "      <th>cells</th>\n",
       "      <th></th>\n",
       "    </tr>\n",
       "  </thead>\n",
       "  <tbody>\n",
       "    <tr>\n",
       "      <th>0</th>\n",
       "      <td>[7, 7, 8, 8, 10, 7, 3, 6, 11, 13, 20, 4, 6, 2,...</td>\n",
       "    </tr>\n",
       "    <tr>\n",
       "      <th>1</th>\n",
       "      <td>[1, 0, 1, 1, 2, 0, 4, 2, 3, 2, 4, 1, 0, 3, 5, ...</td>\n",
       "    </tr>\n",
       "    <tr>\n",
       "      <th>2</th>\n",
       "      <td>[1, 1, 0, 1, 0, 1, 0, 3, 4, 2, 4, 7, 5, 6, 10,...</td>\n",
       "    </tr>\n",
       "    <tr>\n",
       "      <th>3</th>\n",
       "      <td>[1, 0, 0, 0, 0, 0, 0, 1, 2, 4, 9, 13, 9, 12, 1...</td>\n",
       "    </tr>\n",
       "    <tr>\n",
       "      <th>4</th>\n",
       "      <td>[0, 1, 0, 0, 2, 0, 0, 1, 0, 0, 8, 20, 9, 13, 1...</td>\n",
       "    </tr>\n",
       "    <tr>\n",
       "      <th>...</th>\n",
       "      <td>...</td>\n",
       "    </tr>\n",
       "    <tr>\n",
       "      <th>2299</th>\n",
       "      <td>[0, 0, 0, 0, 0, 1, 0, 0, 0, 1, 6, 11, 9, 8, 0,...</td>\n",
       "    </tr>\n",
       "    <tr>\n",
       "      <th>2300</th>\n",
       "      <td>[0, 0, 0, 0, 0, 0, 0, 0, 0, 1, 8, 7, 3, 1, 0, ...</td>\n",
       "    </tr>\n",
       "    <tr>\n",
       "      <th>2301</th>\n",
       "      <td>[0, 0, 0, 0, 0, 0, 0, 0, 0, 2, 4, 11, 3, 0, 0,...</td>\n",
       "    </tr>\n",
       "    <tr>\n",
       "      <th>2302</th>\n",
       "      <td>[0, 0, 0, 0, 0, 0, 0, 0, 2, 2, 6, 16, 8, 0, 0,...</td>\n",
       "    </tr>\n",
       "    <tr>\n",
       "      <th>2303</th>\n",
       "      <td>[0, 0, 0, 0, 0, 0, 0, 0, 3, 0, 3, 4, 16, 8, 2,...</td>\n",
       "    </tr>\n",
       "  </tbody>\n",
       "</table>\n",
       "<p>2304 rows × 1 columns</p>\n",
       "</div>"
      ],
      "text/plain": [
       "                                                       Z\n",
       "cells                                                   \n",
       "0      [7, 7, 8, 8, 10, 7, 3, 6, 11, 13, 20, 4, 6, 2,...\n",
       "1      [1, 0, 1, 1, 2, 0, 4, 2, 3, 2, 4, 1, 0, 3, 5, ...\n",
       "2      [1, 1, 0, 1, 0, 1, 0, 3, 4, 2, 4, 7, 5, 6, 10,...\n",
       "3      [1, 0, 0, 0, 0, 0, 0, 1, 2, 4, 9, 13, 9, 12, 1...\n",
       "4      [0, 1, 0, 0, 2, 0, 0, 1, 0, 0, 8, 20, 9, 13, 1...\n",
       "...                                                  ...\n",
       "2299   [0, 0, 0, 0, 0, 1, 0, 0, 0, 1, 6, 11, 9, 8, 0,...\n",
       "2300   [0, 0, 0, 0, 0, 0, 0, 0, 0, 1, 8, 7, 3, 1, 0, ...\n",
       "2301   [0, 0, 0, 0, 0, 0, 0, 0, 0, 2, 4, 11, 3, 0, 0,...\n",
       "2302   [0, 0, 0, 0, 0, 0, 0, 0, 2, 2, 6, 16, 8, 0, 0,...\n",
       "2303   [0, 0, 0, 0, 0, 0, 0, 0, 3, 0, 3, 4, 16, 8, 2,...\n",
       "\n",
       "[2304 rows x 1 columns]"
      ]
     },
     "execution_count": 12,
     "metadata": {},
     "output_type": "execute_result"
    }
   ],
   "source": [
    "cell_z"
   ]
  },
  {
   "cell_type": "code",
   "execution_count": 13,
   "id": "bfd0af04",
   "metadata": {},
   "outputs": [
    {
     "data": {
      "text/plain": [
       "2284"
      ]
     },
     "execution_count": 13,
     "metadata": {},
     "output_type": "execute_result"
    }
   ],
   "source": [
    "np.unique(deep[np.isfinite(deep['Z'])].cells.values).size"
   ]
  },
  {
   "cell_type": "code",
   "execution_count": 14,
   "id": "d2ee22f7",
   "metadata": {},
   "outputs": [],
   "source": [
    "rangedeep = np.arange(0, n_deep**2)"
   ]
  },
  {
   "cell_type": "code",
   "execution_count": 15,
   "id": "69f5e4fe",
   "metadata": {},
   "outputs": [],
   "source": [
    "missing_indices = rangedeep[~np.isin(rangedeep, cell_z['Z'].index)]"
   ]
  },
  {
   "cell_type": "code",
   "execution_count": 16,
   "id": "257c4241",
   "metadata": {},
   "outputs": [
    {
     "data": {
      "text/plain": [
       "array([], dtype=int64)"
      ]
     },
     "execution_count": 16,
     "metadata": {},
     "output_type": "execute_result"
    }
   ],
   "source": [
    "missing_indices"
   ]
  },
  {
   "cell_type": "code",
   "execution_count": 17,
   "id": "5f857e5d",
   "metadata": {},
   "outputs": [
    {
     "data": {
      "text/plain": [
       "0.0"
      ]
     },
     "execution_count": 17,
     "metadata": {},
     "output_type": "execute_result"
    }
   ],
   "source": [
    "np.sum(p_c[missing_indices])"
   ]
  },
  {
   "cell_type": "code",
   "execution_count": 18,
   "id": "6cb47e5b",
   "metadata": {},
   "outputs": [],
   "source": [
    "p_z_c = np.array([cell_z['Z'][cell] for cell in cell_z['Z'].index])\n",
    "\n",
    "zero_mask = np.sum(p_z_c, axis=1)==0\n",
    "nonzero_indices = rangedeep[~zero_mask]\n",
    "\n",
    "p_z_c = p_z_c[nonzero_indices].astype('float64')\n",
    "p_z_c /= np.sum(p_z_c, axis=1)[:,None]"
   ]
  },
  {
   "cell_type": "code",
   "execution_count": 19,
   "id": "ed650f67",
   "metadata": {},
   "outputs": [],
   "source": [
    "p_z_c_hat = (joint_cell_weight[:,nonzero_indices]@p_z_c)"
   ]
  },
  {
   "cell_type": "code",
   "execution_count": 20,
   "id": "2c0f26f8",
   "metadata": {},
   "outputs": [
    {
     "data": {
      "text/plain": [
       "array([[1.19412470e-01, 1.47122521e-01, 2.75967874e-01, ...,\n",
       "        1.83916430e-01, 7.78406774e-02, 2.01724048e-01],\n",
       "       [1.23552152e-06, 9.01674065e-06, 1.54518556e-05, ...,\n",
       "        7.71830945e-07, 6.45244247e-07, 7.71830945e-07],\n",
       "       [2.37499806e-06, 2.60269350e-06, 1.69408377e-05, ...,\n",
       "        9.12795424e-06, 3.14298436e-06, 5.50374031e-06],\n",
       "       ...,\n",
       "       [2.43454235e-04, 3.46667085e-04, 5.35197503e-04, ...,\n",
       "        1.49447327e-03, 8.59026402e-04, 1.26267566e-03],\n",
       "       [4.41585448e-05, 1.76071389e-04, 2.25115126e-04, ...,\n",
       "        5.64992146e-05, 2.77201633e-05, 3.01790047e-05],\n",
       "       [1.50032636e-03, 2.47222015e-03, 2.52010636e-03, ...,\n",
       "        4.66838667e-03, 2.87512371e-03, 4.08238007e-03]])"
      ]
     },
     "execution_count": 20,
     "metadata": {},
     "output_type": "execute_result"
    }
   ],
   "source": [
    "p_z_c_hat"
   ]
  },
  {
   "cell_type": "code",
   "execution_count": 21,
   "id": "1fd04fe8",
   "metadata": {},
   "outputs": [
    {
     "data": {
      "text/plain": [
       "0"
      ]
     },
     "execution_count": 21,
     "metadata": {},
     "output_type": "execute_result"
    }
   ],
   "source": [
    "np.isnan(np.sum(p_z_c, axis=1)).sum()"
   ]
  },
  {
   "cell_type": "code",
   "execution_count": 22,
   "id": "16385d80",
   "metadata": {
    "scrolled": true
   },
   "outputs": [
    {
     "data": {
      "text/plain": [
       "Index(['Unnamed: 0.1', 'Unnamed: 0', 'Ai', 'Ar', 'Az', 'FLUX_i', 'FLUX_i_ERR',\n",
       "       'FLUX_r', 'FLUX_r_ERR', 'FLUX_z', 'FLUX_z_ERR', 'Truth_ind',\n",
       "       'coadd_object_id', 'd_arcsec', 'dec', 'detected', 'ra', 'true_FLUX_i',\n",
       "       'true_FLUX_r', 'true_FLUX_z', 'true_dec', 'true_ra', 'cells', 'ID'],\n",
       "      dtype='object')"
      ]
     },
     "execution_count": 22,
     "metadata": {},
     "output_type": "execute_result"
    }
   ],
   "source": [
    "wide.columns"
   ]
  },
  {
   "cell_type": "code",
   "execution_count": 23,
   "id": "20d9d70e",
   "metadata": {},
   "outputs": [],
   "source": [
    "wide_arr = np.load('/project/chihway/raulteixeira/data/BPZ+SOM_mcal_gold_wide_26x26_ids+cells+fluxes_TomoBins.npz')['arr_0']\n",
    "\n"
   ]
  },
  {
   "cell_type": "code",
   "execution_count": 24,
   "id": "615e8192",
   "metadata": {},
   "outputs": [],
   "source": [
    "wide = pd.DataFrame(wide_arr)"
   ]
  },
  {
   "cell_type": "code",
   "execution_count": 25,
   "id": "0dfc7e07",
   "metadata": {},
   "outputs": [
    {
     "data": {
      "text/plain": [
       "array([1, 4, 1, ..., 3, 2, 4])"
      ]
     },
     "execution_count": 25,
     "metadata": {},
     "output_type": "execute_result"
    }
   ],
   "source": [
    "wide_arr['TomoBin']"
   ]
  },
  {
   "cell_type": "code",
   "execution_count": 26,
   "id": "7bd63672",
   "metadata": {},
   "outputs": [],
   "source": [
    "Tomo_cells = np.load('/project/chihway/raulteixeira/data/TomoBins_cell_wide_26x26.npz')\n",
    "\n",
    "p_z_c_hat[Tomo_cells[f'bin0_cells']].sum(axis=0).shape\n",
    "\n",
    "p_z_c_hat_bins = [np.sum(p_z_c_hat[Tomo_cells[f'bin{i}_cells']], axis=0) for i in range(4)]"
   ]
  },
  {
   "cell_type": "code",
   "execution_count": 29,
   "id": "8e02ec4c",
   "metadata": {},
   "outputs": [
    {
     "data": {
      "text/plain": [
       "[0.46856633258545066,\n",
       " 0.7394049976231342,\n",
       " 0.8789209738509907,\n",
       " 0.9186412993602125]"
      ]
     },
     "execution_count": 29,
     "metadata": {},
     "output_type": "execute_result"
    }
   ],
   "source": [
    "[np.sum(p_z_c_hat_bins[i]/np.sum(p_z_c_hat_bins[i]) * np.linspace(0, 2, 30)[:-1]) for i in range(4)]"
   ]
  },
  {
   "cell_type": "code",
   "execution_count": 30,
   "id": "0a542de2",
   "metadata": {
    "scrolled": false
   },
   "outputs": [
    {
     "data": {
      "image/png": "[encoded data removed]",
      "text/plain": [
       "<Figure size 640x480 with 1 Axes>"
      ]
     },
     "metadata": {},
     "output_type": "display_data"
    }
   ],
   "source": [
    "plt.figure()\n",
    "plt.xlabel('z')\n",
    "plt.ylabel('probability')\n",
    "for i in range(4):\n",
    "    plt.plot(np.linspace(0, 2, 30)[:-1], p_z_c_hat_bins[i]/np.sum(p_z_c_hat_bins[i]))\n",
    "plt.show()"
   ]
  },
  {
   "cell_type": "code",
   "execution_count": 31,
   "id": "37826964",
   "metadata": {},
   "outputs": [],
   "source": [
    "# make SOM plot of mean redshift of each cell according to deepfields+balrog\n",
    "# three panels: BPZ, deepfields+balrog, difference"
   ]
  },
  {
   "cell_type": "code",
   "execution_count": 32,
   "id": "c34e007a",
   "metadata": {},
   "outputs": [
    {
     "name": "stderr",
     "output_type": "stream",
     "text": [
      "/tmp/jobs/30179261/ipykernel_150954/3623405601.py:1: RuntimeWarning: invalid value encountered in divide\n",
      "  p_z_c_hat_n  = p_z_c_hat/np.sum(p_z_c_hat, axis=1)[:,None]\n"
     ]
    }
   ],
   "source": [
    "p_z_c_hat_n  = p_z_c_hat/np.sum(p_z_c_hat, axis=1)[:,None]"
   ]
  },
  {
   "cell_type": "code",
   "execution_count": 33,
   "id": "096d56e2",
   "metadata": {},
   "outputs": [],
   "source": [
    "#p_z_c_hat_n = np.where(np.sum(p_z_c_hat, axis=1)>0, p_z_c_hat/np.sum(p_z_c_hat, axis=1)[:,None], 0)"
   ]
  },
  {
   "cell_type": "code",
   "execution_count": 34,
   "id": "1bdb3e68",
   "metadata": {
    "scrolled": false
   },
   "outputs": [
    {
     "data": {
      "text/plain": [
       "<matplotlib.colorbar.Colorbar at 0x7f5095c54d90>"
      ]
     },
     "execution_count": 34,
     "metadata": {},
     "output_type": "execute_result"
    },
    {
     "data": {
      "image/png": "[encoded data removed]",
      "text/plain": [
       "<Figure size 640x480 with 2 Axes>"
      ]
     },
     "metadata": {},
     "output_type": "display_data"
    }
   ],
   "source": [
    "plt.title('mean redshift of each wide cell')\n",
    "zs_ = np.linspace(0, 2, 30)\n",
    "zs = np.array([.5*(zs_[i]+zs_[i+1]) for i in range(29)])\n",
    "plt.imshow(np.sum((p_z_c_hat_n*zs), axis=1).reshape(n_wide, n_wide))\n",
    "plt.colorbar()"
   ]
  },
  {
   "cell_type": "code",
   "execution_count": 150,
   "id": "f533a0cd",
   "metadata": {},
   "outputs": [
    {
     "data": {
      "text/plain": [
       "198"
      ]
     },
     "execution_count": 150,
     "metadata": {},
     "output_type": "execute_result"
    }
   ],
   "source": [
    "25+26*6+17"
   ]
  },
  {
   "cell_type": "code",
   "execution_count": 157,
   "id": "3b25d3bf",
   "metadata": {},
   "outputs": [
    {
     "data": {
      "image/png": "[encoded data removed]",
      "text/plain": [
       "<Figure size 640x480 with 2 Axes>"
      ]
     },
     "metadata": {},
     "output_type": "display_data"
    }
   ],
   "source": [
    "cmap='magma'\n",
    "fun = 'len'\n",
    "feat = 'Z_SAMP'\n",
    "vmin,vmax=None,None#-1,3\n",
    "norm=None\n",
    "title = 'mean sampled redshift'\n",
    "square = wide[[feat, 'cells']].groupby('cells').agg(['mean', 'median', 'std', len])\n",
    "im_z = square[(feat, fun)].values.reshape(n_wide,n_wide)\n",
    "image = plt.imshow(im_z, cmap=cmap, vmin=vmin, vmax=vmax, norm=norm)\n",
    "#divider = make_axes_locatable(axes[i,j])\n",
    "#cax = divider.append_axes('right', size='5%', pad=0.05)\n",
    "plt.colorbar(image, orientation='vertical') # cax=cax\n",
    "plt.title(f'{title}',style='italic')\n",
    "plt.show()"
   ]
  },
  {
   "cell_type": "code",
   "execution_count": 36,
   "id": "66c82dbe",
   "metadata": {},
   "outputs": [
    {
     "data": {
      "text/plain": [
       "Text(0.5, 1.0, 'Mean redshift of Wide cells')"
      ]
     },
     "execution_count": 36,
     "metadata": {},
     "output_type": "execute_result"
    },
    {
     "data": {
      "image/png": "[encoded data removed]",
      "text/plain": [
       "<Figure size 640x480 with 1 Axes>"
      ]
     },
     "metadata": {},
     "output_type": "display_data"
    }
   ],
   "source": [
    "plt.scatter(np.sum((p_z_c_hat_n*zs), axis=1), im_z.flatten())\n",
    "plt.xlim(0,1.4)\n",
    "plt.ylim(0,1.4)\n",
    "plt.plot([0,1.4],[0,1.4], c='red')\n",
    "plt.xlabel('SOMPZ')\n",
    "plt.ylabel('BPZ')\n",
    "plt.title('Mean redshift of Wide cells')"
   ]
  },
  {
   "cell_type": "code",
   "execution_count": 37,
   "id": "ac96e31d",
   "metadata": {},
   "outputs": [],
   "source": [
    "# questions\n",
    "    # look at the deep field colors of outlier cells (verify they have similar colors)\n",
    "    # (see if we have high redshift and low redshift with same wide colors)\n",
    "# compare balrog fluxes to DF fluxes"
   ]
  },
  {
   "cell_type": "code",
   "execution_count": 161,
   "id": "e33fc1f3",
   "metadata": {},
   "outputs": [],
   "source": [
    "test21 = wide_deep[wide_deep['wide_cells']==21]"
   ]
  },
  {
   "cell_type": "code",
   "execution_count": 162,
   "id": "654a9757",
   "metadata": {},
   "outputs": [
    {
     "data": {
      "text/html": [
       "<div>\n",
       "<style scoped>\n",
       "    .dataframe tbody tr th:only-of-type {\n",
       "        vertical-align: middle;\n",
       "    }\n",
       "\n",
       "    .dataframe tbody tr th {\n",
       "        vertical-align: top;\n",
       "    }\n",
       "\n",
       "    .dataframe thead th {\n",
       "        text-align: right;\n",
       "    }\n",
       "</style>\n",
       "<table border=\"1\" class=\"dataframe\">\n",
       "  <thead>\n",
       "    <tr style=\"text-align: right;\">\n",
       "      <th></th>\n",
       "      <th>Unnamed: 0</th>\n",
       "      <th>Unnamed: 0_x</th>\n",
       "      <th>Ai</th>\n",
       "      <th>Ar</th>\n",
       "      <th>Az</th>\n",
       "      <th>FLUX_i</th>\n",
       "      <th>FLUX_i_ERR</th>\n",
       "      <th>FLUX_r</th>\n",
       "      <th>FLUX_r_ERR</th>\n",
       "      <th>FLUX_z</th>\n",
       "      <th>...</th>\n",
       "      <th>j-i</th>\n",
       "      <th>h-i</th>\n",
       "      <th>ks-i</th>\n",
       "      <th>zspec</th>\n",
       "      <th>paus_z</th>\n",
       "      <th>cosmos_z</th>\n",
       "      <th>Z</th>\n",
       "      <th>good_Z</th>\n",
       "      <th>wide_cells</th>\n",
       "      <th>deep_cells</th>\n",
       "    </tr>\n",
       "  </thead>\n",
       "  <tbody>\n",
       "    <tr>\n",
       "      <th>799</th>\n",
       "      <td>799</td>\n",
       "      <td>799</td>\n",
       "      <td>0.0</td>\n",
       "      <td>0.0</td>\n",
       "      <td>0.0</td>\n",
       "      <td>1342.27420</td>\n",
       "      <td>79.076200</td>\n",
       "      <td>844.25200</td>\n",
       "      <td>29.291073</td>\n",
       "      <td>529.680360</td>\n",
       "      <td>...</td>\n",
       "      <td>-0.803398</td>\n",
       "      <td>-0.873154</td>\n",
       "      <td>-1.159466</td>\n",
       "      <td>0.790900</td>\n",
       "      <td>NaN</td>\n",
       "      <td>NaN</td>\n",
       "      <td>0.790900</td>\n",
       "      <td>0.790900</td>\n",
       "      <td>21</td>\n",
       "      <td>302.0</td>\n",
       "    </tr>\n",
       "    <tr>\n",
       "      <th>1053</th>\n",
       "      <td>1053</td>\n",
       "      <td>1053</td>\n",
       "      <td>0.0</td>\n",
       "      <td>0.0</td>\n",
       "      <td>0.0</td>\n",
       "      <td>1086.22600</td>\n",
       "      <td>69.455860</td>\n",
       "      <td>766.22906</td>\n",
       "      <td>34.078907</td>\n",
       "      <td>655.510600</td>\n",
       "      <td>...</td>\n",
       "      <td>-0.266191</td>\n",
       "      <td>-0.360846</td>\n",
       "      <td>-0.418060</td>\n",
       "      <td>0.521761</td>\n",
       "      <td>NaN</td>\n",
       "      <td>NaN</td>\n",
       "      <td>0.521761</td>\n",
       "      <td>0.521761</td>\n",
       "      <td>21</td>\n",
       "      <td>714.0</td>\n",
       "    </tr>\n",
       "    <tr>\n",
       "      <th>2051</th>\n",
       "      <td>2051</td>\n",
       "      <td>2051</td>\n",
       "      <td>0.0</td>\n",
       "      <td>0.0</td>\n",
       "      <td>0.0</td>\n",
       "      <td>380.66687</td>\n",
       "      <td>35.368694</td>\n",
       "      <td>269.82712</td>\n",
       "      <td>15.933167</td>\n",
       "      <td>295.249100</td>\n",
       "      <td>...</td>\n",
       "      <td>-0.357959</td>\n",
       "      <td>-1.046522</td>\n",
       "      <td>-0.933430</td>\n",
       "      <td>NaN</td>\n",
       "      <td>NaN</td>\n",
       "      <td>NaN</td>\n",
       "      <td>NaN</td>\n",
       "      <td>NaN</td>\n",
       "      <td>21</td>\n",
       "      <td>288.0</td>\n",
       "    </tr>\n",
       "    <tr>\n",
       "      <th>2068</th>\n",
       "      <td>2068</td>\n",
       "      <td>2068</td>\n",
       "      <td>0.0</td>\n",
       "      <td>0.0</td>\n",
       "      <td>0.0</td>\n",
       "      <td>930.10050</td>\n",
       "      <td>91.039660</td>\n",
       "      <td>604.50750</td>\n",
       "      <td>25.502459</td>\n",
       "      <td>114.582610</td>\n",
       "      <td>...</td>\n",
       "      <td>-0.796417</td>\n",
       "      <td>-0.649098</td>\n",
       "      <td>-0.492191</td>\n",
       "      <td>NaN</td>\n",
       "      <td>NaN</td>\n",
       "      <td>NaN</td>\n",
       "      <td>NaN</td>\n",
       "      <td>NaN</td>\n",
       "      <td>21</td>\n",
       "      <td>97.0</td>\n",
       "    </tr>\n",
       "    <tr>\n",
       "      <th>2660</th>\n",
       "      <td>2660</td>\n",
       "      <td>2660</td>\n",
       "      <td>0.0</td>\n",
       "      <td>0.0</td>\n",
       "      <td>0.0</td>\n",
       "      <td>581.18590</td>\n",
       "      <td>79.448160</td>\n",
       "      <td>395.27026</td>\n",
       "      <td>34.770190</td>\n",
       "      <td>-5.130633</td>\n",
       "      <td>...</td>\n",
       "      <td>-0.242349</td>\n",
       "      <td>-0.227258</td>\n",
       "      <td>-0.367396</td>\n",
       "      <td>NaN</td>\n",
       "      <td>NaN</td>\n",
       "      <td>0.257222</td>\n",
       "      <td>0.257222</td>\n",
       "      <td>NaN</td>\n",
       "      <td>21</td>\n",
       "      <td>41.0</td>\n",
       "    </tr>\n",
       "    <tr>\n",
       "      <th>...</th>\n",
       "      <td>...</td>\n",
       "      <td>...</td>\n",
       "      <td>...</td>\n",
       "      <td>...</td>\n",
       "      <td>...</td>\n",
       "      <td>...</td>\n",
       "      <td>...</td>\n",
       "      <td>...</td>\n",
       "      <td>...</td>\n",
       "      <td>...</td>\n",
       "      <td>...</td>\n",
       "      <td>...</td>\n",
       "      <td>...</td>\n",
       "      <td>...</td>\n",
       "      <td>...</td>\n",
       "      <td>...</td>\n",
       "      <td>...</td>\n",
       "      <td>...</td>\n",
       "      <td>...</td>\n",
       "      <td>...</td>\n",
       "      <td>...</td>\n",
       "    </tr>\n",
       "    <tr>\n",
       "      <th>116229</th>\n",
       "      <td>116229</td>\n",
       "      <td>116229</td>\n",
       "      <td>0.0</td>\n",
       "      <td>0.0</td>\n",
       "      <td>0.0</td>\n",
       "      <td>1309.64990</td>\n",
       "      <td>55.302456</td>\n",
       "      <td>877.93100</td>\n",
       "      <td>39.690130</td>\n",
       "      <td>724.958900</td>\n",
       "      <td>...</td>\n",
       "      <td>-0.328858</td>\n",
       "      <td>-0.501636</td>\n",
       "      <td>-0.595833</td>\n",
       "      <td>0.535500</td>\n",
       "      <td>0.535</td>\n",
       "      <td>0.541438</td>\n",
       "      <td>0.535500</td>\n",
       "      <td>0.535500</td>\n",
       "      <td>21</td>\n",
       "      <td>955.0</td>\n",
       "    </tr>\n",
       "    <tr>\n",
       "      <th>124078</th>\n",
       "      <td>124078</td>\n",
       "      <td>124078</td>\n",
       "      <td>0.0</td>\n",
       "      <td>0.0</td>\n",
       "      <td>0.0</td>\n",
       "      <td>924.21260</td>\n",
       "      <td>129.035310</td>\n",
       "      <td>646.07140</td>\n",
       "      <td>76.735245</td>\n",
       "      <td>523.219200</td>\n",
       "      <td>...</td>\n",
       "      <td>-0.392512</td>\n",
       "      <td>-0.510976</td>\n",
       "      <td>-0.475940</td>\n",
       "      <td>NaN</td>\n",
       "      <td>NaN</td>\n",
       "      <td>NaN</td>\n",
       "      <td>NaN</td>\n",
       "      <td>NaN</td>\n",
       "      <td>21</td>\n",
       "      <td>126.0</td>\n",
       "    </tr>\n",
       "    <tr>\n",
       "      <th>124597</th>\n",
       "      <td>124597</td>\n",
       "      <td>124597</td>\n",
       "      <td>0.0</td>\n",
       "      <td>0.0</td>\n",
       "      <td>0.0</td>\n",
       "      <td>493.69598</td>\n",
       "      <td>52.909782</td>\n",
       "      <td>312.12260</td>\n",
       "      <td>31.200970</td>\n",
       "      <td>125.544240</td>\n",
       "      <td>...</td>\n",
       "      <td>-0.324977</td>\n",
       "      <td>-0.441159</td>\n",
       "      <td>-0.412214</td>\n",
       "      <td>NaN</td>\n",
       "      <td>NaN</td>\n",
       "      <td>NaN</td>\n",
       "      <td>NaN</td>\n",
       "      <td>NaN</td>\n",
       "      <td>21</td>\n",
       "      <td>86.0</td>\n",
       "    </tr>\n",
       "    <tr>\n",
       "      <th>126121</th>\n",
       "      <td>126121</td>\n",
       "      <td>126121</td>\n",
       "      <td>0.0</td>\n",
       "      <td>0.0</td>\n",
       "      <td>0.0</td>\n",
       "      <td>580.03350</td>\n",
       "      <td>51.112990</td>\n",
       "      <td>428.96255</td>\n",
       "      <td>26.813715</td>\n",
       "      <td>353.242860</td>\n",
       "      <td>...</td>\n",
       "      <td>-0.334013</td>\n",
       "      <td>-0.314085</td>\n",
       "      <td>-0.531537</td>\n",
       "      <td>NaN</td>\n",
       "      <td>NaN</td>\n",
       "      <td>NaN</td>\n",
       "      <td>NaN</td>\n",
       "      <td>NaN</td>\n",
       "      <td>21</td>\n",
       "      <td>663.0</td>\n",
       "    </tr>\n",
       "    <tr>\n",
       "      <th>127964</th>\n",
       "      <td>127964</td>\n",
       "      <td>127964</td>\n",
       "      <td>0.0</td>\n",
       "      <td>0.0</td>\n",
       "      <td>0.0</td>\n",
       "      <td>590.81946</td>\n",
       "      <td>90.518715</td>\n",
       "      <td>367.65198</td>\n",
       "      <td>65.792780</td>\n",
       "      <td>334.979500</td>\n",
       "      <td>...</td>\n",
       "      <td>-1.380133</td>\n",
       "      <td>-1.766136</td>\n",
       "      <td>-2.059099</td>\n",
       "      <td>NaN</td>\n",
       "      <td>NaN</td>\n",
       "      <td>1.340725</td>\n",
       "      <td>1.340725</td>\n",
       "      <td>NaN</td>\n",
       "      <td>21</td>\n",
       "      <td>723.0</td>\n",
       "    </tr>\n",
       "  </tbody>\n",
       "</table>\n",
       "<p>151 rows × 67 columns</p>\n",
       "</div>"
      ],
      "text/plain": [
       "        Unnamed: 0  Unnamed: 0_x   Ai   Ar   Az      FLUX_i  FLUX_i_ERR  \\\n",
       "799            799           799  0.0  0.0  0.0  1342.27420   79.076200   \n",
       "1053          1053          1053  0.0  0.0  0.0  1086.22600   69.455860   \n",
       "2051          2051          2051  0.0  0.0  0.0   380.66687   35.368694   \n",
       "2068          2068          2068  0.0  0.0  0.0   930.10050   91.039660   \n",
       "2660          2660          2660  0.0  0.0  0.0   581.18590   79.448160   \n",
       "...            ...           ...  ...  ...  ...         ...         ...   \n",
       "116229      116229        116229  0.0  0.0  0.0  1309.64990   55.302456   \n",
       "124078      124078        124078  0.0  0.0  0.0   924.21260  129.035310   \n",
       "124597      124597        124597  0.0  0.0  0.0   493.69598   52.909782   \n",
       "126121      126121        126121  0.0  0.0  0.0   580.03350   51.112990   \n",
       "127964      127964        127964  0.0  0.0  0.0   590.81946   90.518715   \n",
       "\n",
       "           FLUX_r  FLUX_r_ERR      FLUX_z  ...       j-i       h-i      ks-i  \\\n",
       "799     844.25200   29.291073  529.680360  ... -0.803398 -0.873154 -1.159466   \n",
       "1053    766.22906   34.078907  655.510600  ... -0.266191 -0.360846 -0.418060   \n",
       "2051    269.82712   15.933167  295.249100  ... -0.357959 -1.046522 -0.933430   \n",
       "2068    604.50750   25.502459  114.582610  ... -0.796417 -0.649098 -0.492191   \n",
       "2660    395.27026   34.770190   -5.130633  ... -0.242349 -0.227258 -0.367396   \n",
       "...           ...         ...         ...  ...       ...       ...       ...   \n",
       "116229  877.93100   39.690130  724.958900  ... -0.328858 -0.501636 -0.595833   \n",
       "124078  646.07140   76.735245  523.219200  ... -0.392512 -0.510976 -0.475940   \n",
       "124597  312.12260   31.200970  125.544240  ... -0.324977 -0.441159 -0.412214   \n",
       "126121  428.96255   26.813715  353.242860  ... -0.334013 -0.314085 -0.531537   \n",
       "127964  367.65198   65.792780  334.979500  ... -1.380133 -1.766136 -2.059099   \n",
       "\n",
       "           zspec  paus_z  cosmos_z         Z    good_Z  wide_cells  deep_cells  \n",
       "799     0.790900     NaN       NaN  0.790900  0.790900          21       302.0  \n",
       "1053    0.521761     NaN       NaN  0.521761  0.521761          21       714.0  \n",
       "2051         NaN     NaN       NaN       NaN       NaN          21       288.0  \n",
       "2068         NaN     NaN       NaN       NaN       NaN          21        97.0  \n",
       "2660         NaN     NaN  0.257222  0.257222       NaN          21        41.0  \n",
       "...          ...     ...       ...       ...       ...         ...         ...  \n",
       "116229  0.535500   0.535  0.541438  0.535500  0.535500          21       955.0  \n",
       "124078       NaN     NaN       NaN       NaN       NaN          21       126.0  \n",
       "124597       NaN     NaN       NaN       NaN       NaN          21        86.0  \n",
       "126121       NaN     NaN       NaN       NaN       NaN          21       663.0  \n",
       "127964       NaN     NaN  1.340725  1.340725       NaN          21       723.0  \n",
       "\n",
       "[151 rows x 67 columns]"
      ]
     },
     "execution_count": 162,
     "metadata": {},
     "output_type": "execute_result"
    }
   ],
   "source": [
    "test21 "
   ]
  },
  {
   "cell_type": "code",
   "execution_count": 154,
   "id": "23fee503",
   "metadata": {},
   "outputs": [],
   "source": [
    "test197 = wide_deep[wide_deep['wide_cells']==197]"
   ]
  },
  {
   "cell_type": "code",
   "execution_count": 155,
   "id": "68201711",
   "metadata": {},
   "outputs": [
    {
     "data": {
      "text/html": [
       "<div>\n",
       "<style scoped>\n",
       "    .dataframe tbody tr th:only-of-type {\n",
       "        vertical-align: middle;\n",
       "    }\n",
       "\n",
       "    .dataframe tbody tr th {\n",
       "        vertical-align: top;\n",
       "    }\n",
       "\n",
       "    .dataframe thead th {\n",
       "        text-align: right;\n",
       "    }\n",
       "</style>\n",
       "<table border=\"1\" class=\"dataframe\">\n",
       "  <thead>\n",
       "    <tr style=\"text-align: right;\">\n",
       "      <th></th>\n",
       "      <th>Unnamed: 0</th>\n",
       "      <th>Unnamed: 0_x</th>\n",
       "      <th>Ai</th>\n",
       "      <th>Ar</th>\n",
       "      <th>Az</th>\n",
       "      <th>FLUX_i</th>\n",
       "      <th>FLUX_i_ERR</th>\n",
       "      <th>FLUX_r</th>\n",
       "      <th>FLUX_r_ERR</th>\n",
       "      <th>FLUX_z</th>\n",
       "      <th>...</th>\n",
       "      <th>j-i</th>\n",
       "      <th>h-i</th>\n",
       "      <th>ks-i</th>\n",
       "      <th>zspec</th>\n",
       "      <th>paus_z</th>\n",
       "      <th>cosmos_z</th>\n",
       "      <th>Z</th>\n",
       "      <th>good_Z</th>\n",
       "      <th>wide_cells</th>\n",
       "      <th>deep_cells</th>\n",
       "    </tr>\n",
       "  </thead>\n",
       "  <tbody>\n",
       "    <tr>\n",
       "      <th>67236</th>\n",
       "      <td>67236</td>\n",
       "      <td>67236</td>\n",
       "      <td>0.0</td>\n",
       "      <td>0.0</td>\n",
       "      <td>0.0</td>\n",
       "      <td>30498.105</td>\n",
       "      <td>80.57275</td>\n",
       "      <td>20900.1660</td>\n",
       "      <td>69.857544</td>\n",
       "      <td>36828.562</td>\n",
       "      <td>...</td>\n",
       "      <td>-0.701144</td>\n",
       "      <td>-0.993187</td>\n",
       "      <td>-1.269546</td>\n",
       "      <td>0.275800</td>\n",
       "      <td>NaN</td>\n",
       "      <td>NaN</td>\n",
       "      <td>0.275800</td>\n",
       "      <td>0.275800</td>\n",
       "      <td>197</td>\n",
       "      <td>1521.0</td>\n",
       "    </tr>\n",
       "    <tr>\n",
       "      <th>82766</th>\n",
       "      <td>82766</td>\n",
       "      <td>82766</td>\n",
       "      <td>0.0</td>\n",
       "      <td>0.0</td>\n",
       "      <td>0.0</td>\n",
       "      <td>46283.965</td>\n",
       "      <td>252.56170</td>\n",
       "      <td>33077.1700</td>\n",
       "      <td>146.574260</td>\n",
       "      <td>56018.203</td>\n",
       "      <td>...</td>\n",
       "      <td>-0.557521</td>\n",
       "      <td>-0.716790</td>\n",
       "      <td>-0.709297</td>\n",
       "      <td>0.138465</td>\n",
       "      <td>NaN</td>\n",
       "      <td>NaN</td>\n",
       "      <td>0.138465</td>\n",
       "      <td>0.138465</td>\n",
       "      <td>197</td>\n",
       "      <td>1376.0</td>\n",
       "    </tr>\n",
       "    <tr>\n",
       "      <th>99990</th>\n",
       "      <td>99990</td>\n",
       "      <td>99990</td>\n",
       "      <td>0.0</td>\n",
       "      <td>0.0</td>\n",
       "      <td>0.0</td>\n",
       "      <td>31923.379</td>\n",
       "      <td>270.22150</td>\n",
       "      <td>22685.2730</td>\n",
       "      <td>147.805900</td>\n",
       "      <td>38613.875</td>\n",
       "      <td>...</td>\n",
       "      <td>-0.507999</td>\n",
       "      <td>-0.665680</td>\n",
       "      <td>-0.622732</td>\n",
       "      <td>NaN</td>\n",
       "      <td>NaN</td>\n",
       "      <td>NaN</td>\n",
       "      <td>NaN</td>\n",
       "      <td>NaN</td>\n",
       "      <td>197</td>\n",
       "      <td>1329.0</td>\n",
       "    </tr>\n",
       "    <tr>\n",
       "      <th>105435</th>\n",
       "      <td>105435</td>\n",
       "      <td>105435</td>\n",
       "      <td>0.0</td>\n",
       "      <td>0.0</td>\n",
       "      <td>0.0</td>\n",
       "      <td>13002.437</td>\n",
       "      <td>110.32829</td>\n",
       "      <td>9008.8840</td>\n",
       "      <td>98.449990</td>\n",
       "      <td>16098.221</td>\n",
       "      <td>...</td>\n",
       "      <td>NaN</td>\n",
       "      <td>NaN</td>\n",
       "      <td>NaN</td>\n",
       "      <td>NaN</td>\n",
       "      <td>NaN</td>\n",
       "      <td>NaN</td>\n",
       "      <td>NaN</td>\n",
       "      <td>NaN</td>\n",
       "      <td>197</td>\n",
       "      <td>NaN</td>\n",
       "    </tr>\n",
       "    <tr>\n",
       "      <th>113469</th>\n",
       "      <td>113469</td>\n",
       "      <td>113469</td>\n",
       "      <td>0.0</td>\n",
       "      <td>0.0</td>\n",
       "      <td>0.0</td>\n",
       "      <td>23621.766</td>\n",
       "      <td>186.36842</td>\n",
       "      <td>16906.1970</td>\n",
       "      <td>178.744450</td>\n",
       "      <td>29288.960</td>\n",
       "      <td>...</td>\n",
       "      <td>-0.608372</td>\n",
       "      <td>-0.798786</td>\n",
       "      <td>-1.026311</td>\n",
       "      <td>NaN</td>\n",
       "      <td>NaN</td>\n",
       "      <td>NaN</td>\n",
       "      <td>NaN</td>\n",
       "      <td>NaN</td>\n",
       "      <td>197</td>\n",
       "      <td>892.0</td>\n",
       "    </tr>\n",
       "    <tr>\n",
       "      <th>115156</th>\n",
       "      <td>115156</td>\n",
       "      <td>115156</td>\n",
       "      <td>0.0</td>\n",
       "      <td>0.0</td>\n",
       "      <td>0.0</td>\n",
       "      <td>10769.969</td>\n",
       "      <td>78.15078</td>\n",
       "      <td>7786.6587</td>\n",
       "      <td>73.977100</td>\n",
       "      <td>13356.573</td>\n",
       "      <td>...</td>\n",
       "      <td>-0.630714</td>\n",
       "      <td>-0.832648</td>\n",
       "      <td>-0.917676</td>\n",
       "      <td>NaN</td>\n",
       "      <td>NaN</td>\n",
       "      <td>NaN</td>\n",
       "      <td>NaN</td>\n",
       "      <td>NaN</td>\n",
       "      <td>197</td>\n",
       "      <td>1424.0</td>\n",
       "    </tr>\n",
       "    <tr>\n",
       "      <th>123597</th>\n",
       "      <td>123597</td>\n",
       "      <td>123597</td>\n",
       "      <td>0.0</td>\n",
       "      <td>0.0</td>\n",
       "      <td>0.0</td>\n",
       "      <td>63156.082</td>\n",
       "      <td>267.94860</td>\n",
       "      <td>43583.1560</td>\n",
       "      <td>152.018940</td>\n",
       "      <td>77660.664</td>\n",
       "      <td>...</td>\n",
       "      <td>-0.677234</td>\n",
       "      <td>-0.888589</td>\n",
       "      <td>-1.050769</td>\n",
       "      <td>0.219100</td>\n",
       "      <td>0.223</td>\n",
       "      <td>0.208615</td>\n",
       "      <td>0.219100</td>\n",
       "      <td>0.219100</td>\n",
       "      <td>197</td>\n",
       "      <td>1472.0</td>\n",
       "    </tr>\n",
       "  </tbody>\n",
       "</table>\n",
       "<p>7 rows × 67 columns</p>\n",
       "</div>"
      ],
      "text/plain": [
       "        Unnamed: 0  Unnamed: 0_x   Ai   Ar   Az     FLUX_i  FLUX_i_ERR  \\\n",
       "67236        67236         67236  0.0  0.0  0.0  30498.105    80.57275   \n",
       "82766        82766         82766  0.0  0.0  0.0  46283.965   252.56170   \n",
       "99990        99990         99990  0.0  0.0  0.0  31923.379   270.22150   \n",
       "105435      105435        105435  0.0  0.0  0.0  13002.437   110.32829   \n",
       "113469      113469        113469  0.0  0.0  0.0  23621.766   186.36842   \n",
       "115156      115156        115156  0.0  0.0  0.0  10769.969    78.15078   \n",
       "123597      123597        123597  0.0  0.0  0.0  63156.082   267.94860   \n",
       "\n",
       "            FLUX_r  FLUX_r_ERR     FLUX_z  ...       j-i       h-i      ks-i  \\\n",
       "67236   20900.1660   69.857544  36828.562  ... -0.701144 -0.993187 -1.269546   \n",
       "82766   33077.1700  146.574260  56018.203  ... -0.557521 -0.716790 -0.709297   \n",
       "99990   22685.2730  147.805900  38613.875  ... -0.507999 -0.665680 -0.622732   \n",
       "105435   9008.8840   98.449990  16098.221  ...       NaN       NaN       NaN   \n",
       "113469  16906.1970  178.744450  29288.960  ... -0.608372 -0.798786 -1.026311   \n",
       "115156   7786.6587   73.977100  13356.573  ... -0.630714 -0.832648 -0.917676   \n",
       "123597  43583.1560  152.018940  77660.664  ... -0.677234 -0.888589 -1.050769   \n",
       "\n",
       "           zspec  paus_z  cosmos_z         Z    good_Z  wide_cells  deep_cells  \n",
       "67236   0.275800     NaN       NaN  0.275800  0.275800         197      1521.0  \n",
       "82766   0.138465     NaN       NaN  0.138465  0.138465         197      1376.0  \n",
       "99990        NaN     NaN       NaN       NaN       NaN         197      1329.0  \n",
       "105435       NaN     NaN       NaN       NaN       NaN         197         NaN  \n",
       "113469       NaN     NaN       NaN       NaN       NaN         197       892.0  \n",
       "115156       NaN     NaN       NaN       NaN       NaN         197      1424.0  \n",
       "123597  0.219100   0.223  0.208615  0.219100  0.219100         197      1472.0  \n",
       "\n",
       "[7 rows x 67 columns]"
      ]
     },
     "execution_count": 155,
     "metadata": {},
     "output_type": "execute_result"
    }
   ],
   "source": [
    "test197"
   ]
  },
  {
   "cell_type": "code",
   "execution_count": 43,
   "id": "04125f39",
   "metadata": {},
   "outputs": [
    {
     "data": {
      "text/plain": [
       "Index(['Unnamed: 0', 'Unnamed: 0_x', 'Ai', 'Ar', 'Az', 'FLUX_i', 'FLUX_i_ERR',\n",
       "       'FLUX_r', 'FLUX_r_ERR', 'FLUX_z', 'FLUX_z_ERR', 'Truth_ind',\n",
       "       'coadd_object_id', 'd_arcsec', 'dec', 'detected', 'ra', 'true_FLUX_i',\n",
       "       'true_FLUX_r', 'true_FLUX_z', 'true_dec', 'true_ra', 'cells_x', 'ID',\n",
       "       'Unnamed: 0_y', 'RA', 'DEC', 'KNN_CLASS', 'BDF_FLUX_DERED_CALIB_U',\n",
       "       'BDF_FLUX_DERED_CALIB_G', 'BDF_FLUX_DERED_CALIB_R',\n",
       "       'BDF_FLUX_DERED_CALIB_I', 'BDF_FLUX_DERED_CALIB_Z',\n",
       "       'BDF_FLUX_DERED_CALIB_J', 'BDF_FLUX_DERED_CALIB_H',\n",
       "       'BDF_FLUX_DERED_CALIB_KS', 'BDF_FLUX_ERR_DERED_CALIB_U',\n",
       "       'BDF_FLUX_ERR_DERED_CALIB_G', 'BDF_FLUX_ERR_DERED_CALIB_R',\n",
       "       'BDF_FLUX_ERR_DERED_CALIB_I', 'BDF_FLUX_ERR_DERED_CALIB_Z',\n",
       "       'BDF_FLUX_ERR_DERED_CALIB_J', 'BDF_FLUX_ERR_DERED_CALIB_H',\n",
       "       'BDF_FLUX_ERR_DERED_CALIB_KS', 'BDF_MAG_DERED_CALIB_I', 'cells_y',\n",
       "       'u-g', 'g-r', 'r-i', 'i-z', 'z-J', 'J-H', 'H-KS', 'i', 'u-i', 'g-i',\n",
       "       'z-i', 'j-i', 'h-i', 'ks-i', 'zspec', 'paus_z', 'cosmos_z', 'Z',\n",
       "       'good_Z', 'wide_cells', 'deep_cells'],\n",
       "      dtype='object')"
      ]
     },
     "execution_count": 43,
     "metadata": {},
     "output_type": "execute_result"
    }
   ],
   "source": [
    "test21.columns"
   ]
  },
  {
   "cell_type": "code",
   "execution_count": 44,
   "id": "cd10cc52",
   "metadata": {
    "scrolled": true
   },
   "outputs": [
    {
     "name": "stderr",
     "output_type": "stream",
     "text": [
      "/tmp/jobs/30179261/ipykernel_150954/1550363332.py:6: SettingWithCopyWarning: \n",
      "A value is trying to be set on a copy of a slice from a DataFrame.\n",
      "Try using .loc[row_indexer,col_indexer] = value instead\n",
      "\n",
      "See the caveats in the documentation: https://pandas.pydata.org/pandas-docs/stable/user_guide/indexing.html#returning-a-view-versus-a-copy\n",
      "  test21[f'BDF_MAG_DERED_CALIB_{band}']=flux2mag(test21[f'BDF_FLUX_DERED_CALIB_{band}'])\n",
      "/tmp/jobs/30179261/ipykernel_150954/1550363332.py:6: SettingWithCopyWarning: \n",
      "A value is trying to be set on a copy of a slice from a DataFrame.\n",
      "Try using .loc[row_indexer,col_indexer] = value instead\n",
      "\n",
      "See the caveats in the documentation: https://pandas.pydata.org/pandas-docs/stable/user_guide/indexing.html#returning-a-view-versus-a-copy\n",
      "  test21[f'BDF_MAG_DERED_CALIB_{band}']=flux2mag(test21[f'BDF_FLUX_DERED_CALIB_{band}'])\n"
     ]
    }
   ],
   "source": [
    "def flux2mag(flux):\n",
    "    return -2.5 * np.log10(flux) + 30\n",
    "\n",
    "bands = ['R', 'I', 'Z']\n",
    "for band in bands:\n",
    "    test21[f'BDF_MAG_DERED_CALIB_{band}']=flux2mag(test21[f'BDF_FLUX_DERED_CALIB_{band}'])"
   ]
  },
  {
   "cell_type": "code",
   "execution_count": 120,
   "id": "3c744fc8",
   "metadata": {},
   "outputs": [],
   "source": [
    "emptycells_deep = np.arange(0, n_deep**2)[~np.isin(np.arange(0, n_deep**2), test21.deep_cells.values)]\n",
    "emptycells_wide = np.arange(0, n_wide**2)[~np.isin(np.arange(0, n_wide**2), test21.wide_cells.values)]"
   ]
  },
  {
   "cell_type": "code",
   "execution_count": 121,
   "id": "de05b887",
   "metadata": {},
   "outputs": [
    {
     "data": {
      "text/plain": [
       "(2196,)"
      ]
     },
     "execution_count": 121,
     "metadata": {},
     "output_type": "execute_result"
    }
   ],
   "source": [
    "emptycells_deep.shape"
   ]
  },
  {
   "cell_type": "code",
   "execution_count": 112,
   "id": "a39f478f",
   "metadata": {},
   "outputs": [
    {
     "name": "stdout",
     "output_type": "stream",
     "text": [
      "      mean  median  std  len\n",
      "1      NaN     NaN  NaN  NaN\n",
      "2      NaN     NaN  NaN  NaN\n",
      "3      NaN     NaN  NaN  NaN\n",
      "5      NaN     NaN  NaN  NaN\n",
      "6      NaN     NaN  NaN  NaN\n",
      "...    ...     ...  ...  ...\n",
      "2299   NaN     NaN  NaN  NaN\n",
      "2300   NaN     NaN  NaN  NaN\n",
      "2301   NaN     NaN  NaN  NaN\n",
      "2302   NaN     NaN  NaN  NaN\n",
      "2303   NaN     NaN  NaN  NaN\n",
      "\n",
      "[2196 rows x 4 columns]\n"
     ]
    }
   ],
   "source": [
    "lines = []\n",
    "for cell in emptycells_deep:\n",
    "    lines.append(pd.DataFrame({f\"{col}\": np.nan for col in square['BDF_MAG_DERED_CALIB_I'].columns}, index=[cell]))\n",
    "    emptylines = pd.concat(lines, ignore_index=False)\n",
    "    #print(cell)\n",
    "print(emptylines)"
   ]
  },
  {
   "cell_type": "code",
   "execution_count": 60,
   "id": "14c3753e",
   "metadata": {},
   "outputs": [
    {
     "data": {
      "text/plain": [
       "Index([   1,    2,    3,    5,    6,    7,    8,    9,   10,   11,\n",
       "       ...\n",
       "       2294, 2295, 2296, 2297, 2298, 2299, 2300, 2301, 2302, 2303],\n",
       "      dtype='int64', length=2196)"
      ]
     },
     "execution_count": 60,
     "metadata": {},
     "output_type": "execute_result"
    }
   ],
   "source": [
    "emptylines.index"
   ]
  },
  {
   "cell_type": "code",
   "execution_count": 73,
   "id": "d933a812",
   "metadata": {},
   "outputs": [],
   "source": [
    "for i in square['BDF_MAG_DERED_CALIB_I'].index:\n",
    "    emptylines.loc[i]=square['BDF_MAG_DERED_CALIB_I'].loc[i]"
   ]
  },
  {
   "cell_type": "code",
   "execution_count": 78,
   "id": "20277ee3",
   "metadata": {},
   "outputs": [
    {
     "data": {
      "text/plain": [
       "array([2196,    0,    1, ..., 2193, 2194, 2195])"
      ]
     },
     "execution_count": 78,
     "metadata": {},
     "output_type": "execute_result"
    }
   ],
   "source": [
    "np.argsort(emptylines.index)"
   ]
  },
  {
   "cell_type": "code",
   "execution_count": 107,
   "id": "fda3514b",
   "metadata": {},
   "outputs": [],
   "source": [
    "im = np.arange(0, n_deep**2)"
   ]
  },
  {
   "cell_type": "code",
   "execution_count": 108,
   "id": "ece8d86f",
   "metadata": {},
   "outputs": [],
   "source": [
    "im[np.array([square['BDF_MAG_DERED_CALIB_I'].index.astype(int)])[0]]=np.array(square['BDF_MAG_DERED_CALIB_I']['len'])"
   ]
  },
  {
   "cell_type": "code",
   "execution_count": 109,
   "id": "61725cce",
   "metadata": {},
   "outputs": [
    {
     "data": {
      "text/plain": [
       "array([   1,    1,    2, ..., 2301, 2302, 2303])"
      ]
     },
     "execution_count": 109,
     "metadata": {},
     "output_type": "execute_result"
    }
   ],
   "source": [
    "im"
   ]
  },
  {
   "cell_type": "code",
   "execution_count": 87,
   "id": "48c0053c",
   "metadata": {
    "scrolled": false
   },
   "outputs": [
    {
     "data": {
      "text/html": [
       "<div>\n",
       "<style scoped>\n",
       "    .dataframe tbody tr th:only-of-type {\n",
       "        vertical-align: middle;\n",
       "    }\n",
       "\n",
       "    .dataframe tbody tr th {\n",
       "        vertical-align: top;\n",
       "    }\n",
       "\n",
       "    .dataframe thead th {\n",
       "        text-align: right;\n",
       "    }\n",
       "</style>\n",
       "<table border=\"1\" class=\"dataframe\">\n",
       "  <thead>\n",
       "    <tr style=\"text-align: right;\">\n",
       "      <th></th>\n",
       "      <th>mean</th>\n",
       "      <th>median</th>\n",
       "      <th>std</th>\n",
       "      <th>len</th>\n",
       "    </tr>\n",
       "  </thead>\n",
       "  <tbody>\n",
       "    <tr>\n",
       "      <th>0.0</th>\n",
       "      <td>23.606714</td>\n",
       "      <td>23.606714</td>\n",
       "      <td>NaN</td>\n",
       "      <td>1.0</td>\n",
       "    </tr>\n",
       "    <tr>\n",
       "      <th>4.0</th>\n",
       "      <td>23.391322</td>\n",
       "      <td>23.391322</td>\n",
       "      <td>NaN</td>\n",
       "      <td>1.0</td>\n",
       "    </tr>\n",
       "    <tr>\n",
       "      <th>16.0</th>\n",
       "      <td>23.374047</td>\n",
       "      <td>23.374047</td>\n",
       "      <td>NaN</td>\n",
       "      <td>1.0</td>\n",
       "    </tr>\n",
       "    <tr>\n",
       "      <th>18.0</th>\n",
       "      <td>23.337041</td>\n",
       "      <td>23.337041</td>\n",
       "      <td>NaN</td>\n",
       "      <td>1.0</td>\n",
       "    </tr>\n",
       "    <tr>\n",
       "      <th>19.0</th>\n",
       "      <td>23.721341</td>\n",
       "      <td>23.779493</td>\n",
       "      <td>0.453394</td>\n",
       "      <td>3.0</td>\n",
       "    </tr>\n",
       "    <tr>\n",
       "      <th>...</th>\n",
       "      <td>...</td>\n",
       "      <td>...</td>\n",
       "      <td>...</td>\n",
       "      <td>...</td>\n",
       "    </tr>\n",
       "    <tr>\n",
       "      <th>1194.0</th>\n",
       "      <td>23.332267</td>\n",
       "      <td>23.332267</td>\n",
       "      <td>NaN</td>\n",
       "      <td>1.0</td>\n",
       "    </tr>\n",
       "    <tr>\n",
       "      <th>1244.0</th>\n",
       "      <td>23.196247</td>\n",
       "      <td>23.196247</td>\n",
       "      <td>NaN</td>\n",
       "      <td>1.0</td>\n",
       "    </tr>\n",
       "    <tr>\n",
       "      <th>1295.0</th>\n",
       "      <td>23.744054</td>\n",
       "      <td>23.744054</td>\n",
       "      <td>NaN</td>\n",
       "      <td>1.0</td>\n",
       "    </tr>\n",
       "    <tr>\n",
       "      <th>1341.0</th>\n",
       "      <td>21.791648</td>\n",
       "      <td>21.791648</td>\n",
       "      <td>NaN</td>\n",
       "      <td>1.0</td>\n",
       "    </tr>\n",
       "    <tr>\n",
       "      <th>1679.0</th>\n",
       "      <td>21.931776</td>\n",
       "      <td>21.931776</td>\n",
       "      <td>NaN</td>\n",
       "      <td>1.0</td>\n",
       "    </tr>\n",
       "  </tbody>\n",
       "</table>\n",
       "<p>2412 rows × 4 columns</p>\n",
       "</div>"
      ],
      "text/plain": [
       "             mean     median       std  len\n",
       "0.0     23.606714  23.606714       NaN  1.0\n",
       "4.0     23.391322  23.391322       NaN  1.0\n",
       "16.0    23.374047  23.374047       NaN  1.0\n",
       "18.0    23.337041  23.337041       NaN  1.0\n",
       "19.0    23.721341  23.779493  0.453394  3.0\n",
       "...           ...        ...       ...  ...\n",
       "1194.0  23.332267  23.332267       NaN  1.0\n",
       "1244.0  23.196247  23.196247       NaN  1.0\n",
       "1295.0  23.744054  23.744054       NaN  1.0\n",
       "1341.0  21.791648  21.791648       NaN  1.0\n",
       "1679.0  21.931776  21.931776       NaN  1.0\n",
       "\n",
       "[2412 rows x 4 columns]"
      ]
     },
     "execution_count": 87,
     "metadata": {},
     "output_type": "execute_result"
    }
   ],
   "source": [
    "pd.concat([square['BDF_MAG_DERED_CALIB_I'], emptylines])"
   ]
  },
  {
   "cell_type": "code",
   "execution_count": 81,
   "id": "81a4c54f",
   "metadata": {},
   "outputs": [
    {
     "data": {
      "text/html": [
       "<div>\n",
       "<style scoped>\n",
       "    .dataframe tbody tr th:only-of-type {\n",
       "        vertical-align: middle;\n",
       "    }\n",
       "\n",
       "    .dataframe tbody tr th {\n",
       "        vertical-align: top;\n",
       "    }\n",
       "\n",
       "    .dataframe thead tr th {\n",
       "        text-align: left;\n",
       "    }\n",
       "\n",
       "    .dataframe thead tr:last-of-type th {\n",
       "        text-align: right;\n",
       "    }\n",
       "</style>\n",
       "<table border=\"1\" class=\"dataframe\">\n",
       "  <thead>\n",
       "    <tr>\n",
       "      <th></th>\n",
       "      <th colspan=\"4\" halign=\"left\">BDF_MAG_DERED_CALIB_I</th>\n",
       "    </tr>\n",
       "    <tr>\n",
       "      <th></th>\n",
       "      <th>mean</th>\n",
       "      <th>median</th>\n",
       "      <th>std</th>\n",
       "      <th>len</th>\n",
       "    </tr>\n",
       "    <tr>\n",
       "      <th>deep_cells</th>\n",
       "      <th></th>\n",
       "      <th></th>\n",
       "      <th></th>\n",
       "      <th></th>\n",
       "    </tr>\n",
       "  </thead>\n",
       "  <tbody>\n",
       "    <tr>\n",
       "      <th>0.0</th>\n",
       "      <td>23.606714</td>\n",
       "      <td>23.606714</td>\n",
       "      <td>NaN</td>\n",
       "      <td>1</td>\n",
       "    </tr>\n",
       "    <tr>\n",
       "      <th>4.0</th>\n",
       "      <td>23.391322</td>\n",
       "      <td>23.391322</td>\n",
       "      <td>NaN</td>\n",
       "      <td>1</td>\n",
       "    </tr>\n",
       "    <tr>\n",
       "      <th>16.0</th>\n",
       "      <td>23.374047</td>\n",
       "      <td>23.374047</td>\n",
       "      <td>NaN</td>\n",
       "      <td>1</td>\n",
       "    </tr>\n",
       "    <tr>\n",
       "      <th>18.0</th>\n",
       "      <td>23.337041</td>\n",
       "      <td>23.337041</td>\n",
       "      <td>NaN</td>\n",
       "      <td>1</td>\n",
       "    </tr>\n",
       "    <tr>\n",
       "      <th>19.0</th>\n",
       "      <td>23.721341</td>\n",
       "      <td>23.779493</td>\n",
       "      <td>0.453394</td>\n",
       "      <td>3</td>\n",
       "    </tr>\n",
       "    <tr>\n",
       "      <th>...</th>\n",
       "      <td>...</td>\n",
       "      <td>...</td>\n",
       "      <td>...</td>\n",
       "      <td>...</td>\n",
       "    </tr>\n",
       "    <tr>\n",
       "      <th>1194.0</th>\n",
       "      <td>23.332267</td>\n",
       "      <td>23.332267</td>\n",
       "      <td>NaN</td>\n",
       "      <td>1</td>\n",
       "    </tr>\n",
       "    <tr>\n",
       "      <th>1244.0</th>\n",
       "      <td>23.196247</td>\n",
       "      <td>23.196247</td>\n",
       "      <td>NaN</td>\n",
       "      <td>1</td>\n",
       "    </tr>\n",
       "    <tr>\n",
       "      <th>1295.0</th>\n",
       "      <td>23.744054</td>\n",
       "      <td>23.744054</td>\n",
       "      <td>NaN</td>\n",
       "      <td>1</td>\n",
       "    </tr>\n",
       "    <tr>\n",
       "      <th>1341.0</th>\n",
       "      <td>21.791648</td>\n",
       "      <td>21.791648</td>\n",
       "      <td>NaN</td>\n",
       "      <td>1</td>\n",
       "    </tr>\n",
       "    <tr>\n",
       "      <th>1679.0</th>\n",
       "      <td>21.931776</td>\n",
       "      <td>21.931776</td>\n",
       "      <td>NaN</td>\n",
       "      <td>1</td>\n",
       "    </tr>\n",
       "  </tbody>\n",
       "</table>\n",
       "<p>108 rows × 4 columns</p>\n",
       "</div>"
      ],
      "text/plain": [
       "           BDF_MAG_DERED_CALIB_I                         \n",
       "                            mean     median       std len\n",
       "deep_cells                                               \n",
       "0.0                    23.606714  23.606714       NaN   1\n",
       "4.0                    23.391322  23.391322       NaN   1\n",
       "16.0                   23.374047  23.374047       NaN   1\n",
       "18.0                   23.337041  23.337041       NaN   1\n",
       "19.0                   23.721341  23.779493  0.453394   3\n",
       "...                          ...        ...       ...  ..\n",
       "1194.0                 23.332267  23.332267       NaN   1\n",
       "1244.0                 23.196247  23.196247       NaN   1\n",
       "1295.0                 23.744054  23.744054       NaN   1\n",
       "1341.0                 21.791648  21.791648       NaN   1\n",
       "1679.0                 21.931776  21.931776       NaN   1\n",
       "\n",
       "[108 rows x 4 columns]"
      ]
     },
     "execution_count": 81,
     "metadata": {},
     "output_type": "execute_result"
    }
   ],
   "source": [
    "square"
   ]
  },
  {
   "cell_type": "code",
   "execution_count": 132,
   "id": "29839b6e",
   "metadata": {},
   "outputs": [
    {
     "data": {
      "image/png": "[encoded data removed]",
      "text/plain": [
       "<Figure size 640x480 with 2 Axes>"
      ]
     },
     "metadata": {},
     "output_type": "display_data"
    }
   ],
   "source": [
    "cmap='magma'\n",
    "fun = 'mean'\n",
    "feat = 'BDF_MAG_DERED_CALIB_I'\n",
    "vmin,vmax=None,None#-1,3\n",
    "norm=None\n",
    "title = 'mean i-band magnitude'\n",
    "square = test21[[feat, 'deep_cells']].groupby('deep_cells').agg(['mean', 'median', 'std', len])\n",
    "im_i = np.zeros(n_deep**2)\n",
    "im_i[np.array([square['BDF_MAG_DERED_CALIB_I'].index.astype(int)])[0]]=np.array(square['BDF_MAG_DERED_CALIB_I'][fun])\n",
    "#im_z = square[(feat, fun)].values.reshape(n_deep,n_deep)\n",
    "image = plt.imshow(im_i.reshape(n_deep, n_deep), cmap=cmap, vmin=vmin, vmax=vmax, norm=norm)\n",
    "#divider = make_axes_locatable(axes[i,j])\n",
    "#cax = divider.append_axes('right', size='5%', pad=0.05)\n",
    "plt.colorbar(image, orientation='vertical') # cax=cax\n",
    "plt.title(f'{title}',style='italic')\n",
    "plt.show()"
   ]
  },
  {
   "cell_type": "code",
   "execution_count": 146,
   "id": "2b1e781a",
   "metadata": {},
   "outputs": [
    {
     "data": {
      "image/png": "[encoded data removed]",
      "text/plain": [
       "<Figure size 640x480 with 2 Axes>"
      ]
     },
     "metadata": {},
     "output_type": "display_data"
    }
   ],
   "source": [
    "cmap='coolwarm'\n",
    "fun = 'mean'\n",
    "feat = 'diff_flux_i'\n",
    "vmin,vmax=-3,3\n",
    "norm=None\n",
    "title = 'sigma flux diff'\n",
    "square = test21[[feat, 'deep_cells']].groupby('deep_cells').agg(['mean', 'median', 'std', len])\n",
    "im_i = np.zeros(n_deep**2)+np.nan\n",
    "im_i[np.array([square[feat].index.astype(int)])[0]]=np.array(square[feat][fun])\n",
    "#im_z = square[(feat, fun)].values.reshape(n_deep,n_deep)\n",
    "image = plt.imshow(im_i.reshape(n_deep, n_deep), cmap=cmap, vmin=vmin, vmax=vmax, norm=norm)\n",
    "#divider = make_axes_locatable(axes[i,j])\n",
    "#cax = divider.append_axes('right', size='5%', pad=0.05)\n",
    "plt.colorbar(image, orientation='vertical') # cax=cax\n",
    "plt.title(f'{title}',style='italic')\n",
    "plt.show()"
   ]
  },
  {
   "cell_type": "code",
   "execution_count": 149,
   "id": "3c3aab33",
   "metadata": {},
   "outputs": [
    {
     "data": {
      "text/plain": [
       "(array([ 1.,  0.,  0.,  0.,  0.,  0.,  0.,  1.,  1.,  3.,  4.,  9., 16.,\n",
       "        23., 30., 27.,  8.,  6.,  1.,  1.]),\n",
       " array([-23.81806081, -22.09580488, -20.37354895, -18.65129302,\n",
       "        -16.92903709, -15.20678116, -13.48452524, -11.76226931,\n",
       "        -10.04001338,  -8.31775745,  -6.59550152,  -4.87324559,\n",
       "         -3.15098966,  -1.42873373,   0.2935222 ,   2.01577813,\n",
       "          3.73803405,   5.46028998,   7.18254591,   8.90480184,\n",
       "         10.62705777]),\n",
       " <BarContainer object of 20 artists>)"
      ]
     },
     "execution_count": 149,
     "metadata": {},
     "output_type": "execute_result"
    },
    {
     "data": {
      "image/png": "[encoded data removed]",
      "text/plain": [
       "<Figure size 640x480 with 1 Axes>"
      ]
     },
     "metadata": {},
     "output_type": "display_data"
    }
   ],
   "source": [
    "plt.hist(test21['diff_flux_i'], bins=20)"
   ]
  },
  {
   "cell_type": "code",
   "execution_count": 137,
   "id": "62c65886",
   "metadata": {},
   "outputs": [
    {
     "name": "stderr",
     "output_type": "stream",
     "text": [
      "/tmp/jobs/30179261/ipykernel_150954/3392329499.py:1: SettingWithCopyWarning: \n",
      "A value is trying to be set on a copy of a slice from a DataFrame.\n",
      "Try using .loc[row_indexer,col_indexer] = value instead\n",
      "\n",
      "See the caveats in the documentation: https://pandas.pydata.org/pandas-docs/stable/user_guide/indexing.html#returning-a-view-versus-a-copy\n",
      "  test21['diff_flux_i']=(test21['FLUX_i']-test21['BDF_FLUX_DERED_CALIB_I'])/test21['FLUX_i_ERR']\n"
     ]
    }
   ],
   "source": [
    "test21['diff_flux_i']=(test21['FLUX_i']-test21['BDF_FLUX_DERED_CALIB_I'])/test21['FLUX_i_ERR']"
   ]
  },
  {
   "cell_type": "code",
   "execution_count": 138,
   "id": "b83da366",
   "metadata": {},
   "outputs": [
    {
     "data": {
      "text/plain": [
       "799      -1.938053\n",
       "1053     -0.849762\n",
       "2051      6.551252\n",
       "2068      2.877417\n",
       "2660     -1.721045\n",
       "            ...   \n",
       "116229   -0.324874\n",
       "124078    0.337733\n",
       "124597    0.985473\n",
       "126121   -4.252384\n",
       "127964    2.057336\n",
       "Name: diff_flux_i, Length: 151, dtype: float64"
      ]
     },
     "execution_count": 138,
     "metadata": {},
     "output_type": "execute_result"
    }
   ],
   "source": [
    "test21['diff_flux_i']"
   ]
  }
 ],
 "metadata": {
  "kernelspec": {
   "display_name": "Python 3 (ipykernel)",
   "language": "python",
   "name": "python3"
  },
  "language_info": {
   "codemirror_mode": {
    "name": "ipython",
    "version": 3
   },
   "file_extension": ".py",
   "mimetype": "text/x-python",
   "name": "python",
   "nbconvert_exporter": "python",
   "pygments_lexer": "ipython3",
   "version": "3.11.4"
  }
 },
 "nbformat": 4,
 "nbformat_minor": 5
}
