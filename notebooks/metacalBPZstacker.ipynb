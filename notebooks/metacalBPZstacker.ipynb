{
 "cells": [
  {
   "cell_type": "code",
   "execution_count": 1,
   "id": "d9ee82e9",
   "metadata": {},
   "outputs": [],
   "source": [
    "import numpy as np\n",
    "import pandas as pd\n",
    "import h5py\n",
    "import matplotlib.pyplot as plt\n",
    "import scipy\n",
    "import sys\n",
    "import time"
   ]
  },
  {
   "cell_type": "code",
   "execution_count": 2,
   "id": "07421989",
   "metadata": {},
   "outputs": [
    {
     "name": "stdout",
     "output_type": "stream",
     "text": [
      "<KeysViewHDF5 ['Ncutouts_raw', 'badfrac', 'ccdnum', 'dec', 'id', 'mcal_T_1m', 'mcal_T_1p', 'mcal_T_2m', 'mcal_T_2p', 'mcal_T_noshear', 'mcal_T_ratio_1m', 'mcal_T_ratio_1p', 'mcal_T_ratio_2m', 'mcal_T_ratio_2p', 'mcal_T_ratio_noshear', 'mcal_flags', 'mcal_flux_1m', 'mcal_flux_1p', 'mcal_flux_2m', 'mcal_flux_2p', 'mcal_flux_err_1m', 'mcal_flux_err_1p', 'mcal_flux_err_2m', 'mcal_flux_err_2p', 'mcal_flux_err_noshear', 'mcal_flux_noshear', 'mcal_g_1m', 'mcal_g_1p', 'mcal_g_2m', 'mcal_g_2p', 'mcal_g_cov_1m', 'mcal_g_cov_1p', 'mcal_g_cov_2m', 'mcal_g_cov_2p', 'mcal_g_cov_noshear', 'mcal_g_noshear', 'mcal_psf_T_noshear', 'mcal_psf_g_noshear', 'mcal_s2n_1m', 'mcal_s2n_1p', 'mcal_s2n_2m', 'mcal_s2n_2p', 'mcal_s2n_noshear', 'ra', 'x', 'x_exp', 'y', 'y_exp']>\n"
     ]
    }
   ],
   "source": [
    "hdf_ = h5py.File('/project2/chihway/data/decade/metacal_test_20230427.hdf')"
   ]
  },
  {
   "cell_type": "code",
   "execution_count": 3,
   "id": "2e931ff0",
   "metadata": {
    "scrolled": false
   },
   "outputs": [
    {
     "data": {
      "text/plain": [
       "111596425"
      ]
     },
     "execution_count": 3,
     "metadata": {},
     "output_type": "execute_result"
    }
   ],
   "source": [
    "len(hdf_['ra'])"
   ]
  },
  {
   "cell_type": "code",
   "execution_count": 11,
   "id": "0f388373",
   "metadata": {},
   "outputs": [
    {
     "name": "stdout",
     "output_type": "stream",
     "text": [
      "CPU times: user 116 ms, sys: 577 ms, total: 693 ms\n",
      "Wall time: 690 ms\n"
     ]
    }
   ],
   "source": [
    "%%time\n",
    "idx = np.arange(len(hdf_['ra']))"
   ]
  },
  {
   "cell_type": "code",
   "execution_count": 72,
   "id": "d1b00335",
   "metadata": {},
   "outputs": [
    {
     "name": "stdout",
     "output_type": "stream",
     "text": [
      "CPU times: user 6.62 s, sys: 641 ms, total: 7.26 s\n",
      "Wall time: 7.23 s\n"
     ]
    }
   ],
   "source": [
    "%%time\n",
    "N = int(1e3) #Get a subset N number of galaxies from full file. This is just so you read out small subset for now. The file takes a while to load so better to start small (we're trying to fix loading speed).\n",
    "r_idx = np.sort(np.random.choice(idx, size=N, replace=False))"
   ]
  },
  {
   "cell_type": "code",
   "execution_count": 73,
   "id": "2567cdb3",
   "metadata": {
    "scrolled": true
   },
   "outputs": [
    {
     "name": "stdout",
     "output_type": "stream",
     "text": [
      "CPU times: user 7.36 s, sys: 6.8 s, total: 14.2 s\n",
      "Wall time: 14.2 s\n"
     ]
    }
   ],
   "source": [
    "%%time\n",
    "idx_mask = np.isin(idx, r_idx)"
   ]
  },
  {
   "cell_type": "code",
   "execution_count": 74,
   "id": "96dce5bf",
   "metadata": {},
   "outputs": [
    {
     "name": "stdout",
     "output_type": "stream",
     "text": [
      "CPU times: user 232 ms, sys: 170 ms, total: 402 ms\n",
      "Wall time: 38.5 s\n"
     ]
    },
    {
     "name": "stderr",
     "output_type": "stream",
     "text": [
      "/software/python-anaconda-2020.02-el7-x86_64/lib/python3.7/site-packages/ipykernel_launcher.py:5: RuntimeWarning: invalid value encountered in log10\n",
      "  \"\"\"\n",
      "/software/python-anaconda-2020.02-el7-x86_64/lib/python3.7/site-packages/ipykernel_launcher.py:7: RuntimeWarning: invalid value encountered in log10\n",
      "  import sys\n",
      "/software/python-anaconda-2020.02-el7-x86_64/lib/python3.7/site-packages/ipykernel_launcher.py:28: RuntimeWarning: invalid value encountered in log10\n"
     ]
    }
   ],
   "source": [
    "%%time\n",
    "with h5py.File('/project2/chihway/data/decade/metacal_test_20230427.hdf') as f:\n",
    "    \n",
    "    flux_r, flux_i, flux_z = np.array(f['mcal_flux_noshear'][idx_mask]).T\n",
    "    flux_err_r, flux_err_i, flux_err_z = np.array(f['mcal_flux_err_noshear'][idx_mask]).T\n",
    "    mag_r = 30 - 2.5*np.log10(flux_r)\n",
    "    mag_i = 30 - 2.5*np.log10(flux_i)\n",
    "    mag_z = 30 - 2.5*np.log10(flux_z)\n",
    "\n",
    "    mcal_pz_mask = ((mag_i < 23.5) & (mag_i > 18) & \n",
    "                    (mag_r < 26)   & (mag_r > 15) & \n",
    "                    (mag_z < 26)   & (mag_z > 15) & \n",
    "                    (mag_r - mag_i < 4)   & (mag_r - mag_i > -1.5) & \n",
    "                    (mag_i - mag_z < 4)   & (mag_i - mag_z > -1.5))\n",
    "\n",
    "    SNR     = np.array(f['mcal_s2n_noshear'][:N])\n",
    "    T_ratio = np.array(f['mcal_T_ratio_noshear'][:N])\n",
    "    T       = np.array(f['mcal_T_noshear'][:N])\n",
    "    flags   = np.array(f['mcal_flags'][:N])\n",
    "    \n",
    "    g1, g2  = np.array(f['mcal_g_noshear'][:N]).T\n",
    "\n",
    "    #Metacal cuts based on DES Y3 ones (from here: https://des.ncsa.illinois.edu/releases/y3a2/Y3key-catalogs)\n",
    "    SNR_Mask   = (SNR > 10) & (SNR < 1000)\n",
    "    Tratio_Mask= T_ratio > 0.5\n",
    "    T_Mask     = T < 10\n",
    "    Flag_Mask  = flags == 0\n",
    "\n",
    "    Other_Mask = np.invert((T > 2) & (SNR < 30)) & np.invert((np.log10(T) < (22.25 - mag_r)/3.5) & (g1**2 + g2**2 > 0.8**2))\n",
    "\n",
    "    Mask = mcal_pz_mask & SNR_Mask & Tratio_Mask & T_Mask & Flag_Mask & Other_Mask\n",
    "    \n",
    "    #These are the fluxes with all metacal cuts applied\n",
    "    flux_r = flux_r[Mask]\n",
    "    flux_i = flux_i[Mask]\n",
    "    flux_z = flux_z[Mask]\n",
    "    flux_err_r = flux_err_r[Mask]\n",
    "    flux_err_i = flux_err_i[Mask]\n",
    "    flux_err_z = flux_err_z[Mask]"
   ]
  },
  {
   "cell_type": "code",
   "execution_count": 68,
   "id": "7b8734f6",
   "metadata": {},
   "outputs": [
    {
     "name": "stderr",
     "output_type": "stream",
     "text": [
      "/software/python-anaconda-2020.02-el7-x86_64/lib/python3.7/site-packages/ipykernel_launcher.py:6: RuntimeWarning: invalid value encountered in log10\n",
      "  \n",
      "/software/python-anaconda-2020.02-el7-x86_64/lib/python3.7/site-packages/ipykernel_launcher.py:7: RuntimeWarning: invalid value encountered in log10\n",
      "  import sys\n",
      "/software/python-anaconda-2020.02-el7-x86_64/lib/python3.7/site-packages/ipykernel_launcher.py:8: RuntimeWarning: invalid value encountered in log10\n",
      "  \n"
     ]
    },
    {
     "name": "stdout",
     "output_type": "stream",
     "text": [
      "CPU times: user 1.5 s, sys: 12.2 s, total: 13.7 s\n",
      "Wall time: 16.2 s\n"
     ]
    },
    {
     "name": "stderr",
     "output_type": "stream",
     "text": [
      "/software/python-anaconda-2020.02-el7-x86_64/lib/python3.7/site-packages/ipykernel_launcher.py:29: RuntimeWarning: invalid value encountered in log10\n"
     ]
    }
   ],
   "source": [
    "%%time\n",
    "N=int(1e6)\n",
    "with h5py.File('/project2/chihway/data/decade/metacal_test_20230427.hdf') as f:\n",
    "    \n",
    "    flux_r_, flux_i_, flux_z_ = np.array(f['mcal_flux_noshear'][:N]).T\n",
    "    flux_err_r_, flux_err_i_, flux_err_z_ = np.array(f['mcal_flux_err_noshear'][:N]).T\n",
    "    mag_r = 30 - 2.5*np.log10(flux_r_)\n",
    "    mag_i = 30 - 2.5*np.log10(flux_i_)\n",
    "    mag_z = 30 - 2.5*np.log10(flux_z_)\n",
    "\n",
    "    mcal_pz_mask = ((mag_i < 23.5) & (mag_i > 18) & \n",
    "                    (mag_r < 26)   & (mag_r > 15) & \n",
    "                    (mag_z < 26)   & (mag_z > 15) & \n",
    "                    (mag_r - mag_i < 4)   & (mag_r - mag_i > -1.5) & \n",
    "                    (mag_i - mag_z < 4)   & (mag_i - mag_z > -1.5))\n",
    "\n",
    "    SNR     = np.array(f['mcal_s2n_noshear'][:N])\n",
    "    T_ratio = np.array(f['mcal_T_ratio_noshear'][:N])\n",
    "    T       = np.array(f['mcal_T_noshear'][:N])\n",
    "    flags   = np.array(f['mcal_flags'][:N])\n",
    "    \n",
    "    g1, g2  = np.array(f['mcal_g_noshear'][:N]).T\n",
    "\n",
    "    #Metacal cuts based on DES Y3 ones (from here: https://des.ncsa.illinois.edu/releases/y3a2/Y3key-catalogs)\n",
    "    SNR_Mask   = (SNR > 10) & (SNR < 1000)\n",
    "    Tratio_Mask= T_ratio > 0.5\n",
    "    T_Mask     = T < 10\n",
    "    Flag_Mask  = flags == 0\n",
    "\n",
    "    Other_Mask = np.invert((T > 2) & (SNR < 30)) & np.invert((np.log10(T) < (22.25 - mag_r)/3.5) & (g1**2 + g2**2 > 0.8**2))\n",
    "\n",
    "    Mask = mcal_pz_mask & SNR_Mask & Tratio_Mask & T_Mask & Flag_Mask & Other_Mask\n",
    "    \n",
    "    #These are the fluxes with all metacal cuts applied\n",
    "    flux_r_ = flux_r_[Mask]\n",
    "    flux_i_ = flux_i_[Mask]\n",
    "    flux_z_ = flux_z_[Mask]\n",
    "    flux_err_r_ = flux_err_r_[Mask]\n",
    "    flux_err_i_ = flux_err_i_[Mask]\n",
    "    flux_err_z_ = flux_err_z_[Mask]"
   ]
  },
  {
   "cell_type": "code",
   "execution_count": 75,
   "id": "f4717a13",
   "metadata": {
    "scrolled": true
   },
   "outputs": [
    {
     "data": {
      "image/png": "[encoded data removed]",
      "text/plain": [
       "<Figure size 640x480 with 1 Axes>"
      ]
     },
     "metadata": {},
     "output_type": "display_data"
    }
   ],
   "source": [
    "ab = plt.hist(flux_i, density=True)"
   ]
  },
  {
   "cell_type": "code",
   "execution_count": 69,
   "id": "d9333056",
   "metadata": {
    "scrolled": false
   },
   "outputs": [
    {
     "data": {
      "image/png": "[encoded data removed]",
      "text/plain": [
       "<Figure size 640x480 with 1 Axes>"
      ]
     },
     "metadata": {},
     "output_type": "display_data"
    }
   ],
   "source": [
    "dc= plt.hist(flux_i_, density=True);"
   ]
  },
  {
   "cell_type": "code",
   "execution_count": 76,
   "id": "c8cb1b6e",
   "metadata": {},
   "outputs": [
    {
     "data": {
      "text/plain": [
       "<matplotlib.collections.LineCollection at 0x7f507378f190>"
      ]
     },
     "execution_count": 76,
     "metadata": {},
     "output_type": "execute_result"
    },
    {
     "data": {
      "image/png": "[encoded data removed]",
      "text/plain": [
       "<Figure size 640x480 with 1 Axes>"
      ]
     },
     "metadata": {},
     "output_type": "display_data"
    }
   ],
   "source": [
    "plt.scatter(ab[1][1:], ab[0]-dc[0])\n",
    "plt.hlines(0, xmin=0, xmax=6e4)"
   ]
  },
  {
   "cell_type": "code",
   "execution_count": 71,
   "id": "ac3fafe3",
   "metadata": {},
   "outputs": [
    {
     "data": {
      "text/plain": [
       "<matplotlib.collections.LineCollection at 0x7f5073183190>"
      ]
     },
     "execution_count": 71,
     "metadata": {},
     "output_type": "execute_result"
    },
    {
     "data": {
      "image/png": "[encoded data removed]",
      "text/plain": [
       "<Figure size 640x480 with 1 Axes>"
      ]
     },
     "metadata": {},
     "output_type": "display_data"
    }
   ],
   "source": [
    "plt.scatter(ab[1][1:], ab[0]-dc[0])\n",
    "plt.hlines(0, xmin=0, xmax=6e4)"
   ]
  },
  {
   "cell_type": "code",
   "execution_count": 15,
   "id": "a5228ca4",
   "metadata": {},
   "outputs": [
    {
     "data": {
      "text/plain": [
       "array([1341.07717556, 1045.09764575,  720.1753726 , ...,  682.80793806,\n",
       "        432.23399329,  364.33226537])"
      ]
     },
     "execution_count": 15,
     "metadata": {},
     "output_type": "execute_result"
    }
   ],
   "source": [
    "flux_r"
   ]
  },
  {
   "cell_type": "code",
   "execution_count": 16,
   "id": "2c5764ac",
   "metadata": {},
   "outputs": [
    {
     "data": {
      "text/plain": [
       "161321374"
      ]
     },
     "execution_count": 16,
     "metadata": {},
     "output_type": "execute_result"
    }
   ],
   "source": [
    "np.zeros(int(1e8+3e5+1e6+1e3+2e4+3e2+4+7e1+6e7)).size"
   ]
  },
  {
   "cell_type": "code",
   "execution_count": 16,
   "id": "43d80235",
   "metadata": {
    "scrolled": true
   },
   "outputs": [
    {
     "data": {
      "text/plain": [
       "(<HDF5 dataset \"ra\": shape (111596425,), type \"<f8\">,\n",
       " <HDF5 dataset \"dec\": shape (111596425,), type \"<f8\">)"
      ]
     },
     "execution_count": 16,
     "metadata": {},
     "output_type": "execute_result"
    }
   ],
   "source": [
    "metacal_test['ra'], metacal_test['dec']"
   ]
  },
  {
   "cell_type": "code",
   "execution_count": 18,
   "id": "39d247f1",
   "metadata": {},
   "outputs": [],
   "source": [
    "i=1\n",
    "data_i = pd.read_csv('/project2/chihway/raulteixeira/data/bdf_photometry/dr3_1_1_bdf_0000%.2d.csv.gz'%i)"
   ]
  },
  {
   "cell_type": "code",
   "execution_count": 19,
   "id": "86dc3a73",
   "metadata": {},
   "outputs": [
    {
     "data": {
      "text/html": [
       "<div>\n",
       "<style scoped>\n",
       "    .dataframe tbody tr th:only-of-type {\n",
       "        vertical-align: middle;\n",
       "    }\n",
       "\n",
       "    .dataframe tbody tr th {\n",
       "        vertical-align: top;\n",
       "    }\n",
       "\n",
       "    .dataframe thead th {\n",
       "        text-align: right;\n",
       "    }\n",
       "</style>\n",
       "<table border=\"1\" class=\"dataframe\">\n",
       "  <thead>\n",
       "    <tr style=\"text-align: right;\">\n",
       "      <th></th>\n",
       "      <th>Unnamed: 0</th>\n",
       "      <th>BDF_FLUX_ERR_G</th>\n",
       "      <th>BDF_FLUX_ERR_I</th>\n",
       "      <th>BDF_FLUX_ERR_R</th>\n",
       "      <th>BDF_FLUX_ERR_Z</th>\n",
       "      <th>BDF_FLUX_G</th>\n",
       "      <th>BDF_FLUX_I</th>\n",
       "      <th>BDF_FLUX_R</th>\n",
       "      <th>BDF_FLUX_Z</th>\n",
       "      <th>BDF_MAG_ERR_G</th>\n",
       "      <th>...</th>\n",
       "      <th>BDF_MAG_Z</th>\n",
       "      <th>BDF_S2N</th>\n",
       "      <th>BDF_T</th>\n",
       "      <th>BDF_T_ERR</th>\n",
       "      <th>BDF_T_RATIO</th>\n",
       "      <th>COADD_OBJECT_ID</th>\n",
       "      <th>DEC</th>\n",
       "      <th>RA</th>\n",
       "      <th>TILENAME</th>\n",
       "      <th>index</th>\n",
       "    </tr>\n",
       "  </thead>\n",
       "  <tbody>\n",
       "    <tr>\n",
       "      <th>0</th>\n",
       "      <td>0</td>\n",
       "      <td>45.453359</td>\n",
       "      <td>131.797517</td>\n",
       "      <td>88.905316</td>\n",
       "      <td>166.633120</td>\n",
       "      <td>711.274688</td>\n",
       "      <td>894.056308</td>\n",
       "      <td>1041.800221</td>\n",
       "      <td>1256.858374</td>\n",
       "      <td>0.069383</td>\n",
       "      <td>...</td>\n",
       "      <td>22.251784</td>\n",
       "      <td>27.011140</td>\n",
       "      <td>0.138749</td>\n",
       "      <td>0.075012</td>\n",
       "      <td>0.115182</td>\n",
       "      <td>7102487092</td>\n",
       "      <td>27.507381</td>\n",
       "      <td>151.692954</td>\n",
       "      <td>b'DES1006+2751'</td>\n",
       "      <td>0</td>\n",
       "    </tr>\n",
       "    <tr>\n",
       "      <th>1</th>\n",
       "      <td>1</td>\n",
       "      <td>29.377138</td>\n",
       "      <td>97.753053</td>\n",
       "      <td>59.315343</td>\n",
       "      <td>120.839489</td>\n",
       "      <td>250.862504</td>\n",
       "      <td>1331.462758</td>\n",
       "      <td>925.768139</td>\n",
       "      <td>1700.058381</td>\n",
       "      <td>0.127145</td>\n",
       "      <td>...</td>\n",
       "      <td>21.923840</td>\n",
       "      <td>31.202110</td>\n",
       "      <td>0.117498</td>\n",
       "      <td>0.046870</td>\n",
       "      <td>0.097531</td>\n",
       "      <td>7102487166</td>\n",
       "      <td>27.505418</td>\n",
       "      <td>151.195001</td>\n",
       "      <td>b'DES1006+2751'</td>\n",
       "      <td>1</td>\n",
       "    </tr>\n",
       "    <tr>\n",
       "      <th>2</th>\n",
       "      <td>2</td>\n",
       "      <td>37.125305</td>\n",
       "      <td>102.701838</td>\n",
       "      <td>63.032921</td>\n",
       "      <td>131.678172</td>\n",
       "      <td>125.252352</td>\n",
       "      <td>607.613816</td>\n",
       "      <td>280.996600</td>\n",
       "      <td>631.930647</td>\n",
       "      <td>0.321817</td>\n",
       "      <td>...</td>\n",
       "      <td>22.998326</td>\n",
       "      <td>11.189171</td>\n",
       "      <td>0.093982</td>\n",
       "      <td>0.127729</td>\n",
       "      <td>0.080385</td>\n",
       "      <td>7102486722</td>\n",
       "      <td>27.513886</td>\n",
       "      <td>151.570765</td>\n",
       "      <td>b'DES1006+2751'</td>\n",
       "      <td>2</td>\n",
       "    </tr>\n",
       "    <tr>\n",
       "      <th>3</th>\n",
       "      <td>3</td>\n",
       "      <td>36.196797</td>\n",
       "      <td>176.300175</td>\n",
       "      <td>69.087365</td>\n",
       "      <td>228.716165</td>\n",
       "      <td>146.453923</td>\n",
       "      <td>1760.637821</td>\n",
       "      <td>496.761256</td>\n",
       "      <td>3660.526013</td>\n",
       "      <td>0.268345</td>\n",
       "      <td>...</td>\n",
       "      <td>21.091141</td>\n",
       "      <td>31.774227</td>\n",
       "      <td>0.701004</td>\n",
       "      <td>0.194874</td>\n",
       "      <td>0.561435</td>\n",
       "      <td>7102485857</td>\n",
       "      <td>27.527388</td>\n",
       "      <td>151.475124</td>\n",
       "      <td>b'DES1006+2751'</td>\n",
       "      <td>3</td>\n",
       "    </tr>\n",
       "    <tr>\n",
       "      <th>4</th>\n",
       "      <td>4</td>\n",
       "      <td>29.677488</td>\n",
       "      <td>110.458530</td>\n",
       "      <td>53.500550</td>\n",
       "      <td>103.765793</td>\n",
       "      <td>446.980398</td>\n",
       "      <td>964.367757</td>\n",
       "      <td>780.893278</td>\n",
       "      <td>1109.955551</td>\n",
       "      <td>0.072088</td>\n",
       "      <td>...</td>\n",
       "      <td>22.386736</td>\n",
       "      <td>28.065958</td>\n",
       "      <td>0.012088</td>\n",
       "      <td>0.031021</td>\n",
       "      <td>0.009688</td>\n",
       "      <td>7102487183</td>\n",
       "      <td>27.505770</td>\n",
       "      <td>151.486737</td>\n",
       "      <td>b'DES1006+2751'</td>\n",
       "      <td>4</td>\n",
       "    </tr>\n",
       "    <tr>\n",
       "      <th>...</th>\n",
       "      <td>...</td>\n",
       "      <td>...</td>\n",
       "      <td>...</td>\n",
       "      <td>...</td>\n",
       "      <td>...</td>\n",
       "      <td>...</td>\n",
       "      <td>...</td>\n",
       "      <td>...</td>\n",
       "      <td>...</td>\n",
       "      <td>...</td>\n",
       "      <td>...</td>\n",
       "      <td>...</td>\n",
       "      <td>...</td>\n",
       "      <td>...</td>\n",
       "      <td>...</td>\n",
       "      <td>...</td>\n",
       "      <td>...</td>\n",
       "      <td>...</td>\n",
       "      <td>...</td>\n",
       "      <td>...</td>\n",
       "      <td>...</td>\n",
       "    </tr>\n",
       "    <tr>\n",
       "      <th>2489995</th>\n",
       "      <td>2489995</td>\n",
       "      <td>61.194161</td>\n",
       "      <td>168.974332</td>\n",
       "      <td>111.674002</td>\n",
       "      <td>255.938919</td>\n",
       "      <td>355.283073</td>\n",
       "      <td>1054.508274</td>\n",
       "      <td>627.523787</td>\n",
       "      <td>1351.431416</td>\n",
       "      <td>0.187008</td>\n",
       "      <td>...</td>\n",
       "      <td>22.173015</td>\n",
       "      <td>17.009415</td>\n",
       "      <td>1.978954</td>\n",
       "      <td>0.953786</td>\n",
       "      <td>2.181873</td>\n",
       "      <td>7101741628</td>\n",
       "      <td>15.004017</td>\n",
       "      <td>151.755157</td>\n",
       "      <td>b'DES1006+1500'</td>\n",
       "      <td>2489995</td>\n",
       "    </tr>\n",
       "    <tr>\n",
       "      <th>2489996</th>\n",
       "      <td>2489996</td>\n",
       "      <td>29.413110</td>\n",
       "      <td>70.111455</td>\n",
       "      <td>51.581727</td>\n",
       "      <td>124.910952</td>\n",
       "      <td>1691.580515</td>\n",
       "      <td>2942.649602</td>\n",
       "      <td>2457.680337</td>\n",
       "      <td>2900.870713</td>\n",
       "      <td>0.018879</td>\n",
       "      <td>...</td>\n",
       "      <td>21.343679</td>\n",
       "      <td>101.318425</td>\n",
       "      <td>0.035240</td>\n",
       "      <td>0.009490</td>\n",
       "      <td>0.038142</td>\n",
       "      <td>7101738395</td>\n",
       "      <td>15.067651</td>\n",
       "      <td>151.383420</td>\n",
       "      <td>b'DES1006+1500'</td>\n",
       "      <td>2489996</td>\n",
       "    </tr>\n",
       "    <tr>\n",
       "      <th>2489997</th>\n",
       "      <td>2489997</td>\n",
       "      <td>45.720489</td>\n",
       "      <td>165.180781</td>\n",
       "      <td>107.600376</td>\n",
       "      <td>227.231037</td>\n",
       "      <td>8619.825728</td>\n",
       "      <td>43717.025193</td>\n",
       "      <td>27549.581169</td>\n",
       "      <td>57671.541540</td>\n",
       "      <td>0.005759</td>\n",
       "      <td>...</td>\n",
       "      <td>18.097596</td>\n",
       "      <td>828.605412</td>\n",
       "      <td>2.388564</td>\n",
       "      <td>0.045883</td>\n",
       "      <td>2.669203</td>\n",
       "      <td>7139701007</td>\n",
       "      <td>8.217957</td>\n",
       "      <td>159.174737</td>\n",
       "      <td>b'DES1037+0752'</td>\n",
       "      <td>2489997</td>\n",
       "    </tr>\n",
       "    <tr>\n",
       "      <th>2489998</th>\n",
       "      <td>2489998</td>\n",
       "      <td>77.099693</td>\n",
       "      <td>141.414179</td>\n",
       "      <td>121.252485</td>\n",
       "      <td>225.906804</td>\n",
       "      <td>3351.785894</td>\n",
       "      <td>5725.242211</td>\n",
       "      <td>4944.412963</td>\n",
       "      <td>6356.856070</td>\n",
       "      <td>0.024975</td>\n",
       "      <td>...</td>\n",
       "      <td>20.491894</td>\n",
       "      <td>98.170237</td>\n",
       "      <td>3.763813</td>\n",
       "      <td>0.233884</td>\n",
       "      <td>4.594762</td>\n",
       "      <td>7139703378</td>\n",
       "      <td>8.171689</td>\n",
       "      <td>159.594604</td>\n",
       "      <td>b'DES1037+0752'</td>\n",
       "      <td>2489998</td>\n",
       "    </tr>\n",
       "    <tr>\n",
       "      <th>2489999</th>\n",
       "      <td>2489999</td>\n",
       "      <td>20.026514</td>\n",
       "      <td>73.791180</td>\n",
       "      <td>37.431817</td>\n",
       "      <td>75.465092</td>\n",
       "      <td>220.297295</td>\n",
       "      <td>494.405711</td>\n",
       "      <td>290.384467</td>\n",
       "      <td>308.781110</td>\n",
       "      <td>0.098701</td>\n",
       "      <td>...</td>\n",
       "      <td>23.775873</td>\n",
       "      <td>16.105090</td>\n",
       "      <td>-0.032673</td>\n",
       "      <td>0.011578</td>\n",
       "      <td>-0.036407</td>\n",
       "      <td>7139700400</td>\n",
       "      <td>8.210418</td>\n",
       "      <td>159.557934</td>\n",
       "      <td>b'DES1037+0752'</td>\n",
       "      <td>2489999</td>\n",
       "    </tr>\n",
       "  </tbody>\n",
       "</table>\n",
       "<p>2490000 rows × 26 columns</p>\n",
       "</div>"
      ],
      "text/plain": [
       "         Unnamed: 0  BDF_FLUX_ERR_G  BDF_FLUX_ERR_I  BDF_FLUX_ERR_R  \\\n",
       "0                 0       45.453359      131.797517       88.905316   \n",
       "1                 1       29.377138       97.753053       59.315343   \n",
       "2                 2       37.125305      102.701838       63.032921   \n",
       "3                 3       36.196797      176.300175       69.087365   \n",
       "4                 4       29.677488      110.458530       53.500550   \n",
       "...             ...             ...             ...             ...   \n",
       "2489995     2489995       61.194161      168.974332      111.674002   \n",
       "2489996     2489996       29.413110       70.111455       51.581727   \n",
       "2489997     2489997       45.720489      165.180781      107.600376   \n",
       "2489998     2489998       77.099693      141.414179      121.252485   \n",
       "2489999     2489999       20.026514       73.791180       37.431817   \n",
       "\n",
       "         BDF_FLUX_ERR_Z   BDF_FLUX_G    BDF_FLUX_I    BDF_FLUX_R  \\\n",
       "0            166.633120   711.274688    894.056308   1041.800221   \n",
       "1            120.839489   250.862504   1331.462758    925.768139   \n",
       "2            131.678172   125.252352    607.613816    280.996600   \n",
       "3            228.716165   146.453923   1760.637821    496.761256   \n",
       "4            103.765793   446.980398    964.367757    780.893278   \n",
       "...                 ...          ...           ...           ...   \n",
       "2489995      255.938919   355.283073   1054.508274    627.523787   \n",
       "2489996      124.910952  1691.580515   2942.649602   2457.680337   \n",
       "2489997      227.231037  8619.825728  43717.025193  27549.581169   \n",
       "2489998      225.906804  3351.785894   5725.242211   4944.412963   \n",
       "2489999       75.465092   220.297295    494.405711    290.384467   \n",
       "\n",
       "           BDF_FLUX_Z  BDF_MAG_ERR_G  ...  BDF_MAG_Z     BDF_S2N     BDF_T  \\\n",
       "0         1256.858374       0.069383  ...  22.251784   27.011140  0.138749   \n",
       "1         1700.058381       0.127145  ...  21.923840   31.202110  0.117498   \n",
       "2          631.930647       0.321817  ...  22.998326   11.189171  0.093982   \n",
       "3         3660.526013       0.268345  ...  21.091141   31.774227  0.701004   \n",
       "4         1109.955551       0.072088  ...  22.386736   28.065958  0.012088   \n",
       "...               ...            ...  ...        ...         ...       ...   \n",
       "2489995   1351.431416       0.187008  ...  22.173015   17.009415  1.978954   \n",
       "2489996   2900.870713       0.018879  ...  21.343679  101.318425  0.035240   \n",
       "2489997  57671.541540       0.005759  ...  18.097596  828.605412  2.388564   \n",
       "2489998   6356.856070       0.024975  ...  20.491894   98.170237  3.763813   \n",
       "2489999    308.781110       0.098701  ...  23.775873   16.105090 -0.032673   \n",
       "\n",
       "         BDF_T_ERR  BDF_T_RATIO  COADD_OBJECT_ID        DEC          RA  \\\n",
       "0         0.075012     0.115182       7102487092  27.507381  151.692954   \n",
       "1         0.046870     0.097531       7102487166  27.505418  151.195001   \n",
       "2         0.127729     0.080385       7102486722  27.513886  151.570765   \n",
       "3         0.194874     0.561435       7102485857  27.527388  151.475124   \n",
       "4         0.031021     0.009688       7102487183  27.505770  151.486737   \n",
       "...            ...          ...              ...        ...         ...   \n",
       "2489995   0.953786     2.181873       7101741628  15.004017  151.755157   \n",
       "2489996   0.009490     0.038142       7101738395  15.067651  151.383420   \n",
       "2489997   0.045883     2.669203       7139701007   8.217957  159.174737   \n",
       "2489998   0.233884     4.594762       7139703378   8.171689  159.594604   \n",
       "2489999   0.011578    -0.036407       7139700400   8.210418  159.557934   \n",
       "\n",
       "                TILENAME    index  \n",
       "0        b'DES1006+2751'        0  \n",
       "1        b'DES1006+2751'        1  \n",
       "2        b'DES1006+2751'        2  \n",
       "3        b'DES1006+2751'        3  \n",
       "4        b'DES1006+2751'        4  \n",
       "...                  ...      ...  \n",
       "2489995  b'DES1006+1500'  2489995  \n",
       "2489996  b'DES1006+1500'  2489996  \n",
       "2489997  b'DES1037+0752'  2489997  \n",
       "2489998  b'DES1037+0752'  2489998  \n",
       "2489999  b'DES1037+0752'  2489999  \n",
       "\n",
       "[2490000 rows x 26 columns]"
      ]
     },
     "execution_count": 19,
     "metadata": {},
     "output_type": "execute_result"
    }
   ],
   "source": [
    "data_i"
   ]
  },
  {
   "cell_type": "code",
   "execution_count": null,
   "id": "9b47a449",
   "metadata": {},
   "outputs": [],
   "source": [
    "for i in range(1,50):\n",
    "    data_i = pd.read_csv('/project2/chihway/raulteixeira/data/bdf_photometry/dr3_1_1_bdf_0000%.2d.csv.gz'%i)\n",
    "    r, i, z = data_i['']\n",
    "    metacal_mask = "
   ]
  }
 ],
 "metadata": {
  "kernelspec": {
   "display_name": "Python 3 (ipykernel)",
   "language": "python",
   "name": "python3"
  },
  "language_info": {
   "codemirror_mode": {
    "name": "ipython",
    "version": 3
   },
   "file_extension": ".py",
   "mimetype": "text/x-python",
   "name": "python",
   "nbconvert_exporter": "python",
   "pygments_lexer": "ipython3",
   "version": "3.7.6"
  }
 },
 "nbformat": 4,
 "nbformat_minor": 5
}
