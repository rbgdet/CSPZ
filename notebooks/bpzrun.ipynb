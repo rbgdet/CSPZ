{
 "cells": [
  {
   "cell_type": "code",
   "execution_count": 1,
   "id": "d0f5a264",
   "metadata": {},
   "outputs": [],
   "source": [
    "import matplotlib.pyplot as plt\n",
    "import numpy as np\n",
    "import shelve\n",
    "import h5py\n",
    "import glob\n",
    "import subprocess as sp\n",
    "\n",
    "fnamelist = glob.glob('/home/raulteixeira/scratch-midway2/CosmicShearData/bpztiles/pzinput/*METACAL*.h5')\n",
    "\n",
    "tiles = []\n",
    "for fname in fnamelist:\n",
    "    tiles.append(fname.split('_')[-1].split('.')[0])\n",
    "\n",
    "tiles = np.unique(tiles)"
   ]
  },
  {
   "cell_type": "code",
   "execution_count": 2,
   "id": "e6d027af",
   "metadata": {},
   "outputs": [
    {
     "data": {
      "text/plain": [
       "298"
      ]
     },
     "execution_count": 2,
     "metadata": {},
     "output_type": "execute_result"
    }
   ],
   "source": [
    "tiles.size"
   ]
  },
  {
   "cell_type": "code",
   "execution_count": 21,
   "id": "691d7fa8",
   "metadata": {},
   "outputs": [],
   "source": [
    "#priorlist = ['hdfn_gen', 'cosmos_Laigle_py3', 'sva1_weights']\n",
    "priorlist = ['hdfn_gen']\n",
    "tiles = ['DES1212-3540']\n",
    "for tile in tiles:\n",
    "    for prior in priorlist:\n",
    "        list_lines = ['COLUMNS     /home/raulteixeira/repos/DESC_BPZ/tests/CosmicShearPZ_COADD_ID.columns\\n'\n",
    "                      , f'OUTPUT\\t    /home/raulteixeira/scratch-midway2/CosmicShearData/bpztiles/output/pzs/pz_{prior}_METACAL4_{tile}.h5\\n'\n",
    "                      , 'SPECTRA     CWWSB4.list\\n'\n",
    "                      , f'PRIOR\\t  {prior}\\n'\n",
    "                      , 'DZ          0.01\\n'\n",
    "                      , 'ZMIN        0.005\\n'\n",
    "                      , 'ZMAX        3.505\\n'\n",
    "                      , 'MAG         yes\\n'\n",
    "                      , 'NEW_AB      no\\n'\n",
    "                      , 'MADAU\\t    no #TURN OFF MADAU!!!!\\n'\n",
    "                      , 'EXCLUDE     none\\n'\n",
    "                      , 'CHECK       yes\\n'\n",
    "                      , '#ZC          1.0,2.0\\n'\n",
    "                      , '#FC          0.2,0.4\\n'\n",
    "                      , 'VERBOSE     no\\n'\n",
    "                      , '#INTERP      0\\n'\n",
    "                      , 'ODDS        0.68\\n'\n",
    "                      , f'PROBS      /home/raulteixeira/scratch-midway2/CosmicShearData/bpztiles/output/probs/pz_{prior}_METACAL4_probs_{tile}\\n'\n",
    "                      , f'PROBS2     no\\n'\n",
    "                      , f'PROBS_LITE no\\n'\n",
    "                      , 'GET_Z       yes\\n'\n",
    "                      , 'INTERACTIVE yes\\n'\n",
    "                      , 'PLOTS       no\\n'\n",
    "                      , 'SAMPLING yes\\n'\n",
    "                      , 'NSAMPLES 1\\n'\n",
    "                      , 'SEED 42\\n'\n",
    "                      , '#ONLY_TYPE   yes\\n']\n",
    "\n",
    "        pars = open('/home/raulteixeira/repos/DESC_BPZ/tests/DELVEdata_example.pars', mode='w')\n",
    "        pars.writelines(list_lines)\n",
    "        pars.close()\n",
    "\n",
    "        catalog_name = f'/home/raulteixeira/scratch-midway2/CosmicShearData/bpztiles/pzinput/pzinput_METACAL_4_bands_{tile}.h5'\n",
    "        #running bpz using subprocess\n",
    "        sp.run(['python', '/home/raulteixeira/repos/DESC_BPZ/scripts/bpz.py', catalog_name,\n",
    "                '-P', '/home/raulteixeira/repos/DESC_BPZ/tests/DELVEdata_example.pars'], stderr=sp.PIPE, stdout = sp.PIPE, shell=True)"
   ]
  },
  {
   "cell_type": "code",
   "execution_count": 19,
   "id": "ed7e288a",
   "metadata": {
    "scrolled": true
   },
   "outputs": [
    {
     "ename": "CalledProcessError",
     "evalue": "Command '['python /home/raulteixeira/repos/DESC_BPZ/scripts/bpz.py', '/home/raulteixeira/scratch-midway2/CosmicShearData/bpztiles/pzinput/pzinput_METACAL_4_bands_DES1212-3540.h5', '-P', '/home/raulteixeira/repos/DESC_BPZ/tests/DELVEdata_example.pars']' returned non-zero exit status 1.",
     "output_type": "error",
     "traceback": [
      "\u001b[0;31m---------------------------------------------------------------------------\u001b[0m",
      "\u001b[0;31mCalledProcessError\u001b[0m                        Traceback (most recent call last)",
      "\u001b[0;32m<ipython-input-19-804bc4d49eca>\u001b[0m in \u001b[0;36m<module>\u001b[0;34m()\u001b[0m\n\u001b[1;32m      2\u001b[0m \u001b[0;34m\u001b[0m\u001b[0m\n\u001b[1;32m      3\u001b[0m sp.check_output(['python /home/raulteixeira/repos/DESC_BPZ/scripts/bpz.py', catalog_name,\n\u001b[0;32m----> 4\u001b[0;31m                 '-P', '/home/raulteixeira/repos/DESC_BPZ/tests/DELVEdata_example.pars'], shell=True)\n\u001b[0m",
      "\u001b[0;32m/software/python-anaconda-2020.02-el7-x86_64/lib/python3.7/subprocess.py\u001b[0m in \u001b[0;36mcheck_output\u001b[0;34m(timeout, *popenargs, **kwargs)\u001b[0m\n\u001b[1;32m    409\u001b[0m \u001b[0;34m\u001b[0m\u001b[0m\n\u001b[1;32m    410\u001b[0m     return run(*popenargs, stdout=PIPE, timeout=timeout, check=True,\n\u001b[0;32m--> 411\u001b[0;31m                **kwargs).stdout\n\u001b[0m\u001b[1;32m    412\u001b[0m \u001b[0;34m\u001b[0m\u001b[0m\n\u001b[1;32m    413\u001b[0m \u001b[0;34m\u001b[0m\u001b[0m\n",
      "\u001b[0;32m/software/python-anaconda-2020.02-el7-x86_64/lib/python3.7/subprocess.py\u001b[0m in \u001b[0;36mrun\u001b[0;34m(input, capture_output, timeout, check, *popenargs, **kwargs)\u001b[0m\n\u001b[1;32m    510\u001b[0m         \u001b[0;32mif\u001b[0m \u001b[0mcheck\u001b[0m \u001b[0;32mand\u001b[0m \u001b[0mretcode\u001b[0m\u001b[0;34m:\u001b[0m\u001b[0;34m\u001b[0m\u001b[0;34m\u001b[0m\u001b[0m\n\u001b[1;32m    511\u001b[0m             raise CalledProcessError(retcode, process.args,\n\u001b[0;32m--> 512\u001b[0;31m                                      output=stdout, stderr=stderr)\n\u001b[0m\u001b[1;32m    513\u001b[0m     \u001b[0;32mreturn\u001b[0m \u001b[0mCompletedProcess\u001b[0m\u001b[0;34m(\u001b[0m\u001b[0mprocess\u001b[0m\u001b[0;34m.\u001b[0m\u001b[0margs\u001b[0m\u001b[0;34m,\u001b[0m \u001b[0mretcode\u001b[0m\u001b[0;34m,\u001b[0m \u001b[0mstdout\u001b[0m\u001b[0;34m,\u001b[0m \u001b[0mstderr\u001b[0m\u001b[0;34m)\u001b[0m\u001b[0;34m\u001b[0m\u001b[0;34m\u001b[0m\u001b[0m\n\u001b[1;32m    514\u001b[0m \u001b[0;34m\u001b[0m\u001b[0m\n",
      "\u001b[0;31mCalledProcessError\u001b[0m: Command '['python /home/raulteixeira/repos/DESC_BPZ/scripts/bpz.py', '/home/raulteixeira/scratch-midway2/CosmicShearData/bpztiles/pzinput/pzinput_METACAL_4_bands_DES1212-3540.h5', '-P', '/home/raulteixeira/repos/DESC_BPZ/tests/DELVEdata_example.pars']' returned non-zero exit status 1."
     ]
    }
   ],
   "source": [
    "\n",
    "\n",
    "sp.check_output(['python /home/raulteixeira/repos/DESC_BPZ/scripts/bpz.py', catalog_name,\n",
    "                '-P', '/home/raulteixeira/repos/DESC_BPZ/tests/DELVEdata_example.pars'], shell=True)"
   ]
  },
  {
   "cell_type": "code",
   "execution_count": 36,
   "id": "bd796aab",
   "metadata": {},
   "outputs": [
    {
     "name": "stdout",
     "output_type": "stream",
     "text": [
      "bpz.py\tCSDC2114_test.columns\r\n"
     ]
    }
   ],
   "source": [
    "!ls /home/raulteixeira/repos/DESC_BPZ/scripts/"
   ]
  },
  {
   "cell_type": "code",
   "execution_count": 2,
   "id": "b2907c8b",
   "metadata": {},
   "outputs": [],
   "source": [
    "import os"
   ]
  },
  {
   "cell_type": "code",
   "execution_count": 8,
   "id": "6f949de6",
   "metadata": {},
   "outputs": [
    {
     "data": {
      "text/plain": [
       "0"
      ]
     },
     "execution_count": 8,
     "metadata": {},
     "output_type": "execute_result"
    }
   ],
   "source": [
    "tile = 'DES1250-3957'\n",
    "list_lines = ['COLUMNS     /home/raulteixeira/photoz/code/software/DESC_BPZ/tests/CosmicShearPZ.columns\\n'\n",
    "                  , f'OUTPUT\\t    /home/raulteixeira/scratch-midway2/CosmicShearData/bpztiles/output/pzs/pz_sgY3_{tile}.h5\\n'\n",
    "                  , 'SPECTRA     CWWSB4.list\\n', 'PRIOR\\t  hdfn_gen\\n', 'DZ          0.01\\n', 'ZMIN        0.005\\n'\n",
    "                  , 'ZMAX        3.505\\n', 'MAG         yes\\n', 'NEW_AB      no\\n', 'MADAU\\t    no #TURN OFF MADAU!!!!\\n'\n",
    "                  , 'EXCLUDE     none\\n', 'CHECK       yes\\n', '#ZC          1.0,2.0\\n', '#FC          0.2,0.4\\n'\n",
    "                  , 'VERBOSE     no\\n', '#INTERP      0\\n', 'ODDS        0.68\\n'\n",
    "                  , f'PROBS      /home/raulteixeira/scratch-midway2/CosmicShearData/bpztiles/output/probs/PZ_OUTPUT_sgY3_probs_{tile}_finer_test\\n'\n",
    "                  , f'PROBS2     no\\n'\n",
    "                  , f'PROBS_LITE no\\n', 'GET_Z       yes\\n', 'INTERACTIVE yes\\n', 'PLOTS       no\\n'\n",
    "                  , 'SAMPLING yes\\n', 'NSAMPLES 1\\n', 'SEED 42\\n'\n",
    "                  , '#ONLY_TYPE   yes\\n']\n",
    "    \n",
    "pars = open('/home/raulteixeira/repos/DESC_BPZ/tests/DELVEdata_example.pars', mode='w')\n",
    "pars.writelines(list_lines)\n",
    "pars.close()\n",
    "\n",
    "os.system('python /home/raulteixeira/repos/DESC_BPZ/scripts/bpz.py /home/raulteixeira/scratch-midway2/CosmicShearData/bpztiles/pzinput/pzinput_sgY3_DES1250-3957.h5 -P /home/raulteixeira/repos/DESC_BPZ/tests/DELVEdata_example.pars')"
   ]
  },
  {
   "cell_type": "code",
   "execution_count": 19,
   "id": "6500c31e",
   "metadata": {},
   "outputs": [
    {
     "ename": "AttributeError",
     "evalue": "module 'subprocess' has no attribute 'getouput'",
     "output_type": "error",
     "traceback": [
      "\u001b[0;31m---------------------------------------------------------------------------\u001b[0m",
      "\u001b[0;31mAttributeError\u001b[0m                            Traceback (most recent call last)",
      "\u001b[0;32m<ipython-input-19-3f6c07c3c319>\u001b[0m in \u001b[0;36m<module>\u001b[0;34m()\u001b[0m\n\u001b[0;32m----> 1\u001b[0;31m \u001b[0msp\u001b[0m\u001b[0;34m.\u001b[0m\u001b[0mgetouput\u001b[0m\u001b[0;34m(\u001b[0m\u001b[0;34m'ls'\u001b[0m\u001b[0;34m)\u001b[0m\u001b[0;34m\u001b[0m\u001b[0;34m\u001b[0m\u001b[0m\n\u001b[0m",
      "\u001b[0;31mAttributeError\u001b[0m: module 'subprocess' has no attribute 'getouput'"
     ]
    }
   ],
   "source": [
    "sp.getouput('ls')"
   ]
  },
  {
   "cell_type": "code",
   "execution_count": 26,
   "id": "13b4c6c1",
   "metadata": {},
   "outputs": [
    {
     "data": {
      "text/plain": [
       "b'BOSSDELVE10.ipynb\\nbossmatching.ipynb\\nBPZ0.ipynb\\nBPZ_BOSSDELVE00.ipynb\\nbpzdelve.ipynb\\nbpzrun.ipynb\\ncomparison_bpzcleciophz.ipynb\\nDELVE-BOSS.ipynb\\nFITStoHDF5.ipynb\\nHDF5toFITS.ipynb\\nPixelColumn.ipynb\\nProbsViewer.ipynb\\nPZ_OUTPUT_probs_DES1201-4040_finer.bak\\nPZ_OUTPUT_probs_DES1201-4040_finer.dat\\nPZ_OUTPUT_probs_DES1201-4040_finer.dir\\nTableStacker.ipynb\\n'"
      ]
     },
     "execution_count": 26,
     "metadata": {},
     "output_type": "execute_result"
    }
   ],
   "source": [
    "sp.check_output('', shell=True)"
   ]
  }
 ],
 "metadata": {
  "kernelspec": {
   "display_name": "Python 3",
   "language": "python",
   "name": "python3"
  },
  "language_info": {
   "codemirror_mode": {
    "name": "ipython",
    "version": 3
   },
   "file_extension": ".py",
   "mimetype": "text/x-python",
   "name": "python",
   "nbconvert_exporter": "python",
   "pygments_lexer": "ipython3",
   "version": "3.7.6"
  }
 },
 "nbformat": 4,
 "nbformat_minor": 5
}
