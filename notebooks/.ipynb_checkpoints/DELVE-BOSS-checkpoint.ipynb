{
 "cells": [
  {
   "cell_type": "markdown",
   "id": "e0eca389-4fd3-46df-8fbb-b4527189a0a5",
   "metadata": {},
   "source": [
    "# **DELVE-BOSS matching and comparison**"
   ]
  },
  {
   "cell_type": "code",
   "execution_count": 1,
   "id": "c67b8157-0574-482b-9ce8-9d2e1deeced3",
   "metadata": {},
   "outputs": [],
   "source": [
    "import numpy as np\n",
    "import pandas as pd\n",
    "import pylab as plt\n",
    "import h5py\n",
    "import matplotlib\n",
    "%matplotlib inline\n",
    "from astropy.utils.data import download_file  #import file from URL\n",
    "from matplotlib.ticker import NullFormatter\n",
    "import astropy.table\n",
    "import subprocess as sp\n",
    "import glob\n",
    "import healpy as hp"
   ]
  },
  {
   "cell_type": "code",
   "execution_count": 2,
   "id": "5834880f-ba89-4fbd-aab3-9c9ba6f56354",
   "metadata": {},
   "outputs": [],
   "source": [
    "flist = glob.glob('/data/des91.b/data/kadrlica/projects/delve/cat/y3t1/v1/cat/cat*.fits')\n",
    "pxnums = []\n",
    "for fname in flist:\n",
    "    pxnums.append(int(fname.split('.')[1].split('_')[-1]))\n",
    "pxnums = np.array(pxnums)\n",
    "ra, dec = hp.pix2ang(32, pxnums, lonlat=True)"
   ]
  },
  {
   "cell_type": "code",
   "execution_count": 3,
   "id": "9aa6bbbb-018c-49ff-b7ab-5f3ea23357e1",
   "metadata": {},
   "outputs": [],
   "source": [
    "data_boss_north = astropy.table.Table.read('/data/des90.a/data/raulteix/data/speczs/galaxy_DR12v5_CMASSLOWZTOT_North.fits.gz')\n",
    "data_boss_south = astropy.table.Table.read('/data/des90.a/data/raulteix/data/speczs/galaxy_DR12v5_CMASSLOWZTOT_South.fits.gz')\n",
    "data_boss_all = astropy.table.vstack([data_boss_north, data_boss_south])\n",
    "pxnums_boss = hp.ang2pix(32, data_boss_all['RA'], data_boss_all['DEC'], lonlat=True)\n",
    "overlap_boss_delve = np.in1d(pxnums_boss, pxnums)"
   ]
  },
  {
   "cell_type": "code",
   "execution_count": 6,
   "id": "06a501a7-d874-460f-a197-5b664e9c1839",
   "metadata": {},
   "outputs": [
    {
     "data": {
      "text/html": [
       "<div><i>Table length=1325856</i>\n",
       "<table id=\"table139849464866720\" class=\"table-striped table-bordered table-condensed\">\n",
       "<thead><tr><th>RA</th><th>DEC</th><th>RUN</th><th>RERUN</th><th>CAMCOL</th><th>FIELD</th><th>ID</th><th>ICHUNK</th><th>IPOLY</th><th>ISECT</th><th>FRACPSF [5]</th><th>EXPFLUX [5]</th><th>DEVFLUX [5]</th><th>PSFFLUX [5]</th><th>MODELFLUX [5]</th><th>FIBER2FLUX [5]</th><th>R_DEV [5]</th><th>EXTINCTION [5]</th><th>PSF_FWHM [5]</th><th>AIRMASS</th><th>SKYFLUX [5]</th><th>EB_MINUS_V</th><th>IMAGE_DEPTH [5]</th><th>IMATCH</th><th>Z</th><th>WEIGHT_FKP</th><th>WEIGHT_CP</th><th>WEIGHT_NOZ</th><th>WEIGHT_STAR</th><th>WEIGHT_SEEING</th><th>WEIGHT_SYSTOT</th><th>NZ</th><th>COMP</th><th>PLATE</th><th>FIBERID</th><th>MJD</th><th>FINALN</th><th>TILE [3]</th><th>SPECTILE</th><th>ICOLLIDED</th><th>INGROUP</th><th>MULTGROUP</th></tr></thead>\n",
       "<thead><tr><th>float64</th><th>float64</th><th>int32</th><th>bytes12</th><th>int32</th><th>int32</th><th>int32</th><th>int32</th><th>int32</th><th>int32</th><th>float32</th><th>float32</th><th>float32</th><th>float32</th><th>float32</th><th>float32</th><th>float32</th><th>float32</th><th>float32</th><th>float32</th><th>float32</th><th>float32</th><th>float32</th><th>int32</th><th>float32</th><th>float32</th><th>float32</th><th>float32</th><th>float32</th><th>float32</th><th>float32</th><th>float32</th><th>float32</th><th>int32</th><th>int32</th><th>int32</th><th>int32</th><th>int16</th><th>int32</th><th>int32</th><th>int32</th><th>int32</th></tr></thead>\n",
       "<tr><td>195.07128497875797</td><td>-0.5907713163844767</td><td>745</td><td>301</td><td>2</td><td>242</td><td>263</td><td>7</td><td>31442</td><td>12561</td><td>1.0 .. 1.0</td><td>5.3609266 .. 21.029993</td><td>7.2608414 .. 30.36549</td><td>-0.14064825 .. 11.323671</td><td>0.22083879 .. 25.720694</td><td>-0.018343575 .. 6.252284</td><td>74.92741 .. 5.007526</td><td>0.114992276 .. 0.032991964</td><td>1.5613878 .. 1.2457927</td><td>1.1966538</td><td>1.4503974 .. 34.529015</td><td>0.02230694</td><td>1.2488135 .. 5.2008977</td><td>1</td><td>0.4656479</td><td>0.22490303</td><td>1.0</td><td>1.0</td><td>0.9877055</td><td>1.0043356</td><td>0.9976136</td><td>0.00034463604</td><td>0.96330273</td><td>4051</td><td>537</td><td>55337</td><td>7</td><td>10371 .. -1</td><td>10371</td><td>0</td><td>35880</td><td>1</td></tr>\n",
       "<tr><td>195.02299176985144</td><td>-0.6109986068739428</td><td>745</td><td>301</td><td>2</td><td>242</td><td>557</td><td>7</td><td>31442</td><td>12561</td><td>0.0 .. 0.485507</td><td>1.0538298 .. 28.077778</td><td>1.9977036 .. 34.96221</td><td>0.15898278 .. 12.587491</td><td>0.3472642 .. 38.362625</td><td>0.13822621 .. 7.9084597</td><td>38.769444 .. 5.3888917</td><td>0.11467902 .. 0.032902088</td><td>1.5613878 .. 1.2457927</td><td>1.1966538</td><td>1.4503974 .. 34.529015</td><td>0.022246173</td><td>1.2488135 .. 5.2008977</td><td>1</td><td>0.56580216</td><td>0.23863779</td><td>1.0</td><td>1.0</td><td>0.9960191</td><td>1.0043356</td><td>1.0060105</td><td>0.00031904512</td><td>0.96330273</td><td>4051</td><td>519</td><td>55337</td><td>7</td><td>10371 .. -1</td><td>10371</td><td>0</td><td>8843</td><td>1</td></tr>\n",
       "<tr><td>195.07974105207435</td><td>0.34898067241979264</td><td>745</td><td>301</td><td>4</td><td>243</td><td>389</td><td>7</td><td>30058</td><td>1642</td><td>1.0 .. 1.0</td><td>4.0812035 .. 18.327095</td><td>4.580044 .. 30.421139</td><td>0.22630303 .. 9.857254</td><td>0.616989 .. 26.011078</td><td>0.12466159 .. 5.8147774</td><td>74.91412 .. 4.703323</td><td>0.12867135 .. 0.03691657</td><td>1.3627167 .. 1.1680814</td><td>1.1853721</td><td>1.422432 .. 33.400097</td><td>0.024960494</td><td>1.0738746 .. 4.7931013</td><td>1</td><td>0.61221063</td><td>0.34315524</td><td>1.0</td><td>1.0</td><td>0.9783097</td><td>0.9879532</td><td>0.9720055</td><td>0.00019141332</td><td>0.952</td><td>4051</td><td>553</td><td>55337</td><td>7</td><td>10371 .. -1</td><td>10371</td><td>0</td><td>13065</td><td>2</td></tr>\n",
       "<tr><td>195.1705738058857</td><td>0.3598641895951883</td><td>745</td><td>301</td><td>4</td><td>243</td><td>722</td><td>7</td><td>30064</td><td>1643</td><td>1.0 .. 1.0</td><td>11.847727 .. 18.313528</td><td>2.9395227 .. 24.89531</td><td>0.19240873 .. 13.38045</td><td>0.5129004 .. 26.396105</td><td>0.16149661 .. 8.317204</td><td>22.908083 .. 2.8948202</td><td>0.13199425 .. 0.037869927</td><td>1.3627167 .. 1.1680814</td><td>1.1853721</td><td>1.422432 .. 33.400097</td><td>0.02560509</td><td>1.0738746 .. 4.7931013</td><td>1</td><td>0.5020603</td><td>0.18490975</td><td>1.0</td><td>1.0</td><td>0.9991358</td><td>0.9879532</td><td>0.9926974</td><td>0.00044080438</td><td>1.0</td><td>4052</td><td>515</td><td>55600</td><td>7</td><td>10372 .. -1</td><td>10372</td><td>0</td><td>12492</td><td>1</td></tr>\n",
       "<tr><td>195.2042890842218</td><td>0.3472671634337523</td><td>745</td><td>301</td><td>4</td><td>243</td><td>883</td><td>7</td><td>30064</td><td>1643</td><td>1.0 .. 1.0</td><td>0.9547552 .. 13.006868</td><td>0.94908774 .. 14.829185</td><td>0.2857886 .. 7.6804867</td><td>0.27861363 .. 15.338097</td><td>0.16022317 .. 4.8716736</td><td>15.842348 .. 2.865391</td><td>0.13823059 .. 0.039659172</td><td>1.3627167 .. 1.1680814</td><td>1.1853721</td><td>1.422432 .. 33.400097</td><td>0.026814857</td><td>1.0738746 .. 4.7931013</td><td>1</td><td>0.5591732</td><td>0.2325996</td><td>1.0</td><td>1.0</td><td>0.97878534</td><td>0.9879532</td><td>0.9724781</td><td>0.00032992335</td><td>1.0</td><td>4051</td><td>559</td><td>55337</td><td>7</td><td>10371 .. -1</td><td>10371</td><td>0</td><td>2060</td><td>1</td></tr>\n",
       "<tr><td>195.26124844673603</td><td>0.2884124780753852</td><td>745</td><td>301</td><td>4</td><td>244</td><td>506</td><td>7</td><td>30064</td><td>1643</td><td>0.0 .. 1.0</td><td>0.45335904 .. 16.072401</td><td>0.46969956 .. 21.864227</td><td>0.15547043 .. 11.060858</td><td>0.25580257 .. 14.571057</td><td>0.096537545 .. 6.170809</td><td>5.5943246 .. 2.905092</td><td>0.14573613 .. 0.041812554</td><td>1.3353784 .. 1.1939708</td><td>1.1853721</td><td>1.4178582 .. 33.400097</td><td>0.028270828</td><td>1.050638 .. 4.899336</td><td>1</td><td>0.73590684</td><td>0.82845473</td><td>1.0</td><td>1.0</td><td>0.97960323</td><td>0.98765314</td><td>0.9729951</td><td>2.0706651e-05</td><td>1.0</td><td>4051</td><td>596</td><td>55337</td><td>7</td><td>10371 .. -1</td><td>10371</td><td>0</td><td>21454</td><td>1</td></tr>\n",
       "<tr><td>...</td><td>...</td><td>...</td><td>...</td><td>...</td><td>...</td><td>...</td><td>...</td><td>...</td><td>...</td><td>...</td><td>...</td><td>...</td><td>...</td><td>...</td><td>...</td><td>...</td><td>...</td><td>...</td><td>...</td><td>...</td><td>...</td><td>...</td><td>...</td><td>...</td><td>...</td><td>...</td><td>...</td><td>...</td><td>...</td><td>...</td><td>...</td><td>...</td><td>...</td><td>...</td><td>...</td><td>...</td><td>...</td><td>...</td><td>...</td><td>...</td><td>...</td></tr>\n",
       "<tr><td>318.34279202840077</td><td>2.646901120835802</td><td>7717</td><td>301</td><td>6</td><td>51</td><td>982</td><td>21</td><td>29117</td><td>6103</td><td>-0.0 .. 0.9698201</td><td>2.0141122 .. 58.867867</td><td>-0.30240676 .. 79.8288</td><td>-0.2535516 .. 25.449942</td><td>-0.2924558 .. 69.22061</td><td>0.0007514662 .. 15.4802475</td><td>0.00034301903 .. 4.3103695</td><td>0.32052237 .. 0.09195976</td><td>1.2805787 .. 1.229068</td><td>1.1913005</td><td>1.8439392 .. 20.477808</td><td>0.062176984</td><td>1.1505401 .. 3.949341</td><td>1</td><td>0.42227677</td><td>0.2997633</td><td>1.0</td><td>1.0</td><td>1.0</td><td>1.0</td><td>1.0</td><td>0.00023359654</td><td>0.9672727</td><td>5141</td><td>744</td><td>55746</td><td>39</td><td>13636 .. -1</td><td>13636</td><td>0</td><td>1375</td><td>1</td></tr>\n",
       "<tr><td>318.5016729585065</td><td>2.6389649390988117</td><td>7717</td><td>301</td><td>6</td><td>53</td><td>416</td><td>21</td><td>29117</td><td>6103</td><td>0.8581241 .. 0.89443827</td><td>18.81578 .. 544.13745</td><td>28.771635 .. 711.7505</td><td>6.702417 .. 215.2268</td><td>22.306341 .. 701.97</td><td>4.3823056 .. 135.80405</td><td>9.549296 .. 6.6519756</td><td>0.34405577 .. 0.09871163</td><td>1.2345836 .. 1.1943297</td><td>1.1911833</td><td>1.7972295 .. 20.414614</td><td>0.066742145</td><td>1.095019 .. 3.8317661</td><td>1</td><td>0.04796733</td><td>0.103228256</td><td>1.0</td><td>1.0</td><td>1.0</td><td>1.0</td><td>1.0</td><td>0.00086872705</td><td>0.9672727</td><td>5141</td><td>826</td><td>55746</td><td>39</td><td>13636 .. -1</td><td>13636</td><td>0</td><td>106</td><td>1</td></tr>\n",
       "<tr><td>319.06144475123955</td><td>1.2570339540162137</td><td>7712</td><td>301</td><td>2</td><td>56</td><td>1061</td><td>21</td><td>30287</td><td>6104</td><td>1.0 .. 0.8024568</td><td>0.4276739 .. 44.482845</td><td>0.42752495 .. 60.8719</td><td>0.48921552 .. 20.819693</td><td>0.39711553 .. 71.73789</td><td>0.22307917 .. 11.727295</td><td>0.010926779 .. 4.7011395</td><td>0.41990122 .. 0.12047214</td><td>1.7191098 .. 1.3572749</td><td>1.2323662</td><td>1.2068952 .. 19.178974</td><td>0.081455134</td><td>1.2723486 .. 4.2299557</td><td>2</td><td>0.42842898</td><td>0.3022302</td><td>1.0</td><td>1.0</td><td>1.0</td><td>1.0</td><td>1.0</td><td>0.00023087361</td><td>1.0</td><td>986</td><td>559</td><td>52443</td><td>39</td><td>-1 .. -1</td><td>0</td><td>0</td><td>-1</td><td>-1</td></tr>\n",
       "<tr><td>322.00917582197343</td><td>1.2588232829325268</td><td>7712</td><td>301</td><td>2</td><td>76</td><td>14</td><td>21</td><td>30318</td><td>6107</td><td>-0.0 .. 0.6933254</td><td>-0.15274368 .. 54.35522</td><td>-0.15272285 .. 64.75764</td><td>-0.14935477 .. 31.92138</td><td>-0.21933025 .. 69.325714</td><td>0.06188952 .. 16.139265</td><td>0.07147986 .. 2.8565493</td><td>0.24930142 .. 0.07152605</td><td>1.9045141 .. 1.5852436</td><td>1.2310958</td><td>1.2328271 .. 20.254536</td><td>0.04836109</td><td>1.4238218 .. 5.0767097</td><td>2</td><td>0.38721886</td><td>0.25698096</td><td>1.0</td><td>1.0</td><td>1.0</td><td>1.0</td><td>1.0</td><td>0.0002891339</td><td>0.9859155</td><td>1521</td><td>412</td><td>52945</td><td>39</td><td>-1 .. -1</td><td>0</td><td>0</td><td>-1</td><td>-1</td></tr>\n",
       "<tr><td>328.0877966054955</td><td>1.251043745973813</td><td>7717</td><td>301</td><td>2</td><td>116</td><td>351</td><td>21</td><td>30401</td><td>6114</td><td>1.0 .. 1.0</td><td>7.527006 .. 266.52026</td><td>12.941093 .. 413.92026</td><td>2.2629793 .. 98.45673</td><td>9.250295 .. 462.34058</td><td>1.4694322 .. 71.243645</td><td>11.537112 .. 5.594797</td><td>0.33721372 .. 0.09674861</td><td>1.3244481 .. 0.9950558</td><td>1.209574</td><td>1.0245744 .. 21.03984</td><td>0.06541488</td><td>0.89431363 .. 3.2442207</td><td>2</td><td>0.11979926</td><td>0.089139424</td><td>1.0</td><td>1.0</td><td>1.0</td><td>1.0</td><td>1.0</td><td>0.001021838</td><td>1.0</td><td>1107</td><td>533</td><td>52968</td><td>39</td><td>-1 .. -1</td><td>0</td><td>0</td><td>-1</td><td>-1</td></tr>\n",
       "<tr><td>329.67162612451824</td><td>1.2581531173388911</td><td>7717</td><td>301</td><td>2</td><td>127</td><td>301</td><td>21</td><td>30395</td><td>6115</td><td>1.0 .. 0.9224985</td><td>4.5558214 .. 127.532684</td><td>7.2877603 .. 185.42494</td><td>2.1150677 .. 44.093273</td><td>7.0513587 .. 198.37654</td><td>1.0912161 .. 32.189148</td><td>7.519461 .. 5.6834292</td><td>0.25336567 .. 0.0726921</td><td>1.3856604 .. 0.9789784</td><td>1.2090088</td><td>1.0309559 .. 19.712992</td><td>0.049149495</td><td>0.9383175 .. 3.0894248</td><td>2</td><td>0.21810117</td><td>0.19767013</td><td>1.0</td><td>1.0</td><td>1.0</td><td>1.0</td><td>1.0</td><td>0.0004058933</td><td>0.9794872</td><td>1106</td><td>403</td><td>52912</td><td>39</td><td>-1 .. -1</td><td>0</td><td>0</td><td>-1</td><td>-1</td></tr>\n",
       "<tr><td>329.8366770676921</td><td>1.2512414001523433</td><td>7717</td><td>301</td><td>2</td><td>128</td><td>324</td><td>21</td><td>30395</td><td>6115</td><td>1.0 .. 1.0</td><td>5.0657725 .. 230.96799</td><td>9.574913 .. 347.4482</td><td>2.1361866 .. 95.30538</td><td>7.5794983 .. 389.29218</td><td>1.2328991 .. 62.463837</td><td>9.647515 .. 5.645834</td><td>0.26248783 .. 0.07530931</td><td>1.3482982 .. 1.0510598</td><td>1.2089586</td><td>1.030933 .. 19.712944</td><td>0.05091907</td><td>0.9129863 .. 3.3168838</td><td>2</td><td>0.108355045</td><td>0.08621824</td><td>1.0</td><td>1.0</td><td>1.0</td><td>1.0</td><td>1.0</td><td>0.0010598474</td><td>0.9794872</td><td>1106</td><td>441</td><td>52912</td><td>39</td><td>-1 .. -1</td><td>0</td><td>0</td><td>-1</td><td>-1</td></tr>\n",
       "</table></div>"
      ],
      "text/plain": [
       "<Table length=1325856>\n",
       "        RA                 DEC          RUN  ... ICOLLIDED INGROUP MULTGROUP\n",
       "     float64             float64       int32 ...   int32    int32    int32  \n",
       "------------------ ------------------- ----- ... --------- ------- ---------\n",
       "195.07128497875797 -0.5907713163844767   745 ...         0   35880         1\n",
       "195.02299176985144 -0.6109986068739428   745 ...         0    8843         1\n",
       "195.07974105207435 0.34898067241979264   745 ...         0   13065         2\n",
       " 195.1705738058857  0.3598641895951883   745 ...         0   12492         1\n",
       " 195.2042890842218  0.3472671634337523   745 ...         0    2060         1\n",
       "195.26124844673603  0.2884124780753852   745 ...         0   21454         1\n",
       "               ...                 ...   ... ...       ...     ...       ...\n",
       "318.34279202840077   2.646901120835802  7717 ...         0    1375         1\n",
       " 318.5016729585065  2.6389649390988117  7717 ...         0     106         1\n",
       "319.06144475123955  1.2570339540162137  7712 ...         0      -1        -1\n",
       "322.00917582197343  1.2588232829325268  7712 ...         0      -1        -1\n",
       " 328.0877966054955   1.251043745973813  7717 ...         0      -1        -1\n",
       "329.67162612451824  1.2581531173388911  7717 ...         0      -1        -1\n",
       " 329.8366770676921  1.2512414001523433  7717 ...         0      -1        -1"
      ]
     },
     "execution_count": 6,
     "metadata": {},
     "output_type": "execute_result"
    }
   ],
   "source": [
    "data_boss_all.columns\n",
    "data_boss_all"
   ]
  },
  {
   "cell_type": "code",
   "execution_count": 4,
   "id": "3aec20d7-fa8d-41ff-a8b4-33babacb6c3f",
   "metadata": {},
   "outputs": [],
   "source": [
    "data_boss_good = data_boss_all[overlap_boss_delve]"
   ]
  },
  {
   "cell_type": "code",
   "execution_count": 5,
   "id": "3591eb12-2f07-4eae-9a9b-b2d0ed91e5be",
   "metadata": {},
   "outputs": [
    {
     "data": {
      "text/plain": [
       "944762"
      ]
     },
     "execution_count": 5,
     "metadata": {},
     "output_type": "execute_result"
    }
   ],
   "source": [
    "len(data_boss_good)"
   ]
  },
  {
   "cell_type": "code",
   "execution_count": 6,
   "id": "210263b0-58be-49d2-94af-c2b8f2c52044",
   "metadata": {},
   "outputs": [],
   "source": [
    "px_overlap = np.unique(pxnums_boss[overlap_boss_delve])"
   ]
  },
  {
   "cell_type": "code",
   "execution_count": 7,
   "id": "fe79c935-b697-4c9e-9ce7-7c7fdc4a7779",
   "metadata": {},
   "outputs": [],
   "source": [
    "RAdelve, DECdelve = hp.pix2ang(32, px_overlap, lonlat=True)"
   ]
  },
  {
   "cell_type": "code",
   "execution_count": 8,
   "id": "2ef40aee-77bf-4f24-9a5d-327091226dea",
   "metadata": {},
   "outputs": [],
   "source": [
    "mask1 = np.array(RAdelve)<180\n",
    "mask2 = np.array(RAdelve)>120\n",
    "mask3 = np.array(RAdelve)>-180\n",
    "mask4 = np.array(RAdelve)<-120\n",
    "\n",
    "mask5 = np.array(DECdelve)>-10\n",
    "mask6 = np.array(DECdelve)<10\n",
    "mask12 = mask1*mask2\n",
    "mask34 = mask3*mask4\n",
    "mask56 = mask5*mask6\n",
    "mask1234 = (mask12+mask34)\n",
    "mask = mask1234 * mask56"
   ]
  },
  {
   "cell_type": "code",
   "execution_count": 9,
   "id": "ae07bdc4-8d1c-48e5-9d06-31665b6994a9",
   "metadata": {},
   "outputs": [],
   "source": [
    "px_overlap_strings = np.char.add(np.zeros_like(np.array(px_overlap[mask])).astype('str'), np.array(px_overlap[mask]).astype('str'))"
   ]
  },
  {
   "cell_type": "code",
   "execution_count": null,
   "id": "88975d01-f17a-449f-be4f-38df6c3ff609",
   "metadata": {},
   "outputs": [],
   "source": [
    "#running bpz on all pixels\n",
    "for pixel in px_overlap_strings:\n",
    "    \n",
    "    #changing pars file to have correctly labeled output\n",
    "    list_lines = ['COLUMNS     /data/des90.a/data/raulteix/software/DESC_BPZ/tests/DELVEdata_example.columns\\n', f'OUTPUT\\t    /data/des90.a/data/raulteix/software/DESC_BPZ/tests/DELVEdata_example_output_{pixel}_no_wise.bpz.h5\\n', 'SPECTRA     CWWSB4.list\\n', 'PRIOR\\t    hdfn_gen\\n', 'DZ          0.01\\n', 'ZMIN        0.005\\n', 'ZMAX        3.505\\n', 'MAG         yes\\n', 'NEW_AB      no\\n', 'MADAU\\t    no #TURN OFF MADAU!!!!\\n', 'EXCLUDE     none\\n', 'CHECK       yes\\n', '#ZC          1.0,2.0\\n', '#FC          0.2,0.4\\n', 'VERBOSE     no\\n', '#INTERP      0\\n', 'ODDS        0.68\\n', 'PROBS       no\\n', 'PROBS_LITE  DELVEdata_09602_probs.h5\\n', 'GET_Z       yes\\n', 'INTERACTIVE yes\\n', 'PLOTS       no\\n', '#ONLY_TYPE   yes\\n']\n",
    "    pars = open('/data/des90.a/data/raulteix/software/DESC_BPZ/tests/DELVEdata_example.pars', mode='w')\n",
    "    pars.writelines(list_lines)\n",
    "    pars.close()\n",
    "    \n",
    "    #reading delve data\n",
    "    tab_alex = astropy.table.Table.read(f'/data/des91.b/data/kadrlica/projects/delve/cat/y3t1/v1/cat/cat_hpx_{pixel}.fits')\n",
    "    \n",
    "    #making sure we are only dealing with galaxies\n",
    "    bandlist = ['G', 'R', 'I', 'Z']\n",
    "    for band in bandlist:\n",
    "        tab_alex[f'EXTENDED_CLASS_{band}'] = 1*((tab_alex[f'SPREAD_MODEL_{band}'] + 3*tab_alex[f'SPREADERR_MODEL_{band}']) > 0.005) + 1*((tab_alex[f'SPREAD_MODEL_{band}'] + tab_alex[f'SPREADERR_MODEL_{band}']) > 0.003) + 1*((tab_alex[f'SPREAD_MODEL_{band}'] - tab_alex[f'SPREADERR_MODEL_{band}']) > 0.003)\n",
    "\n",
    "    tab_alex_f = tab_alex[tab_alex['EXTENDED_CLASS_G']>1]\n",
    "\n",
    "    #creating the table to be run through bpz\n",
    "    runthroughbpz = tab_alex_f['QUICK_OBJECT_ID', 'MAG_AUTO_G', 'MAG_AUTO_R', 'MAG_AUTO_I', 'MAG_AUTO_Z', 'MAGERR_AUTO_G', 'MAGERR_AUTO_R', 'MAGERR_AUTO_I', 'MAGERR_AUTO_Z'] #[tab_all['extended_class']>1]\n",
    "    \n",
    "    #converting to pandas dataframe\n",
    "    pdbpz = pd.DataFrame(data=runthroughbpz['QUICK_OBJECT_ID'], columns = ['QUICK_OBJECT_ID'])\n",
    "    for label in runthroughbpz.columns:\n",
    "        pdbpz[label] = runthroughbpz[label]\n",
    "    \n",
    "    #creating hdf5 file from pandas dataframe, which will be the file run through bpz\n",
    "    pdbpz.to_hdf(f'/data/des90.a/data/raulteix/software/DESC_BPZ/tests/DELVEdata_{pixel}_no_wise.h5', key='df')\n",
    "    \n",
    "    #changing file name for specific pixel\n",
    "    catalog_name = f'/data/des90.a/data/raulteix/software/DESC_BPZ/tests/DELVEdata_{pixel}_no_wise.h5'\n",
    "    \n",
    "    #running bpz using subprocess\n",
    "    sp.run(['python', '/data/des90.a/data/raulteix/software/DESC_BPZ/scripts/bpz.py', catalog_name, '-P', '/data/des90.a/data/raulteix/software/DESC_BPZ/tests/DELVEdata_example.pars'])"
   ]
  },
  {
   "cell_type": "code",
   "execution_count": null,
   "id": "98e4f342-83c7-42c7-aad2-fdb89dc44768",
   "metadata": {},
   "outputs": [],
   "source": [
    "#getting bpz redshifts\n",
    "data = astropy.table.Table()\n",
    "for pixel in px_overlap_strings:\n",
    "    tab_alex = astropy.table.Table.read(f'/data/des91.b/data/kadrlica/projects/delve/cat/y3t1/v1/cat/cat_hpx_{pixel}.fits')\n",
    "\n",
    "    bpzdata = h5py.File(f'/data/des90.a/data/raulteix/software/DESC_BPZ/tests/DELVEdata_example_output_{pixel}_no_wise.bpz.h5')\n",
    "    bpzdatapd = pd.DataFrame()\n",
    "    for key in list(bpzdata.keys()):\n",
    "        bpzdatapd[key]=list(bpzdata[key])\n",
    "\n",
    "    bpzdatatable = astropy.table.Table.from_pandas(bpzdatapd)\n",
    "    bpzdatatable['ID'].name = 'QUICK_OBJECT_ID'\n",
    "    datai = astropy.table.join(bpzdatatable, tab_alex_f, keys='QUICK_OBJECT_ID')\n",
    "    data = astropy.table.vstack(data, datai)\n",
    "    \n",
    "len(data)"
   ]
  },
  {
   "cell_type": "code",
   "execution_count": null,
   "id": "3590198c-b21e-4a44-a2ca-15d4817440c2",
   "metadata": {},
   "outputs": [],
   "source": [
    "from astropy.coordinates import SkyCoord\n",
    "from astropy import units as u\n",
    "boss_cd = SkyCoord(ra=data_boss_good['RA']*u.degree, dec=data_boss_good['DEC']*u.degree)\n",
    "bpz_cd = SkyCoord(ra=data['RA']*u.deg, dec=data['DEC']*u.deg)\n",
    "idx, d2d, d3d = boss_cd.match_to_catalog_sky(bpz_cd)"
   ]
  },
  {
   "cell_type": "code",
   "execution_count": null,
   "id": "f379d339-7fb6-44a0-a327-ff5121bc1c4b",
   "metadata": {},
   "outputs": [],
   "source": [
    "good_matches = d2d < 1.0*u.arcsec\n",
    "print(len(np.unique(idx[good_matches])), np.count_nonzero(good_matches))"
   ]
  },
  {
   "cell_type": "code",
   "execution_count": null,
   "id": "2b849885-ef7a-4212-a0cd-630c8c92d599",
   "metadata": {},
   "outputs": [],
   "source": [
    "idx_, d2d_, d3d_ = bpz_cd.match_to_catalog_sky(boss_cd)"
   ]
  },
  {
   "cell_type": "code",
   "execution_count": null,
   "id": "3bc09860-6fe7-44da-8950-cca1b6971a3b",
   "metadata": {},
   "outputs": [],
   "source": [
    "good_matches_ = d2d_ < 1.0*u.arcsec\n",
    "print(len(np.unique(idx_[good_matches_])), np.count_nonzero(good_matches_))"
   ]
  },
  {
   "cell_type": "code",
   "execution_count": null,
   "id": "013760f9-3ebc-46a2-af80-6385221d5f98",
   "metadata": {},
   "outputs": [],
   "source": [
    "data_all = astropy.table.hstack([data_boss_good[good_matches], data[idx][good_matches]])"
   ]
  },
  {
   "cell_type": "code",
   "execution_count": null,
   "id": "dec9867d-6cb7-41ae-8936-46efdc71ce76",
   "metadata": {},
   "outputs": [],
   "source": [
    "data_all.write('/data/des90.a/data/raulteix/data/DELVE-BOSS.fits', format='fits')"
   ]
  }
 ],
 "metadata": {
  "kernelspec": {
   "display_name": "Python 3 (ipykernel)",
   "language": "python",
   "name": "python3"
  },
  "language_info": {
   "codemirror_mode": {
    "name": "ipython",
    "version": 3
   },
   "file_extension": ".py",
   "mimetype": "text/x-python",
   "name": "python",
   "nbconvert_exporter": "python",
   "pygments_lexer": "ipython3",
   "version": "3.10.2"
  }
 },
 "nbformat": 4,
 "nbformat_minor": 5
}
