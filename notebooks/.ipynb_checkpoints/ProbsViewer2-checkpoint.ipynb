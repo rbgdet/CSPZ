{
 "cells": [
  {
   "cell_type": "code",
   "execution_count": 32,
   "id": "a5846947",
   "metadata": {},
   "outputs": [],
   "source": [
    "import matplotlib.pyplot as plt\n",
    "import numpy as np\n",
    "import shelve\n",
    "import h5py\n",
    "import glob\n",
    "import astropy\n",
    "from astropy.table import Table as Table\n",
    "def plot(x, y, ret=False):\n",
    "    a=plt.plot(x, y)\n",
    "    plt.show()\n",
    "    if ret: return a"
   ]
  },
  {
   "cell_type": "code",
   "execution_count": 17,
   "id": "ad4f78cc",
   "metadata": {},
   "outputs": [],
   "source": [
    "fnamelist = glob.glob('/home/raulteixeira/scratch-midway2/CosmicShearData/bpztiles/output/probs/*METACAL*')\n",
    "\n",
    "tiles = []\n",
    "for fname in fnamelist:\n",
    "    tiles.append(fname.split('_')[-1].split('.')[0])"
   ]
  },
  {
   "cell_type": "code",
   "execution_count": 20,
   "id": "378234b9",
   "metadata": {
    "scrolled": false
   },
   "outputs": [],
   "source": [
    "tiles = np.unique(tiles)"
   ]
  },
  {
   "cell_type": "code",
   "execution_count": 22,
   "id": "4fc58e25",
   "metadata": {},
   "outputs": [],
   "source": [
    "tile=tiles[0]"
   ]
  },
  {
   "cell_type": "code",
   "execution_count": 23,
   "id": "08b66ee9",
   "metadata": {},
   "outputs": [
    {
     "data": {
      "text/plain": [
       "'DES1156-3706'"
      ]
     },
     "execution_count": 23,
     "metadata": {},
     "output_type": "execute_result"
    }
   ],
   "source": [
    "tile"
   ]
  },
  {
   "cell_type": "code",
   "execution_count": null,
   "id": "3eac28b0",
   "metadata": {},
   "outputs": [],
   "source": []
  },
  {
   "cell_type": "markdown",
   "id": "a53eb143",
   "metadata": {},
   "source": [
    "## Single Tile"
   ]
  },
  {
   "cell_type": "code",
   "execution_count": 27,
   "id": "609ef893",
   "metadata": {},
   "outputs": [
    {
     "name": "stdout",
     "output_type": "stream",
     "text": [
      "0 out of 1603\n",
      "1000 out of 1603\n"
     ]
    }
   ],
   "source": [
    "# opening probs files\n",
    "path = f'/home/raulteixeira/scratch-midway2/CosmicShearData/bpztiles/output/probs/pz_METACAL4_probs_{tile}'\n",
    "probs = shelve.open(path)\n",
    "\n",
    "# opening samples files\n",
    "path = f'/home/raulteixeira/scratch-midway2/CosmicShearData/bpztiles/output/pzs/pz_METACAL4_{tile}_ITS.txt'\n",
    "samples = np.loadtxt(path)\n",
    "\n",
    "#BPZ h5 file\n",
    "filename = f'/home/raulteixeira/scratch-midway2/CosmicShearData/bpztiles/output/pzs/pz_METACAL4_{tile}.h5'\n",
    "with h5py.File(filename) as f:\n",
    "    bpzres={}\n",
    "    for key in list(f.keys()):\n",
    "        bpzres[key] = np.array(f[key])\n",
    "\n",
    "IDs=list(probs.keys())[2:]\n",
    "\n",
    "zs = probs[IDs[0]][0]\n",
    "\n",
    "pdftotal = np.zeros_like(zs)\n",
    "length = len(IDs)\n",
    "\n",
    "for i, ID in enumerate(IDs):\n",
    "    if i%1000==0: print(i, 'out of', length)\n",
    "    template = int(bpzres['T_ML'][i]-1)\n",
    "    pdf = probs[ID][2][:,template]\n",
    "    norm = np.sum(pdf)\n",
    "    #print(norm)\n",
    "    pdf /= norm\n",
    "    pdftotal += pdf"
   ]
  },
  {
   "cell_type": "code",
   "execution_count": null,
   "id": "921e647b",
   "metadata": {},
   "outputs": [],
   "source": [
    "#opening catalog file\n"
   ]
  },
  {
   "cell_type": "markdown",
   "id": "147d8924",
   "metadata": {},
   "source": [
    "## Stacked Tiles"
   ]
  },
  {
   "cell_type": "code",
   "execution_count": 29,
   "id": "875a8615",
   "metadata": {},
   "outputs": [],
   "source": [
    "#probs[]\n",
    "\n",
    "path = f'/home/raulteixeira/scratch-midway2/CosmicShearData/bpztiles/output/probs/pz_METACAL4_probs_{tile}'\n",
    "probs = shelve.open(path)\n",
    "IDs=list(probs.keys())[2:]"
   ]
  },
  {
   "cell_type": "code",
   "execution_count": 30,
   "id": "a5ab7cd9",
   "metadata": {},
   "outputs": [
    {
     "name": "stdout",
     "output_type": "stream",
     "text": [
      "0 out of 1603\n",
      "1000 out of 1603\n",
      "0 out of 4857\n",
      "1000 out of 4857\n",
      "2000 out of 4857\n",
      "3000 out of 4857\n",
      "4000 out of 4857\n",
      "0 out of 3502\n",
      "1000 out of 3502\n",
      "2000 out of 3502\n",
      "3000 out of 3502\n",
      "0 out of 2846\n",
      "1000 out of 2846\n",
      "2000 out of 2846\n",
      "0 out of 5208\n",
      "1000 out of 5208\n",
      "2000 out of 5208\n",
      "3000 out of 5208\n",
      "4000 out of 5208\n",
      "5000 out of 5208\n",
      "0 out of 5469\n",
      "1000 out of 5469\n",
      "2000 out of 5469\n",
      "3000 out of 5469\n",
      "4000 out of 5469\n",
      "5000 out of 5469\n",
      "0 out of 1595\n",
      "1000 out of 1595\n",
      "0 out of 6342\n",
      "1000 out of 6342\n",
      "2000 out of 6342\n",
      "3000 out of 6342\n",
      "4000 out of 6342\n",
      "5000 out of 6342\n",
      "6000 out of 6342\n",
      "0 out of 7505\n",
      "1000 out of 7505\n",
      "2000 out of 7505\n",
      "3000 out of 7505\n",
      "4000 out of 7505\n",
      "5000 out of 7505\n",
      "6000 out of 7505\n",
      "7000 out of 7505\n",
      "0 out of 7352\n",
      "1000 out of 7352\n",
      "2000 out of 7352\n",
      "3000 out of 7352\n",
      "4000 out of 7352\n",
      "5000 out of 7352\n",
      "6000 out of 7352\n",
      "7000 out of 7352\n",
      "0 out of 7107\n",
      "1000 out of 7107\n",
      "2000 out of 7107\n",
      "3000 out of 7107\n",
      "4000 out of 7107\n",
      "5000 out of 7107\n",
      "6000 out of 7107\n",
      "7000 out of 7107\n",
      "0 out of 7734\n",
      "1000 out of 7734\n",
      "2000 out of 7734\n",
      "3000 out of 7734\n",
      "4000 out of 7734\n",
      "5000 out of 7734\n",
      "6000 out of 7734\n",
      "7000 out of 7734\n",
      "0 out of 7541\n",
      "1000 out of 7541\n",
      "2000 out of 7541\n",
      "3000 out of 7541\n",
      "4000 out of 7541\n",
      "5000 out of 7541\n",
      "6000 out of 7541\n",
      "7000 out of 7541\n",
      "0 out of 6826\n",
      "1000 out of 6826\n",
      "2000 out of 6826\n",
      "3000 out of 6826\n",
      "4000 out of 6826\n",
      "5000 out of 6826\n",
      "6000 out of 6826\n",
      "0 out of 6060\n",
      "1000 out of 6060\n",
      "2000 out of 6060\n",
      "3000 out of 6060\n",
      "4000 out of 6060\n",
      "5000 out of 6060\n",
      "6000 out of 6060\n",
      "0 out of 8965\n",
      "1000 out of 8965\n",
      "2000 out of 8965\n",
      "3000 out of 8965\n",
      "4000 out of 8965\n",
      "5000 out of 8965\n",
      "6000 out of 8965\n",
      "7000 out of 8965\n",
      "8000 out of 8965\n",
      "0 out of 5702\n",
      "1000 out of 5702\n",
      "2000 out of 5702\n",
      "3000 out of 5702\n",
      "4000 out of 5702\n",
      "5000 out of 5702\n",
      "0 out of 6640\n",
      "1000 out of 6640\n",
      "2000 out of 6640\n",
      "3000 out of 6640\n",
      "4000 out of 6640\n",
      "5000 out of 6640\n",
      "6000 out of 6640\n",
      "0 out of 6791\n",
      "1000 out of 6791\n",
      "2000 out of 6791\n",
      "3000 out of 6791\n",
      "4000 out of 6791\n",
      "5000 out of 6791\n",
      "6000 out of 6791\n",
      "0 out of 6916\n",
      "1000 out of 6916\n",
      "2000 out of 6916\n",
      "3000 out of 6916\n",
      "4000 out of 6916\n",
      "5000 out of 6916\n",
      "6000 out of 6916\n"
     ]
    }
   ],
   "source": [
    "tile = tiles[11]\n",
    "path = f'/home/raulteixeira/scratch-midway2/CosmicShearData/bpztiles/output/probs/pz_METACAL4_probs_{tile}'\n",
    "probs = shelve.open(path)\n",
    "IDs=list(probs.keys())[2:]\n",
    "zs = probs[IDs[0]][0]\n",
    "\n",
    "PDF = pdftotal = np.zeros_like(zs)\n",
    "all_samples = np.array([])\n",
    "\n",
    "for tile in tiles[:20]:\n",
    "    # opening probs files\n",
    "    path = f'/home/raulteixeira/scratch-midway2/CosmicShearData/bpztiles/output/probs/pz_METACAL4_probs_{tile}'\n",
    "    probs = shelve.open(path)\n",
    "\n",
    "    # opening samples files\n",
    "    path = f'/home/raulteixeira/scratch-midway2/CosmicShearData/bpztiles/output/pzs/pz_METACAL4_{tile}_ITS.txt'\n",
    "    samples = np.loadtxt(path)\n",
    "    all_samples = np.concatenate((all_samples, samples))\n",
    "    \n",
    "    #BPZ h5 file\n",
    "    filename = f'/home/raulteixeira/scratch-midway2/CosmicShearData/bpztiles/output/pzs/pz_METACAL4_{tile}.h5'\n",
    "    with h5py.File(filename) as f:\n",
    "        bpzres={}\n",
    "        for key in list(f.keys()):\n",
    "            bpzres[key] = np.array(f[key])\n",
    "\n",
    "    IDs=list(probs.keys())[2:]\n",
    "\n",
    "    zs = probs[IDs[0]][0]\n",
    "\n",
    "    pdftotal = np.zeros_like(zs)\n",
    "    length = len(IDs)\n",
    "\n",
    "    for i, ID in enumerate(IDs):\n",
    "        if i%1000==0: print(i, 'out of', length)\n",
    "        template = int(bpzres['T_ML'][i]-1)\n",
    "        pdf = probs[ID][2][:,template]\n",
    "        norm = np.sum(pdf)\n",
    "        #print(norm)\n",
    "        pdf /= norm\n",
    "        pdftotal += pdf\n",
    "    \n",
    "    PDF += pdftotal"
   ]
  },
  {
   "cell_type": "code",
   "execution_count": 35,
   "id": "498aa919",
   "metadata": {},
   "outputs": [
    {
     "data": {
      "image/png": "[encoded data removed]",
      "text/plain": [
       "<Figure size 432x288 with 1 Axes>"
      ]
     },
     "metadata": {
      "needs_background": "light"
     },
     "output_type": "display_data"
    }
   ],
   "source": [
    "a = plt.hist(all_samples[all_samples>-1000], density=True, bins=50)"
   ]
  },
  {
   "cell_type": "code",
   "execution_count": 36,
   "id": "4908ed1e",
   "metadata": {},
   "outputs": [],
   "source": [
    "scale1 = PDF.max()\n",
    "scale2 = a[0].max()"
   ]
  },
  {
   "cell_type": "code",
   "execution_count": 37,
   "id": "bd77d685",
   "metadata": {
    "scrolled": true
   },
   "outputs": [
    {
     "data": {
      "image/png": "[encoded data removed]",
      "text/plain": [
       "<Figure size 432x288 with 1 Axes>"
      ]
     },
     "metadata": {
      "needs_background": "light"
     },
     "output_type": "display_data"
    }
   ],
   "source": [
    "#PDF/=np.sum(PDF)\n",
    "plt.xlabel('z')\n",
    "plt.ylabel('normalized counts')\n",
    "plt.plot(zs, scale2*PDF/scale1)\n",
    "a = plt.hist(all_samples[all_samples>-1000], density=True, bins=50)\n",
    "plt.show()\n",
    "\n",
    "#do for loop for all tiles calculated"
   ]
  },
  {
   "cell_type": "code",
   "execution_count": 39,
   "id": "587d1354",
   "metadata": {},
   "outputs": [],
   "source": [
    "# loading catalog\n",
    "mcal_full_data = Table.read('/home/raulteixeira/scratch-midway2/CosmicShearData/METACALgals.fits')"
   ]
  },
  {
   "cell_type": "code",
   "execution_count": 45,
   "id": "cec154df",
   "metadata": {
    "scrolled": true
   },
   "outputs": [
    {
     "data": {
      "text/plain": [
       "116561"
      ]
     },
     "execution_count": 45,
     "metadata": {},
     "output_type": "execute_result"
    }
   ],
   "source": [
    "all_samples.size"
   ]
  },
  {
   "cell_type": "code",
   "execution_count": 58,
   "id": "a50f9e7a",
   "metadata": {},
   "outputs": [],
   "source": [
    "btiles = []\n",
    "for tile in tiles:\n",
    "    btiles.append(bytes(tile, encoding='utf-8'))"
   ]
  },
  {
   "cell_type": "code",
   "execution_count": 59,
   "id": "49641a6f",
   "metadata": {},
   "outputs": [],
   "source": [
    "mcal_df = mcal_full_data.to_pandas()"
   ]
  },
  {
   "cell_type": "code",
   "execution_count": 60,
   "id": "6e18ec17",
   "metadata": {},
   "outputs": [],
   "source": [
    "mcal_df = mcal_df.loc[mcal_df['TILENAME'].isin(btiles)] #this ensures ordering by tiles as well!"
   ]
  },
  {
   "cell_type": "code",
   "execution_count": 62,
   "id": "6ccbd770",
   "metadata": {},
   "outputs": [
    {
     "data": {
      "text/plain": [
       "116561"
      ]
     },
     "execution_count": 62,
     "metadata": {},
     "output_type": "execute_result"
    }
   ],
   "source": [
    "mcal_df['SAMPLED_Z']=all_samples"
   ]
  },
  {
   "cell_type": "code",
   "execution_count": null,
   "id": "f3856cd2",
   "metadata": {},
   "outputs": [],
   "source": [
    "crazymask = g-r,r-i,i-z# masking out crazy colors"
   ]
  }
 ],
 "metadata": {
  "kernelspec": {
   "display_name": "Python 3",
   "language": "python",
   "name": "python3"
  },
  "language_info": {
   "codemirror_mode": {
    "name": "ipython",
    "version": 3
   },
   "file_extension": ".py",
   "mimetype": "text/x-python",
   "name": "python",
   "nbconvert_exporter": "python",
   "pygments_lexer": "ipython3",
   "version": "3.7.6"
  }
 },
 "nbformat": 4,
 "nbformat_minor": 5
}
