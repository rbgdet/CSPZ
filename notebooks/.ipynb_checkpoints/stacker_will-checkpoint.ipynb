{
 "cells": [
  {
   "cell_type": "code",
   "execution_count": 1,
   "id": "6004811d",
   "metadata": {},
   "outputs": [],
   "source": [
    "import pandas as pd\n",
    "import glob\n",
    "import numpy as np\n",
    "filenames = glob.glob('/home/raulteixeira/scratch-midway2/CosmicShearData/DELVE_BDF_data_with_zspec022123_*.gz')"
   ]
  },
  {
   "cell_type": "code",
   "execution_count": 2,
   "id": "9163f94b",
   "metadata": {},
   "outputs": [
    {
     "name": "stdout",
     "output_type": "stream",
     "text": [
      "97956\n",
      "95341\n",
      "106967\n",
      "105799\n",
      "106608\n"
     ]
    }
   ],
   "source": [
    "dfs = []\n",
    "for i, filename in enumerate(filenames):\n",
    "    data = pd.read_csv(filename)\n",
    "    print(len(data))\n",
    "    for column in data.columns:\n",
    "        if column[4:8]=='FLUX':\n",
    "            data[column]*=1e-12\n",
    "    dfs.append(data)\n",
    "    #data.to_hdf(f'/home/raulteixeira/scratch-midway2/CosmicShearData/DELVE_BDF_data_with_zspec022123_{i+1}.h5', key='df')"
   ]
  },
  {
   "cell_type": "code",
   "execution_count": 3,
   "id": "a5ba1af2",
   "metadata": {},
   "outputs": [],
   "source": [
    "df = pd.concat(dfs)"
   ]
  },
  {
   "cell_type": "code",
   "execution_count": 5,
   "id": "4c712f37",
   "metadata": {},
   "outputs": [],
   "source": [
    "df = df[df['BDF_MAG_I']>21]"
   ]
  },
  {
   "cell_type": "code",
   "execution_count": 7,
   "id": "54a77353",
   "metadata": {},
   "outputs": [
    {
     "data": {
      "image/png": "[encoded data removed]",
      "text/plain": [
       "<Figure size 432x288 with 1 Axes>"
      ]
     },
     "metadata": {
      "needs_background": "light"
     },
     "output_type": "display_data"
    }
   ],
   "source": [
    "import matplotlib.pyplot as plt\n",
    "plt.hist(df['BDF_MAG_I']);"
   ]
  },
  {
   "cell_type": "code",
   "execution_count": 9,
   "id": "e9a4568a",
   "metadata": {},
   "outputs": [],
   "source": [
    "df.to_hdf('/home/raulteixeira/scratch-midway2/CosmicShearData/DELVE_BDF_data_with_zspec022123_mag_gt21.h5', key='df')"
   ]
  },
  {
   "cell_type": "code",
   "execution_count": 36,
   "id": "5068b130",
   "metadata": {},
   "outputs": [],
   "source": [
    "filenames = glob.glob('/home/raulteixeira/scratch-midway2/CosmicShearData/DELVE_BDF_data_with_zspec022123_*.csv.gz')"
   ]
  },
  {
   "cell_type": "code",
   "execution_count": 37,
   "id": "e55bf5d6",
   "metadata": {},
   "outputs": [],
   "source": [
    "filenames = np.sort(filenames)"
   ]
  },
  {
   "cell_type": "code",
   "execution_count": 38,
   "id": "9af9aa7d",
   "metadata": {},
   "outputs": [
    {
     "data": {
      "text/plain": [
       "array(['/home/raulteixeira/scratch-midway2/CosmicShearData/DELVE_BDF_data_with_zspec022123_1.csv.gz',\n",
       "       '/home/raulteixeira/scratch-midway2/CosmicShearData/DELVE_BDF_data_with_zspec022123_2.csv.gz',\n",
       "       '/home/raulteixeira/scratch-midway2/CosmicShearData/DELVE_BDF_data_with_zspec022123_3.csv.gz',\n",
       "       '/home/raulteixeira/scratch-midway2/CosmicShearData/DELVE_BDF_data_with_zspec022123_4.csv.gz',\n",
       "       '/home/raulteixeira/scratch-midway2/CosmicShearData/DELVE_BDF_data_with_zspec022123_5.csv.gz'],\n",
       "      dtype='<U91')"
      ]
     },
     "execution_count": 38,
     "metadata": {},
     "output_type": "execute_result"
    }
   ],
   "source": [
    "filenames"
   ]
  },
  {
   "cell_type": "code",
   "execution_count": 39,
   "id": "3f787c15",
   "metadata": {},
   "outputs": [],
   "source": [
    "dfs = []\n",
    "for filename in filenames:\n",
    "    data = pd.read_csv(filename)\n",
    "    dfs.append(data)\n",
    "df = pd.concat(dfs)"
   ]
  },
  {
   "cell_type": "code",
   "execution_count": 41,
   "id": "b3f365b1",
   "metadata": {
    "scrolled": true
   },
   "outputs": [],
   "source": [
    "df.to_csv('/home/raulteixeira/scratch-midway2/CosmicShearData/DELVE_BDF_data_with_zspec022123.csv.gz')"
   ]
  },
  {
   "cell_type": "code",
   "execution_count": 3,
   "id": "f65a7efe",
   "metadata": {},
   "outputs": [
    {
     "name": "stdout",
     "output_type": "stream",
     "text": [
      "0\n",
      "1\n",
      "2\n",
      "3\n",
      "4\n"
     ]
    }
   ],
   "source": [
    "import h5py\n",
    "filenames = glob.glob('/home/raulteixeira/repos/DESC_BPZ/tests/pz_DELVE_BDF_eazy*.h5')\n",
    "filenames = np.sort(filenames)\n",
    "\n",
    "dfs = []\n",
    "for i, filename in enumerate(filenames):\n",
    "    file = h5py.File(filename)\n",
    "    data_zp={}\n",
    "    for key in file.keys():\n",
    "        if key=='ID':\n",
    "            data_zp['COADD_OBJECT_ID']=np.array(file[key])\n",
    "        else: data_zp[key]=np.array(file[key])\n",
    "\n",
    "    t_bpz_zp = pd.DataFrame(data_zp)\n",
    "    dfs.append(t_bpz_zp)\n",
    "    print(i)\n",
    "df = pd.concat(dfs)"
   ]
  },
  {
   "cell_type": "code",
   "execution_count": 5,
   "id": "a61f05e0",
   "metadata": {},
   "outputs": [],
   "source": [
    "df.to_csv('/project2/chihway/raulteixeira/data/pz_DELVE_BDF_eazy.csv.gz')"
   ]
  }
 ],
 "metadata": {
  "kernelspec": {
   "display_name": "Python 3",
   "language": "python",
   "name": "python3"
  },
  "language_info": {
   "codemirror_mode": {
    "name": "ipython",
    "version": 3
   },
   "file_extension": ".py",
   "mimetype": "text/x-python",
   "name": "python",
   "nbconvert_exporter": "python",
   "pygments_lexer": "ipython3",
   "version": "3.7.6"
  }
 },
 "nbformat": 4,
 "nbformat_minor": 5
}
