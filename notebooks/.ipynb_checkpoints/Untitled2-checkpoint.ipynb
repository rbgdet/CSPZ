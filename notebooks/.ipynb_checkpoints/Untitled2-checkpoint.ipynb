{
 "cells": [
  {
   "cell_type": "code",
   "execution_count": 2,
   "id": "a5aa1f56",
   "metadata": {},
   "outputs": [
    {
     "name": "stdout",
     "output_type": "stream",
     "text": [
      "Requirement already satisfied: easyaccess in /home/raulteixeira/.conda/envs/shear/lib/python3.9/site-packages (1.4.8.dev0)\n",
      "Requirement already satisfied: pandas>=0.14 in /home/raulteixeira/.conda/envs/shear/lib/python3.9/site-packages (from easyaccess) (1.4.2)\n",
      "Requirement already satisfied: termcolor in /home/raulteixeira/.conda/envs/shear/lib/python3.9/site-packages (from easyaccess) (1.1.0)\n",
      "Requirement already satisfied: cx-Oracle in /home/raulteixeira/.conda/envs/shear/lib/python3.9/site-packages (from easyaccess) (8.3.0)\n",
      "Requirement already satisfied: numpy>=1.19.2 in /home/raulteixeira/.conda/envs/shear/lib/python3.9/site-packages (from easyaccess) (1.22.3)\n",
      "Requirement already satisfied: requests in /home/raulteixeira/.conda/envs/shear/lib/python3.9/site-packages (from easyaccess) (2.27.1)\n",
      "Requirement already satisfied: fitsio>=1.0.5 in /home/raulteixeira/.conda/envs/shear/lib/python3.9/site-packages (from easyaccess) (1.1.7)\n",
      "Requirement already satisfied: setuptools in /home/raulteixeira/.conda/envs/shear/lib/python3.9/site-packages (from easyaccess) (62.1.0)\n",
      "Requirement already satisfied: future>=0.15.0 in /home/raulteixeira/.conda/envs/shear/lib/python3.9/site-packages (from easyaccess) (0.18.2)\n",
      "Requirement already satisfied: python-dateutil>=2.8.1 in /home/raulteixeira/.conda/envs/shear/lib/python3.9/site-packages (from pandas>=0.14->easyaccess) (2.8.2)\n",
      "Requirement already satisfied: pytz>=2020.1 in /home/raulteixeira/.conda/envs/shear/lib/python3.9/site-packages (from pandas>=0.14->easyaccess) (2022.1)\n",
      "Requirement already satisfied: charset-normalizer~=2.0.0 in /home/raulteixeira/.conda/envs/shear/lib/python3.9/site-packages (from requests->easyaccess) (2.0.12)\n",
      "Requirement already satisfied: urllib3<1.27,>=1.21.1 in /home/raulteixeira/.conda/envs/shear/lib/python3.9/site-packages (from requests->easyaccess) (1.26.9)\n",
      "Requirement already satisfied: idna<4,>=2.5 in /home/raulteixeira/.conda/envs/shear/lib/python3.9/site-packages (from requests->easyaccess) (3.3)\n",
      "Requirement already satisfied: certifi>=2017.4.17 in /home/raulteixeira/.conda/envs/shear/lib/python3.9/site-packages (from requests->easyaccess) (2021.10.8)\n",
      "Requirement already satisfied: six>=1.5 in /home/raulteixeira/.conda/envs/shear/lib/python3.9/site-packages (from python-dateutil>=2.8.1->pandas>=0.14->easyaccess) (1.16.0)\n"
     ]
    }
   ],
   "source": [
    "!pip install easyaccess"
   ]
  },
  {
   "cell_type": "code",
   "execution_count": 5,
   "id": "0dece495",
   "metadata": {},
   "outputs": [
    {
     "ename": "ModuleNotFoundError",
     "evalue": "No module named 'easyaccess'",
     "output_type": "error",
     "traceback": [
      "\u001b[0;31m---------------------------------------------------------------------------\u001b[0m",
      "\u001b[0;31mModuleNotFoundError\u001b[0m                       Traceback (most recent call last)",
      "\u001b[0;32m<ipython-input-5-e8f9424cd620>\u001b[0m in \u001b[0;36m<module>\u001b[0;34m()\u001b[0m\n\u001b[1;32m      5\u001b[0m \u001b[0;32mimport\u001b[0m \u001b[0mpandas\u001b[0m \u001b[0;32mas\u001b[0m \u001b[0mpd\u001b[0m\u001b[0;34m\u001b[0m\u001b[0;34m\u001b[0m\u001b[0m\n\u001b[1;32m      6\u001b[0m \u001b[0;32mimport\u001b[0m \u001b[0mmatplotlib\u001b[0m\u001b[0;34m.\u001b[0m\u001b[0mpyplot\u001b[0m \u001b[0;32mas\u001b[0m \u001b[0mplt\u001b[0m\u001b[0;34m\u001b[0m\u001b[0;34m\u001b[0m\u001b[0m\n\u001b[0;32m----> 7\u001b[0;31m \u001b[0;32mimport\u001b[0m \u001b[0measyaccess\u001b[0m \u001b[0;32mas\u001b[0m \u001b[0mea\u001b[0m\u001b[0;34m\u001b[0m\u001b[0;34m\u001b[0m\u001b[0m\n\u001b[0m\u001b[1;32m      8\u001b[0m \u001b[0;32mimport\u001b[0m \u001b[0mseaborn\u001b[0m \u001b[0;32mas\u001b[0m \u001b[0msns\u001b[0m\u001b[0;34m\u001b[0m\u001b[0;34m\u001b[0m\u001b[0m\n\u001b[1;32m      9\u001b[0m \u001b[0;34m\u001b[0m\u001b[0m\n",
      "\u001b[0;31mModuleNotFoundError\u001b[0m: No module named 'easyaccess'"
     ]
    }
   ],
   "source": [
    "# # easyaccess python API\n",
    "\n",
    "\n",
    "import numpy as np\n",
    "import pandas as pd\n",
    "import matplotlib.pyplot as plt\n",
    "import easyaccess as ea\n",
    "import seaborn as sns\n",
    "\n",
    "connection=ea.connect()\n",
    "\n",
    "metadata = np.genfromtxt('/home/raulteixeira/repos/CSPZ/scripts/tile_DR3_1_1.csv', dtype='str', delimiter=\",\")[1:][int(tile)]\n",
    "\n",
    "tilename = metadata[0][2:-1]\n",
    "# ###Using cursor\n",
    "print(tilename)\n",
    "cursor=connection.cursor() ##create a cursor object to handle the DB\n",
    "\n",
    "query=f'SELECT x.coadd_object_id, x.ra, x.dec, flux_auto_g, flux_auto_r, flux_auto_i\\\n",
    ", flux_auto_z, fluxerr_auto_g, fluxerr_auto_r, fluxerr_auto_i, fluxerr_auto_z, mag_auto_g\\\n",
    ", mag_auto_r, mag_auto_i, mag_auto_z, magerr_auto_g, magerr_auto_r, magerr_auto_i\\\n",
    ", magerr_auto_z, x.tilename, flags_g, flags_r, flags_i, flags_z\\\n",
    "FROM dr3_1_1_coadd_object_summary x WHERE mag_auto_i<23 AND NOT \\\n",
    "((mag_auto_r - mag_auto_i>5) OR (mag_auto_r - mag_auto_i<-5) OR \\\n",
    "(mag_auto_i-mag_auto_z>5) OR (mag_auto_i - mag_auto_z<-5)) AND NOT \\\n",
    "(mag_auto_i<22 AND nepochs_g=0 AND nepochs_r=0 AND nepochs_i=0 AND nepochs_z=0) \\\n",
    "AND flags_g<=3 AND flags_r<=3 AND flags_i<=3 AND flags_z<=3 AND imaflags_iso_g=0 \\\n",
    "AND x.imaflags_iso_r=0 AND imaflags_iso_i=0 AND imaflags_iso_z=0 AND NOT \\\n",
    "(((wavg_spread_model_i+3*wavg_spreaderr_model_i<=0.005) AND \\\n",
    "(wavg_spread_model_i+wavg_spreaderr_model_i<=0.003) AND \\\n",
    "(wavg_spread_model_i-wavg_spreaderr_model_i<=0.002)) OR \\\n",
    "((wavg_spread_model_i+3*wavg_spreaderr_model_i>0.005) AND \\\n",
    "(wavg_spread_model_i+wavg_spreaderr_model_i<=0.003) AND \\\n",
    "(wavg_spread_model_i-wavg_spreaderr_model_i<=0.002)) OR \\\n",
    "((wavg_spread_model_i+3*wavg_spreaderr_model_i<=0.005) AND \\\n",
    "(wavg_spread_model_i+wavg_spreaderr_model_i>0.003) AND \\\n",
    "(wavg_spread_model_i-wavg_spreaderr_model_i<=0.002)) OR \\\n",
    "((wavg_spread_model_i+3*wavg_spreaderr_model_i<=0.005) AND \\\n",
    "(wavg_spread_model_i+wavg_spreaderr_model_i<=0.003) AND \\\n",
    "(wavg_spread_model_i-wavg_spreaderr_model_i>0.002))) AND tilename={tilename}; > dr3_1_1_photometry.h5' ##query\n",
    "\n",
    "#QQ=cursor.execute(query) #execute query"
   ]
  },
  {
   "cell_type": "code",
   "execution_count": 8,
   "id": "dacf91ac",
   "metadata": {},
   "outputs": [],
   "source": [
    "tile = 0\n",
    "tilenames = np.genfromtxt('/home/raulteixeira/repos/CSPZ/scripts/tile_DR3_1_1.csv', dtype='str', delimiter=\",\")[1:][:,0]"
   ]
  },
  {
   "cell_type": "code",
   "execution_count": 13,
   "id": "f1121e42",
   "metadata": {},
   "outputs": [
    {
     "data": {
      "text/plain": [
       "array([\"b'DES1157-0624'\", \"b'DES0714+1626'\", \"b'DES0717+1834'\", ...,\n",
       "       \"b'DES1058+1917'\", \"b'DES1058-1207'\", \"b'DES1059+1043'\"],\n",
       "      dtype='<U46')"
      ]
     },
     "execution_count": 13,
     "metadata": {},
     "output_type": "execute_result"
    }
   ],
   "source": [
    "metadata[:,0]"
   ]
  },
  {
   "cell_type": "code",
   "execution_count": 4,
   "id": "d98adfa4",
   "metadata": {},
   "outputs": [
    {
     "ename": "ModuleNotFoundError",
     "evalue": "No module named 'easyaccess'",
     "output_type": "error",
     "traceback": [
      "\u001b[0;31m---------------------------------------------------------------------------\u001b[0m",
      "\u001b[0;31mModuleNotFoundError\u001b[0m                       Traceback (most recent call last)",
      "\u001b[0;32m<ipython-input-4-0ee4b420ea14>\u001b[0m in \u001b[0;36m<module>\u001b[0;34m()\u001b[0m\n\u001b[0;32m----> 1\u001b[0;31m \u001b[0;32mimport\u001b[0m \u001b[0measyaccess\u001b[0m\u001b[0;34m\u001b[0m\u001b[0;34m\u001b[0m\u001b[0m\n\u001b[0m",
      "\u001b[0;31mModuleNotFoundError\u001b[0m: No module named 'easyaccess'"
     ]
    }
   ],
   "source": [
    "import easyaccess"
   ]
  }
 ],
 "metadata": {
  "kernelspec": {
   "display_name": "Python 3",
   "language": "python",
   "name": "python3"
  },
  "language_info": {
   "codemirror_mode": {
    "name": "ipython",
    "version": 3
   },
   "file_extension": ".py",
   "mimetype": "text/x-python",
   "name": "python",
   "nbconvert_exporter": "python",
   "pygments_lexer": "ipython3",
   "version": "3.7.6"
  }
 },
 "nbformat": 4,
 "nbformat_minor": 5
}
