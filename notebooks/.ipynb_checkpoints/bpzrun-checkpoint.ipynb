{
 "cells": [
  {
   "cell_type": "code",
   "execution_count": 1,
   "id": "691d7fa8",
   "metadata": {},
   "outputs": [],
   "source": [
    "import matplotlib.pyplot as plt\n",
    "import numpy as np\n",
    "import shelve\n",
    "import h5py\n",
    "import glob\n",
    "import subprocess as sp"
   ]
  },
  {
   "cell_type": "code",
   "execution_count": 2,
   "id": "be9abc5b",
   "metadata": {
    "scrolled": true
   },
   "outputs": [],
   "source": [
    "fnamelist = glob.glob('/home/raulteixeira/scratch-midway2/CosmicShearData/bpztiles/pzinput/*METACAL*.h5')"
   ]
  },
  {
   "cell_type": "code",
   "execution_count": 3,
   "id": "32654cb3",
   "metadata": {},
   "outputs": [],
   "source": [
    "tiles = []\n",
    "for fname in fnamelist:\n",
    "    tiles.append(fname.split('_')[-1].split('.')[0])"
   ]
  },
  {
   "cell_type": "code",
   "execution_count": 4,
   "id": "1686cff7",
   "metadata": {},
   "outputs": [],
   "source": [
    "tiles = np.unique(tiles)"
   ]
  },
  {
   "cell_type": "code",
   "execution_count": 12,
   "id": "c8437e5a",
   "metadata": {},
   "outputs": [
    {
     "data": {
      "text/plain": [
       "298"
      ]
     },
     "execution_count": 12,
     "metadata": {},
     "output_type": "execute_result"
    }
   ],
   "source": [
    "tiles.size"
   ]
  },
  {
   "cell_type": "code",
   "execution_count": 11,
   "id": "3e2798cb",
   "metadata": {},
   "outputs": [],
   "source": [
    "for tile in tiles[0:1]:\n",
    "    list_lines = ['COLUMNS     /home/raulteixeira/repos/DESC_BPZ/tests/CosmicShearPZ.columns\\n'\n",
    "                  , f'OUTPUT\\t    /home/raulteixeira/scratch-midway2/CosmicShearData/bpztiles/output/pzs/pz_METACAL4_{tile}.h5\\n'\n",
    "                  , 'SPECTRA     CWWSB4.list\\n'\n",
    "                  , 'PRIOR\\t  hdfn_gen\\n'\n",
    "                  , 'DZ          0.01\\n'\n",
    "                  , 'ZMIN        0.005\\n'\n",
    "                  , 'ZMAX        3.505\\n'\n",
    "                  , 'MAG         yes\\n'\n",
    "                  , 'NEW_AB      no\\n'\n",
    "                  , 'MADAU\\t    no #TURN OFF MADAU!!!!\\n'\n",
    "                  , 'EXCLUDE     none\\n'\n",
    "                  , 'CHECK       yes\\n'\n",
    "                  , '#ZC          1.0,2.0\\n'\n",
    "                  , '#FC          0.2,0.4\\n'\n",
    "                  , 'VERBOSE     no\\n'\n",
    "                  , '#INTERP      0\\n'\n",
    "                  , 'ODDS        0.68\\n'\n",
    "                  , f'PROBS      /home/raulteixeira/scratch-midway2/CosmicShearData/bpztiles/output/probs/pz_METACAL4_probs_{tile}\\n'\n",
    "                  , f'PROBS2     no\\n'\n",
    "                  , f'PROBS_LITE no\\n'\n",
    "                  , 'GET_Z       yes\\n'\n",
    "                  , 'INTERACTIVE yes\\n'\n",
    "                  , 'PLOTS       no\\n'\n",
    "                  , 'SAMPLING yes\\n'\n",
    "                  , 'NSAMPLES 1\\n'\n",
    "                  , 'SEED 42\\n'\n",
    "                  , '#ONLY_TYPE   yes\\n']\n",
    "    \n",
    "    pars = open('/home/raulteixeira/repos/DESC_BPZ/tests/DELVEdata_example.pars', mode='w')\n",
    "    pars.writelines(list_lines)\n",
    "    pars.close()\n",
    "\n",
    "    catalog_name = f'/home/raulteixeira/scratch-midway2/CosmicShearData/bpztiles/pzinput/pzinput_METACAL_4_bands_{tile}.h5'\n",
    "    #running bpz using subprocess\n",
    "    sp.run(['python', '/home/raulteixeira/repos/DESC_BPZ/scripts/bpz.py', catalog_name,\n",
    "            '-P', '/home/raulteixeira/repos/DESC_BPZ/tests/DELVEdata_example.pars'])"
   ]
  },
  {
   "cell_type": "code",
   "execution_count": 13,
   "id": "f2f93bd7",
   "metadata": {},
   "outputs": [],
   "source": [
    "for tile in tiles[:25]:\n",
    "    list_lines = ['COLUMNS     /home/raulteixeira/repos/DESC_BPZ/tests/CosmicShearPZ.columns\\n'\n",
    "                  , f'OUTPUT\\t    /home/raulteixeira/scratch-midway2/CosmicShearData/bpztiles/output/pzs/pz_METACAL4_{tile}.h5\\n'\n",
    "                  , 'SPECTRA     CWWSB4.list\\n'\n",
    "                  , 'PRIOR\\t  hdfn_gen\\n'\n",
    "                  , 'DZ          0.01\\n'\n",
    "                  , 'ZMIN        0.005\\n'\n",
    "                  , 'ZMAX        3.505\\n'\n",
    "                  , 'MAG         yes\\n'\n",
    "                  , 'NEW_AB      no\\n'\n",
    "                  , 'MADAU\\t    no #TURN OFF MADAU!!!!\\n'\n",
    "                  , 'EXCLUDE     none\\n'\n",
    "                  , 'CHECK       yes\\n'\n",
    "                  , '#ZC          1.0,2.0\\n'\n",
    "                  , '#FC          0.2,0.4\\n'\n",
    "                  , 'VERBOSE     no\\n'\n",
    "                  , '#INTERP      0\\n'\n",
    "                  , 'ODDS        0.68\\n'\n",
    "                  , f'PROBS      /home/raulteixeira/scratch-midway2/CosmicShearData/bpztiles/output/probs/pz_METACAL4_probs_{tile}\\n'\n",
    "                  , f'PROBS2     no\\n'\n",
    "                  , f'PROBS_LITE no\\n'\n",
    "                  , 'GET_Z       yes\\n'\n",
    "                  , 'INTERACTIVE yes\\n'\n",
    "                  , 'PLOTS       no\\n'\n",
    "                  , 'SAMPLING yes\\n'\n",
    "                  , 'NSAMPLES 1\\n'\n",
    "                  , 'SEED 42\\n'\n",
    "                  , '#ONLY_TYPE   yes\\n']\n",
    "    \n",
    "    pars = open('/home/raulteixeira/repos/DESC_BPZ/tests/DELVEdata_example.pars', mode='w')\n",
    "    pars.writelines(list_lines)\n",
    "    pars.close()\n",
    "\n",
    "    catalog_name = f'/home/raulteixeira/scratch-midway2/CosmicShearData/bpztiles/pzinput/pzinput_METACAL_4_bands_{tile}.h5'\n",
    "    #running bpz using subprocess\n",
    "    sp.run(['python', '/home/raulteixeira/repos/DESC_BPZ/scripts/bpz.py', catalog_name,\n",
    "            '-P', '/home/raulteixeira/repos/DESC_BPZ/tests/DELVEdata_example.pars'])"
   ]
  },
  {
   "cell_type": "code",
   "execution_count": 34,
   "id": "ed7e288a",
   "metadata": {
    "scrolled": true
   },
   "outputs": [
    {
     "ename": "FileNotFoundError",
     "evalue": "[Errno 2] No such file or directory: 'python /home/raulteixeira/repos/DESC_BPZ/scripts/bpz.py': 'python /home/raulteixeira/repos/DESC_BPZ/scripts/bpz.py'",
     "output_type": "error",
     "traceback": [
      "\u001b[0;31m---------------------------------------------------------------------------\u001b[0m",
      "\u001b[0;31mFileNotFoundError\u001b[0m                         Traceback (most recent call last)",
      "\u001b[0;32m<ipython-input-34-c97efefc6e13>\u001b[0m in \u001b[0;36m<module>\u001b[0;34m()\u001b[0m\n\u001b[0;32m----> 1\u001b[0;31m \u001b[0msp\u001b[0m\u001b[0;34m.\u001b[0m\u001b[0mcheck_output\u001b[0m\u001b[0;34m(\u001b[0m\u001b[0;34m'python /home/raulteixeira/repos/DESC_BPZ/scripts/bpz.py'\u001b[0m\u001b[0;34m)\u001b[0m\u001b[0;34m\u001b[0m\u001b[0;34m\u001b[0m\u001b[0m\n\u001b[0m",
      "\u001b[0;32m/software/python-anaconda-2020.02-el7-x86_64/lib/python3.7/subprocess.py\u001b[0m in \u001b[0;36mcheck_output\u001b[0;34m(timeout, *popenargs, **kwargs)\u001b[0m\n\u001b[1;32m    409\u001b[0m \u001b[0;34m\u001b[0m\u001b[0m\n\u001b[1;32m    410\u001b[0m     return run(*popenargs, stdout=PIPE, timeout=timeout, check=True,\n\u001b[0;32m--> 411\u001b[0;31m                **kwargs).stdout\n\u001b[0m\u001b[1;32m    412\u001b[0m \u001b[0;34m\u001b[0m\u001b[0m\n\u001b[1;32m    413\u001b[0m \u001b[0;34m\u001b[0m\u001b[0m\n",
      "\u001b[0;32m/software/python-anaconda-2020.02-el7-x86_64/lib/python3.7/subprocess.py\u001b[0m in \u001b[0;36mrun\u001b[0;34m(input, capture_output, timeout, check, *popenargs, **kwargs)\u001b[0m\n\u001b[1;32m    486\u001b[0m         \u001b[0mkwargs\u001b[0m\u001b[0;34m[\u001b[0m\u001b[0;34m'stderr'\u001b[0m\u001b[0;34m]\u001b[0m \u001b[0;34m=\u001b[0m \u001b[0mPIPE\u001b[0m\u001b[0;34m\u001b[0m\u001b[0;34m\u001b[0m\u001b[0m\n\u001b[1;32m    487\u001b[0m \u001b[0;34m\u001b[0m\u001b[0m\n\u001b[0;32m--> 488\u001b[0;31m     \u001b[0;32mwith\u001b[0m \u001b[0mPopen\u001b[0m\u001b[0;34m(\u001b[0m\u001b[0;34m*\u001b[0m\u001b[0mpopenargs\u001b[0m\u001b[0;34m,\u001b[0m \u001b[0;34m**\u001b[0m\u001b[0mkwargs\u001b[0m\u001b[0;34m)\u001b[0m \u001b[0;32mas\u001b[0m \u001b[0mprocess\u001b[0m\u001b[0;34m:\u001b[0m\u001b[0;34m\u001b[0m\u001b[0;34m\u001b[0m\u001b[0m\n\u001b[0m\u001b[1;32m    489\u001b[0m         \u001b[0;32mtry\u001b[0m\u001b[0;34m:\u001b[0m\u001b[0;34m\u001b[0m\u001b[0;34m\u001b[0m\u001b[0m\n\u001b[1;32m    490\u001b[0m             \u001b[0mstdout\u001b[0m\u001b[0;34m,\u001b[0m \u001b[0mstderr\u001b[0m \u001b[0;34m=\u001b[0m \u001b[0mprocess\u001b[0m\u001b[0;34m.\u001b[0m\u001b[0mcommunicate\u001b[0m\u001b[0;34m(\u001b[0m\u001b[0minput\u001b[0m\u001b[0;34m,\u001b[0m \u001b[0mtimeout\u001b[0m\u001b[0;34m=\u001b[0m\u001b[0mtimeout\u001b[0m\u001b[0;34m)\u001b[0m\u001b[0;34m\u001b[0m\u001b[0;34m\u001b[0m\u001b[0m\n",
      "\u001b[0;32m/software/python-anaconda-2020.02-el7-x86_64/lib/python3.7/subprocess.py\u001b[0m in \u001b[0;36m__init__\u001b[0;34m(self, args, bufsize, executable, stdin, stdout, stderr, preexec_fn, close_fds, shell, cwd, env, universal_newlines, startupinfo, creationflags, restore_signals, start_new_session, pass_fds, encoding, errors, text)\u001b[0m\n\u001b[1;32m    798\u001b[0m                                 \u001b[0mc2pread\u001b[0m\u001b[0;34m,\u001b[0m \u001b[0mc2pwrite\u001b[0m\u001b[0;34m,\u001b[0m\u001b[0;34m\u001b[0m\u001b[0;34m\u001b[0m\u001b[0m\n\u001b[1;32m    799\u001b[0m                                 \u001b[0merrread\u001b[0m\u001b[0;34m,\u001b[0m \u001b[0merrwrite\u001b[0m\u001b[0;34m,\u001b[0m\u001b[0;34m\u001b[0m\u001b[0;34m\u001b[0m\u001b[0m\n\u001b[0;32m--> 800\u001b[0;31m                                 restore_signals, start_new_session)\n\u001b[0m\u001b[1;32m    801\u001b[0m         \u001b[0;32mexcept\u001b[0m\u001b[0;34m:\u001b[0m\u001b[0;34m\u001b[0m\u001b[0;34m\u001b[0m\u001b[0m\n\u001b[1;32m    802\u001b[0m             \u001b[0;31m# Cleanup if the child failed starting.\u001b[0m\u001b[0;34m\u001b[0m\u001b[0;34m\u001b[0m\u001b[0;34m\u001b[0m\u001b[0m\n",
      "\u001b[0;32m/software/python-anaconda-2020.02-el7-x86_64/lib/python3.7/subprocess.py\u001b[0m in \u001b[0;36m_execute_child\u001b[0;34m(self, args, executable, preexec_fn, close_fds, pass_fds, cwd, env, startupinfo, creationflags, shell, p2cread, p2cwrite, c2pread, c2pwrite, errread, errwrite, restore_signals, start_new_session)\u001b[0m\n\u001b[1;32m   1549\u001b[0m                         \u001b[0;32mif\u001b[0m \u001b[0merrno_num\u001b[0m \u001b[0;34m==\u001b[0m \u001b[0merrno\u001b[0m\u001b[0;34m.\u001b[0m\u001b[0mENOENT\u001b[0m\u001b[0;34m:\u001b[0m\u001b[0;34m\u001b[0m\u001b[0;34m\u001b[0m\u001b[0m\n\u001b[1;32m   1550\u001b[0m                             \u001b[0merr_msg\u001b[0m \u001b[0;34m+=\u001b[0m \u001b[0;34m': '\u001b[0m \u001b[0;34m+\u001b[0m \u001b[0mrepr\u001b[0m\u001b[0;34m(\u001b[0m\u001b[0merr_filename\u001b[0m\u001b[0;34m)\u001b[0m\u001b[0;34m\u001b[0m\u001b[0;34m\u001b[0m\u001b[0m\n\u001b[0;32m-> 1551\u001b[0;31m                     \u001b[0;32mraise\u001b[0m \u001b[0mchild_exception_type\u001b[0m\u001b[0;34m(\u001b[0m\u001b[0merrno_num\u001b[0m\u001b[0;34m,\u001b[0m \u001b[0merr_msg\u001b[0m\u001b[0;34m,\u001b[0m \u001b[0merr_filename\u001b[0m\u001b[0;34m)\u001b[0m\u001b[0;34m\u001b[0m\u001b[0;34m\u001b[0m\u001b[0m\n\u001b[0m\u001b[1;32m   1552\u001b[0m                 \u001b[0;32mraise\u001b[0m \u001b[0mchild_exception_type\u001b[0m\u001b[0;34m(\u001b[0m\u001b[0merr_msg\u001b[0m\u001b[0;34m)\u001b[0m\u001b[0;34m\u001b[0m\u001b[0;34m\u001b[0m\u001b[0m\n\u001b[1;32m   1553\u001b[0m \u001b[0;34m\u001b[0m\u001b[0m\n",
      "\u001b[0;31mFileNotFoundError\u001b[0m: [Errno 2] No such file or directory: 'python /home/raulteixeira/repos/DESC_BPZ/scripts/bpz.py': 'python /home/raulteixeira/repos/DESC_BPZ/scripts/bpz.py'"
     ]
    }
   ],
   "source": [
    "\n",
    "\n",
    "sp.check_output('python /home/raulteixeira/repos/DESC_BPZ/scripts/bpz.py')"
   ]
  },
  {
   "cell_type": "code",
   "execution_count": 36,
   "id": "bd796aab",
   "metadata": {},
   "outputs": [
    {
     "name": "stdout",
     "output_type": "stream",
     "text": [
      "bpz.py\tCSDC2114_test.columns\r\n"
     ]
    }
   ],
   "source": [
    "!ls /home/raulteixeira/repos/DESC_BPZ/scripts/"
   ]
  },
  {
   "cell_type": "code",
   "execution_count": 2,
   "id": "b2907c8b",
   "metadata": {},
   "outputs": [],
   "source": [
    "import os"
   ]
  },
  {
   "cell_type": "code",
   "execution_count": 8,
   "id": "6f949de6",
   "metadata": {},
   "outputs": [
    {
     "data": {
      "text/plain": [
       "0"
      ]
     },
     "execution_count": 8,
     "metadata": {},
     "output_type": "execute_result"
    }
   ],
   "source": [
    "tile = 'DES1250-3957'\n",
    "list_lines = ['COLUMNS     /home/raulteixeira/photoz/code/software/DESC_BPZ/tests/CosmicShearPZ.columns\\n'\n",
    "                  , f'OUTPUT\\t    /home/raulteixeira/scratch-midway2/CosmicShearData/bpztiles/output/pzs/pz_sgY3_{tile}.h5\\n'\n",
    "                  , 'SPECTRA     CWWSB4.list\\n', 'PRIOR\\t  hdfn_gen\\n', 'DZ          0.01\\n', 'ZMIN        0.005\\n'\n",
    "                  , 'ZMAX        3.505\\n', 'MAG         yes\\n', 'NEW_AB      no\\n', 'MADAU\\t    no #TURN OFF MADAU!!!!\\n'\n",
    "                  , 'EXCLUDE     none\\n', 'CHECK       yes\\n', '#ZC          1.0,2.0\\n', '#FC          0.2,0.4\\n'\n",
    "                  , 'VERBOSE     no\\n', '#INTERP      0\\n', 'ODDS        0.68\\n'\n",
    "                  , f'PROBS      /home/raulteixeira/scratch-midway2/CosmicShearData/bpztiles/output/probs/PZ_OUTPUT_sgY3_probs_{tile}_finer_test\\n'\n",
    "                  , f'PROBS2     no\\n'\n",
    "                  , f'PROBS_LITE no\\n', 'GET_Z       yes\\n', 'INTERACTIVE yes\\n', 'PLOTS       no\\n'\n",
    "                  , 'SAMPLING yes\\n', 'NSAMPLES 1\\n', 'SEED 42\\n'\n",
    "                  , '#ONLY_TYPE   yes\\n']\n",
    "    \n",
    "pars = open('/home/raulteixeira/repos/DESC_BPZ/tests/DELVEdata_example.pars', mode='w')\n",
    "pars.writelines(list_lines)\n",
    "pars.close()\n",
    "\n",
    "os.system('python /home/raulteixeira/repos/DESC_BPZ/scripts/bpz.py /home/raulteixeira/scratch-midway2/CosmicShearData/bpztiles/pzinput/pzinput_sgY3_DES1250-3957.h5 -P /home/raulteixeira/repos/DESC_BPZ/tests/DELVEdata_example.pars')"
   ]
  },
  {
   "cell_type": "code",
   "execution_count": 19,
   "id": "6500c31e",
   "metadata": {},
   "outputs": [
    {
     "ename": "AttributeError",
     "evalue": "module 'subprocess' has no attribute 'getouput'",
     "output_type": "error",
     "traceback": [
      "\u001b[0;31m---------------------------------------------------------------------------\u001b[0m",
      "\u001b[0;31mAttributeError\u001b[0m                            Traceback (most recent call last)",
      "\u001b[0;32m<ipython-input-19-3f6c07c3c319>\u001b[0m in \u001b[0;36m<module>\u001b[0;34m()\u001b[0m\n\u001b[0;32m----> 1\u001b[0;31m \u001b[0msp\u001b[0m\u001b[0;34m.\u001b[0m\u001b[0mgetouput\u001b[0m\u001b[0;34m(\u001b[0m\u001b[0;34m'ls'\u001b[0m\u001b[0;34m)\u001b[0m\u001b[0;34m\u001b[0m\u001b[0;34m\u001b[0m\u001b[0m\n\u001b[0m",
      "\u001b[0;31mAttributeError\u001b[0m: module 'subprocess' has no attribute 'getouput'"
     ]
    }
   ],
   "source": [
    "sp.getouput('ls')"
   ]
  },
  {
   "cell_type": "code",
   "execution_count": 26,
   "id": "13b4c6c1",
   "metadata": {},
   "outputs": [
    {
     "data": {
      "text/plain": [
       "b'BOSSDELVE10.ipynb\\nbossmatching.ipynb\\nBPZ0.ipynb\\nBPZ_BOSSDELVE00.ipynb\\nbpzdelve.ipynb\\nbpzrun.ipynb\\ncomparison_bpzcleciophz.ipynb\\nDELVE-BOSS.ipynb\\nFITStoHDF5.ipynb\\nHDF5toFITS.ipynb\\nPixelColumn.ipynb\\nProbsViewer.ipynb\\nPZ_OUTPUT_probs_DES1201-4040_finer.bak\\nPZ_OUTPUT_probs_DES1201-4040_finer.dat\\nPZ_OUTPUT_probs_DES1201-4040_finer.dir\\nTableStacker.ipynb\\n'"
      ]
     },
     "execution_count": 26,
     "metadata": {},
     "output_type": "execute_result"
    }
   ],
   "source": [
    "sp.check_output('', shell=True)"
   ]
  }
 ],
 "metadata": {
  "kernelspec": {
   "display_name": "Python 3",
   "language": "python",
   "name": "python3"
  },
  "language_info": {
   "codemirror_mode": {
    "name": "ipython",
    "version": 3
   },
   "file_extension": ".py",
   "mimetype": "text/x-python",
   "name": "python",
   "nbconvert_exporter": "python",
   "pygments_lexer": "ipython3",
   "version": "3.7.6"
  }
 },
 "nbformat": 4,
 "nbformat_minor": 5
}
