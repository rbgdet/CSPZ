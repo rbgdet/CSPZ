{
 "cells": [
  {
   "cell_type": "code",
   "execution_count": null,
   "id": "86535eab-1a2e-4f6a-b06b-b03cf87222f0",
   "metadata": {},
   "outputs": [],
   "source": [
    "# python \n",
    "# /data/des90.a/data/raulteix/software/DESC_BPZ/scripts/bpz.py \n",
    "# /data/des90.a/data/raulteix/software/DESC_BPZ/tests/DELVEdata_06208_no_wise.h5 \n",
    "# -P \n",
    "# /data/des90.a/data/raulteix/software/DESC_BPZ/tests/DELVEdata_example.pars"
   ]
  },
  {
   "cell_type": "code",
   "execution_count": 2,
   "id": "eada2287-f304-4e79-b768-42af1ac4f9ac",
   "metadata": {},
   "outputs": [],
   "source": [
    "# 3rd party # remove imports that are not needed\n",
    "import numpy as np\n",
    "import pandas as pd\n",
    "import pylab as plt\n",
    "import h5py\n",
    "import matplotlib\n",
    "%matplotlib inline\n",
    "from astropy.utils.data import download_file  #import file from URL\n",
    "from matplotlib.ticker import NullFormatter\n",
    "import astropy.table\n",
    "import subprocess as sp\n",
    "import glob\n",
    "import healpy as hp"
   ]
  },
  {
   "cell_type": "code",
   "execution_count": 10,
   "id": "58667c7a-489e-43e3-b76a-36e04202d373",
   "metadata": {},
   "outputs": [],
   "source": [
    "test1 = h5py.File('/data/des90.a/data/raulteix/software/DESC_BPZ/tests/DELVEdata_06208_no_wise.h5')"
   ]
  },
  {
   "cell_type": "code",
   "execution_count": 12,
   "id": "4a141a5c-b9ec-40dc-889f-684aba71538d",
   "metadata": {},
   "outputs": [
    {
     "data": {
      "text/plain": [
       "<KeysViewHDF5 ['df']>"
      ]
     },
     "execution_count": 12,
     "metadata": {},
     "output_type": "execute_result"
    }
   ],
   "source": [
    "test1.keys()"
   ]
  },
  {
   "cell_type": "code",
   "execution_count": 14,
   "id": "4ac210af-aff2-4a47-b4d3-aa831db3ad28",
   "metadata": {},
   "outputs": [
    {
     "data": {
      "text/plain": [
       "<KeysViewHDF5 ['axis0', 'axis1', 'block0_items', 'block0_values', 'block1_items', 'block1_values']>"
      ]
     },
     "execution_count": 14,
     "metadata": {},
     "output_type": "execute_result"
    }
   ],
   "source": [
    "test1['df'].keys()"
   ]
  },
  {
   "cell_type": "code",
   "execution_count": 16,
   "id": "a6b8f1c4-a75c-4307-b7d0-b32fad7db125",
   "metadata": {},
   "outputs": [
    {
     "data": {
      "text/plain": [
       "<HDF5 dataset \"axis0\": shape (9,), type \"|S15\">"
      ]
     },
     "execution_count": 16,
     "metadata": {},
     "output_type": "execute_result"
    }
   ],
   "source": [
    "test1['df']['axis0']"
   ]
  },
  {
   "cell_type": "code",
   "execution_count": null,
   "id": "ea1e877e-92b1-40ae-b8d8-e05e1a1589a0",
   "metadata": {},
   "outputs": [],
   "source": [
    "pdbpz = pd.DataFrame(data=runthroughbpz['QUICK_OBJECT_ID'], columns = ['QUICK_OBJECT_ID'])\n",
    "for label in runthroughbpz.columns:\n",
    "    pdbpz[label] = runthroughbpz[label]\n",
    "    \n",
    "pdbpz.to_hdf(f'/data/des90.a/data/raulteix/software/DESC_BPZ/tests/DELVEdata_{pixel}_no_wise.h5', key='df')"
   ]
  },
  {
   "cell_type": "code",
   "execution_count": null,
   "id": "65982c5c-b8ca-4c92-820e-02aa7bfe390e",
   "metadata": {},
   "outputs": [],
   "source": [
    "catalog_name = f'/data/des90.a/data/raulteix/software/DESC_BPZ/tests/DELVEdata_{pixel}_no_wise.h5'\n",
    "sp.run(['python', '/data/des90.a/data/raulteix/software/DESC_BPZ/scripts/bpz.py', catalog_name, '-P', '/data/des90.a/data/raulteix/software/DESC_BPZ/tests/DELVEdata_example.pars'])"
   ]
  }
 ],
 "metadata": {
  "kernelspec": {
   "display_name": "Python 3 (ipykernel)",
   "language": "python",
   "name": "python3"
  },
  "language_info": {
   "codemirror_mode": {
    "name": "ipython",
    "version": 3
   },
   "file_extension": ".py",
   "mimetype": "text/x-python",
   "name": "python",
   "nbconvert_exporter": "python",
   "pygments_lexer": "ipython3",
   "version": "3.10.2"
  }
 },
 "nbformat": 4,
 "nbformat_minor": 5
}
