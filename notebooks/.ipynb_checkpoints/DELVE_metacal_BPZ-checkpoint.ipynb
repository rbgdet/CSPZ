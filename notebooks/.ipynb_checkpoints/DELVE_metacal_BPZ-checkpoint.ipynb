{
 "cells": [
  {
   "cell_type": "code",
   "execution_count": 1,
   "id": "2f635107",
   "metadata": {},
   "outputs": [],
   "source": [
    "import numpy as np\n",
    "import h5py\n",
    "import time"
   ]
  },
  {
   "cell_type": "code",
   "execution_count": 3,
   "id": "ba2b015c",
   "metadata": {},
   "outputs": [],
   "source": [
    "start_time = time.time()\n",
    "hdf_ = h5py.File('/project2/chihway/data/decade/metacal_test_20230427_v3.hdf')\n",
    "ids = hdf_['id']"
   ]
  },
  {
   "cell_type": "code",
   "execution_count": null,
   "id": "5cce4a1d",
   "metadata": {},
   "outputs": [],
   "source": []
  },
  {
   "cell_type": "code",
   "execution_count": null,
   "id": "71d82ff4",
   "metadata": {},
   "outputs": [],
   "source": [
    "Mask = np.load('/project2/chihway/raulteixeira/data/metacal_mask.npy')"
   ]
  },
  {
   "cell_type": "code",
   "execution_count": null,
   "id": "e80e5872",
   "metadata": {},
   "outputs": [],
   "source": [
    "Mask"
   ]
  },
  {
   "cell_type": "code",
   "execution_count": 22,
   "id": "7325b58e",
   "metadata": {},
   "outputs": [
    {
     "data": {
      "text/plain": [
       "49313829"
      ]
     },
     "execution_count": 22,
     "metadata": {},
     "output_type": "execute_result"
    }
   ],
   "source": [
    "masked_ids.size"
   ]
  },
  {
   "cell_type": "code",
   "execution_count": 24,
   "id": "46e06139",
   "metadata": {},
   "outputs": [
    {
     "name": "stdout",
     "output_type": "stream",
     "text": [
      "115.05516147613525 seconds\n"
     ]
    }
   ],
   "source": [
    "masked_ids = ids[Mask]\n",
    "np.save('/project2/chihway/raulteixeira/data/metcal_cut_ids_20230511.npy', masked_ids)\n",
    "\n",
    "print(time.time()-start_time, 'seconds')"
   ]
  },
  {
   "cell_type": "code",
   "execution_count": null,
   "id": "5b3532b5",
   "metadata": {},
   "outputs": [],
   "source": [
    "import sys\n",
    "sys.path.append(\"/home/raulteixeira/repos/CSPZ/scripts/\")\n",
    "import NoiseSOM as ns\n",
    "import numpy as np\n",
    "import pandas as pd\n",
    "import h5py\n",
    "import matplotlib.pyplot as plt\n",
    "import scipy\n",
    "import sys\n",
    "import time\n",
    "\n",
    "METACAL_COADD_ID = np.load('/project2/chihway/raulteixeira/data/ids.npy', ids)\n",
    "for i in range(1,3):\n",
    "    bdf_df = pd.read_csv(f'/project2/chihway/raulteixeira/data/bdf_photometry/dr3_1_1_bdf_0000{i:02}.csv.gz') \n",
    "    BDF_COADD_ID = bdf_df.COADD_OBJECT_ID.values\n",
    "    #Find the intersection of objects between the two arrays.\n",
    "    #This generally selects objects that are both in the metacal catalog and in THIS specific BDF file.\n",
    "    unique, index_bdf, index_metacal = np.intersect1d(BDF_COADD_ID, METACAL_COADD_ID, assume_unique = True, return_indices = True)\n",
    "\n",
    "    #Get the ids from BDF and from metacal of the same objects\n",
    "    # you can use index_bdf to apply the metacal cuts on your bdf catalog\n",
    "    \n",
    "    bdf_df[index_bdf].to_hdf(f'/project2/chihway/raulteixeira/data/bdf_photometry/dr3_1_1_bdf_metacal_cut_BPZ_input_{i:02}.h5', key='df')"
   ]
  },
  {
   "cell_type": "code",
   "execution_count": 6,
   "id": "9c80c8f3",
   "metadata": {},
   "outputs": [],
   "source": [
    "import pandas as pd\n",
    "bdf_df = pd.read_csv(f'/project2/chihway/raulteixeira/data/bdf_photometry/dr3_1_1_bdf_000001.csv.gz')"
   ]
  },
  {
   "cell_type": "code",
   "execution_count": 7,
   "id": "389a16a3",
   "metadata": {},
   "outputs": [
    {
     "data": {
      "text/plain": [
       "Index(['Unnamed: 0', 'BDF_FLUX_ERR_G', 'BDF_FLUX_ERR_I', 'BDF_FLUX_ERR_R',\n",
       "       'BDF_FLUX_ERR_Z', 'BDF_FLUX_G', 'BDF_FLUX_I', 'BDF_FLUX_R',\n",
       "       'BDF_FLUX_Z', 'BDF_MAG_ERR_G', 'BDF_MAG_ERR_I', 'BDF_MAG_ERR_R',\n",
       "       'BDF_MAG_ERR_Z', 'BDF_MAG_G', 'BDF_MAG_I', 'BDF_MAG_R', 'BDF_MAG_Z',\n",
       "       'BDF_S2N', 'BDF_T', 'BDF_T_ERR', 'BDF_T_RATIO', 'COADD_OBJECT_ID',\n",
       "       'DEC', 'RA', 'TILENAME', 'index'],\n",
       "      dtype='object')"
      ]
     },
     "execution_count": 7,
     "metadata": {},
     "output_type": "execute_result"
    }
   ],
   "source": [
    "bdf_df.columns"
   ]
  },
  {
   "cell_type": "code",
   "execution_count": 3,
   "id": "199ccf7b",
   "metadata": {},
   "outputs": [],
   "source": [
    "hdf_ = h5py.File('/project2/chihway/data/decade/metacal_test_20230427.hdf')\n",
    "\n",
    "N=len(hdf_['id'])\n",
    "\n",
    "start_time = time.time()\n",
    "with h5py.File('/project2/chihway/data/decade/metacal_test_20230427.hdf') as f:\n",
    "    \n",
    "    flux_r, flux_i, flux_z = np.array(f['mcal_flux_noshear'][:N]).T\n",
    "    flux_err_r, flux_err_i, flux_err_z = np.array(f['mcal_flux_err_noshear'][:N]).T\n",
    "    mag_r = 30 - 2.5*np.log10(flux_r)\n",
    "    mag_i = 30 - 2.5*np.log10(flux_i)\n",
    "    mag_z = 30 - 2.5*np.log10(flux_z)\n",
    "\n",
    "    mcal_pz_mask = ((mag_i < 23.5) & (mag_i > 18) & \n",
    "                    (mag_r < 26)   & (mag_r > 15) & \n",
    "                    (mag_z < 26)   & (mag_z > 15) & \n",
    "                    (mag_r - mag_i < 4)   & (mag_r - mag_i > -1.5) & \n",
    "                    (mag_i - mag_z < 4)   & (mag_i - mag_z > -1.5))\n",
    "\n",
    "    SNR     = np.array(f['mcal_s2n_noshear'][:N])\n",
    "    T_ratio = np.array(f['mcal_T_ratio_noshear'][:N])\n",
    "    T       = np.array(f['mcal_T_noshear'][:N])\n",
    "    flags   = np.array(f['mcal_flags'][:N])\n",
    "    \n",
    "    g1, g2  = np.array(f['mcal_g_noshear'][:N]).T\n",
    "\n",
    "    #Metacal cuts based on DES Y3 ones (from here: https://des.ncsa.illinois.edu/releases/y3a2/Y3key-catalogs)\n",
    "    SNR_Mask   = (SNR > 10) & (SNR < 1000)\n",
    "    Tratio_Mask= T_ratio > 0.5\n",
    "    T_Mask     = T < 10\n",
    "    Flag_Mask  = flags == 0\n",
    "\n",
    "    Other_Mask = np.invert((T > 2) & (SNR < 30)) & np.invert((np.log10(T) < (22.25 - mag_r)/3.5) & (g1**2 + g2**2 > 0.8**2))\n",
    "\n",
    "    Mask = mcal_pz_mask & SNR_Mask & Tratio_Mask & T_Mask & Flag_Mask & Other_Mask\n",
    "    \n",
    "    #These are the fluxes with all metacal cuts applied\n",
    "#     flux_r = flux_r[Mask]\n",
    "#     flux_i = flux_i[Mask]\n",
    "#     flux_z = flux_z[Mask]\n",
    "#     flux_err_r = flux_err_r[Mask]\n",
    "#     flux_err_i = flux_err_i[Mask]\n",
    "#     flux_err_z = flux_err_z[Mask]\n",
    "    \n",
    "    ids = hdf_['id'][Mask]\n",
    "    np.save('/project2/chihway/raulteixeira/data/ids.npy', ids)\n",
    "    fluxes_d = np.array([flux_r, flux_i, flux_z]).T\n",
    "    fluxerrs_d = np.array([flux_err_r, flux_err_i, flux_err_z]).T\n",
    "\n",
    "print(time.time()-start_time, 'seconds')\n",
    "#cols = [f'flux_{band}' for band in bands]+[f'flux_err_{band}' for band in bands]"
   ]
  },
  {
   "cell_type": "code",
   "execution_count": 3,
   "id": "e96a64c4",
   "metadata": {},
   "outputs": [],
   "source": [
    "Fluxes = np.load('/project2/chihway/raulteixeira/data/metacal_fluxes.npy')\n",
    "Mask = np.load('/project2/chihway/raulteixeira/data/metacal_mask.npy')"
   ]
  },
  {
   "cell_type": "code",
   "execution_count": 26,
   "id": "53f4ef38",
   "metadata": {},
   "outputs": [
    {
     "name": "stdout",
     "output_type": "stream",
     "text": [
      "01\n",
      "Index(['COADD_OBJECT_ID', 'BDF_FLUX_G', 'BDF_FLUX_R', 'BDF_FLUX_I',\n",
      "       'BDF_FLUX_Z', 'BDF_FLUX_ERR_G', 'BDF_FLUX_ERR_I', 'BDF_FLUX_ERR_R',\n",
      "       'BDF_FLUX_ERR_Z'],\n",
      "      dtype='object')\n",
      "time until file 01 23.105534315109253 seconds\n",
      "23.106027364730835 seconds\n"
     ]
    }
   ],
   "source": [
    "import numpy as np\n",
    "import pandas as pd\n",
    "import h5py\n",
    "import time\n",
    "\n",
    "start_time=time.time()\n",
    "METACAL_COADD_ID = np.load('/project2/chihway/raulteixeira/data/metcal_cut_ids_20230521_v3.npy')\n",
    "bpz_columns = ['COADD_OBJECT_ID', 'BDF_FLUX_G', 'BDF_FLUX_R', 'BDF_FLUX_I', 'BDF_FLUX_Z'\\\n",
    "               , 'BDF_FLUX_ERR_G', 'BDF_FLUX_ERR_R', 'BDF_FLUX_ERR_I', 'BDF_FLUX_ERR_Z']\n",
    "for i in range(1,2):\n",
    "    print(f'{i:02}')\n",
    "    bdf_df = pd.read_csv(f'/project2/chihway/raulteixeira/data/bdf_photometry/dr3_1_1_bdf_0000{i:02}.csv.gz') \n",
    "    BDF_COADD_ID = bdf_df.COADD_OBJECT_ID.values\n",
    "    #Find the intersection of objects between the two arrays.\n",
    "    #This generally selects objects that are both in the metacal catalog and in THIS specific BDF file.\n",
    "    unique, index_bdf, index_metacal = np.intersect1d(BDF_COADD_ID, METACAL_COADD_ID, assume_unique = True, return_indices = True)\n",
    "    #Get the ids from BDF and from metacal of the same objects\n",
    "    # you can use index_bdf to apply the metacal cuts on your bdf catalog\n",
    "    bdf_df = bdf_df.iloc[index_bdf][bpz_columns]\n",
    "    if i==1: print(bdf_df.columns)\n",
    "    bdf_df.to_hdf(f'/project2/chihway/raulteixeira/data/bdf_photometry/dr3_1_1_bdf_metacal_cut_BPZ_input_{i:02}.h5', key='df')\n",
    "    print(f'time until file {i:02}', time.time()-start_time, 'seconds')\n",
    "\n",
    "print(time.time()-start_time, 'seconds')"
   ]
  },
  {
   "cell_type": "code",
   "execution_count": null,
   "id": "23f74980",
   "metadata": {},
   "outputs": [],
   "source": []
  }
 ],
 "metadata": {
  "kernelspec": {
   "display_name": "Python 3 (ipykernel)",
   "language": "python",
   "name": "python3"
  },
  "language_info": {
   "codemirror_mode": {
    "name": "ipython",
    "version": 3
   },
   "file_extension": ".py",
   "mimetype": "text/x-python",
   "name": "python",
   "nbconvert_exporter": "python",
   "pygments_lexer": "ipython3",
   "version": "3.7.6"
  }
 },
 "nbformat": 4,
 "nbformat_minor": 5
}
