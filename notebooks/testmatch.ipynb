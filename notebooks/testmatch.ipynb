{
 "cells": [
  {
   "cell_type": "code",
   "execution_count": 7,
   "id": "5448bdcc",
   "metadata": {},
   "outputs": [],
   "source": [
    "import numpy as np\n",
    "import pandas as pd\n",
    "import pylab as plt\n",
    "import scipy\n",
    "import h5py\n",
    "import matplotlib\n",
    "%matplotlib inline\n",
    "from astropy.utils.data import download_file  #import file from URL\n",
    "from matplotlib.ticker import NullFormatter\n",
    "import astropy.table\n",
    "import subprocess as sp\n",
    "import glob\n",
    "#import healpy as hp"
   ]
  },
  {
   "cell_type": "code",
   "execution_count": 4,
   "id": "a683f4e0",
   "metadata": {},
   "outputs": [],
   "source": [
    "specz = astropy.table.Table.read('/home/raulteixeira/scratch-midway2/CosmicShearData/specdataDR2.fits')\n",
    "data = astropy.table.Table.read('/home/raulteixeira/scratch-midway2/CosmicShearData/pzinput/fits/shear_test_coadd_object_gold.fits')"
   ]
  },
  {
   "cell_type": "code",
   "execution_count": 9,
   "id": "8ed683f9",
   "metadata": {},
   "outputs": [],
   "source": [
    "from astropy.coordinates import SkyCoord\n",
    "from astropy import units as u\n",
    "spec_cd = SkyCoord(ra=specz['RA']*u.degree, dec=specz['DEC']*u.degree)\n",
    "bpz_cd = SkyCoord(ra=data['RA']*u.deg, dec=data['DEC']*u.deg)\n",
    "idx, d2d, d3d = spec_cd.match_to_catalog_sky(bpz_cd)"
   ]
  },
  {
   "cell_type": "code",
   "execution_count": 10,
   "id": "c27215bd",
   "metadata": {},
   "outputs": [
    {
     "name": "stdout",
     "output_type": "stream",
     "text": [
      "403 403\n"
     ]
    }
   ],
   "source": [
    "good_matches = d2d < 1.0*u.arcsec\n",
    "print(len(np.unique(idx[good_matches])), np.count_nonzero(good_matches))"
   ]
  },
  {
   "cell_type": "code",
   "execution_count": 16,
   "id": "778380b9",
   "metadata": {},
   "outputs": [
    {
     "data": {
      "text/plain": [
       "(array([46., 30., 34., 97., 53., 59., 33., 24., 12.,  8.,  0.,  3.,  1.,\n",
       "         0.,  0.,  0.,  2.,  0.,  0.,  1.]),\n",
       " array([0.00681805, 0.019245  , 0.03167194, 0.04409889, 0.05652584,\n",
       "        0.06895279, 0.08137973, 0.09380668, 0.10623363, 0.11866058,\n",
       "        0.13108752, 0.14351447, 0.15594142, 0.16836837, 0.18079531,\n",
       "        0.19322226, 0.20564921, 0.21807616, 0.2305031 , 0.24293005,\n",
       "        0.255357  ]),\n",
       " <BarContainer object of 20 artists>)"
      ]
     },
     "execution_count": 16,
     "metadata": {},
     "output_type": "execute_result"
    },
    {
     "data": {
      "image/png": "[encoded data removed]",
      "text/plain": [
       "<Figure size 432x288 with 1 Axes>"
      ]
     },
     "metadata": {
      "needs_background": "light"
     },
     "output_type": "display_data"
    }
   ],
   "source": [
    "plt.hist(specz[good_matches]['zspec'], bins=20)"
   ]
  }
 ],
 "metadata": {
  "kernelspec": {
   "display_name": "Python 3",
   "language": "python",
   "name": "python3"
  },
  "language_info": {
   "codemirror_mode": {
    "name": "ipython",
    "version": 3
   },
   "file_extension": ".py",
   "mimetype": "text/x-python",
   "name": "python",
   "nbconvert_exporter": "python",
   "pygments_lexer": "ipython3",
   "version": "3.7.6"
  }
 },
 "nbformat": 4,
 "nbformat_minor": 5
}
