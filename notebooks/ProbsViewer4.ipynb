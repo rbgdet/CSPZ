{
 "cells": [
  {
   "cell_type": "code",
   "execution_count": 2,
   "id": "bcd300ad",
   "metadata": {},
   "outputs": [],
   "source": [
    "import matplotlib.pyplot as plt\n",
    "import matplotlib.patches as mpatches\n",
    "import numpy as np\n",
    "import shelve\n",
    "import pandas as pd\n",
    "import h5py\n",
    "import glob\n",
    "import astropy\n",
    "from astropy.table import Table as Table"
   ]
  },
  {
   "cell_type": "code",
   "execution_count": 61,
   "id": "a6b6c6d0",
   "metadata": {},
   "outputs": [],
   "source": [
    "#filename = f'/home/raulteixeira/scratch-midway2/CosmicShearData/tile_0/pzout_0.h5'\n",
    "filename = '/home/raulteixeira/scratch-midway2/CosmicShearData/bpztiles/output/pzs/pz_hdfn_gen_METACAL4_DES1212-3540.h5'\n",
    "with h5py.File(filename) as f:\n",
    "    bpzres={}\n",
    "    for key in list(f.keys()):\n",
    "        bpzres[key] = np.array(f[key])\n",
    "        \n",
    "#filename = f'/home/raulteixeira/scratch-midway2/CosmicShearData/tile_0/table.h5'\n",
    "filename = '/home/raulteixeira/scratch-midway2/CosmicShearData/bpztiles/pzinput/pzinput_METACAL_4_bands_DES1212-3540.h5'\n",
    "with h5py.File(filename) as f:\n",
    "    photometry={}\n",
    "    for key in list(f['df'].keys()):\n",
    "        photometry[key] = np.array(f['df'][key])"
   ]
  },
  {
   "cell_type": "code",
   "execution_count": 66,
   "id": "fb660272",
   "metadata": {},
   "outputs": [
    {
     "data": {
      "text/plain": [
       "{'axis0': array([b'COADD_OBJECT_ID', b'TILENAME', b'MAG_AUTO_G', b'MAG_AUTO_R',\n",
       "        b'MAG_AUTO_I', b'MAG_AUTO_Z', b'MAGERR_AUTO_G', b'MAGERR_AUTO_R',\n",
       "        b'MAGERR_AUTO_I', b'MAGERR_AUTO_Z'], dtype='|S15'),\n",
       " 'axis1': array([    0,     1,     2, ..., 17462, 17463, 17464]),\n",
       " 'block0_items': array([b'TILENAME'], dtype='|S8'),\n",
       " 'block0_values': array([[b'DES1212-3540'],\n",
       "        [b'DES1212-3540'],\n",
       "        [b'DES1212-3540'],\n",
       "        ...,\n",
       "        [b'DES1212-3540'],\n",
       "        [b'DES1212-3540'],\n",
       "        [b'DES1212-3540']], dtype='|S12'),\n",
       " 'block1_items': array([b'MAG_AUTO_G', b'MAG_AUTO_R', b'MAG_AUTO_I', b'MAG_AUTO_Z',\n",
       "        b'MAGERR_AUTO_G', b'MAGERR_AUTO_R', b'MAGERR_AUTO_I',\n",
       "        b'MAGERR_AUTO_Z'], dtype='|S13'),\n",
       " 'block1_values': array([[23.13856506, 22.52129745, 22.24631691, ...,  0.0530699 ,\n",
       "          0.06959395,  0.43703279],\n",
       "        [24.73575401, 23.56234169, 23.2243309 , ...,  0.05700174,\n",
       "          0.08241542,  0.18520641],\n",
       "        [24.35372734, 23.9569912 , 23.46812248, ...,  0.093043  ,\n",
       "          0.1168654 ,  0.12464872],\n",
       "        ...,\n",
       "        [23.58066559, 23.12721825, 22.78601265, ...,  0.04019981,\n",
       "          0.03999212,  0.13401988],\n",
       "        [23.80040359, 23.59400558, 23.44373322, ...,  0.05179042,\n",
       "          0.0673955 ,  0.18646351],\n",
       "        [27.24170494, 24.40522003, 23.33702278, ...,  0.18000489,\n",
       "          0.10819307,  0.16668808]]),\n",
       " 'block2_items': array([b'COADD_OBJECT_ID'], dtype='|S15'),\n",
       " 'block2_values': array([[6855595638],\n",
       "        [6855595650],\n",
       "        [6855595677],\n",
       "        ...,\n",
       "        [6855657013],\n",
       "        [6855657052],\n",
       "        [6855657129]])}"
      ]
     },
     "execution_count": 66,
     "metadata": {},
     "output_type": "execute_result"
    }
   ],
   "source": [
    "photometry"
   ]
  },
  {
   "cell_type": "code",
   "execution_count": 62,
   "id": "8a715820",
   "metadata": {},
   "outputs": [],
   "source": [
    "fluxes, flux_errs, mags, magerrs = photometry['block0_values'][:,0:4], photometry['block0_values'][:,4:8], photometry['block0_values'][:,8:12],photometry['block0_values'][:,12:16]"
   ]
  },
  {
   "cell_type": "code",
   "execution_count": 63,
   "id": "5df972ad",
   "metadata": {},
   "outputs": [],
   "source": [
    "z_b, z_ml, z_samp = bpzres['Z_B'], bpzres['Z_ML'], bpzres['Z_SAMP']"
   ]
  },
  {
   "cell_type": "code",
   "execution_count": 64,
   "id": "7bdb5d90",
   "metadata": {},
   "outputs": [
    {
     "data": {
      "text/plain": [
       "array([b'DES1212-3540', b'DES1212-3540', b'DES1212-3540', ...,\n",
       "       b'DES1212-3540', b'DES1212-3540', b'DES1212-3540'], dtype='|S12')"
      ]
     },
     "execution_count": 64,
     "metadata": {},
     "output_type": "execute_result"
    }
   ],
   "source": [
    "fluxes[:,0]"
   ]
  },
  {
   "cell_type": "code",
   "execution_count": 65,
   "id": "2433a481",
   "metadata": {
    "scrolled": true
   },
   "outputs": [
    {
     "ename": "IndexError",
     "evalue": "index 0 is out of bounds for axis 1 with size 0",
     "output_type": "error",
     "traceback": [
      "\u001b[0;31m---------------------------------------------------------------------------\u001b[0m",
      "\u001b[0;31mIndexError\u001b[0m                                Traceback (most recent call last)",
      "\u001b[0;32m<ipython-input-65-b4814f7e8777>\u001b[0m in \u001b[0;36m<module>\u001b[0;34m()\u001b[0m\n\u001b[0;32m----> 1\u001b[0;31m \u001b[0mplt\u001b[0m\u001b[0;34m.\u001b[0m\u001b[0mhist\u001b[0m\u001b[0;34m(\u001b[0m\u001b[0mmags\u001b[0m\u001b[0;34m[\u001b[0m\u001b[0;34m:\u001b[0m\u001b[0;34m,\u001b[0m\u001b[0;36m0\u001b[0m\u001b[0;34m]\u001b[0m\u001b[0;34m,\u001b[0m \u001b[0mbins\u001b[0m\u001b[0;34m=\u001b[0m\u001b[0mnp\u001b[0m\u001b[0;34m.\u001b[0m\u001b[0mlinspace\u001b[0m\u001b[0;34m(\u001b[0m\u001b[0;36m15\u001b[0m\u001b[0;34m,\u001b[0m \u001b[0;36m30\u001b[0m\u001b[0;34m,\u001b[0m \u001b[0;36m100\u001b[0m\u001b[0;34m)\u001b[0m\u001b[0;34m,\u001b[0m \u001b[0mhisttype\u001b[0m\u001b[0;34m=\u001b[0m\u001b[0;34m'step'\u001b[0m\u001b[0;34m,\u001b[0m \u001b[0mlabel\u001b[0m\u001b[0;34m=\u001b[0m\u001b[0;34m'g'\u001b[0m\u001b[0;34m)\u001b[0m\u001b[0;34m;\u001b[0m\u001b[0;34m\u001b[0m\u001b[0;34m\u001b[0m\u001b[0m\n\u001b[0m\u001b[1;32m      2\u001b[0m \u001b[0mplt\u001b[0m\u001b[0;34m.\u001b[0m\u001b[0mhist\u001b[0m\u001b[0;34m(\u001b[0m\u001b[0mmags\u001b[0m\u001b[0;34m[\u001b[0m\u001b[0;34m:\u001b[0m\u001b[0;34m,\u001b[0m\u001b[0;36m1\u001b[0m\u001b[0;34m]\u001b[0m\u001b[0;34m,\u001b[0m \u001b[0mbins\u001b[0m\u001b[0;34m=\u001b[0m\u001b[0mnp\u001b[0m\u001b[0;34m.\u001b[0m\u001b[0mlinspace\u001b[0m\u001b[0;34m(\u001b[0m\u001b[0;36m15\u001b[0m\u001b[0;34m,\u001b[0m \u001b[0;36m30\u001b[0m\u001b[0;34m,\u001b[0m \u001b[0;36m100\u001b[0m\u001b[0;34m)\u001b[0m\u001b[0;34m,\u001b[0m \u001b[0mhisttype\u001b[0m\u001b[0;34m=\u001b[0m\u001b[0;34m'step'\u001b[0m\u001b[0;34m,\u001b[0m \u001b[0mlabel\u001b[0m\u001b[0;34m=\u001b[0m\u001b[0;34m'r'\u001b[0m\u001b[0;34m)\u001b[0m\u001b[0;34m;\u001b[0m\u001b[0;34m\u001b[0m\u001b[0;34m\u001b[0m\u001b[0m\n\u001b[1;32m      3\u001b[0m \u001b[0mplt\u001b[0m\u001b[0;34m.\u001b[0m\u001b[0mhist\u001b[0m\u001b[0;34m(\u001b[0m\u001b[0mmags\u001b[0m\u001b[0;34m[\u001b[0m\u001b[0;34m:\u001b[0m\u001b[0;34m,\u001b[0m\u001b[0;36m2\u001b[0m\u001b[0;34m]\u001b[0m\u001b[0;34m,\u001b[0m \u001b[0mbins\u001b[0m\u001b[0;34m=\u001b[0m\u001b[0mnp\u001b[0m\u001b[0;34m.\u001b[0m\u001b[0mlinspace\u001b[0m\u001b[0;34m(\u001b[0m\u001b[0;36m15\u001b[0m\u001b[0;34m,\u001b[0m \u001b[0;36m30\u001b[0m\u001b[0;34m,\u001b[0m \u001b[0;36m100\u001b[0m\u001b[0;34m)\u001b[0m\u001b[0;34m,\u001b[0m \u001b[0mhisttype\u001b[0m\u001b[0;34m=\u001b[0m\u001b[0;34m'step'\u001b[0m\u001b[0;34m,\u001b[0m \u001b[0mlabel\u001b[0m\u001b[0;34m=\u001b[0m\u001b[0;34m'i'\u001b[0m\u001b[0;34m)\u001b[0m\u001b[0;34m;\u001b[0m\u001b[0;34m\u001b[0m\u001b[0;34m\u001b[0m\u001b[0m\n\u001b[1;32m      4\u001b[0m \u001b[0mplt\u001b[0m\u001b[0;34m.\u001b[0m\u001b[0mhist\u001b[0m\u001b[0;34m(\u001b[0m\u001b[0mmags\u001b[0m\u001b[0;34m[\u001b[0m\u001b[0;34m:\u001b[0m\u001b[0;34m,\u001b[0m\u001b[0;36m3\u001b[0m\u001b[0;34m]\u001b[0m\u001b[0;34m,\u001b[0m \u001b[0mbins\u001b[0m\u001b[0;34m=\u001b[0m\u001b[0mnp\u001b[0m\u001b[0;34m.\u001b[0m\u001b[0mlinspace\u001b[0m\u001b[0;34m(\u001b[0m\u001b[0;36m15\u001b[0m\u001b[0;34m,\u001b[0m \u001b[0;36m30\u001b[0m\u001b[0;34m,\u001b[0m \u001b[0;36m100\u001b[0m\u001b[0;34m)\u001b[0m\u001b[0;34m,\u001b[0m \u001b[0mhisttype\u001b[0m\u001b[0;34m=\u001b[0m\u001b[0;34m'step'\u001b[0m\u001b[0;34m,\u001b[0m \u001b[0mlabel\u001b[0m\u001b[0;34m=\u001b[0m\u001b[0;34m'z'\u001b[0m\u001b[0;34m)\u001b[0m\u001b[0;34m;\u001b[0m\u001b[0;34m\u001b[0m\u001b[0;34m\u001b[0m\u001b[0m\n\u001b[1;32m      5\u001b[0m \u001b[0mplt\u001b[0m\u001b[0;34m.\u001b[0m\u001b[0mlegend\u001b[0m\u001b[0;34m(\u001b[0m\u001b[0;34m)\u001b[0m\u001b[0;34m\u001b[0m\u001b[0;34m\u001b[0m\u001b[0m\n",
      "\u001b[0;31mIndexError\u001b[0m: index 0 is out of bounds for axis 1 with size 0"
     ]
    }
   ],
   "source": [
    "plt.hist(mags[:,0], bins=np.linspace(15, 30, 100), histtype='step', label='g');\n",
    "plt.hist(mags[:,1], bins=np.linspace(15, 30, 100), histtype='step', label='r');\n",
    "plt.hist(mags[:,2], bins=np.linspace(15, 30, 100), histtype='step', label='i');\n",
    "plt.hist(mags[:,3], bins=np.linspace(15, 30, 100), histtype='step', label='z');\n",
    "plt.legend()"
   ]
  },
  {
   "cell_type": "code",
   "execution_count": 51,
   "id": "9a1439f9",
   "metadata": {},
   "outputs": [
    {
     "data": {
      "text/plain": [
       "<matplotlib.legend.Legend at 0x7fa01741f690>"
      ]
     },
     "execution_count": 51,
     "metadata": {},
     "output_type": "execute_result"
    },
    {
     "data": {
      "image/png": "[encoded data removed]",
      "text/plain": [
       "<Figure size 432x288 with 1 Axes>"
      ]
     },
     "metadata": {
      "needs_background": "light"
     },
     "output_type": "display_data"
    }
   ],
   "source": [
    "plt.hist(mags[:,0][mags[:,0]<98.], histtype='step', label='g');\n",
    "plt.hist(mags[:,1][mags[:,1]<98.], histtype='step', label='r');\n",
    "plt.hist(mags[:,2][mags[:,2]<98.], histtype='step', label='i');\n",
    "plt.hist(mags[:,3][mags[:,3]<98.], histtype='step', label='z');\n",
    "plt.legend()"
   ]
  },
  {
   "cell_type": "code",
   "execution_count": null,
   "id": "aad79ee1",
   "metadata": {},
   "outputs": [],
   "source": [
    "bpzres['Z_ML']"
   ]
  },
  {
   "cell_type": "code",
   "execution_count": 60,
   "id": "f8236924",
   "metadata": {},
   "outputs": [
    {
     "data": {
      "image/png": "[encoded data removed]",
      "text/plain": [
       "<Figure size 432x288 with 1 Axes>"
      ]
     },
     "metadata": {
      "needs_background": "light"
     },
     "output_type": "display_data"
    }
   ],
   "source": [
    "plt.hist(bpzres['Z_B'], bins=100)\n",
    "plt.show()"
   ]
  }
 ],
 "metadata": {
  "kernelspec": {
   "display_name": "Python 3 (ipykernel)",
   "language": "python",
   "name": "python3"
  },
  "language_info": {
   "codemirror_mode": {
    "name": "ipython",
    "version": 3
   },
   "file_extension": ".py",
   "mimetype": "text/x-python",
   "name": "python",
   "nbconvert_exporter": "python",
   "pygments_lexer": "ipython3",
   "version": "3.7.6"
  }
 },
 "nbformat": 4,
 "nbformat_minor": 5
}
