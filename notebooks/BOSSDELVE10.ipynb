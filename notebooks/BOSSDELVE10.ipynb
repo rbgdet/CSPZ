{
 "cells": [
  {
   "cell_type": "code",
   "execution_count": 1,
   "id": "abc39454-b000-4613-9ceb-814310afa2d3",
   "metadata": {},
   "outputs": [],
   "source": [
    "import numpy as np\n",
    "import pandas as pd\n",
    "import pylab as plt\n",
    "import h5py\n",
    "import matplotlib\n",
    "%matplotlib inline\n",
    "from astropy.utils.data import download_file  #import file from URL\n",
    "from matplotlib.ticker import NullFormatter\n",
    "import astropy.table\n",
    "import subprocess as sp\n",
    "import glob\n",
    "import healpy as hp"
   ]
  },
  {
   "cell_type": "code",
   "execution_count": 2,
   "id": "83ff9ed2-e53e-4029-b667-45b1382ec05b",
   "metadata": {},
   "outputs": [],
   "source": [
    "flist = glob.glob('/data/des91.b/data/kadrlica/projects/delve/cat/y3t1/v1/cat/cat*.fits')\n",
    "#generates list of filenames in the directory above\n",
    "\n",
    "pxnums = [] #initiates pxnums (see below)\n",
    "\n",
    "for fname in flist:                                         #generates list of ints (pxnums)\n",
    "    pxnums.append(int(fname.split('.')[1].split('_')[-1])) #containing pixel numbers\n",
    "    \n",
    "pxnums = np.array(pxnums) #converts pxnums to array\n",
    "\n",
    "ra, dec = hp.pix2ang(32, pxnums, lonlat=True) #gets the right ascension and declination\n",
    "                                              #of each pixel in two arrays"
   ]
  },
  {
   "cell_type": "code",
   "execution_count": 3,
   "id": "e1247e00-959b-4446-af2d-069e04260a60",
   "metadata": {},
   "outputs": [],
   "source": [
    "data_boss_north = astropy.table.Table.read('/data/des90.a/data/raulteix/data/speczs/galaxy_DR12v5_CMASSLOWZTOT_North.fits.gz')\n",
    "#BOSS data for the northern hemisphere\n",
    "\n",
    "data_boss_south = astropy.table.Table.read('/data/des90.a/data/raulteix/data/speczs/galaxy_DR12v5_CMASSLOWZTOT_South.fits.gz')\n",
    "#BOSS data for the southern hemisphere\n",
    "\n",
    "data_boss_all = astropy.table.vstack([data_boss_north, data_boss_south])\n",
    "#vertical stacking of previous two tables\n",
    "\n",
    "pxnums_boss = hp.ang2pix(32, data_boss_all['RA'], data_boss_all['DEC'], lonlat=True)\n",
    "#array of pixel numbers (with repetition for objects in the same pixel!)\n",
    "\n",
    "overlap_boss_delve = np.in1d(pxnums_boss, pxnums)\n",
    "#boolean array mask for overlapping pixels in BOSS \n"
   ]
  },
  {
   "cell_type": "code",
   "execution_count": 4,
   "id": "188c041d-9ef0-4d55-95e6-d6f403aaea2c",
   "metadata": {},
   "outputs": [],
   "source": [
    "data_boss_good = data_boss_all[overlap_boss_delve]\n",
    "\n",
    "#all the objects in BOSS that are in pixels also present in DELVE DR2\n"
   ]
  },
  {
   "cell_type": "code",
   "execution_count": 5,
   "id": "a73868f8-f634-432c-b99a-91c70dec678d",
   "metadata": {},
   "outputs": [],
   "source": [
    "px_overlap = np.unique(pxnums_boss[overlap_boss_delve])\n",
    "\n",
    "#all the pixels present in both catalogs"
   ]
  },
  {
   "cell_type": "code",
   "execution_count": 6,
   "id": "3cf37f78-5c55-4aac-9c8b-277551f2ac00",
   "metadata": {},
   "outputs": [],
   "source": [
    "def pixelstyle(pixel):\n",
    "    if pixel < 10000: return f'0{pixel}' #formats pixel such that they always have 5 digits\n",
    "    else: return f'{pixel}'"
   ]
  },
  {
   "cell_type": "code",
   "execution_count": 7,
   "id": "d7ce261f-03fa-437a-909f-095a031629d1",
   "metadata": {},
   "outputs": [],
   "source": [
    "#here we will create a single Astropy Table of the first 800 pixels\n",
    "\n",
    "dr2_all = []\n",
    "for pixel in pxnums[5000:5500]: #parallelization\n",
    "    dr2_i = astropy.table.Table.read(f'/data/des91.b/data/kadrlica/projects/delve/cat/y3t1/v1/cat/cat_hpx_{pixelstyle(pixel)}.fits')\n",
    "    bandlist = ['G', 'R', 'I', 'Z']\n",
    "    for band in bandlist:\n",
    "        dr2_i[f'EXTENDED_CLASS_{band}'] = (1.0*((dr2_i[f'SPREAD_MODEL_{band}'] + 3*dr2_i[f'SPREADERR_MODEL_{band}']) > 0.005) \n",
    "        + 1.0*((dr2_i[f'SPREAD_MODEL_{band}'] + dr2_i[f'SPREADERR_MODEL_{band}']) > 0.003) \n",
    "        + 1.0*((dr2_i[f'SPREAD_MODEL_{band}'] - dr2_i[f'SPREADERR_MODEL_{band}']) > 0.003))\n",
    "    dr2_i_f = dr2_i[dr2_i['EXTENDED_CLASS_G']>1] #filtering out likely stars\n",
    "    dr2_all.append(dr2_i_f)\n",
    "dr2_all = astropy.table.vstack(dr2_all)"
   ]
  },
  {
   "cell_type": "code",
   "execution_count": 8,
   "id": "ff9dd7a0-acfd-49d1-87b4-eb21459be58b",
   "metadata": {},
   "outputs": [],
   "source": [
    "data=dr2_all"
   ]
  },
  {
   "cell_type": "code",
   "execution_count": 9,
   "id": "002ff694-5247-4c5c-a85f-2fb91de03527",
   "metadata": {},
   "outputs": [],
   "source": [
    "#here we will catalog match the first 800 pixels\n",
    "#from DELVE DR2 to all of BOSS, then run the matched \n",
    "#catalog through BPZ and then callibrate\n",
    "\n",
    "from astropy.coordinates import SkyCoord\n",
    "from astropy import units as u\n",
    "boss_cd = SkyCoord(ra=data_boss_good['RA']*u.degree, dec=data_boss_good['DEC']*u.degree)\n",
    "delve_cd = SkyCoord(ra=data['RA']*u.deg, dec=data['DEC']*u.deg)\n",
    "idx, d2d, d3d = boss_cd.match_to_catalog_sky(delve_cd)"
   ]
  },
  {
   "cell_type": "code",
   "execution_count": 10,
   "id": "d7cfb791-cf50-40ac-bf24-9c6205f90079",
   "metadata": {},
   "outputs": [
    {
     "name": "stdout",
     "output_type": "stream",
     "text": [
      "73991 73991\n"
     ]
    }
   ],
   "source": [
    "good_matches = d2d < 1.0*u.arcsec\n",
    "print(len(np.unique(idx[good_matches])), np.count_nonzero(good_matches))"
   ]
  },
  {
   "cell_type": "code",
   "execution_count": 11,
   "id": "d9425e9e-4e34-4dce-90ef-409ec6a3482e",
   "metadata": {},
   "outputs": [],
   "source": [
    "idx_, d2d_, d3d_ = delve_cd.match_to_catalog_sky(boss_cd)"
   ]
  },
  {
   "cell_type": "code",
   "execution_count": 12,
   "id": "0431cbd8-34b0-45cb-8231-50c207c95796",
   "metadata": {},
   "outputs": [
    {
     "name": "stdout",
     "output_type": "stream",
     "text": [
      "73991 75515\n"
     ]
    }
   ],
   "source": [
    "good_matches_ = d2d_ < 1.0*u.arcsec\n",
    "print(len(np.unique(idx_[good_matches_])), np.count_nonzero(good_matches_))"
   ]
  },
  {
   "cell_type": "code",
   "execution_count": 13,
   "id": "b13adfdb-6d36-4374-a123-0733773611c0",
   "metadata": {},
   "outputs": [],
   "source": [
    "data_all = astropy.table.hstack([data_boss_good[good_matches], data[idx][good_matches]])"
   ]
  },
  {
   "cell_type": "code",
   "execution_count": 14,
   "id": "7406628c-4a78-4dde-8cc3-a6c712bd7223",
   "metadata": {},
   "outputs": [
    {
     "ename": "OSError",
     "evalue": "File /data/des90.a/data/raulteix/data/BOSSDELVE/BOSSDELVE11.fits already exists. If you mean to replace it then use the argument \"overwrite=True\".",
     "output_type": "error",
     "traceback": [
      "\u001b[0;31m---------------------------------------------------------------------------\u001b[0m",
      "\u001b[0;31mOSError\u001b[0m                                   Traceback (most recent call last)",
      "Input \u001b[0;32mIn [14]\u001b[0m, in \u001b[0;36m<module>\u001b[0;34m\u001b[0m\n\u001b[0;32m----> 1\u001b[0m \u001b[43mdata_all\u001b[49m\u001b[38;5;241;43m.\u001b[39;49m\u001b[43mwrite\u001b[49m\u001b[43m(\u001b[49m\u001b[38;5;124;43m'\u001b[39;49m\u001b[38;5;124;43m/data/des90.a/data/raulteix/data/BOSSDELVE/BOSSDELVE11.fits\u001b[39;49m\u001b[38;5;124;43m'\u001b[39;49m\u001b[43m,\u001b[49m\u001b[43m \u001b[49m\u001b[38;5;28;43mformat\u001b[39;49m\u001b[38;5;241;43m=\u001b[39;49m\u001b[38;5;124;43m'\u001b[39;49m\u001b[38;5;124;43mfits\u001b[39;49m\u001b[38;5;124;43m'\u001b[39;49m\u001b[43m)\u001b[49m\n",
      "File \u001b[0;32m~/.conda/envs/raulenv2/lib/python3.10/site-packages/astropy/table/connect.py:129\u001b[0m, in \u001b[0;36mTableWrite.__call__\u001b[0;34m(self, serialize_method, *args, **kwargs)\u001b[0m\n\u001b[1;32m    127\u001b[0m instance \u001b[38;5;241m=\u001b[39m \u001b[38;5;28mself\u001b[39m\u001b[38;5;241m.\u001b[39m_instance\n\u001b[1;32m    128\u001b[0m \u001b[38;5;28;01mwith\u001b[39;00m serialize_method_as(instance, serialize_method):\n\u001b[0;32m--> 129\u001b[0m     \u001b[38;5;28;43mself\u001b[39;49m\u001b[38;5;241;43m.\u001b[39;49m\u001b[43mregistry\u001b[49m\u001b[38;5;241;43m.\u001b[39;49m\u001b[43mwrite\u001b[49m\u001b[43m(\u001b[49m\u001b[43minstance\u001b[49m\u001b[43m,\u001b[49m\u001b[43m \u001b[49m\u001b[38;5;241;43m*\u001b[39;49m\u001b[43margs\u001b[49m\u001b[43m,\u001b[49m\u001b[43m \u001b[49m\u001b[38;5;241;43m*\u001b[39;49m\u001b[38;5;241;43m*\u001b[39;49m\u001b[43mkwargs\u001b[49m\u001b[43m)\u001b[49m\n",
      "File \u001b[0;32m~/.conda/envs/raulenv2/lib/python3.10/site-packages/astropy/io/registry/core.py:354\u001b[0m, in \u001b[0;36mUnifiedOutputRegistry.write\u001b[0;34m(self, data, format, *args, **kwargs)\u001b[0m\n\u001b[1;32m    350\u001b[0m     \u001b[38;5;28mformat\u001b[39m \u001b[38;5;241m=\u001b[39m \u001b[38;5;28mself\u001b[39m\u001b[38;5;241m.\u001b[39m_get_valid_format(\n\u001b[1;32m    351\u001b[0m         \u001b[38;5;124m'\u001b[39m\u001b[38;5;124mwrite\u001b[39m\u001b[38;5;124m'\u001b[39m, data\u001b[38;5;241m.\u001b[39m\u001b[38;5;18m__class__\u001b[39m, path, fileobj, args, kwargs)\n\u001b[1;32m    353\u001b[0m writer \u001b[38;5;241m=\u001b[39m \u001b[38;5;28mself\u001b[39m\u001b[38;5;241m.\u001b[39mget_writer(\u001b[38;5;28mformat\u001b[39m, data\u001b[38;5;241m.\u001b[39m\u001b[38;5;18m__class__\u001b[39m)\n\u001b[0;32m--> 354\u001b[0m \u001b[38;5;28;01mreturn\u001b[39;00m \u001b[43mwriter\u001b[49m\u001b[43m(\u001b[49m\u001b[43mdata\u001b[49m\u001b[43m,\u001b[49m\u001b[43m \u001b[49m\u001b[38;5;241;43m*\u001b[39;49m\u001b[43margs\u001b[49m\u001b[43m,\u001b[49m\u001b[43m \u001b[49m\u001b[38;5;241;43m*\u001b[39;49m\u001b[38;5;241;43m*\u001b[39;49m\u001b[43mkwargs\u001b[49m\u001b[43m)\u001b[49m\n",
      "File \u001b[0;32m~/.conda/envs/raulenv2/lib/python3.10/site-packages/astropy/io/fits/connect.py:404\u001b[0m, in \u001b[0;36mwrite_table_fits\u001b[0;34m(input, output, overwrite, append)\u001b[0m\n\u001b[1;32m    402\u001b[0m         os\u001b[38;5;241m.\u001b[39mremove(output)\n\u001b[1;32m    403\u001b[0m     \u001b[38;5;28;01melif\u001b[39;00m \u001b[38;5;129;01mnot\u001b[39;00m append:\n\u001b[0;32m--> 404\u001b[0m         \u001b[38;5;28;01mraise\u001b[39;00m \u001b[38;5;167;01mOSError\u001b[39;00m(NOT_OVERWRITING_MSG\u001b[38;5;241m.\u001b[39mformat(output))\n\u001b[1;32m    406\u001b[0m \u001b[38;5;28;01mif\u001b[39;00m append:\n\u001b[1;32m    407\u001b[0m     \u001b[38;5;66;03m# verify=False stops it reading and checking the existing file.\u001b[39;00m\n\u001b[1;32m    408\u001b[0m     fits_append(output, table_hdu\u001b[38;5;241m.\u001b[39mdata, table_hdu\u001b[38;5;241m.\u001b[39mheader, verify\u001b[38;5;241m=\u001b[39m\u001b[38;5;28;01mFalse\u001b[39;00m)\n",
      "\u001b[0;31mOSError\u001b[0m: File /data/des90.a/data/raulteix/data/BOSSDELVE/BOSSDELVE11.fits already exists. If you mean to replace it then use the argument \"overwrite=True\"."
     ]
    }
   ],
   "source": [
    "data_all.write('/data/des90.a/data/raulteix/data/BOSSDELVE/BOSSDELVE11.fits', format='fits')"
   ]
  }
 ],
 "metadata": {
  "kernelspec": {
   "display_name": "Python 3 (ipykernel)",
   "language": "python",
   "name": "python3"
  },
  "language_info": {
   "codemirror_mode": {
    "name": "ipython",
    "version": 3
   },
   "file_extension": ".py",
   "mimetype": "text/x-python",
   "name": "python",
   "nbconvert_exporter": "python",
   "pygments_lexer": "ipython3",
   "version": "3.10.2"
  }
 },
 "nbformat": 4,
 "nbformat_minor": 5
}
