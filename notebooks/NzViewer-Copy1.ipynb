{
 "cells": [
  {
   "cell_type": "code",
   "execution_count": 1,
   "id": "bcd809fe",
   "metadata": {},
   "outputs": [],
   "source": [
    "import matplotlib.pyplot as plt\n",
    "import h5py\n",
    "import numpy as np\n",
    "import astropy\n",
    "from astropy.table import Table"
   ]
  },
  {
   "cell_type": "code",
   "execution_count": 2,
   "id": "e1ec0330",
   "metadata": {},
   "outputs": [],
   "source": [
    "def tname(i):\n",
    "    path = '/home/raulteixeira/repos/CSPZ/scripts/tile_DR3_1_1.csv'\n",
    "    metadata = np.genfromtxt(path, dtype='str', delimiter=\",\")[1:][int(i)]\n",
    "    tilename = metadata[0][2:-1]\n",
    "    return tilename"
   ]
  },
  {
   "cell_type": "code",
   "execution_count": 5,
   "id": "d3055ab6",
   "metadata": {},
   "outputs": [
    {
     "name": "stdout",
     "output_type": "stream",
     "text": [
      "DES0717+1834\n",
      "Z_MEAN\n"
     ]
    },
    {
     "data": {
      "image/png": "[encoded data removed]",
      "text/plain": [
       "<Figure size 432x288 with 1 Axes>"
      ]
     },
     "metadata": {
      "needs_background": "light"
     },
     "output_type": "display_data"
    },
    {
     "name": "stdout",
     "output_type": "stream",
     "text": [
      "Z_B\n"
     ]
    },
    {
     "data": {
      "image/png": "[encoded data removed]",
      "text/plain": [
       "<Figure size 432x288 with 1 Axes>"
      ]
     },
     "metadata": {
      "needs_background": "light"
     },
     "output_type": "display_data"
    },
    {
     "name": "stdout",
     "output_type": "stream",
     "text": [
      "DES0717+1834, templates used [0. 1. 2. 3. 4. 5. 6. 7. 8.]\n",
      "Z_SAMP\n"
     ]
    },
    {
     "data": {
      "image/png": "[encoded data removed]",
      "text/plain": [
       "<Figure size 432x288 with 1 Axes>"
      ]
     },
     "metadata": {
      "needs_background": "light"
     },
     "output_type": "display_data"
    }
   ],
   "source": [
    "tileno = 2\n",
    "tilename = tname(tileno)\n",
    "\n",
    "tilename = tname(tileno)\n",
    "print(tilename)\n",
    "\n",
    "bands = ['g', 'r', 'i', 'z']\n",
    "flag_masks = []\n",
    "# for band in bands:\n",
    "#     filename = f'/home/raulteixeira/scratch-midway2/CosmicShearData/tile_{tileno}/decade.ncsa.illinois.edu/\\\n",
    "# deca_archive/DEC_Taiga/multiepoch/delve/r5918/{tname(tileno)}/p01/cat/{tname(tileno)}_r5918p01_{band}_cat.fits'\n",
    "#     table_band = Table.read(filename)\n",
    "#     mask_i = table_band['FLAGS']==0\n",
    "#     flag_masks.append(mask_i)\n",
    "\n",
    "# maskflag = np.full(mask_i.size, True)\n",
    "# for i in range(4):\n",
    "#     maskflag = np.logical_and(maskflag, flag_masks[i])\n",
    "\n",
    "filename = f'/home/raulteixeira/scratch-midway2/CosmicShearData/tile_{tileno}/pzout_{tileno}.h5'\n",
    "with h5py.File(filename) as f:\n",
    "    bpzres={}\n",
    "    for key in list(f.keys()):\n",
    "        bpzres[key] = np.array(f[key])\n",
    "\n",
    "# filename = f'/home/raulteixeira/scratch-midway2/CosmicShearData/tile_{tileno}/table.h5'\n",
    "# with h5py.File(filename) as f:\n",
    "#     photometry={}\n",
    "#     for key in list(f['df'].keys()):\n",
    "#         photometry[key] = np.array(f['df'][key])\n",
    "\n",
    "# filename = '/home/raulteixeira/scratch-midway2/CosmicShearData/bpztiles/pzinput/pzinput_METACAL_4_bands_DES1212-3540.h5'\n",
    "# with h5py.File(filename) as f:\n",
    "#     photometry_good={}\n",
    "#     for key in list(f['df'].keys()):\n",
    "#         photometry_good[key] = np.array(f['df'][key])\n",
    "\n",
    "filename = '/home/raulteixeira/scratch-midway2/CosmicShearData/bpztiles/output/pzs/pz_hdfn_gen_METACAL4_DES1212-3540_test110822.h5'\n",
    "with h5py.File(filename) as f:\n",
    "    bpzgood={}\n",
    "    for key in list(f.keys()):\n",
    "        bpzgood[key] = np.array(f[key])\n",
    "\n",
    "print('Z_MEAN')\n",
    "plt.hist(bpzres['Z_MEAN'][bpzres['Z_MEAN']>-1], bins=np.linspace(0, 3.5, 40), density=1, histtype='step', color='r');\n",
    "plt.hist(bpzgood['Z_MEAN'][bpzgood['Z_MEAN']>-1], bins=np.linspace(0, 3.5, 40), density=1, histtype='step', color='k');\n",
    "plt.show()\n",
    "\n",
    "print('Z_B')\n",
    "plt.hist(bpzres['Z_B'][bpzres['Z_B']>-1], bins=np.linspace(0, 3.5, 40), density=1, histtype='step', color='r');\n",
    "plt.hist(bpzgood['Z_B'][bpzgood['Z_B']>-1], bins=np.linspace(0, 3.5, 40), density=1, histtype='step', color='k');\n",
    "plt.show()\n",
    "\n",
    "\n",
    "print(f'{tilename}, templates used', np.unique(bpzres['T_B']))\n",
    "\n",
    "print('Z_SAMP')\n",
    "plt.hist(bpzres['Z_SAMP'][bpzres['Z_SAMP']>-1], bins=np.linspace(0, 3.5, 40), density=1, histtype='step', color='r');\n",
    "plt.hist(bpzgood['Z_SAMP'][bpzgood['Z_SAMP']>-1], bins=np.linspace(0, 3.5, 40), density=1, histtype='step', color='k');\n",
    "plt.show()\n",
    "\n",
    "# magdata = photometry['block0_values'].T[8:12]\n",
    "# magerrdata = photometry['block0_values'].T[12:]\n",
    "\n",
    "# magdata_good = photometry_good['block1_values'].T[0:4]\n",
    "# magerrdata_good = photometry_good['block1_values'].T[4:8]\n",
    "\n",
    "# for i in range(4):\n",
    "#     plt.hist(magerrdata[i], bins=np.linspace(-1, 1, 50), histtype = 'step', color='r', density=1)\n",
    "#     plt.hist(magerrdata_good[i], bins=np.linspace(-1, 1, 50), histtype = 'step', color='k', density=1)\n",
    "#     plt.show()\n",
    "\n",
    "# maskierr25 = magerrdata[3]<.25\n",
    "\n",
    "# for i in range(4):\n",
    "#     plt.hist(magdata[i], bins=np.linspace(18, 28, 50), histtype = 'step', color='r', density=1)\n",
    "#     plt.hist(magdata_good[i], bins=np.linspace(18, 28, 50), histtype = 'step', color='k', density=1)\n",
    "#     plt.show()\n",
    "\n",
    "# for i in range(3):\n",
    "#     plt.hist(magdata[i]-magdata[i+1], bins=np.linspace(-1, 4, 50), histtype = 'step', color='r', density=1)\n",
    "#     plt.hist(magdata_good[i]-magdata_good[i+1], bins=np.linspace(-1, 4, 50), histtype = 'step', color='k', density=1)\n",
    "#     plt.show()\n",
    "\n",
    "\n",
    "\n",
    "# i_cut_good = magdata_good[3]<23\n",
    "# for i in range(4):\n",
    "#     magmask_i = magdata_good[i]!=99\n",
    "#     plt.hist(magdata_good[i][np.logical_and(i_cut_good, magmask_i)], bins=40, alpha = .25)\n",
    "# plt.show()\n",
    "\n",
    "# i_cut = magdata[3]<20\n",
    "# for i in range(4):\n",
    "#     magmask_i = magdata[i]!=99\n",
    "#     plt.hist(magdata[i][np.logical_and(i_cut, magmask_i)], bins=40, alpha = .25)\n",
    "# plt.show()\n",
    "\n",
    "#     plt.hist(bpzres['Z_SAMP'][np.logical_and(maskierr25, bpzres['Z_SAMP']>-1)], bins=np.linspace(0, 3.5, 40), density=1, histtype='step', color='r');\n",
    "#     plt.hist(bpzgood['Z_SAMP'][bpzgood['Z_SAMP']>-1], bins=np.linspace(0, 3.5, 40), density=1, histtype='step', color='k');\n",
    "#     plt.show()\n",
    "\n",
    "# np.sum(magdata[i]==99)\n",
    "\n",
    "# for i in range(4):\n",
    "#     magmask_i = magdata[i]!=99\n",
    "#     errmaxmask = magerrdata[i]<28.3\n",
    "#     plt.hist(magerrdata[i][np.logical_and(magmask_i, errmaxmask)], bins=40, alpha = .25)\n",
    "# plt.yscale('log')\n",
    "# plt.show()\n",
    "\n",
    "# for i in range(4):\n",
    "#     plt.hist(magerrdata[i], bins=40, alpha = .2)\n",
    "# print('maskless below')\n",
    "# plt.yscale('log')\n",
    "# plt.show()"
   ]
  },
  {
   "cell_type": "code",
   "execution_count": 50,
   "id": "d684dfad",
   "metadata": {},
   "outputs": [
    {
     "name": "stdout",
     "output_type": "stream",
     "text": [
      "[6.85363988e-10 8.58596749e-10 1.06731746e-09 1.13327570e-09]\n"
     ]
    }
   ],
   "source": [
    "print(f_obs)"
   ]
  },
  {
   "cell_type": "code",
   "execution_count": null,
   "id": "2f74d4ed",
   "metadata": {},
   "outputs": [],
   "source": []
  }
 ],
 "metadata": {
  "kernelspec": {
   "display_name": "Python 3 (ipykernel)",
   "language": "python",
   "name": "python3"
  },
  "language_info": {
   "codemirror_mode": {
    "name": "ipython",
    "version": 3
   },
   "file_extension": ".py",
   "mimetype": "text/x-python",
   "name": "python",
   "nbconvert_exporter": "python",
   "pygments_lexer": "ipython3",
   "version": "3.7.6"
  }
 },
 "nbformat": 4,
 "nbformat_minor": 5
}
