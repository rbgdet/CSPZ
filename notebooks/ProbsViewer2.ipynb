{
 "cells": [
  {
   "cell_type": "code",
   "execution_count": null,
   "id": "a5846947",
   "metadata": {},
   "outputs": [],
   "source": [
    "import matplotlib.pyplot as plt\n",
    "import numpy as np\n",
    "import shelve\n",
    "import pandas as pd\n",
    "import h5py\n",
    "import glob\n",
    "import astropy\n",
    "from astropy.table import Table as Table\n",
    "def plot(x, y, ret=False):\n",
    "    a=plt.plot(x, y)\n",
    "    plt.show()\n",
    "    if ret: return a\n",
    "    \n",
    "start = 25; end = 50\n",
    "    \n",
    "fnamelist = glob.glob('/home/raulteixeira/scratch-midway2/CosmicShearData/bpztiles/output/probs/*METACAL*')\n",
    "\n",
    "tiles = []\n",
    "for fname in fnamelist:\n",
    "    tiles.append(fname.split('_')[-1].split('.')[0])\n",
    "\n",
    "tiles = np.unique(tiles)\n",
    "\n",
    "tile = tiles[0]\n",
    "path = f'/home/raulteixeira/scratch-midway2/CosmicShearData/bpztiles/output/probs/pz_METACAL4_probs_{tile}'\n",
    "probs = shelve.open(path)\n",
    "IDs=list(probs.keys())[2:]\n",
    "zs = probs[IDs[0]][0]\n",
    "\n",
    "POSTERIOR1 = POSTERIOR2 = POSTERIOR3 = np.zeros_like(zs)\n",
    "all_samples1 = all_samples2 = all_samples3 = np.array([])\n",
    "\n",
    "Zs1 = Zs2 = Zs3 = IDs1 = IDs2 = IDs3 = np.array([])\n",
    "all_samples1 = all_samples2 = all_samples3 = np.array([])\n",
    "\n",
    "for tile in tiles[start:end]:\n",
    "    # opening probs files\n",
    "    path = f'/home/raulteixeira/scratch-midway2/CosmicShearData/bpztiles/output/probs/pz_cosmos_Laigle_py3_METACAL4_probs_{tile}'\n",
    "    probs1 = shelve.open(path)\n",
    "\n",
    "    path = f'/home/raulteixeira/scratch-midway2/CosmicShearData/bpztiles/output/probs/pz_hdfn_gen_METACAL4_probs_{tile}'\n",
    "    probs2 = shelve.open(path)\n",
    "\n",
    "    path = f'/home/raulteixeira/scratch-midway2/CosmicShearData/bpztiles/output/probs/pz_sva1_weights_METACAL4_probs_{tile}'\n",
    "    probs3 = shelve.open(path)\n",
    "\n",
    "    # opening samples files\n",
    "    path = f'/home/raulteixeira/scratch-midway2/CosmicShearData/bpztiles/output/pzs/pz_cosmos_Laigle_py3_METACAL4_{tile}_ITS.txt'\n",
    "    samples1 = np.loadtxt(path)\n",
    "\n",
    "    path = f'/home/raulteixeira/scratch-midway2/CosmicShearData/bpztiles/output/pzs/pz_hdfn_gen_METACAL4_{tile}_ITS.txt'\n",
    "    samples2 = np.loadtxt(path)\n",
    "\n",
    "    path = f'/home/raulteixeira/scratch-midway2/CosmicShearData/bpztiles/output/pzs/pz_sva1_weights_METACAL4_{tile}_ITS.txt'\n",
    "    samples3 = np.loadtxt(path)\n",
    "    \n",
    "    #BPZ h5 file\n",
    "    filename = f'/home/raulteixeira/scratch-midway2/CosmicShearData/bpztiles/output/pzs/pz_cosmos_Laigle_py3_METACAL4_{tile}.h5'\n",
    "    with h5py.File(filename) as f:\n",
    "        bpzres1={}\n",
    "        for key in list(f.keys()):\n",
    "            bpzres1[key] = np.array(f[key])\n",
    "            \n",
    "    filename = f'/home/raulteixeira/scratch-midway2/CosmicShearData/bpztiles/output/pzs/pz_hdfn_gen_METACAL4_{tile}.h5'\n",
    "    with h5py.File(filename) as f:\n",
    "        bpzres2={}\n",
    "        for key in list(f.keys()):\n",
    "            bpzres2[key] = np.array(f[key])\n",
    "    \n",
    "    filename = f'/home/raulteixeira/scratch-midway2/CosmicShearData/bpztiles/output/pzs/pz_sva1_weights_METACAL4_{tile}.h5'\n",
    "    with h5py.File(filename) as f:\n",
    "        bpzres3={}\n",
    "        for key in list(f.keys()):\n",
    "            bpzres3[key] = np.array(f[key])\n",
    "            \n",
    "    #IDs\n",
    "    iIDs1=list(probs1.keys())[2:]\n",
    "    iIDs2=list(probs2.keys())[2:]\n",
    "    iIDs3=list(probs3.keys())[2:]\n",
    "    length1 = len(iIDs1)\n",
    "    length2 = len(iIDs2)\n",
    "    length3 = len(iIDs3)\n",
    "    \n",
    "    all_samples1 = np.concatenate((all_samples1, samples1))\n",
    "    all_samples2 = np.concatenate((all_samples2, samples2))\n",
    "    all_samples3 = np.concatenate((all_samples3, samples3))\n",
    "       \n",
    "    Zs1 = np.concatenate((Zs1, bpzres1['Z_B']))\n",
    "    IDs1 = np.concatenate((IDs1, bpzres1['ID']))\n",
    "    Zs2 = np.concatenate((Zs2, bpzres2['Z_B']))\n",
    "    IDs2 = np.concatenate((IDs2, bpzres2['ID']))\n",
    "    Zs3 = np.concatenate((Zs3, bpzres3['Z_B']))\n",
    "    IDs3 = np.concatenate((IDs3, bpzres3['ID']))\n",
    "            \n",
    "    posteriortotal1 = posteriortotal2 = posteriortotal3 = np.zeros_like(zs)\n",
    "\n",
    "    for i, ID in enumerate(iIDs1):\n",
    "        if i%1000==0: print(i, 'out of', length1)\n",
    "        posterior = np.sum(probs1[ID][2]*probs1[ID][1], axis=1)\n",
    "        norm = np.sum(posterior)\n",
    "        posterior /= norm\n",
    "        posteriortotal1 += posterior\n",
    "    \n",
    "    POSTERIOR1 += posteriortotal1\n",
    "    \n",
    "    for i, ID in enumerate(iIDs2):\n",
    "        if i%1000==0: print(i, 'out of', length2)\n",
    "        posterior = np.sum(probs2[ID][2]*probs2[ID][1], axis=1)\n",
    "        norm = np.sum(posterior)\n",
    "        posterior /= norm\n",
    "        posteriortotal2 += posterior\n",
    "    \n",
    "    POSTERIOR2 += posteriortotal2\n",
    "    \n",
    "    for i, ID in enumerate(iIDs3):\n",
    "        if i%1000==0: print(i, 'out of', length3)\n",
    "        posterior = np.sum(probs3[ID][2]*probs3[ID][1], axis=1)\n",
    "        norm = np.sum(posterior)\n",
    "        posterior /= norm\n",
    "        posteriortotal3 += posterior\n",
    "    \n",
    "    POSTERIOR3 += posteriortotal3\n",
    "\n",
    "BPZs1 = Table()\n",
    "BPZs1['COADD_OBJECT_ID'], BPZs1['Z_B1'], BPZs1['Z_SAMP1'] = IDs1, Zs1, all_samples1\n",
    "BPZs2 = Table()\n",
    "BPZs2['COADD_OBJECT_ID'], BPZs2['Z_B2'], BPZs1['Z_SAMP2'] = IDs2, Zs2, all_samples2\n",
    "BPZs3 = Table()\n",
    "BPZs3['COADD_OBJECT_ID'], BPZs3['Z_B3'], BPZs1['Z_SAMP3'] = IDs3, Zs3, all_samples3\n",
    "\n",
    "cat = Table.read('/home/raulteixeira/scratch-midway2/CosmicShearData/pzinput/fits/shear_test_coadd_object_gold.fits')\n",
    "\n",
    "BPZs = [BPZs1, BPZs2, BPZs3]\n",
    "for BPZ in BPZs:\n",
    "    cat = astropy.table.join(cat, BPZ, keys='COADD_OBJECT_ID')\n",
    "\n",
    "cat.write('/home/raulteixeira/scratch-midway2/CosmicShearData/bpztiles/BPZcat_after25.fits')\n",
    "\n",
    "np.savetxt('/home/raulteixeira/scratch-midway2/CosmicShearData/bpztiles/post1_after25.txt', POSTERIOR1)\n",
    "np.savetxt('/home/raulteixeira/scratch-midway2/CosmicShearData/bpztiles/post2_after25.txt', POSTERIOR2)\n",
    "np.savetxt('/home/raulteixeira/scratch-midway2/CosmicShearData/bpztiles/post3_after25.txt', POSTERIOR3)"
   ]
  },
  {
   "cell_type": "code",
   "execution_count": null,
   "id": "42f99e1a",
   "metadata": {},
   "outputs": [],
   "source": [
    "np.savetxt('/home/raulteixeira/scratch-midway2/CosmicShearData/bpztiles/samples1.txt', all_samples1)\n",
    "np.savetxt('/home/raulteixeira/scratch-midway2/CosmicShearData/bpztiles/samples2.txt', all_samples2)\n",
    "np.savetxt('/home/raulteixeira/scratch-midway2/CosmicShearData/bpztiles/samples3.txt', all_samples3)"
   ]
  },
  {
   "cell_type": "code",
   "execution_count": null,
   "id": "40dfe8a9",
   "metadata": {},
   "outputs": [],
   "source": [
    "plt.scatter(BPZs1['Z_B'], (BPZs3['Z_B']-BPZs1['Z_B'])/(1+BPZs1['Z_B']), s=.5)"
   ]
  },
  {
   "cell_type": "code",
   "execution_count": null,
   "id": "37b7fc18",
   "metadata": {},
   "outputs": [],
   "source": [
    "BPZs1.write('/home/raulteixeira/scratch-midway2/CosmicShearData/bpztiles/BPZs1.fits')\n",
    "BPZs2.write('/home/raulteixeira/scratch-midway2/CosmicShearData/bpztiles/BPZs2.fits')\n",
    "BPZs3.write('/home/raulteixeira/scratch-midway2/CosmicShearData/bpztiles/BPZs3.fits')"
   ]
  },
  {
   "cell_type": "code",
   "execution_count": null,
   "id": "2bcb2bab",
   "metadata": {},
   "outputs": [],
   "source": [
    "cat = Table.read('/home/raulteixeira/scratch-midway2/CosmicShearData/pzinput/fits/shear_test_coadd_object_gold.fits')"
   ]
  },
  {
   "cell_type": "code",
   "execution_count": null,
   "id": "bcd9c498",
   "metadata": {},
   "outputs": [],
   "source": [
    "BPZs = [BPZs1, BPZs2, BPZs3]\n",
    "for BPZ in BPZs:\n",
    "    cat = astropy.table.join(cat, BPZ, keys='COADD_OBJECT_ID')"
   ]
  },
  {
   "cell_type": "code",
   "execution_count": null,
   "id": "39f06f93",
   "metadata": {},
   "outputs": [],
   "source": [
    "cat.write('/home/raulteixeira/scratch-midway2/CosmicShearData/bpztiles/BPZcat25.fits')"
   ]
  },
  {
   "cell_type": "code",
   "execution_count": null,
   "id": "28bad529",
   "metadata": {},
   "outputs": [],
   "source": [
    "cat = Table.read('/home/raulteixeira/scratch-midway2/CosmicShearData/bpztiles/BPZcat25.fits')"
   ]
  },
  {
   "cell_type": "code",
   "execution_count": null,
   "id": "cd8b7d01",
   "metadata": {},
   "outputs": [],
   "source": [
    "samps1 = np.loadtxt('/home/raulteixeira/scratch-midway2/CosmicShearData/bpztiles/samples1.txt')\n",
    "samps2 = np.loadtxt('/home/raulteixeira/scratch-midway2/CosmicShearData/bpztiles/samples2.txt')\n",
    "samps3 = np.loadtxt('/home/raulteixeira/scratch-midway2/CosmicShearData/bpztiles/samples3.txt')\n",
    "\n",
    "post1 = np.loadtxt('/home/raulteixeira/scratch-midway2/CosmicShearData/bpztiles/post1.txt')\n",
    "post2 = np.loadtxt('/home/raulteixeira/scratch-midway2/CosmicShearData/bpztiles/post2.txt')\n",
    "post3 = np.loadtxt('/home/raulteixeira/scratch-midway2/CosmicShearData/bpztiles/post3.txt')"
   ]
  },
  {
   "cell_type": "code",
   "execution_count": null,
   "id": "bc0c4022",
   "metadata": {},
   "outputs": [],
   "source": [
    "a1 = plt.hist(samps1[samps1>-1000], density=True, bins=30, alpha=.33)\n",
    "a2 = plt.hist(samps2[samps2>-1000], density=True, bins=30, alpha=.33)\n",
    "a3 = plt.hist(samps3[samps3>-1000], density=True, bins=30, alpha=.33)"
   ]
  },
  {
   "cell_type": "code",
   "execution_count": null,
   "id": "867d4989",
   "metadata": {},
   "outputs": [],
   "source": [
    "b = plt.hist(bpzres['Z_B'], density=True, bins=30)"
   ]
  },
  {
   "cell_type": "code",
   "execution_count": null,
   "id": "4908ed1e",
   "metadata": {},
   "outputs": [],
   "source": [
    "scale11 = post1.max()\n",
    "scale21 = a1[0].max()\n",
    "\n",
    "scale12 = post2.max()\n",
    "scale22 = a1[0].max()\n",
    "\n",
    "scale13 = post3.max()\n",
    "scale23 = a1[0].max()"
   ]
  },
  {
   "cell_type": "code",
   "execution_count": null,
   "id": "81f645da",
   "metadata": {},
   "outputs": [],
   "source": [
    "specz = Table.read('/home/raulteixeira/scratch-midway2/CosmicShearData/specdataDR2.fits')"
   ]
  },
  {
   "cell_type": "code",
   "execution_count": null,
   "id": "f2ec722f",
   "metadata": {
    "scrolled": true
   },
   "outputs": [],
   "source": [
    "specz"
   ]
  },
  {
   "cell_type": "code",
   "execution_count": null,
   "id": "a5ab7cd9",
   "metadata": {},
   "outputs": [],
   "source": [
    "Zs1 = Zs2 = Zs3 = IDs1 = IDs2 = IDs3 = np.array([])\n",
    "all_samples1 = all_samples2 = all_samples3 = np.array([])\n",
    "for tile in tiles[:25]:\n",
    "    #BPZ h5 file\n",
    "    filename = f'/home/raulteixeira/scratch-midway2/CosmicShearData/bpztiles/output/pzs/pz_cosmos_Laigle_py3_METACAL4_{tile}.h5'\n",
    "    with h5py.File(filename) as f:\n",
    "        bpzres1={}\n",
    "        for key in list(f.keys()):\n",
    "            bpzres1[key] = np.array(f[key])\n",
    "            \n",
    "    filename = f'/home/raulteixeira/scratch-midway2/CosmicShearData/bpztiles/output/pzs/pz_hdfn_gen_METACAL4_{tile}.h5'\n",
    "    with h5py.File(filename) as f:\n",
    "        bpzres2={}\n",
    "        for key in list(f.keys()):\n",
    "            bpzres2[key] = np.array(f[key])\n",
    "    \n",
    "    filename = f'/home/raulteixeira/scratch-midway2/CosmicShearData/bpztiles/output/pzs/pz_sva1_weights_METACAL4_{tile}.h5'\n",
    "    with h5py.File(filename) as f:\n",
    "        bpzres3={}\n",
    "        for key in list(f.keys()):\n",
    "            bpzres3[key] = np.array(f[key])\n",
    "    \n",
    "    # opening samples files\n",
    "    path = f'/home/raulteixeira/scratch-midway2/CosmicShearData/bpztiles/output/pzs/pz_cosmos_Laigle_py3_METACAL4_{tile}_ITS.txt'\n",
    "    samples1 = np.loadtxt(path)\n",
    "\n",
    "    path = f'/home/raulteixeira/scratch-midway2/CosmicShearData/bpztiles/output/pzs/pz_hdfn_gen_METACAL4_{tile}_ITS.txt'\n",
    "    samples2 = np.loadtxt(path)\n",
    "\n",
    "    path = f'/home/raulteixeira/scratch-midway2/CosmicShearData/bpztiles/output/pzs/pz_sva1_weights_METACAL4_{tile}_ITS.txt'\n",
    "    samples3 = np.loadtxt(path)\n",
    "    \n",
    "    all_samples1 = np.concatenate((all_samples1, samples1))\n",
    "    all_samples2 = np.concatenate((all_samples2, samples2))\n",
    "    all_samples3 = np.concatenate((all_samples3, samples3))\n",
    "    \n",
    "    Zs1 = np.concatenate((Zs1, bpzres1['Z_B']))\n",
    "    IDs1 = np.concatenate((IDs1, bpzres1['ID']))\n",
    "    Zs2 = np.concatenate((Zs2, bpzres2['Z_B']))\n",
    "    IDs2 = np.concatenate((IDs2, bpzres2['ID']))\n",
    "    Zs3 = np.concatenate((Zs3, bpzres3['Z_B']))\n",
    "    IDs3 = np.concatenate((IDs3, bpzres3['ID']))\n",
    "    \n",
    "BPZs1 = Table()\n",
    "BPZs1['COADD_OBJECT_ID'], BPZs1['Z_B1'], BPZs1['Z_SAMP1'] = IDs1, Zs1, all_samples1\n",
    "BPZs2 = Table()\n",
    "BPZs2['COADD_OBJECT_ID'], BPZs2['Z_B2'], BPZs1['Z_SAMP2'] = IDs2, Zs2, all_samples2\n",
    "BPZs3 = Table()\n",
    "BPZs3['COADD_OBJECT_ID'], BPZs3['Z_B3'], BPZs1['Z_SAMP3'] = IDs3, Zs3, all_samples3\n",
    "\n",
    "cat = Table.read('/home/raulteixeira/scratch-midway2/CosmicShearData/pzinput/fits/shear_test_coadd_object_gold.fits')\n",
    "\n",
    "BPZs = [BPZs1, BPZs2, BPZs3]\n",
    "for BPZ in BPZs:\n",
    "    cat = astropy.table.join(cat, BPZ, keys='COADD_OBJECT_ID')"
   ]
  },
  {
   "cell_type": "code",
   "execution_count": null,
   "id": "247b7664",
   "metadata": {},
   "outputs": [],
   "source": [
    "from astropy.coordinates import SkyCoord\n",
    "from astropy import units as u\n",
    "specz_cd = SkyCoord(ra=specz['RA']*u.degree, dec=specz['DEC']*u.degree)\n",
    "bpz_cd = SkyCoord(ra=cat['RA']*u.deg, dec=cat['DEC']*u.deg)\n",
    "idx, d2d, d3d = specz_cd.match_to_catalog_sky(bpz_cd)\n",
    "\n",
    "good_matches = d2d < 1.0*u.arcsec\n",
    "print(len(np.unique(idx[good_matches])), np.count_nonzero(good_matches))\n",
    "\n",
    "idx_, d2d_, d3d_ = bpz_cd.match_to_catalog_sky(specz_cd)\n",
    "\n",
    "good_matches_ = d2d_ < 1.0*u.arcsec\n",
    "print(len(np.unique(idx_[good_matches_])), np.count_nonzero(good_matches_))\n",
    "\n",
    "data = astropy.table.hstack([specz[good_matches], cat[idx][good_matches]])"
   ]
  },
  {
   "cell_type": "code",
   "execution_count": null,
   "id": "be59a74d",
   "metadata": {},
   "outputs": [],
   "source": [
    "cat"
   ]
  },
  {
   "cell_type": "code",
   "execution_count": null,
   "id": "252146d8",
   "metadata": {},
   "outputs": [],
   "source": [
    "plt.scatter(specz['RA'], specz['DEC'], s=.02)\n",
    "plt.scatter(cat['RA'], cat['DEC'], s=.2)\n",
    "plt.show()"
   ]
  },
  {
   "cell_type": "code",
   "execution_count": null,
   "id": "453bc27a",
   "metadata": {},
   "outputs": [],
   "source": [
    "specz"
   ]
  },
  {
   "cell_type": "code",
   "execution_count": null,
   "id": "f23285da",
   "metadata": {},
   "outputs": [],
   "source": []
  },
  {
   "cell_type": "code",
   "execution_count": null,
   "id": "60da0efa",
   "metadata": {},
   "outputs": [],
   "source": [
    "cat = astropy.table.join(cat, specz, keys='COADD_OBJECT_ID')"
   ]
  },
  {
   "cell_type": "code",
   "execution_count": null,
   "id": "ec3362c2",
   "metadata": {},
   "outputs": [],
   "source": [
    "print(scale1, scale2)"
   ]
  },
  {
   "cell_type": "code",
   "execution_count": null,
   "id": "2359cb7a",
   "metadata": {},
   "outputs": [],
   "source": [
    "BPZs1.size"
   ]
  },
  {
   "cell_type": "code",
   "execution_count": null,
   "id": "dc3c03d9",
   "metadata": {},
   "outputs": [],
   "source": [
    "samps1.size"
   ]
  },
  {
   "cell_type": "code",
   "execution_count": null,
   "id": "bd77d685",
   "metadata": {
    "scrolled": false
   },
   "outputs": [],
   "source": [
    "nbins = 30\n",
    "#PDF/=np.sum(PDF)\n",
    "plt.xlabel('BPZ')\n",
    "plt.ylabel('normalized counts')\n",
    "plt.plot(zs, scale21*post1/scale11)\n",
    "plt.hist(BPZs1, density=True, bins=nbins, alpha=.5, color='b', label='BPZ')\n",
    "plt.show()\n",
    "\n",
    "plt.xlabel('BPZ')\n",
    "plt.ylabel('normalized counts')\n",
    "plt.plot(zs, scale22*post2/scale12)\n",
    "plt.hist(BPZs2, density=True, bins=nbins, alpha=.5, color='b', label='BPZ')\n",
    "plt.show()\n",
    "\n",
    "plt.xlabel('BPZ')\n",
    "plt.ylabel('normalized counts')\n",
    "plt.plot(zs, scale23*post3/scale13)\n",
    "plt.hist(BPZs3, density=True, bins=nbins, alpha=.5, color='b', label='BPZ')\n",
    "plt.show()\n",
    "\n",
    "\n",
    "plt.xlabel('Sampled Z')\n",
    "plt.ylabel('normalized counts')\n",
    "plt.plot(zs, scale21*post1/scale11)\n",
    "plt.hist(samps1[samps1>-1000], density=True, bins=nbins, alpha=.8, label='Sampled Z')\n",
    "plt.show()\n",
    "\n",
    "plt.xlabel('Sampled Z')\n",
    "plt.ylabel('normalized counts')\n",
    "plt.plot(zs, scale22*post2/scale12)\n",
    "plt.hist(samps2[samps2>-1000], density=True, bins=nbins, alpha=.8, label='Sampled Z')\n",
    "plt.show()\n",
    "\n",
    "plt.xlabel('Sampled Z')\n",
    "plt.ylabel('normalized counts')\n",
    "plt.plot(zs, scale23*post3/scale13)\n",
    "plt.hist(samps3[samps3>-1000], density=True, bins=nbins, alpha=.8, label='Sampled Z')\n",
    "plt.show()\n",
    "\n",
    "\n",
    "\n",
    "#do for loop for all tiles calculated"
   ]
  },
  {
   "cell_type": "code",
   "execution_count": null,
   "id": "abb76123",
   "metadata": {},
   "outputs": [],
   "source": [
    "# loading catalog\n",
    "mcal_full_data = Table.read('/home/raulteixeira/scratch-midway2/CosmicShearData/METACALgals.fits')"
   ]
  },
  {
   "cell_type": "code",
   "execution_count": null,
   "id": "b2d789d1",
   "metadata": {},
   "outputs": [],
   "source": [
    "# loading BPZ results\n",
    "\n",
    "for tile in tiles:\n",
    "    filename = f'/home/raulteixeira/scratch-midway2/CosmicShearData/bpztiles/output/pzs/pz_METACAL4_{tile}.h5'\n",
    "    with h5py.File(filename) as f:\n",
    "        bpzres={}\n",
    "        for key in list(f.keys()):\n",
    "            bpzres[key] = np.array(f[key])"
   ]
  },
  {
   "cell_type": "code",
   "execution_count": null,
   "id": "ed6c7787",
   "metadata": {},
   "outputs": [],
   "source": []
  },
  {
   "cell_type": "code",
   "execution_count": null,
   "id": "124b76a2",
   "metadata": {
    "scrolled": true
   },
   "outputs": [],
   "source": [
    "all_samples.size"
   ]
  },
  {
   "cell_type": "code",
   "execution_count": null,
   "id": "cc8d6ed5",
   "metadata": {},
   "outputs": [],
   "source": [
    "btiles = []\n",
    "for tile in tiles:\n",
    "    btiles.append(bytes(tile, encoding='utf-8'))"
   ]
  },
  {
   "cell_type": "code",
   "execution_count": null,
   "id": "e8cefdfb",
   "metadata": {},
   "outputs": [],
   "source": [
    "mcal_df = mcal_full_data.to_pandas()"
   ]
  },
  {
   "cell_type": "code",
   "execution_count": null,
   "id": "b55ec1e0",
   "metadata": {},
   "outputs": [],
   "source": [
    "mcal_df = mcal_df.loc[mcal_df['TILENAME'].isin(btiles)] #this ensures ordering by tiles as well!"
   ]
  },
  {
   "cell_type": "code",
   "execution_count": null,
   "id": "b3a7b1b3",
   "metadata": {},
   "outputs": [],
   "source": [
    "mcal_df['SAMPLED_Z']=all_samples"
   ]
  },
  {
   "cell_type": "code",
   "execution_count": null,
   "id": "72362065",
   "metadata": {},
   "outputs": [],
   "source": [
    "g, r, i, z = mcal_df['MAG_AUTO_G'], mcal_df['MAG_AUTO_R'], mcal_df['MAG_AUTO_I'], mcal_df['MAG_AUTO_Z']"
   ]
  },
  {
   "cell_type": "code",
   "execution_count": null,
   "id": "ea5ae4e5",
   "metadata": {},
   "outputs": [],
   "source": [
    "crazymask_gr = np.logical_or(g-r>4, g-r<-1)\n",
    "crazymask_ri = np.logical_or(i-z>4, i-z<-1)\n",
    "crazymask_iz = np.logical_or(r-i>4, r-i<-1)\n",
    "\n",
    "crazymask = np.logical_not(np.logical_or(np.logical_or(crazymask_gr, crazymask_ri), crazymask_iz)) # masking out crazy colors"
   ]
  },
  {
   "cell_type": "code",
   "execution_count": null,
   "id": "1f73340e",
   "metadata": {
    "scrolled": true
   },
   "outputs": [],
   "source": [
    "all_samples[crazymask].size"
   ]
  },
  {
   "cell_type": "code",
   "execution_count": null,
   "id": "602e8301",
   "metadata": {},
   "outputs": [],
   "source": [
    "len(all_samples[crazymask][all_samples[crazymask]>-1000][mcal_df[crazymask][all_samples[crazymask]>-1000]['MAG_AUTO_G']<30])"
   ]
  },
  {
   "cell_type": "code",
   "execution_count": null,
   "id": "9a09cc8b",
   "metadata": {
    "scrolled": true
   },
   "outputs": [],
   "source": [
    "plt.hist(all_samples[crazymask][all_samples[crazymask]>-1000], bins=50)"
   ]
  },
  {
   "cell_type": "code",
   "execution_count": null,
   "id": "bbf0e4c6",
   "metadata": {},
   "outputs": [],
   "source": [
    "plt.scatter((i-z)[all_samples>-1000], all_samples[all_samples>-1000], s=.5)"
   ]
  },
  {
   "cell_type": "code",
   "execution_count": null,
   "id": "6726cde0",
   "metadata": {},
   "outputs": [],
   "source": [
    "far_z = mcal_df['SAMPLED_Z']>2.5"
   ]
  },
  {
   "cell_type": "code",
   "execution_count": null,
   "id": "19535649",
   "metadata": {},
   "outputs": [],
   "source": [
    "bandlist = ['G', 'R', 'I', 'Z']\n",
    "for band in bandlist:\n",
    "    plt.title(band+' distribution')\n",
    "    plt.hist(mcal_df[f'MAG_AUTO_{band}'][far_z], alpha=.5)\n",
    "    plt.hist(mcal_df[f'MAG_AUTO_{band}'], alpha=.5)\n",
    "    plt.show()"
   ]
  },
  {
   "cell_type": "code",
   "execution_count": null,
   "id": "187f4c43",
   "metadata": {},
   "outputs": [],
   "source": [
    "bandlist = ['G', 'R', 'I', 'Z']\n",
    "for band in bandlist:\n",
    "    plt.title(band+ ' Error'+' distribution')\n",
    "    plt.yscale('log')\n",
    "    plt.hist(mcal_df[f'MAGERR_AUTO_{band}'][far_z], alpha=.5, range=(0,5), bins=40)\n",
    "    plt.hist(mcal_df[f'MAGERR_AUTO_{band}'], alpha=.5, range=(0,5), bins=40)\n",
    "    plt.show()"
   ]
  },
  {
   "cell_type": "code",
   "execution_count": null,
   "id": "e9d8b221",
   "metadata": {},
   "outputs": [],
   "source": [
    "MAGERR_AUTO < 0.01 and MAG_AUTO - SOF_CM_MAG < -0.5 "
   ]
  },
  {
   "cell_type": "code",
   "execution_count": null,
   "id": "5c3a113b",
   "metadata": {},
   "outputs": [],
   "source": [
    "mcal_df['SOF']"
   ]
  },
  {
   "cell_type": "code",
   "execution_count": null,
   "id": "69b50fab",
   "metadata": {},
   "outputs": [],
   "source": [
    "fig = plt.figure(figsize=(10,10))\n",
    "ax = fig.add_subplot(projection='3d')\n",
    "plt.xlabel('g-r')\n",
    "plt.ylabel('r-i')\n",
    "plt.scatter((g-r)[crazymask][mcal_df['MAG_AUTO_G']<30], (r-i)[crazymask][mcal_df['MAG_AUTO_G']<30], (i-z)[crazymask][mcal_df['MAG_AUTO_G']<30], marker='o')"
   ]
  },
  {
   "cell_type": "code",
   "execution_count": null,
   "id": "b801ec8a",
   "metadata": {},
   "outputs": [],
   "source": [
    "plt.xlabel('g-r')\n",
    "plt.ylabel('r-i')\n",
    "plt.scatter((g-r)[crazymask][mcal_df['MAG_AUTO_G']<30], (r-i)[crazymask][mcal_df['MAG_AUTO_G']<30])\n",
    "plt.show()\n",
    "plt.xlabel('r-i')\n",
    "plt.ylabel('i-z')\n",
    "plt.scatter((r-i)[crazymask][mcal_df['MAG_AUTO_G']<30], (i-z)[crazymask][mcal_df['MAG_AUTO_G']<30])\n",
    "plt.show()\n",
    "plt.xlabel('g-r')\n",
    "plt.ylabel('i-z')\n",
    "plt.scatter((g-r)[crazymask][mcal_df['MAG_AUTO_G']<30],(i-z)[crazymask][mcal_df['MAG_AUTO_G']<30])\n",
    "plt.show()"
   ]
  }
 ],
 "metadata": {
  "kernelspec": {
   "display_name": "Python 3",
   "language": "python",
   "name": "python3"
  },
  "language_info": {
   "codemirror_mode": {
    "name": "ipython",
    "version": 3
   },
   "file_extension": ".py",
   "mimetype": "text/x-python",
   "name": "python",
   "nbconvert_exporter": "python",
   "pygments_lexer": "ipython3",
   "version": "3.7.6"
  }
 },
 "nbformat": 4,
 "nbformat_minor": 5
}
