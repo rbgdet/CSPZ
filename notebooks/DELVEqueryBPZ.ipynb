{
 "cells": [
  {
   "cell_type": "code",
   "execution_count": 1,
   "id": "77fb0c7d",
   "metadata": {
    "scrolled": true
   },
   "outputs": [
    {
     "name": "stdout",
     "output_type": "stream",
     "text": [
      "0 DES0753-0416\n",
      "a\n",
      "Connecting to DB ** decade ** ...\n",
      "\u001b[31mError when trying to connect to database: ORA-12170: TNS:Connect timeout occurred\u001b[0m\n",
      "\n",
      "   Retrying...\n",
      "\n",
      "\n",
      " ** Could not successfully connect to DB. Try again later. Aborting. ** \n",
      "\n"
     ]
    },
    {
     "ename": "Exception",
     "evalue": "Not connected to the DB",
     "output_type": "error",
     "traceback": [
      "\u001b[0;31m---------------------------------------------------------------------------\u001b[0m",
      "\u001b[0;31mException\u001b[0m                                 Traceback (most recent call last)",
      "Cell \u001b[0;32mIn[1], line 30\u001b[0m\n\u001b[1;32m     27\u001b[0m decade_query \u001b[38;5;241m=\u001b[39m \u001b[38;5;124m\"\u001b[39m\u001b[38;5;124mselect a.COADD_OBJECT_ID, a.RA, a.DEC, a.FLUX_AUTO_G, a.FLUX_AUTO_R, a.FLUX_AUTO_I, a.FLUX_AUTO_Z, a.FLUXERR_AUTO_G, a.FLUXERR_AUTO_R, a.FLUXERR_AUTO_I, a.FLUXERR_AUTO_Z, b.BDF_FLUX_G, b.BDF_FLUX_R, b.BDF_FLUX_I, b.BDF_FLUX_Z, b.BDF_FLUX_ERR_G, b.BDF_FLUX_ERR_R, b.BDF_FLUX_ERR_I, b.BDF_FLUX_ERR_Z from DECADE.DR3_1_COADD_OBJECT_SUMMARY a, DR3_1_SOF b where a.COADD_OBJECT_ID=b.COADD_OBJECT_ID and a.TILENAME=\u001b[39m\u001b[38;5;124m'\u001b[39m\u001b[38;5;124m\"\u001b[39m\u001b[38;5;241m+\u001b[39m\u001b[38;5;28mstr\u001b[39m(tile)\u001b[38;5;241m+\u001b[39m\u001b[38;5;124m\"\u001b[39m\u001b[38;5;124m'\u001b[39m\u001b[38;5;124m;\u001b[39m\u001b[38;5;124m\"\u001b[39m\n\u001b[1;32m     29\u001b[0m \u001b[38;5;66;03m# get the decade qa data as a pandas dataframe\u001b[39;00m\n\u001b[0;32m---> 30\u001b[0m conn \u001b[38;5;241m=\u001b[39m \u001b[43measyaccess\u001b[49m\u001b[38;5;241;43m.\u001b[39;49m\u001b[43mconnect\u001b[49m\u001b[43m(\u001b[49m\u001b[43msection\u001b[49m\u001b[38;5;241;43m=\u001b[39;49m\u001b[38;5;124;43m'\u001b[39;49m\u001b[38;5;124;43mdecade\u001b[39;49m\u001b[38;5;124;43m'\u001b[39;49m\u001b[43m)\u001b[49m\n\u001b[1;32m     31\u001b[0m decade_df \u001b[38;5;241m=\u001b[39m conn\u001b[38;5;241m.\u001b[39mquery_to_pandas(decade_query)\n\u001b[1;32m     32\u001b[0m data \u001b[38;5;241m=\u001b[39m decade_df\u001b[38;5;241m.\u001b[39mto_records()\n",
      "File \u001b[0;32m~/.conda/envs/shear/lib/python3.9/site-packages/easyaccess/eautils/python_api.py:104\u001b[0m, in \u001b[0;36mconnect.__init__\u001b[0;34m(self, section, user, passwd, quiet, refresh)\u001b[0m\n\u001b[1;32m    102\u001b[0m \u001b[38;5;28;01melse\u001b[39;00m:\n\u001b[1;32m    103\u001b[0m     desconf \u001b[38;5;241m=\u001b[39m config_mod\u001b[38;5;241m.\u001b[39mget_desconfig(desfile, db)\n\u001b[0;32m--> 104\u001b[0m \u001b[43measy_or\u001b[49m\u001b[38;5;241;43m.\u001b[39;49m\u001b[38;5;21;43m__init__\u001b[39;49m\u001b[43m(\u001b[49m\u001b[38;5;28;43mself\u001b[39;49m\u001b[43m,\u001b[49m\u001b[43m \u001b[49m\u001b[43mconf\u001b[49m\u001b[43m,\u001b[49m\u001b[43m \u001b[49m\u001b[43mdesconf\u001b[49m\u001b[43m,\u001b[49m\u001b[43m \u001b[49m\u001b[43mdb\u001b[49m\u001b[43m,\u001b[49m\u001b[43m \u001b[49m\u001b[43minteractive\u001b[49m\u001b[38;5;241;43m=\u001b[39;49m\u001b[38;5;28;43;01mFalse\u001b[39;49;00m\u001b[43m,\u001b[49m\u001b[43m \u001b[49m\u001b[43mquiet\u001b[49m\u001b[38;5;241;43m=\u001b[39;49m\u001b[43mquiet\u001b[49m\u001b[43m,\u001b[49m\u001b[43m \u001b[49m\u001b[43mpymod\u001b[49m\u001b[38;5;241;43m=\u001b[39;49m\u001b[38;5;28;43;01mTrue\u001b[39;49;00m\u001b[43m)\u001b[49m\n\u001b[1;32m    105\u001b[0m \u001b[38;5;28;01mtry\u001b[39;00m:\n\u001b[1;32m    106\u001b[0m     \u001b[38;5;28mself\u001b[39m\u001b[38;5;241m.\u001b[39mcur\u001b[38;5;241m.\u001b[39mexecute(\u001b[38;5;124m'\u001b[39m\u001b[38;5;124mcreate table FGOTTENMETADATA (ID int)\u001b[39m\u001b[38;5;124m'\u001b[39m)\n",
      "File \u001b[0;32m~/.conda/envs/shear/lib/python3.9/site-packages/easyaccess/easyaccess.py:215\u001b[0m, in \u001b[0;36measy_or.__init__\u001b[0;34m(self, conf, desconf, db, interactive, quiet, refresh, pymod)\u001b[0m\n\u001b[1;32m    213\u001b[0m \u001b[38;5;28mprint\u001b[39m(\u001b[38;5;124m'\u001b[39m\u001b[38;5;130;01m\\n\u001b[39;00m\u001b[38;5;124m ** Could not successfully connect to DB. Try again later. Aborting. ** \u001b[39m\u001b[38;5;130;01m\\n\u001b[39;00m\u001b[38;5;124m'\u001b[39m)\n\u001b[1;32m    214\u001b[0m \u001b[38;5;28;01mif\u001b[39;00m pymod:\n\u001b[0;32m--> 215\u001b[0m     \u001b[38;5;28;01mraise\u001b[39;00m \u001b[38;5;167;01mException\u001b[39;00m(\u001b[38;5;124m'\u001b[39m\u001b[38;5;124mNot connected to the DB\u001b[39m\u001b[38;5;124m'\u001b[39m)\n\u001b[1;32m    216\u001b[0m \u001b[38;5;28;01melse\u001b[39;00m:\n\u001b[1;32m    217\u001b[0m     os\u001b[38;5;241m.\u001b[39m_exit(\u001b[38;5;241m0\u001b[39m)\n",
      "\u001b[0;31mException\u001b[0m: Not connected to the DB"
     ]
    }
   ],
   "source": [
    "import easyaccess\n",
    "import numpy as np\n",
    "import fitsio\n",
    "import os\n",
    "import subprocess as sp\n",
    "\n",
    "bpzdir = '/home/raulteixeira/repos/DESC_BPZ/scripts/bpz.py'\n",
    "\n",
    "metadata = np.genfromtxt('/project/chihway/chihway/shearcat/Tilelist/11072023/new_final_list_DR3_1_1.txt', dtype='str', delimiter=\",\")[1:]\n",
    "\n",
    "def flux2mag(flux):\n",
    "    return -2.5 * np.log10(flux) + 30\n",
    "\n",
    "cols = ['COADD_OBJECT_ID', 'BDF_FLUX_G', 'BDF_FLUX_R', 'BDF_FLUX_I', 'BDF_FLUX_Z', 'BDF_FLUX_ERR_G', 'BDF_FLUX_ERR_R', 'BDF_FLUX_ERR_I', 'BDF_FLUX_ERR_Z', 'BDF_MAG_I']\n",
    "\n",
    "m0col = 'BDF_MAG_I'\n",
    "\n",
    "for i in range(5):#len(metadata)):   \n",
    "    tile = metadata[i][0]\n",
    "    print(i, tile)\n",
    "\n",
    "    h5dir = '/home/raulteixeira/scratch-midway2/CosmicShearData/bpztiles/pzinput/gold_'+str(tile)+'.h5'\n",
    "    parsdir = f'/project/chihway/raulteixeira/data/DELVE_gold_{str(tile)}.pars'\n",
    "    \n",
    "    #if not os.path.isfile(\"/project/chihway/data/decade/coaddcat_pz/gold_\"+str(tile)+\".fits\"):\n",
    "    print('a')\n",
    "    decade_query = \"select a.COADD_OBJECT_ID, a.RA, a.DEC, a.FLUX_AUTO_G, a.FLUX_AUTO_R, a.FLUX_AUTO_I, a.FLUX_AUTO_Z, a.FLUXERR_AUTO_G, a.FLUXERR_AUTO_R, a.FLUXERR_AUTO_I, a.FLUXERR_AUTO_Z, b.BDF_FLUX_G, b.BDF_FLUX_R, b.BDF_FLUX_I, b.BDF_FLUX_Z, b.BDF_FLUX_ERR_G, b.BDF_FLUX_ERR_R, b.BDF_FLUX_ERR_I, b.BDF_FLUX_ERR_Z from DECADE.DR3_1_COADD_OBJECT_SUMMARY a, DR3_1_SOF b where a.COADD_OBJECT_ID=b.COADD_OBJECT_ID and a.TILENAME='\"+str(tile)+\"';\"\n",
    "\n",
    "    # get the decade qa data as a pandas dataframe\n",
    "    conn = easyaccess.connect(section='decade')\n",
    "    decade_df = conn.query_to_pandas(decade_query)\n",
    "    data = decade_df.to_records()\n",
    "    print(len(data))\n",
    "\n",
    "    pos_mask = data[m0col]>0\n",
    "    data=data[pos_mask]\n",
    "\n",
    "    if len(data)>0:\n",
    "        #fitsio.write(\"/project/chihway/data/decade/coaddcat_pz/gold_\"+str(tile)+\".fits\", data)\n",
    "\n",
    "        for label in cols:\n",
    "            if label!=m0col: dframe_i[label] = data[label]\n",
    "            else: dframe_i[label] = flux2mag(data[label])\n",
    "\n",
    "        dframe_i.to_hdf(h5dir, key='df')\n",
    "        list_lines = ['COLUMNS     /home/raulteixeira/repos/DESC_BPZ/tests/CosmicShearPZ_COADD_ID.columns\\n'\n",
    "                  , f'OUTPUT\\t    /project/chihway/raulteixeira/data/BPZ_gold_DELVE/pz_{prior}_DELVE_gold_{tile}.h5\\n'\n",
    "                  , 'SPECTRA     CWWSB4.list\\n'\n",
    "                  , 'PRIOR\\t     sva1_weights\\n'\n",
    "                  , 'DZ          0.01\\n'\n",
    "                  , 'ZMIN        0.005\\n'\n",
    "                  , 'ZMAX        3.505\\n'\n",
    "                  , 'MAG         yes\\n'\n",
    "                  , 'NEW_AB      no\\n'\n",
    "                  , 'MADAU\\t    no #TURN OFF MADAU!!!!\\n'\n",
    "                  , 'EXCLUDE     none\\n'\n",
    "                  , 'CHECK       yes\\n'\n",
    "                  , '#ZC          1.0,2.0\\n'\n",
    "                  , '#FC          0.2,0.4\\n'\n",
    "                  , 'VERBOSE     no\\n'\n",
    "                  , '#INTERP      0\\n'\n",
    "                  , 'ODDS        0.68\\n'\n",
    "                  , f'PROBS      no\\n'\n",
    "                  , f'PROBS2     no\\n'\n",
    "                  , f'PROBS_LITE no\\n'\n",
    "                  , 'GET_Z       yes\\n'\n",
    "                  , 'INTERACTIVE yes\\n'\n",
    "                  , 'PLOTS       no\\n'\n",
    "                  , 'SAMPLING yes\\n'\n",
    "                  , 'NSAMPLES 1\\n'\n",
    "                  , 'SEED 42\\n'\n",
    "                  , '#ONLY_TYPE   yes\\n']\n",
    "\n",
    "        pars = open(parsdir, mode='w')\n",
    "        pars.writelines(list_lines)\n",
    "        pars.close()\n",
    "\n",
    "        command = f'python -u {bpzdir} {h5dir} -P {parsdir}'\n",
    "        sp.run(command, shell = True)\n",
    "        #sp.run(f'rm {h5dir}', shell = True)\n",
    "        #sp.run(f'rm {pars}', shell = True)\n",
    "    else: print('a')"
   ]
  },
  {
   "cell_type": "code",
   "execution_count": 2,
   "id": "65b3fac9",
   "metadata": {},
   "outputs": [
    {
     "data": {
      "text/plain": [
       "\"select a.COADD_OBJECT_ID, a.RA, a.DEC, a.FLUX_AUTO_G, a.FLUX_AUTO_R, a.FLUX_AUTO_I, a.FLUX_AUTO_Z, a.FLUXERR_AUTO_G, a.FLUXERR_AUTO_R, a.FLUXERR_AUTO_I, a.FLUXERR_AUTO_Z, b.BDF_FLUX_G, b.BDF_FLUX_R, b.BDF_FLUX_I, b.BDF_FLUX_Z, b.BDF_FLUX_ERR_G, b.BDF_FLUX_ERR_R, b.BDF_FLUX_ERR_I, b.BDF_FLUX_ERR_Z from DECADE.DR3_1_COADD_OBJECT_SUMMARY a, DR3_1_SOF b where a.COADD_OBJECT_ID=b.COADD_OBJECT_ID and a.TILENAME='DES0753-0416';\""
      ]
     },
     "execution_count": 2,
     "metadata": {},
     "output_type": "execute_result"
    }
   ],
   "source": [
    "decade_query\n"
   ]
  },
  {
   "cell_type": "code",
   "execution_count": null,
   "id": "a8365f9c",
   "metadata": {},
   "outputs": [],
   "source": []
  }
 ],
 "metadata": {
  "kernelspec": {
   "display_name": "Python 3 (ipykernel)",
   "language": "python",
   "name": "python3"
  },
  "language_info": {
   "codemirror_mode": {
    "name": "ipython",
    "version": 3
   },
   "file_extension": ".py",
   "mimetype": "text/x-python",
   "name": "python",
   "nbconvert_exporter": "python",
   "pygments_lexer": "ipython3",
   "version": "3.9.16"
  }
 },
 "nbformat": 4,
 "nbformat_minor": 5
}
