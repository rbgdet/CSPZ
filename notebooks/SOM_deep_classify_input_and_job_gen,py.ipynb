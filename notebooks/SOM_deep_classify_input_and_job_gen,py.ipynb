{
 "cells": [
  {
   "cell_type": "code",
   "execution_count": 2,
   "id": "6649d0c7",
   "metadata": {},
   "outputs": [],
   "source": [
    "import numpy as np\n",
    "import h5py\n",
    "import time\n",
    "import pandas as pd\n",
    "\n",
    "bands = list('UGRIZJH')+['KS']\n",
    "\n",
    "cols = ['ID']+[f'BDF_FLUX_DERED_CALIB_{band}' for band in bands]+[f'BDF_FLUX_ERR_DERED_CALIB_{band}' for band in bands]\n",
    "\n",
    "dfs = np.array_split(df, 10)\n",
    "        \n",
    "for i, df_ in enumerate(dfs):\n",
    "    df_.to_hdf(f'/project/chihway/raulteixeira/data/deep_cats_baldet/deep_baldet_fluxes+ids_{i:02}.hdf', key='df')\n",
    "\n",
    "file = open('/home/raulteixeira/repos/CSPZ/scripts/SOMclassify_deep_baldet.py', 'r')\n",
    "\n",
    "string = file.read()\n",
    "\n",
    "list_lines = string.splitlines()\n",
    "\n",
    "string.split('\\n')\n",
    "\n",
    "start_time=time.time()\n",
    "for i in range(47):\n",
    "    file = open('/home/raulteixeira/repos/CSPZ/scripts/SOMclassify_metacal.py', 'r')\n",
    "\n",
    "    string = file.read()\n",
    "\n",
    "    list_lines = string.splitlines()\n",
    "    \n",
    "    file.close()\n",
    "    \n",
    "    list_lines[17]=f\"df = pd.read_hdf(f'/project/chihway/raulteixeira/data/deep_cats_baldet/deep_baldet_fluxes+ids_{i:02}.hdf', key='df')\"\n",
    "    list_lines[52]=f'filename = \"%s/som_metacal_gold_wide_48x48_{i:02}.npz\"%(outpath)'\n",
    "    \n",
    "    list_lines = [l + '\\n' for l in list_lines]\n",
    "    \n",
    "    pars = open(f'/home/raulteixeira/repos/CSPZ/scripts/SOMclassify_metacal/script_mcalgold_{i:02}.py', mode='w')\n",
    "    pars.writelines(list_lines)\n",
    "    pars.close()\n",
    "    \n",
    "    print(time.time()-start_time)\n",
    "\n",
    "start_time=time.time()\n",
    "for i in range(47):   \n",
    "    lines = ['#!/bin/sh', '#SBATCH -t 2:00:00',\n",
    "             '#SBATCH --partition=broadwl',\n",
    "             '#SBATCH --account=pi-chihway',\n",
    "             f'#SBATCH --job-name=SOM{i:02}',\n",
    "             '#SBATCH --nodes=1',\n",
    "             '#SBATCH --ntasks-per-node=28', \n",
    "             'source activate',\n",
    "             'conda activate sompz',\n",
    "             f'mpirun -n 28 python /home/raulteixeira/repos/CSPZ/scripts/SOMclassify_metacal/script_mcalgold_{i:02}.py']\n",
    "\n",
    "    lines = [l + '\\n' for l in lines]\n",
    "    \n",
    "    bash_job_path = f'/home/raulteixeira/jobs/SOMclassify_metacal/script_mcalgold_{i:02}.sh'\n",
    "    pars = open(bash_job_path, mode='w')\n",
    "    pars.writelines(lines)\n",
    "    pars.close()\n",
    "    print(time.time()-start_time)"
   ]
  },
  {
   "cell_type": "code",
   "execution_count": 5,
   "id": "122a6ec9",
   "metadata": {},
   "outputs": [
    {
     "name": "stdout",
     "output_type": "stream",
     "text": [
      "df = pd.read_hdf(f'/project/chihway/raulteixeira/data/deep_cats_baldet/deep_baldet_fluxes+ids_00.hdf', key='df')\n"
     ]
    }
   ],
   "source": [
    "i=0\n",
    "print(f\"df = pd.read_hdf(f'/project/chihway/raulteixeira/data/deep_cats_baldet/deep_baldet_fluxes+ids_{i:02}.hdf', key='df')\")"
   ]
  },
  {
   "cell_type": "code",
   "execution_count": 1,
   "id": "80b9f1bd",
   "metadata": {},
   "outputs": [],
   "source": [
    "!mkdir /project/chihway/raulteixeira/data/deep_cats_baldet/"
   ]
  },
  {
   "cell_type": "code",
   "execution_count": 5,
   "id": "0874514b",
   "metadata": {},
   "outputs": [
    {
     "data": {
      "text/html": [
       "<div>\n",
       "<style scoped>\n",
       "    .dataframe tbody tr th:only-of-type {\n",
       "        vertical-align: middle;\n",
       "    }\n",
       "\n",
       "    .dataframe tbody tr th {\n",
       "        vertical-align: top;\n",
       "    }\n",
       "\n",
       "    .dataframe thead th {\n",
       "        text-align: right;\n",
       "    }\n",
       "</style>\n",
       "<table border=\"1\" class=\"dataframe\">\n",
       "  <thead>\n",
       "    <tr style=\"text-align: right;\">\n",
       "      <th></th>\n",
       "      <th>COADD_OBJECT_ID</th>\n",
       "      <th>FLUX_R</th>\n",
       "      <th>FLUX_ERR_R</th>\n",
       "      <th>FLUX_I</th>\n",
       "      <th>FLUX_ERR_I</th>\n",
       "      <th>FLUX_Z</th>\n",
       "      <th>FLUX_ERR_Z</th>\n",
       "    </tr>\n",
       "  </thead>\n",
       "  <tbody>\n",
       "    <tr>\n",
       "      <th>0</th>\n",
       "      <td>7109304883</td>\n",
       "      <td>3697.074912</td>\n",
       "      <td>41.510975</td>\n",
       "      <td>4342.987764</td>\n",
       "      <td>49.896796</td>\n",
       "      <td>5399.346127</td>\n",
       "      <td>101.126423</td>\n",
       "    </tr>\n",
       "    <tr>\n",
       "      <th>7</th>\n",
       "      <td>7109304892</td>\n",
       "      <td>1060.265660</td>\n",
       "      <td>32.105632</td>\n",
       "      <td>2483.591726</td>\n",
       "      <td>41.284574</td>\n",
       "      <td>3354.406431</td>\n",
       "      <td>87.896135</td>\n",
       "    </tr>\n",
       "    <tr>\n",
       "      <th>10</th>\n",
       "      <td>7109304896</td>\n",
       "      <td>2632.422146</td>\n",
       "      <td>45.376178</td>\n",
       "      <td>3391.575227</td>\n",
       "      <td>68.988487</td>\n",
       "      <td>4295.313674</td>\n",
       "      <td>125.899520</td>\n",
       "    </tr>\n",
       "    <tr>\n",
       "      <th>12</th>\n",
       "      <td>7109304898</td>\n",
       "      <td>2133.722123</td>\n",
       "      <td>38.464039</td>\n",
       "      <td>2287.077329</td>\n",
       "      <td>46.422072</td>\n",
       "      <td>3271.006405</td>\n",
       "      <td>99.938773</td>\n",
       "    </tr>\n",
       "    <tr>\n",
       "      <th>15</th>\n",
       "      <td>7109304902</td>\n",
       "      <td>751.718904</td>\n",
       "      <td>53.678323</td>\n",
       "      <td>992.224432</td>\n",
       "      <td>54.098644</td>\n",
       "      <td>1250.526081</td>\n",
       "      <td>120.534894</td>\n",
       "    </tr>\n",
       "    <tr>\n",
       "      <th>...</th>\n",
       "      <td>...</td>\n",
       "      <td>...</td>\n",
       "      <td>...</td>\n",
       "      <td>...</td>\n",
       "      <td>...</td>\n",
       "      <td>...</td>\n",
       "      <td>...</td>\n",
       "    </tr>\n",
       "    <tr>\n",
       "      <th>244182871</th>\n",
       "      <td>7238533745</td>\n",
       "      <td>314.153069</td>\n",
       "      <td>18.548237</td>\n",
       "      <td>505.979069</td>\n",
       "      <td>56.803356</td>\n",
       "      <td>633.341440</td>\n",
       "      <td>131.662368</td>\n",
       "    </tr>\n",
       "    <tr>\n",
       "      <th>244182874</th>\n",
       "      <td>7238533748</td>\n",
       "      <td>964.399538</td>\n",
       "      <td>15.952696</td>\n",
       "      <td>1356.360993</td>\n",
       "      <td>43.581431</td>\n",
       "      <td>1415.369620</td>\n",
       "      <td>57.492529</td>\n",
       "    </tr>\n",
       "    <tr>\n",
       "      <th>244182885</th>\n",
       "      <td>7238533765</td>\n",
       "      <td>911.598527</td>\n",
       "      <td>10.944956</td>\n",
       "      <td>1507.449772</td>\n",
       "      <td>39.471370</td>\n",
       "      <td>1832.381211</td>\n",
       "      <td>56.297044</td>\n",
       "    </tr>\n",
       "    <tr>\n",
       "      <th>244182893</th>\n",
       "      <td>7238533780</td>\n",
       "      <td>833.704984</td>\n",
       "      <td>11.755467</td>\n",
       "      <td>1079.063185</td>\n",
       "      <td>40.732953</td>\n",
       "      <td>821.096510</td>\n",
       "      <td>69.823689</td>\n",
       "    </tr>\n",
       "    <tr>\n",
       "      <th>244182894</th>\n",
       "      <td>7238533781</td>\n",
       "      <td>247.254957</td>\n",
       "      <td>19.404400</td>\n",
       "      <td>685.510456</td>\n",
       "      <td>39.114125</td>\n",
       "      <td>1575.156087</td>\n",
       "      <td>65.045110</td>\n",
       "    </tr>\n",
       "  </tbody>\n",
       "</table>\n",
       "<p>47349243 rows × 7 columns</p>\n",
       "</div>"
      ],
      "text/plain": [
       "           COADD_OBJECT_ID       FLUX_R  FLUX_ERR_R       FLUX_I  FLUX_ERR_I  \\\n",
       "0               7109304883  3697.074912   41.510975  4342.987764   49.896796   \n",
       "7               7109304892  1060.265660   32.105632  2483.591726   41.284574   \n",
       "10              7109304896  2632.422146   45.376178  3391.575227   68.988487   \n",
       "12              7109304898  2133.722123   38.464039  2287.077329   46.422072   \n",
       "15              7109304902   751.718904   53.678323   992.224432   54.098644   \n",
       "...                    ...          ...         ...          ...         ...   \n",
       "244182871       7238533745   314.153069   18.548237   505.979069   56.803356   \n",
       "244182874       7238533748   964.399538   15.952696  1356.360993   43.581431   \n",
       "244182885       7238533765   911.598527   10.944956  1507.449772   39.471370   \n",
       "244182893       7238533780   833.704984   11.755467  1079.063185   40.732953   \n",
       "244182894       7238533781   247.254957   19.404400   685.510456   39.114125   \n",
       "\n",
       "                FLUX_Z  FLUX_ERR_Z  \n",
       "0          5399.346127  101.126423  \n",
       "7          3354.406431   87.896135  \n",
       "10         4295.313674  125.899520  \n",
       "12         3271.006405   99.938773  \n",
       "15         1250.526081  120.534894  \n",
       "...                ...         ...  \n",
       "244182871   633.341440  131.662368  \n",
       "244182874  1415.369620   57.492529  \n",
       "244182885  1832.381211   56.297044  \n",
       "244182893   821.096510   69.823689  \n",
       "244182894  1575.156087   65.045110  \n",
       "\n",
       "[47349243 rows x 7 columns]"
      ]
     },
     "execution_count": 5,
     "metadata": {},
     "output_type": "execute_result"
    }
   ],
   "source": [
    "df.loc[mask]"
   ]
  },
  {
   "cell_type": "code",
   "execution_count": 2,
   "id": "f9d5ca59",
   "metadata": {
    "scrolled": true
   },
   "outputs": [
    {
     "name": "stdout",
     "output_type": "stream",
     "text": [
      "sbatch script_mcalgold_00.sh\n",
      "sbatch script_mcalgold_01.sh\n",
      "sbatch script_mcalgold_02.sh\n",
      "sbatch script_mcalgold_03.sh\n",
      "sbatch script_mcalgold_04.sh\n",
      "sbatch script_mcalgold_05.sh\n",
      "sbatch script_mcalgold_06.sh\n",
      "sbatch script_mcalgold_07.sh\n",
      "sbatch script_mcalgold_08.sh\n",
      "sbatch script_mcalgold_09.sh\n",
      "sbatch script_mcalgold_10.sh\n",
      "sbatch script_mcalgold_11.sh\n",
      "sbatch script_mcalgold_12.sh\n",
      "sbatch script_mcalgold_13.sh\n",
      "sbatch script_mcalgold_14.sh\n",
      "sbatch script_mcalgold_15.sh\n",
      "sbatch script_mcalgold_16.sh\n",
      "sbatch script_mcalgold_17.sh\n",
      "sbatch script_mcalgold_18.sh\n",
      "sbatch script_mcalgold_19.sh\n",
      "sbatch script_mcalgold_20.sh\n",
      "sbatch script_mcalgold_21.sh\n",
      "sbatch script_mcalgold_22.sh\n",
      "sbatch script_mcalgold_23.sh\n",
      "sbatch script_mcalgold_24.sh\n",
      "sbatch script_mcalgold_25.sh\n",
      "sbatch script_mcalgold_26.sh\n",
      "sbatch script_mcalgold_27.sh\n",
      "sbatch script_mcalgold_28.sh\n",
      "sbatch script_mcalgold_29.sh\n",
      "sbatch script_mcalgold_30.sh\n",
      "sbatch script_mcalgold_31.sh\n",
      "sbatch script_mcalgold_32.sh\n",
      "sbatch script_mcalgold_33.sh\n",
      "sbatch script_mcalgold_34.sh\n",
      "sbatch script_mcalgold_35.sh\n",
      "sbatch script_mcalgold_36.sh\n",
      "sbatch script_mcalgold_37.sh\n",
      "sbatch script_mcalgold_38.sh\n",
      "sbatch script_mcalgold_39.sh\n",
      "sbatch script_mcalgold_40.sh\n",
      "sbatch script_mcalgold_41.sh\n",
      "sbatch script_mcalgold_42.sh\n",
      "sbatch script_mcalgold_43.sh\n",
      "sbatch script_mcalgold_44.sh\n",
      "sbatch script_mcalgold_45.sh\n",
      "sbatch script_mcalgold_46.sh\n"
     ]
    }
   ],
   "source": [
    "for i in range(47):\n",
    "    print(f'sbatch script_mcalgold_{i:02}.sh')"
   ]
  },
  {
   "cell_type": "code",
   "execution_count": null,
   "id": "8f191355",
   "metadata": {},
   "outputs": [],
   "source": [
    "cells = []\n",
    "dfs=[]\n",
    "for i in range(47):\n",
    "    cells.append(np.load(f'/project/chihway/raulteixeira/data/som_metacal_gold_wide_48x48_{i:02}.npz')['cells'])\n",
    "    dfs.append(pd.read_csv(f'/project/chihway/raulteixeira/data/metacal_gold_fluxes+ids_{i:02}.csv.gz').to_numpy())"
   ]
  },
  {
   "cell_type": "code",
   "execution_count": 14,
   "id": "4a825863",
   "metadata": {},
   "outputs": [
    {
     "data": {
      "text/plain": [
       "numpy.float64"
      ]
     },
     "execution_count": 14,
     "metadata": {},
     "output_type": "execute_result"
    }
   ],
   "source": [
    "type(df[:,0][0])"
   ]
  },
  {
   "cell_type": "code",
   "execution_count": 15,
   "id": "767847c8",
   "metadata": {},
   "outputs": [
    {
     "data": {
      "text/plain": [
       "array([[0.00000000e+00, 7.10930488e+09, 3.69707491e+03, ...,\n",
       "        4.98967957e+01, 5.39934613e+03, 1.01126423e+02],\n",
       "       [1.00000000e+00, 7.10930489e+09, 1.06026566e+03, ...,\n",
       "        4.12845738e+01, 3.35440643e+03, 8.78961352e+01],\n",
       "       [2.00000000e+00, 7.10930490e+09, 2.63242215e+03, ...,\n",
       "        6.89884871e+01, 4.29531367e+03, 1.25899520e+02],\n",
       "       ...,\n",
       "       [4.73492400e+07, 7.23853376e+09, 9.11598527e+02, ...,\n",
       "        3.94713703e+01, 1.83238121e+03, 5.62970440e+01],\n",
       "       [4.73492410e+07, 7.23853378e+09, 8.33704984e+02, ...,\n",
       "        4.07329525e+01, 8.21096510e+02, 6.98236889e+01],\n",
       "       [4.73492420e+07, 7.23853378e+09, 2.47254957e+02, ...,\n",
       "        3.91141249e+01, 1.57515609e+03, 6.50451102e+01]])"
      ]
     },
     "execution_count": 15,
     "metadata": {},
     "output_type": "execute_result"
    }
   ],
   "source": [
    "df"
   ]
  },
  {
   "cell_type": "code",
   "execution_count": 4,
   "id": "ca1df554",
   "metadata": {},
   "outputs": [],
   "source": [
    "cells = np.concatenate(cells)\n",
    "df = np.concatenate(dfs)"
   ]
  },
  {
   "cell_type": "code",
   "execution_count": null,
   "id": "4ddd4ac0",
   "metadata": {},
   "outputs": [],
   "source": [
    "df = np.array([df[:,0], df[:,1], df[:,2], df[:,3], df[:,4], df[:,5], df[:,6], cells], dtype=[('COADD_OBJECT_ID', np.int64), ('FLUX_R', np.float64), ('FLUX_ERR_R', np.float64)\\\n",
    "                             , ('FLUX_I', np.float64), ('FLUX_ERR_I', np.float64)\\\n",
    "                             , ('FLUX_Z', np.float64), ('FLUX_ERR_Z', np.float64)\\\n",
    "                             , ('cells', np.int64)])"
   ]
  },
  {
   "cell_type": "code",
   "execution_count": null,
   "id": "055064e9",
   "metadata": {},
   "outputs": [],
   "source": [
    "np.savez('/project/chihway/raulteixeira/data/som_metacal_gold_wide_48x48_ids+cells+fluxes.npz', df)"
   ]
  },
  {
   "cell_type": "code",
   "execution_count": 28,
   "id": "9bb94c68",
   "metadata": {},
   "outputs": [
    {
     "ename": "TypeError",
     "evalue": "Field elements must be 2- or 3-tuples, got 'array([1539,  855, 1301, ...,  378, 1426, 1700])'",
     "output_type": "error",
     "traceback": [
      "\u001b[0;31m---------------------------------------------------------------------------\u001b[0m",
      "\u001b[0;31mTypeError\u001b[0m                                 Traceback (most recent call last)",
      "\u001b[0;32m/tmp/ipykernel_51056/3111286976.py\u001b[0m in \u001b[0;36m<module>\u001b[0;34m\u001b[0m\n\u001b[0;32m----> 1\u001b[0;31m \u001b[0mtobesaved\u001b[0m \u001b[0;34m=\u001b[0m \u001b[0mnp\u001b[0m\u001b[0;34m.\u001b[0m\u001b[0marray\u001b[0m\u001b[0;34m(\u001b[0m\u001b[0mids\u001b[0m\u001b[0;34m,\u001b[0m \u001b[0mcells\u001b[0m\u001b[0;34m)\u001b[0m\u001b[0;34m\u001b[0m\u001b[0;34m\u001b[0m\u001b[0m\n\u001b[0m",
      "\u001b[0;31mTypeError\u001b[0m: Field elements must be 2- or 3-tuples, got 'array([1539,  855, 1301, ...,  378, 1426, 1700])'"
     ]
    }
   ],
   "source": [
    "tobesaved = np.array(ids, cells)"
   ]
  },
  {
   "cell_type": "code",
   "execution_count": 31,
   "id": "7f708703",
   "metadata": {},
   "outputs": [],
   "source": [
    "size = 0\n",
    "for cells_ in cells:\n",
    "    size+=cells_.size"
   ]
  },
  {
   "cell_type": "code",
   "execution_count": 34,
   "id": "1f690c2a",
   "metadata": {},
   "outputs": [],
   "source": [
    "tobesaved = np.zeros((size, 1))"
   ]
  },
  {
   "cell_type": "code",
   "execution_count": 45,
   "id": "946564ed",
   "metadata": {},
   "outputs": [],
   "source": [
    "start = 0\n",
    "for df, cells_ in zip(dfs, cells):\n",
    "    df['cells'] = cells_\n",
    "    start+=cells_.size"
   ]
  },
  {
   "cell_type": "code",
   "execution_count": 49,
   "id": "ea9f186b",
   "metadata": {},
   "outputs": [],
   "source": [
    "df = pd.concat(dfs)"
   ]
  },
  {
   "cell_type": "code",
   "execution_count": null,
   "id": "b1ce2a8c",
   "metadata": {},
   "outputs": [],
   "source": [
    "df"
   ]
  },
  {
   "cell_type": "code",
   "execution_count": null,
   "id": "4421ec48",
   "metadata": {},
   "outputs": [],
   "source": [
    "df.to_csv('/project/chihway/raulteixeira/data/som_metacal_gold_wide_48x48_ids+cells+fluxes.csv.gz')"
   ]
  },
  {
   "cell_type": "code",
   "execution_count": 42,
   "id": "6f5d9f50",
   "metadata": {},
   "outputs": [],
   "source": [
    "np.save('/project/chihway/raulteixeira/data/som_metacal_gold_wide_48x48_ids+cells.npz', tobesaved.astype(int))"
   ]
  },
  {
   "cell_type": "code",
   "execution_count": 30,
   "id": "fefb3004",
   "metadata": {},
   "outputs": [
    {
     "ename": "AttributeError",
     "evalue": "'list' object has no attribute 'size'",
     "output_type": "error",
     "traceback": [
      "\u001b[0;31m---------------------------------------------------------------------------\u001b[0m",
      "\u001b[0;31mAttributeError\u001b[0m                            Traceback (most recent call last)",
      "\u001b[0;32m/tmp/ipykernel_51056/3376221327.py\u001b[0m in \u001b[0;36m<module>\u001b[0;34m\u001b[0m\n\u001b[0;32m----> 1\u001b[0;31m \u001b[0mids\u001b[0m\u001b[0;34m.\u001b[0m\u001b[0msize\u001b[0m\u001b[0;34m\u001b[0m\u001b[0;34m\u001b[0m\u001b[0m\n\u001b[0m",
      "\u001b[0;31mAttributeError\u001b[0m: 'list' object has no attribute 'size'"
     ]
    }
   ],
   "source": [
    "ids.size"
   ]
  },
  {
   "cell_type": "code",
   "execution_count": null,
   "id": "eadf8b31",
   "metadata": {},
   "outputs": [],
   "source": []
  }
 ],
 "metadata": {
  "kernelspec": {
   "display_name": "Python 3 (ipykernel)",
   "language": "python",
   "name": "python3"
  },
  "language_info": {
   "codemirror_mode": {
    "name": "ipython",
    "version": 3
   },
   "file_extension": ".py",
   "mimetype": "text/x-python",
   "name": "python",
   "nbconvert_exporter": "python",
   "pygments_lexer": "ipython3",
   "version": "3.11.4"
  }
 },
 "nbformat": 4,
 "nbformat_minor": 5
}
