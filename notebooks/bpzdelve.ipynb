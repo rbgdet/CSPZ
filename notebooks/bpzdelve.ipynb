{
 "cells": [
  {
   "cell_type": "code",
   "execution_count": 1,
   "metadata": {},
   "outputs": [],
   "source": [
    "# 3rd party # remove imports that are not needed\n",
    "import numpy as np\n",
    "import pandas as pd\n",
    "import pylab as plt\n",
    "import h5py\n",
    "import matplotlib\n",
    "%matplotlib inline\n",
    "from astropy.utils.data import download_file  #import file from URL\n",
    "from matplotlib.ticker import NullFormatter\n",
    "import astropy.table\n",
    "import subprocess as sp\n",
    "import glob\n",
    "import healpy as hp\n",
    "#/data/des90.a/data/raulteix/data/phz_6416_no_wise.fits, /data/des90.a/data/raulteix/data/DELVE_w_photozs_06416.fits, /data/des90.a/data/raulteix/data/phz_6416_no_wise.fits\n",
    "#data = astropy.table.Table.read('/data/des90.a/data/raulteix/data/phz_09602_no_wise.fits')"
   ]
  },
  {
   "cell_type": "code",
   "execution_count": 2,
   "metadata": {},
   "outputs": [],
   "source": [
    "flist = glob.glob('/data/des91.b/data/kadrlica/projects/delve/cat/y3t1/v1/cat/cat*.fits')\n",
    "pxnums = []\n",
    "for fname in flist:\n",
    "    pxnums.append(int(fname.split('.')[1].split('_')[-1]))\n",
    "pxnums = np.array(pxnums)\n",
    "ra, dec = hp.pix2ang(32, pxnums, lonlat=True)\n",
    "\n",
    "data_boss_north = astropy.table.Table.read('/data/des90.a/data/raulteix/data/speczs/galaxy_DR12v5_CMASSLOWZTOT_North.fits.gz')\n",
    "data_boss_south = astropy.table.Table.read('/data/des90.a/data/raulteix/data/speczs/galaxy_DR12v5_CMASSLOWZTOT_South.fits.gz')\n",
    "data_boss_all = astropy.table.vstack([data_boss_north, data_boss_south])\n",
    "pxnums_boss = hp.ang2pix(32, data_boss_all['RA'], data_boss_all['DEC'], lonlat=True)\n",
    "overlap_boss_delve = np.in1d(pxnums_boss, pxnums)\n",
    "\n",
    "data_boss_good = data_boss_all[overlap_boss_delve]\n",
    "\n",
    "px_overlap = np.unique(pxnums_boss[overlap_boss_delve])"
   ]
  },
  {
   "cell_type": "code",
   "execution_count": 3,
   "metadata": {},
   "outputs": [],
   "source": [
    "pxlist = np.char.add(np.zeros_like(np.array(list(px_overlap))).astype('str'), np.array(list(px_overlap)).astype('str'))"
   ]
  },
  {
   "cell_type": "code",
   "execution_count": 4,
   "metadata": {
    "tags": []
   },
   "outputs": [
    {
     "ename": "NameError",
     "evalue": "name 'RAdelve' is not defined",
     "output_type": "error",
     "traceback": [
      "\u001b[0;31m---------------------------------------------------------------------------\u001b[0m",
      "\u001b[0;31mNameError\u001b[0m                                 Traceback (most recent call last)",
      "\u001b[0;32m<ipython-input-4-5618ab2f8efd>\u001b[0m in \u001b[0;36m<module>\u001b[0;34m\u001b[0m\n\u001b[1;32m      1\u001b[0m \u001b[0;32mimport\u001b[0m \u001b[0msys\u001b[0m\u001b[0;34m\u001b[0m\u001b[0;34m\u001b[0m\u001b[0m\n\u001b[1;32m      2\u001b[0m \u001b[0mnp\u001b[0m\u001b[0;34m.\u001b[0m\u001b[0mset_printoptions\u001b[0m\u001b[0;34m(\u001b[0m\u001b[0mthreshold\u001b[0m\u001b[0;34m=\u001b[0m\u001b[0msys\u001b[0m\u001b[0;34m.\u001b[0m\u001b[0mmaxsize\u001b[0m\u001b[0;34m)\u001b[0m\u001b[0;34m\u001b[0m\u001b[0;34m\u001b[0m\u001b[0m\n\u001b[0;32m----> 3\u001b[0;31m \u001b[0mnp\u001b[0m\u001b[0;34m.\u001b[0m\u001b[0marray\u001b[0m\u001b[0;34m(\u001b[0m\u001b[0;34m[\u001b[0m\u001b[0mlist\u001b[0m\u001b[0;34m(\u001b[0m\u001b[0mRAdelve\u001b[0m\u001b[0;34m)\u001b[0m\u001b[0;34m,\u001b[0m \u001b[0mlist\u001b[0m\u001b[0;34m(\u001b[0m\u001b[0mDECdelve\u001b[0m\u001b[0;34m)\u001b[0m\u001b[0;34m]\u001b[0m\u001b[0;34m)\u001b[0m\u001b[0;34m.\u001b[0m\u001b[0mT\u001b[0m\u001b[0;34m.\u001b[0m\u001b[0mshape\u001b[0m\u001b[0;34m\u001b[0m\u001b[0;34m\u001b[0m\u001b[0m\n\u001b[0m",
      "\u001b[0;31mNameError\u001b[0m: name 'RAdelve' is not defined"
     ]
    }
   ],
   "source": [
    "import sys\n",
    "np.set_printoptions(threshold=sys.maxsize)\n",
    "np.array([list(RAdelve), list(DECdelve)]).T.shape"
   ]
  },
  {
   "cell_type": "code",
   "execution_count": 5,
   "metadata": {},
   "outputs": [],
   "source": [
    "RAdelve, DECdelve = hp.pix2ang(32, px_overlap, lonlat=True)"
   ]
  },
  {
   "cell_type": "code",
   "execution_count": 6,
   "metadata": {},
   "outputs": [],
   "source": [
    "mask1 = np.array(RAdelve)<180\n",
    "mask2 = np.array(RAdelve)>120\n",
    "mask3 = np.array(RAdelve)>-180\n",
    "mask4 = np.array(RAdelve)<-120\n",
    "\n",
    "mask5 = np.array(DECdelve)>-10\n",
    "mask6 = np.array(DECdelve)<10\n",
    "mask12 = mask1*mask2\n",
    "mask34 = mask3*mask4\n",
    "mask56 = mask5*mask6\n",
    "mask1234 = (mask12+mask34)\n",
    "mask = mask1234 * mask56"
   ]
  },
  {
   "cell_type": "code",
   "execution_count": 7,
   "metadata": {},
   "outputs": [
    {
     "data": {
      "text/html": [
       "&lt;Column name=&apos;DEC&apos; dtype=&apos;int64&apos; length=242&gt;\n",
       "<table>\n",
       "<tr><td>5099</td></tr>\n",
       "<tr><td>5100</td></tr>\n",
       "<tr><td>5101</td></tr>\n",
       "<tr><td>5102</td></tr>\n",
       "<tr><td>5103</td></tr>\n",
       "<tr><td>5104</td></tr>\n",
       "<tr><td>5105</td></tr>\n",
       "<tr><td>5106</td></tr>\n",
       "<tr><td>5107</td></tr>\n",
       "<tr><td>5108</td></tr>\n",
       "<tr><td>5109</td></tr>\n",
       "<tr><td>5110</td></tr>\n",
       "<tr><td>...</td></tr>\n",
       "<tr><td>6516</td></tr>\n",
       "<tr><td>6517</td></tr>\n",
       "<tr><td>6518</td></tr>\n",
       "<tr><td>6519</td></tr>\n",
       "<tr><td>6520</td></tr>\n",
       "<tr><td>6521</td></tr>\n",
       "<tr><td>6522</td></tr>\n",
       "<tr><td>6523</td></tr>\n",
       "<tr><td>6524</td></tr>\n",
       "<tr><td>6525</td></tr>\n",
       "<tr><td>6526</td></tr>\n",
       "<tr><td>6527</td></tr>\n",
       "</table>"
      ],
      "text/plain": [
       "<Column name='DEC' dtype='int64' length=242>\n",
       "5099\n",
       "5100\n",
       "5101\n",
       "5102\n",
       "5103\n",
       "5104\n",
       "5105\n",
       "5106\n",
       "5107\n",
       "5108\n",
       "5109\n",
       "5110\n",
       " ...\n",
       "6516\n",
       "6517\n",
       "6518\n",
       "6519\n",
       "6520\n",
       "6521\n",
       "6522\n",
       "6523\n",
       "6524\n",
       "6525\n",
       "6526\n",
       "6527"
      ]
     },
     "execution_count": 7,
     "metadata": {},
     "output_type": "execute_result"
    }
   ],
   "source": [
    "px_overlap[mask]"
   ]
  },
  {
   "cell_type": "code",
   "execution_count": 9,
   "metadata": {},
   "outputs": [],
   "source": [
    "RA_DECtable = astropy.table.hstack([RAdelve[mask], DECdelve[mask]])"
   ]
  },
  {
   "cell_type": "code",
   "execution_count": 10,
   "metadata": {},
   "outputs": [],
   "source": [
    "RA_DECtable['DEC_1'].name = 'RA'\n",
    "RA_DECtable['DEC_2'].name = 'DEC'"
   ]
  },
  {
   "cell_type": "code",
   "execution_count": 33,
   "metadata": {},
   "outputs": [
    {
     "data": {
      "text/plain": [
       "5099"
      ]
     },
     "execution_count": 33,
     "metadata": {},
     "output_type": "execute_result"
    }
   ],
   "source": [
    "hp.ang2pix(32, 122.34374999999999, 9.594068226860458, lonlat=True)"
   ]
  },
  {
   "cell_type": "code",
   "execution_count": 9,
   "metadata": {},
   "outputs": [
    {
     "data": {
      "text/plain": [
       "6209"
      ]
     },
     "execution_count": 9,
     "metadata": {},
     "output_type": "execute_result"
    }
   ],
   "source": [
    "hp.ang2pix(32, 2.8125, -1.1937484371410818, lonlat=True)"
   ]
  },
  {
   "cell_type": "code",
   "execution_count": 34,
   "metadata": {},
   "outputs": [],
   "source": [
    "pixel = '05099'"
   ]
  },
  {
   "cell_type": "code",
   "execution_count": 35,
   "metadata": {},
   "outputs": [],
   "source": [
    "list_lines = ['COLUMNS     /data/des90.a/data/raulteix/software/DESC_BPZ/tests/DELVEdata_example.columns\\n', f'OUTPUT\\t    /data/des90.a/data/raulteix/software/DESC_BPZ/tests/DELVEdata_example_output_{pixel}_no_wise.bpz.h5\\n', 'SPECTRA     CWWSB4.list\\n', 'PRIOR\\t    hdfn_gen\\n', 'DZ          0.01\\n', 'ZMIN        0.005\\n', 'ZMAX        3.505\\n', 'MAG         yes\\n', 'NEW_AB      no\\n', 'MADAU\\t    no #TURN OFF MADAU!!!!\\n', 'EXCLUDE     none\\n', 'CHECK       yes\\n', '#ZC          1.0,2.0\\n', '#FC          0.2,0.4\\n', 'VERBOSE     no\\n', '#INTERP      0\\n', 'ODDS        0.68\\n', 'PROBS       no\\n', 'PROBS_LITE  DELVEdata_09602_probs.h5\\n', 'GET_Z       yes\\n', 'INTERACTIVE yes\\n', 'PLOTS       no\\n', '#ONLY_TYPE   yes\\n']\n",
    "pars = open('/data/des90.a/data/raulteix/software/DESC_BPZ/tests/DELVEdata_example.pars', mode='w')\n",
    "pars.writelines(list_lines)\n",
    "pars.close()\n",
    "\n",
    "#tab_clecio = astropy.table.Table.read(f'/data/des91.b/data/debom/delve/photoz/dr1/v0/cat_hpx_{pixel}_phz.fits')\n",
    "tab_alex = astropy.table.Table.read(f'/data/des91.b/data/kadrlica/projects/delve/cat/y3t1/v1/cat/cat_hpx_{pixel}.fits')\n",
    "#tab_all = astropy.table.join(tab_clecio, tab_alex)\n",
    "\n",
    "bandlist = ['G', 'R', 'I', 'Z']\n",
    "for band in bandlist:\n",
    "    tab_alex[f'EXTENDED_CLASS_{band}'] = 1*((tab_alex[f'SPREAD_MODEL_{band}'] + 3*tab_alex[f'SPREADERR_MODEL_{band}']) > 0.005) + 1*((tab_alex[f'SPREAD_MODEL_{band}'] + tab_alex[f'SPREADERR_MODEL_{band}']) > 0.003) + 1*((tab_alex[f'SPREAD_MODEL_{band}'] - tab_alex[f'SPREADERR_MODEL_{band}']) > 0.003)\n",
    "\n",
    "tab_alex_f = tab_alex[tab_alex['EXTENDED_CLASS_G']>1]\n",
    "\n",
    "runthroughbpz = tab_alex_f['QUICK_OBJECT_ID', 'MAG_AUTO_G', 'MAG_AUTO_R', 'MAG_AUTO_I', 'MAG_AUTO_Z', 'MAGERR_AUTO_G', 'MAGERR_AUTO_R', 'MAGERR_AUTO_I', 'MAGERR_AUTO_Z'] #[tab_all['extended_class']>1]"
   ]
  },
  {
   "cell_type": "code",
   "execution_count": null,
   "metadata": {},
   "outputs": [],
   "source": [
    "runthroughbpz"
   ]
  },
  {
   "cell_type": "code",
   "execution_count": 57,
   "metadata": {},
   "outputs": [
    {
     "name": "stdout",
     "output_type": "stream",
     "text": [
      "3174242335.8576527 QUICK_OBJECT_ID\n",
      "1.1640885 MAG_AUTO_G\n",
      "575.81323 MAG_AUTO_R\n",
      "925.2146 MAG_AUTO_I\n",
      "1295.4943 MAG_AUTO_Z\n",
      "0.13248432 MAGERR_AUTO_G\n",
      "945.3097 MAGERR_AUTO_R\n",
      "1497.7654 MAGERR_AUTO_I\n",
      "2072.365 MAGERR_AUTO_Z\n"
     ]
    }
   ],
   "source": [
    "for label in runthroughbpz.columns:\n",
    "    print(np.var(runthroughbpz[label]), label)"
   ]
  },
  {
   "cell_type": "code",
   "execution_count": 58,
   "metadata": {},
   "outputs": [],
   "source": [
    "pdbpz = pd.DataFrame(data=runthroughbpz['QUICK_OBJECT_ID'], columns = ['QUICK_OBJECT_ID'])\n",
    "for label in runthroughbpz.columns:\n",
    "    pdbpz[label] = runthroughbpz[label]\n",
    "    \n",
    "pdbpz.to_hdf(f'/data/des90.a/data/raulteix/software/DESC_BPZ/tests/DELVEdata_{pixel}_no_wise.h5', key='df')"
   ]
  },
  {
   "cell_type": "code",
   "execution_count": 61,
   "metadata": {},
   "outputs": [
    {
     "data": {
      "text/plain": [
       "CompletedProcess(args=['python', '/data/des90.a/data/raulteix/software/DESC_BPZ/scripts/bpz.py', '/data/des90.a/data/raulteix/software/DESC_BPZ/tests/DELVEdata_05099_no_wise.h5', '-P', '/data/des90.a/data/raulteix/software/DESC_BPZ/tests/DELVEdata_example.pars'], returncode=0)"
      ]
     },
     "execution_count": 61,
     "metadata": {},
     "output_type": "execute_result"
    }
   ],
   "source": [
    "catalog_name = f'/data/des90.a/data/raulteix/software/DESC_BPZ/tests/DELVEdata_{pixel}_no_wise.h5'\n",
    "sp.run(['python', '/data/des90.a/data/raulteix/software/DESC_BPZ/scripts/bpz.py', catalog_name, '-P', '/data/des90.a/data/raulteix/software/DESC_BPZ/tests/DELVEdata_example.pars'])"
   ]
  },
  {
   "cell_type": "code",
   "execution_count": 64,
   "metadata": {},
   "outputs": [],
   "source": [
    "bpzdata = h5py.File(f'/data/des90.a/data/raulteix/software/DESC_BPZ/tests/DELVEdata_example_output_{pixel}_no_wise.bpz.h5')"
   ]
  },
  {
   "cell_type": "code",
   "execution_count": 65,
   "metadata": {},
   "outputs": [],
   "source": [
    "bpzdatapd = pd.DataFrame(data=bpzdata['ID'], columns =['QUICK_OBJECT_ID'])"
   ]
  },
  {
   "cell_type": "code",
   "execution_count": 66,
   "metadata": {},
   "outputs": [],
   "source": [
    "for key in list(bpzdata.keys()):\n",
    "    bpzdatapd[key]=list(bpzdata[key])"
   ]
  },
  {
   "cell_type": "code",
   "execution_count": 67,
   "metadata": {},
   "outputs": [],
   "source": [
    "bpzdatatable = astropy.table.Table.from_pandas(bpzdatapd)"
   ]
  },
  {
   "cell_type": "code",
   "execution_count": 68,
   "metadata": {},
   "outputs": [],
   "source": [
    "data = astropy.table.join(bpzdatatable, tab_alex_f)"
   ]
  },
  {
   "cell_type": "code",
   "execution_count": null,
   "metadata": {},
   "outputs": [],
   "source": [
    "bpzdatapd"
   ]
  },
  {
   "cell_type": "code",
   "execution_count": null,
   "metadata": {},
   "outputs": [],
   "source": [
    "data"
   ]
  },
  {
   "cell_type": "code",
   "execution_count": 69,
   "metadata": {},
   "outputs": [],
   "source": [
    "def compute_median_bias(zpred, ztrue):\n",
    "    \"\"\"Compute the median bias                                                                                                                                                                              \n",
    "                                                                                                                                                                                                            \n",
    "    Parameters                                                                                                                                                                                              \n",
    "    ----------                                                                                                                                                                                              \n",
    "    zpred : predicted redshift                                                                                                                                                                              \n",
    "    ztest : spectroscopic redshift                                                                                                                                                                          \n",
    "                                                                                                                                                                                                            \n",
    "    Returns                                                                                                                                                                                                 \n",
    "    -------                                                                                                                                                                                                 \n",
    "    bias : the bias (ztrue - zpred)                                                                                                                                                                         \n",
    "    \"\"\"\n",
    "    return np.median(ztrue - zpred)\n",
    "\n",
    "def compute_sigma68(zpred, ztrue):\n",
    "    \"\"\"Compute the rms error between zpred and ztrue                                                                                                                                                        \n",
    "                                                                                                                                                                                                            \n",
    "    Parameters                                                                                                                                                                                              \n",
    "    ----------                                                                                                                                                                                              \n",
    "    zpred : predicted redshift                                                                                                                                                                              \n",
    "    ztrue : spectroscopic redshift                                                                                                                                                                          \n",
    "                                                                                                                                                                                                            \n",
    "    Returns                                                                                                                                                                                                 \n",
    "    -------                                                                                                                                                                                                 \n",
    "    rms_error : root-mean square error                                                                                                                                                                      \n",
    "    \"\"\"\n",
    "    # This question asks for the rms error of the difference                                                                                                                                                \n",
    "    # distribution.                                                                                                                                                                                         \n",
    "    return np.std(ztrue - zpred)\n",
    "\n",
    "    # This definition of sigma68 differs from that in Sanchez et. al                                                                                                                                        \n",
    "    # 2015, which defined sigma_68 to be the 68% containment about the                                                                                                                                      \n",
    "    # median.  Sanchez's value would be something more like:                                                                                                                                                \n",
    "    #return np.abs(np.diff(np.percentile(ztrue-zpred,[16,84])))/2.                                                                                                                                          \n",
    "    # which gives a significantly smaller value.                                                                                                                                                            \n",
    "\n",
    "def compute_outlier_fraction(zpred, ztrue, nsigma=2):\n",
    "    \"\"\"Compute the outlier fraction between zpred and ztrue                                                                                                                                                 \n",
    "                                                                                                                                                                                                            \n",
    "    Parameters                                                                                                                                                                                              \n",
    "    ----------                                                                                                                                                                                              \n",
    "    zpred : predicted redshift                                                                                                                                                                              \n",
    "    ztrue : spectroscopic redshift                                                                                                                                                                          \n",
    "    nsigma: number of sigma to classify outliers                                                                                                                                                            \n",
    "                                                                                                                                                                                                            \n",
    "    Returns                                                                                                                                                                                                 \n",
    "    -------                                                                                                                                                                                                 \n",
    "    frac : outlier fraction                                                                                                                                                                                 \n",
    "    \"\"\"\n",
    "    sigma68 = compute_sigma68(zpred,ztrue)\n",
    "    return np.sum(abs(zpred - ztrue)>nsigma*sigma68)/float(len(zpred))"
   ]
  },
  {
   "cell_type": "code",
   "execution_count": null,
   "metadata": {},
   "outputs": [],
   "source": [
    "data['EXTENDED_CLASS_G'] = ((data['SPREAD_MODEL_G'] + 3*data['SPREADERR_MODEL_G']) > 0.005) + ((data['SPREAD_MODEL_G'] + data['SPREADERR_MODEL_G']) > 0.003) + ((data['SPREAD_MODEL_G'] - data['SPREADERR_MODEL_G']) > 0.003)"
   ]
  },
  {
   "cell_type": "code",
   "execution_count": null,
   "metadata": {},
   "outputs": [],
   "source": [
    "data = data[data['EXTENDED_CLASS_G']>1]"
   ]
  },
  {
   "cell_type": "code",
   "execution_count": 70,
   "metadata": {
    "tags": []
   },
   "outputs": [
    {
     "ename": "KeyError",
     "evalue": "'z'",
     "output_type": "error",
     "traceback": [
      "\u001b[0;31m---------------------------------------------------------------------------\u001b[0m",
      "\u001b[0;31mKeyError\u001b[0m                                  Traceback (most recent call last)",
      "\u001b[0;32m<ipython-input-70-174a43481ae8>\u001b[0m in \u001b[0;36m<module>\u001b[0;34m\u001b[0m\n\u001b[0;32m----> 1\u001b[0;31m \u001b[0mz_nn\u001b[0m\u001b[0;34m,\u001b[0m \u001b[0mz_bpz\u001b[0m \u001b[0;34m=\u001b[0m \u001b[0mdata\u001b[0m\u001b[0;34m[\u001b[0m\u001b[0;34m'z'\u001b[0m\u001b[0;34m]\u001b[0m\u001b[0;34m,\u001b[0m \u001b[0mdata\u001b[0m\u001b[0;34m[\u001b[0m\u001b[0;34m'Z_B'\u001b[0m\u001b[0;34m]\u001b[0m\u001b[0;34m\u001b[0m\u001b[0;34m\u001b[0m\u001b[0m\n\u001b[0m",
      "\u001b[0;32m~/.conda/envs/raulenv/lib/python3.9/site-packages/astropy/table/table.py\u001b[0m in \u001b[0;36m__getitem__\u001b[0;34m(self, item)\u001b[0m\n\u001b[1;32m   1652\u001b[0m     \u001b[0;32mdef\u001b[0m \u001b[0m__getitem__\u001b[0m\u001b[0;34m(\u001b[0m\u001b[0mself\u001b[0m\u001b[0;34m,\u001b[0m \u001b[0mitem\u001b[0m\u001b[0;34m)\u001b[0m\u001b[0;34m:\u001b[0m\u001b[0;34m\u001b[0m\u001b[0;34m\u001b[0m\u001b[0m\n\u001b[1;32m   1653\u001b[0m         \u001b[0;32mif\u001b[0m \u001b[0misinstance\u001b[0m\u001b[0;34m(\u001b[0m\u001b[0mitem\u001b[0m\u001b[0;34m,\u001b[0m \u001b[0mstr\u001b[0m\u001b[0;34m)\u001b[0m\u001b[0;34m:\u001b[0m\u001b[0;34m\u001b[0m\u001b[0;34m\u001b[0m\u001b[0m\n\u001b[0;32m-> 1654\u001b[0;31m             \u001b[0;32mreturn\u001b[0m \u001b[0mself\u001b[0m\u001b[0;34m.\u001b[0m\u001b[0mcolumns\u001b[0m\u001b[0;34m[\u001b[0m\u001b[0mitem\u001b[0m\u001b[0;34m]\u001b[0m\u001b[0;34m\u001b[0m\u001b[0;34m\u001b[0m\u001b[0m\n\u001b[0m\u001b[1;32m   1655\u001b[0m         \u001b[0;32melif\u001b[0m \u001b[0misinstance\u001b[0m\u001b[0;34m(\u001b[0m\u001b[0mitem\u001b[0m\u001b[0;34m,\u001b[0m \u001b[0;34m(\u001b[0m\u001b[0mint\u001b[0m\u001b[0;34m,\u001b[0m \u001b[0mnp\u001b[0m\u001b[0;34m.\u001b[0m\u001b[0minteger\u001b[0m\u001b[0;34m)\u001b[0m\u001b[0;34m)\u001b[0m\u001b[0;34m:\u001b[0m\u001b[0;34m\u001b[0m\u001b[0;34m\u001b[0m\u001b[0m\n\u001b[1;32m   1656\u001b[0m             \u001b[0;32mreturn\u001b[0m \u001b[0mself\u001b[0m\u001b[0;34m.\u001b[0m\u001b[0mRow\u001b[0m\u001b[0;34m(\u001b[0m\u001b[0mself\u001b[0m\u001b[0;34m,\u001b[0m \u001b[0mitem\u001b[0m\u001b[0;34m)\u001b[0m\u001b[0;34m\u001b[0m\u001b[0;34m\u001b[0m\u001b[0m\n",
      "\u001b[0;32m~/.conda/envs/raulenv/lib/python3.9/site-packages/astropy/table/table.py\u001b[0m in \u001b[0;36m__getitem__\u001b[0;34m(self, item)\u001b[0m\n\u001b[1;32m    237\u001b[0m         \"\"\"\n\u001b[1;32m    238\u001b[0m         \u001b[0;32mif\u001b[0m \u001b[0misinstance\u001b[0m\u001b[0;34m(\u001b[0m\u001b[0mitem\u001b[0m\u001b[0;34m,\u001b[0m \u001b[0mstr\u001b[0m\u001b[0;34m)\u001b[0m\u001b[0;34m:\u001b[0m\u001b[0;34m\u001b[0m\u001b[0;34m\u001b[0m\u001b[0m\n\u001b[0;32m--> 239\u001b[0;31m             \u001b[0;32mreturn\u001b[0m \u001b[0mOrderedDict\u001b[0m\u001b[0;34m.\u001b[0m\u001b[0m__getitem__\u001b[0m\u001b[0;34m(\u001b[0m\u001b[0mself\u001b[0m\u001b[0;34m,\u001b[0m \u001b[0mitem\u001b[0m\u001b[0;34m)\u001b[0m\u001b[0;34m\u001b[0m\u001b[0;34m\u001b[0m\u001b[0m\n\u001b[0m\u001b[1;32m    240\u001b[0m         \u001b[0;32melif\u001b[0m \u001b[0misinstance\u001b[0m\u001b[0;34m(\u001b[0m\u001b[0mitem\u001b[0m\u001b[0;34m,\u001b[0m \u001b[0;34m(\u001b[0m\u001b[0mint\u001b[0m\u001b[0;34m,\u001b[0m \u001b[0mnp\u001b[0m\u001b[0;34m.\u001b[0m\u001b[0minteger\u001b[0m\u001b[0;34m)\u001b[0m\u001b[0;34m)\u001b[0m\u001b[0;34m:\u001b[0m\u001b[0;34m\u001b[0m\u001b[0;34m\u001b[0m\u001b[0m\n\u001b[1;32m    241\u001b[0m             \u001b[0;32mreturn\u001b[0m \u001b[0mlist\u001b[0m\u001b[0;34m(\u001b[0m\u001b[0mself\u001b[0m\u001b[0;34m.\u001b[0m\u001b[0mvalues\u001b[0m\u001b[0;34m(\u001b[0m\u001b[0;34m)\u001b[0m\u001b[0;34m)\u001b[0m\u001b[0;34m[\u001b[0m\u001b[0mitem\u001b[0m\u001b[0;34m]\u001b[0m\u001b[0;34m\u001b[0m\u001b[0;34m\u001b[0m\u001b[0m\n",
      "\u001b[0;31mKeyError\u001b[0m: 'z'"
     ]
    }
   ],
   "source": [
    "z_nn, z_bpz = data['z'], data['Z_B']"
   ]
  },
  {
   "cell_type": "code",
   "execution_count": null,
   "metadata": {},
   "outputs": [],
   "source": [
    "plt.hist(z_bpz-z_nn, range=(-1.2, 1.2), bins = 'auto')\n",
    "plt.xlabel('bpz best redshift - ML redshift')\n",
    "plt.show()\n",
    "plt.scatter(z_bpz, z_bpz-z_nn)\n",
    "plt.xlabel('bpz best redshift')\n",
    "plt.ylabel('bpz best redshift - ML redshift')\n",
    "plt.ylim(2, -2)\n",
    "plt.show()"
   ]
  },
  {
   "cell_type": "code",
   "execution_count": null,
   "metadata": {},
   "outputs": [],
   "source": [
    "n, bins, patches = plt.hist(z_bpz, range = (0.01, 1.2), bins = 22)\n",
    "plt.xlabel('bpz best redshift')"
   ]
  },
  {
   "cell_type": "code",
   "execution_count": null,
   "metadata": {},
   "outputs": [],
   "source": [
    "nc, binsc, patchesc = plt.hist(z_nn, range = (0.01, 1.2), bins = 22)"
   ]
  },
  {
   "cell_type": "code",
   "execution_count": null,
   "metadata": {},
   "outputs": [],
   "source": [
    "plt.hist2d(z_bpz, z_bpz-z_nn, range=[(0, 1.2),(-1.2, 1.2)], bins=30)\n",
    "plt.axhline(0.0, ls='--', c='r')\n",
    "plt.xlabel('bpz best redshift')\n",
    "plt.ylabel('bpz best redshift - ML redshift')\n",
    "plt.show()"
   ]
  },
  {
   "cell_type": "code",
   "execution_count": null,
   "metadata": {},
   "outputs": [],
   "source": [
    "plt.hist2d(z_bpz, z_nn, range=[(0, 1.2),(0, 1.2)], bins=30)\n",
    "plt.plot(np.linspace(0, 1.2), np.linspace(0, 1.2), 'r--')\n",
    "plt.ylabel('ML redshift')\n",
    "plt.xlabel('bpz best redshift')\n",
    "plt.show()"
   ]
  },
  {
   "cell_type": "code",
   "execution_count": null,
   "metadata": {},
   "outputs": [],
   "source": [
    "z_spec = data['zspec']"
   ]
  },
  {
   "cell_type": "code",
   "execution_count": null,
   "metadata": {},
   "outputs": [],
   "source": [
    "plt.hist2d(z_nn, z_spec, range=[(0, 1.2),(0, 1.2)], bins=30)\n",
    "plt.plot(np.linspace(0, 1.2), np.linspace(0, 1.2), 'r--')\n",
    "plt.xlabel('ML redshift')\n",
    "plt.ylabel('spectroscopic redshift')\n",
    "plt.show()"
   ]
  },
  {
   "cell_type": "code",
   "execution_count": null,
   "metadata": {},
   "outputs": [],
   "source": [
    "plt.hist2d(z_bpz, z_spec, range=[(0, 1.2),(0, 1.2)], bins=35)\n",
    "plt.plot(np.linspace(0, 1.2), np.linspace(0, 1.2), 'r--')\n",
    "plt.xlabel('bpz best redshift')\n",
    "plt.ylabel('spectroscopic redshift')\n",
    "plt.show()"
   ]
  },
  {
   "cell_type": "markdown",
   "metadata": {
    "tags": []
   },
   "source": [
    "## Bias"
   ]
  },
  {
   "cell_type": "code",
   "execution_count": null,
   "metadata": {},
   "outputs": [],
   "source": [
    "z_err_nn = data['zerr']"
   ]
  },
  {
   "cell_type": "markdown",
   "metadata": {},
   "source": [
    "**BPZ BIAS**"
   ]
  },
  {
   "cell_type": "code",
   "execution_count": null,
   "metadata": {},
   "outputs": [],
   "source": [
    "bias_bpz = z_bpz - z_spec\n",
    "bias_clecio = z_nn - z_spec\n",
    "std_bpz = np.std(z_bpz, ddof = 1)"
   ]
  },
  {
   "cell_type": "code",
   "execution_count": null,
   "metadata": {},
   "outputs": [],
   "source": [
    "n, bins, patches = plt.hist(bias_bpz, range=(0, 1.2), bins = 'auto')\n",
    "plt.xlabel('bias bpz relative to spec z')"
   ]
  },
  {
   "cell_type": "code",
   "execution_count": null,
   "metadata": {},
   "outputs": [],
   "source": [
    "z_err_bpz_68 = compute_sigma68(z_bpz, z_spec)"
   ]
  },
  {
   "cell_type": "code",
   "execution_count": null,
   "metadata": {},
   "outputs": [],
   "source": [
    "z_err_bpz_68"
   ]
  },
  {
   "cell_type": "code",
   "execution_count": null,
   "metadata": {
    "tags": []
   },
   "outputs": [],
   "source": [
    "plt.scatter(z_bpz, bias_bpz/z_err_bpz_68)\n",
    "plt.xlabel('bpz best redshift')\n",
    "plt.ylabel('bias')\n",
    "plt.ylim(-1.2, 1.2)"
   ]
  },
  {
   "cell_type": "code",
   "execution_count": null,
   "metadata": {},
   "outputs": [],
   "source": [
    "bias_bpz_med = np.median(bias_bpz)\n",
    "print('median bias =', bias_bpz_med)"
   ]
  },
  {
   "cell_type": "markdown",
   "metadata": {},
   "source": [
    "## Outliers"
   ]
  },
  {
   "cell_type": "code",
   "execution_count": null,
   "metadata": {},
   "outputs": [],
   "source": [
    "compute_outlier_fraction(z_bpz, z_nn, nsigma = 3) #6.817977118638658406979402570869)"
   ]
  },
  {
   "cell_type": "code",
   "execution_count": null,
   "metadata": {},
   "outputs": [],
   "source": [
    "len(bias_bpz[bias_bpz<-6])/len(bias_bpz)"
   ]
  },
  {
   "cell_type": "code",
   "execution_count": null,
   "metadata": {},
   "outputs": [],
   "source": [
    "nsigma = 3\n",
    "sigma68 = np.std(bias_bpz[bias_bpz>-6])\n",
    "np.sum(abs(bias_bpz[bias_bpz>-6])>nsigma*sigma68)/float(len(z_spec[bias_bpz>-6]))"
   ]
  },
  {
   "cell_type": "code",
   "execution_count": null,
   "metadata": {},
   "outputs": [],
   "source": [
    "mask1 = z_spec != 99\n",
    "mask2 = z_spec != -99\n",
    "mask = mask1*mask2"
   ]
  },
  {
   "cell_type": "code",
   "execution_count": null,
   "metadata": {},
   "outputs": [],
   "source": []
  },
  {
   "cell_type": "code",
   "execution_count": null,
   "metadata": {},
   "outputs": [],
   "source": [
    "compute_outlier_fraction(z_bpz[mask], z_spec[mask], nsigma = 2)"
   ]
  },
  {
   "cell_type": "code",
   "execution_count": null,
   "metadata": {},
   "outputs": [],
   "source": [
    "compute_outlier_fraction(z_nn, z_spec, nsigma = 3)"
   ]
  }
 ],
 "metadata": {
  "kernelspec": {
   "display_name": "Python 3 (ipykernel)",
   "language": "python",
   "name": "python3"
  },
  "language_info": {
   "codemirror_mode": {
    "name": "ipython",
    "version": 3
   },
   "file_extension": ".py",
   "mimetype": "text/x-python",
   "name": "python",
   "nbconvert_exporter": "python",
   "pygments_lexer": "ipython3",
   "version": "3.10.2"
  }
 },
 "nbformat": 4,
 "nbformat_minor": 4
}
