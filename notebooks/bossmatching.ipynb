{
 "cells": [
  {
   "cell_type": "code",
   "execution_count": 2,
   "id": "8e7b3b22-ce5d-413d-b98e-6d855042db26",
   "metadata": {},
   "outputs": [],
   "source": [
    "import numpy as np\n",
    "import pandas as pd\n",
    "import pylab as plt\n",
    "import h5py\n",
    "import matplotlib\n",
    "%matplotlib inline\n",
    "from astropy.utils.data import download_file  #import file from URL\n",
    "from matplotlib.ticker import NullFormatter\n",
    "import astropy.table\n",
    "import subprocess as sp\n",
    "import glob\n",
    "import healpy as hp"
   ]
  },
  {
   "cell_type": "code",
   "execution_count": 3,
   "id": "d5425518-2cfd-4663-b082-7ae8d8afbedd",
   "metadata": {},
   "outputs": [],
   "source": [
    "flist = glob.glob('/data/des91.b/data/kadrlica/projects/delve/cat/y3t1/v1/cat/cat*.fits')\n",
    "pxnums = []\n",
    "for fname in flist:\n",
    "    pxnums.append(int(fname.split('.')[1].split('_')[-1]))\n",
    "pxnums = np.array(pxnums)\n",
    "ra, dec = hp.pix2ang(32, pxnums, lonlat=True)"
   ]
  },
  {
   "cell_type": "code",
   "execution_count": 4,
   "id": "802b5170-d201-4629-9ec3-793420f2afa5",
   "metadata": {},
   "outputs": [],
   "source": [
    "data_boss_north = astropy.table.Table.read('/data/des90.a/data/raulteix/data/speczs/galaxy_DR12v5_CMASSLOWZTOT_North.fits.gz')\n",
    "data_boss_south = astropy.table.Table.read('/data/des90.a/data/raulteix/data/speczs/galaxy_DR12v5_CMASSLOWZTOT_South.fits.gz')\n",
    "data_boss_all = astropy.table.vstack([data_boss_north, data_boss_south])\n",
    "pxnums_boss = hp.ang2pix(32, data_boss_all['RA'], data_boss_all['DEC'], lonlat=True)\n",
    "overlap_boss_delve = np.in1d(pxnums_boss, pxnums)"
   ]
  },
  {
   "cell_type": "code",
   "execution_count": 5,
   "id": "6634febf-ed8c-4660-b5f9-d1331b90737f",
   "metadata": {},
   "outputs": [],
   "source": [
    "data_boss_good = data_boss_all[overlap_boss_delve]"
   ]
  },
  {
   "cell_type": "code",
   "execution_count": 8,
   "id": "9cd26351-8fef-4819-8829-7d950a8c3fd5",
   "metadata": {},
   "outputs": [
    {
     "data": {
      "text/plain": [
       "7982"
      ]
     },
     "execution_count": 8,
     "metadata": {},
     "output_type": "execute_result"
    }
   ],
   "source": [
    "len(pxnums)"
   ]
  },
  {
   "cell_type": "code",
   "execution_count": 5,
   "id": "2e416ef0-da9a-480d-b733-1143c7c14c23",
   "metadata": {},
   "outputs": [],
   "source": [
    "px_overlap = np.unique(pxnums_boss[overlap_boss_delve])"
   ]
  },
  {
   "cell_type": "code",
   "execution_count": 6,
   "id": "b4a47e43-722f-4dbd-9e1c-7df8dead79aa",
   "metadata": {},
   "outputs": [
    {
     "data": {
      "text/plain": [
       "<TableColumns names=('RA','DEC','RUN','RERUN','CAMCOL','FIELD','ID','ICHUNK','IPOLY','ISECT','FRACPSF','EXPFLUX','DEVFLUX','PSFFLUX','MODELFLUX','FIBER2FLUX','R_DEV','EXTINCTION','PSF_FWHM','AIRMASS','SKYFLUX','EB_MINUS_V','IMAGE_DEPTH','IMATCH','Z','WEIGHT_FKP','WEIGHT_CP','WEIGHT_NOZ','WEIGHT_STAR','WEIGHT_SEEING','WEIGHT_SYSTOT','NZ','COMP','PLATE','FIBERID','MJD','FINALN','TILE','SPECTILE','ICOLLIDED','INGROUP','MULTGROUP')>"
      ]
     },
     "execution_count": 6,
     "metadata": {},
     "output_type": "execute_result"
    }
   ],
   "source": [
    "data_boss_good.columns"
   ]
  },
  {
   "cell_type": "code",
   "execution_count": 7,
   "id": "7cfe3b55-8725-41a4-afe5-f81ca7aabeae",
   "metadata": {},
   "outputs": [],
   "source": [
    "pixel = '05099'\n",
    "\n",
    "tab_alex = astropy.table.Table.read(f'/data/des91.b/data/kadrlica/projects/delve/cat/y3t1/v1/cat/cat_hpx_{pixel}.fits')\n",
    "\n",
    "bandlist = ['G', 'R', 'I', 'Z']\n",
    "for band in bandlist:\n",
    "    tab_alex[f'EXTENDED_CLASS_{band}'] = 1*((tab_alex[f'SPREAD_MODEL_{band}'] + 3*tab_alex[f'SPREADERR_MODEL_{band}']) > 0.005) + 1*((tab_alex[f'SPREAD_MODEL_{band}'] + tab_alex[f'SPREADERR_MODEL_{band}']) > 0.003) + 1*((tab_alex[f'SPREAD_MODEL_{band}'] - tab_alex[f'SPREADERR_MODEL_{band}']) > 0.003)\n",
    "\n",
    "    \n",
    "tab_alex_f = tab_alex[tab_alex['EXTENDED_CLASS_G']>1]\n",
    "\n",
    "\n",
    "bpzdata = h5py.File(f'/data/des90.a/data/raulteix/software/DESC_BPZ/tests/DELVEdata_example_output_{pixel}_no_wise.bpz.h5')\n",
    "bpzdatapd = pd.DataFrame()\n",
    "for key in list(bpzdata.keys()):\n",
    "    bpzdatapd[key]=list(bpzdata[key])\n",
    "    \n",
    "bpzdatatable = astropy.table.Table.from_pandas(bpzdatapd)\n",
    "bpzdatatable['ID'].name = 'QUICK_OBJECT_ID'\n",
    "data = astropy.table.join(bpzdatatable, tab_alex_f)"
   ]
  },
  {
   "cell_type": "code",
   "execution_count": 8,
   "id": "6a4f11b8-8a1b-400a-a068-1e3685add0dc",
   "metadata": {},
   "outputs": [],
   "source": [
    "from astropy.coordinates import SkyCoord\n",
    "from astropy import units as u\n",
    "boss_cd = SkyCoord(ra=data_boss_good['RA']*u.degree, dec=data_boss_good['DEC']*u.degree)\n",
    "bpz_cd = SkyCoord(ra=data['RA']*u.deg, dec=data['DEC']*u.deg)\n",
    "idx, d2d, d3d = boss_cd.match_to_catalog_sky(bpz_cd)"
   ]
  },
  {
   "cell_type": "code",
   "execution_count": 9,
   "id": "7fcc203e-1059-49bc-a783-07bf443d08de",
   "metadata": {},
   "outputs": [
    {
     "name": "stdout",
     "output_type": "stream",
     "text": [
      "205 205\n"
     ]
    }
   ],
   "source": [
    "good_matches = d2d < 1.0*u.arcsec\n",
    "print(len(np.unique(idx[good_matches])), np.count_nonzero(good_matches))"
   ]
  },
  {
   "cell_type": "code",
   "execution_count": 10,
   "id": "4d3047a8-f82a-4fb5-9d96-fbe8edde2c5d",
   "metadata": {},
   "outputs": [],
   "source": [
    "idx_, d2d_, d3d_ = bpz_cd.match_to_catalog_sky(boss_cd)"
   ]
  },
  {
   "cell_type": "code",
   "execution_count": 11,
   "id": "84820584-49e6-4472-b3fb-f97576e1da8b",
   "metadata": {},
   "outputs": [
    {
     "name": "stdout",
     "output_type": "stream",
     "text": [
      "205 207\n"
     ]
    }
   ],
   "source": [
    "good_matches_ = d2d_ < 1.0*u.arcsec\n",
    "print(len(np.unique(idx_[good_matches_])), np.count_nonzero(good_matches_))"
   ]
  },
  {
   "cell_type": "code",
   "execution_count": 12,
   "id": "62c3ba7d-0aef-48ef-b473-26d162992902",
   "metadata": {},
   "outputs": [],
   "source": [
    "data_all = astropy.table.hstack([data_boss_good[good_matches], data[idx][good_matches]])"
   ]
  },
  {
   "cell_type": "code",
   "execution_count": 13,
   "id": "d2dda1c0-32d2-4041-8a93-711714251bde",
   "metadata": {},
   "outputs": [
    {
     "data": {
      "text/plain": [
       "<TableColumns names=('RA_1','DEC_1','RUN','RERUN','CAMCOL','FIELD','ID','ICHUNK','IPOLY','ISECT','FRACPSF','EXPFLUX','DEVFLUX','PSFFLUX','MODELFLUX','FIBER2FLUX','R_DEV','EXTINCTION','PSF_FWHM','AIRMASS','SKYFLUX','EB_MINUS_V','IMAGE_DEPTH','IMATCH','Z','WEIGHT_FKP','WEIGHT_CP','WEIGHT_NOZ','WEIGHT_STAR','WEIGHT_SEEING','WEIGHT_SYSTOT','NZ','COMP','PLATE','FIBERID','MJD','FINALN','TILE','SPECTILE','ICOLLIDED','INGROUP','MULTGROUP','CHI_SQ','QUICK_OBJECT_ID','M_0','ODDS','T_B','T_ML','Z_B','Z_B_MAX','Z_B_MIN','Z_ML','RA_2','DEC_2','HPX2048','NEPOCHS_G','NEPOCHS_R','NEPOCHS_I','NEPOCHS_Z','MAG_PSF_G','MAG_PSF_R','MAG_PSF_I','MAG_PSF_Z','MAGERR_PSF_G','MAGERR_PSF_R','MAGERR_PSF_I','MAGERR_PSF_Z','MAG_AUTO_G','MAG_AUTO_R','MAG_AUTO_I','MAG_AUTO_Z','MAGERR_AUTO_G','MAGERR_AUTO_R','MAGERR_AUTO_I','MAGERR_AUTO_Z','SPREAD_MODEL_G','SPREAD_MODEL_R','SPREAD_MODEL_I','SPREAD_MODEL_Z','SPREADERR_MODEL_G','SPREADERR_MODEL_R','SPREADERR_MODEL_I','SPREADERR_MODEL_Z','CLASS_STAR_G','CLASS_STAR_R','CLASS_STAR_I','CLASS_STAR_Z','FLAGS_G','FLAGS_R','FLAGS_I','FLAGS_Z','WAVG_MAG_PSF_G','WAVG_MAG_PSF_R','WAVG_MAG_PSF_I','WAVG_MAG_PSF_Z','WAVG_MAGERR_PSF_G','WAVG_MAGERR_PSF_R','WAVG_MAGERR_PSF_I','WAVG_MAGERR_PSF_Z','WAVG_MAGRMS_PSF_G','WAVG_MAGRMS_PSF_R','WAVG_MAGRMS_PSF_I','WAVG_MAGRMS_PSF_Z','WAVG_MAG_AUTO_G','WAVG_MAG_AUTO_R','WAVG_MAG_AUTO_I','WAVG_MAG_AUTO_Z','WAVG_MAGERR_AUTO_G','WAVG_MAGERR_AUTO_R','WAVG_MAGERR_AUTO_I','WAVG_MAGERR_AUTO_Z','WAVG_MAGRMS_AUTO_G','WAVG_MAGRMS_AUTO_R','WAVG_MAGRMS_AUTO_I','WAVG_MAGRMS_AUTO_Z','WAVG_SPREAD_MODEL_G','WAVG_SPREAD_MODEL_R','WAVG_SPREAD_MODEL_I','WAVG_SPREAD_MODEL_Z','WAVG_SPREADERR_MODEL_G','WAVG_SPREADERR_MODEL_R','WAVG_SPREADERR_MODEL_I','WAVG_SPREADERR_MODEL_Z','WAVG_SPREADRMS_MODEL_G','WAVG_SPREADRMS_MODEL_R','WAVG_SPREADRMS_MODEL_I','WAVG_SPREADRMS_MODEL_Z','WAVG_FLAGS_G','WAVG_FLAGS_R','WAVG_FLAGS_I','WAVG_FLAGS_Z','EXPNUM_G','EXPNUM_R','EXPNUM_I','EXPNUM_Z','CCDNUM_G','CCDNUM_R','CCDNUM_I','CCDNUM_Z','T_EFF_G','T_EFF_R','T_EFF_I','T_EFF_Z','EXPTIME_G','EXPTIME_R','EXPTIME_I','EXPTIME_Z','A_IMAGE_G','A_IMAGE_R','A_IMAGE_I','A_IMAGE_Z','B_IMAGE_G','B_IMAGE_R','B_IMAGE_I','B_IMAGE_Z','THETA_IMAGE_G','THETA_IMAGE_R','THETA_IMAGE_I','THETA_IMAGE_Z','EBV','EXTINCTION_G','EXTINCTION_R','EXTINCTION_I','EXTINCTION_Z','EXTENDED_CLASS_G','EXTENDED_CLASS_R','EXTENDED_CLASS_I','EXTENDED_CLASS_Z')>"
      ]
     },
     "execution_count": 13,
     "metadata": {},
     "output_type": "execute_result"
    }
   ],
   "source": [
    "data_all.columns"
   ]
  },
  {
   "cell_type": "code",
   "execution_count": 14,
   "id": "ca8817a4-f38c-42a1-84c2-27a8f6c0da84",
   "metadata": {},
   "outputs": [
    {
     "data": {
      "text/html": [
       "<i>Table length=205</i>\n",
       "<table id=\"table140303951473920\" class=\"table-striped table-bordered table-condensed\">\n",
       "<thead><tr><th>RA_1</th><th>DEC_1</th><th>RUN</th><th>RERUN</th><th>CAMCOL</th><th>FIELD</th><th>ID</th><th>ICHUNK</th><th>IPOLY</th><th>ISECT</th><th>FRACPSF [5]</th><th>EXPFLUX [5]</th><th>DEVFLUX [5]</th><th>PSFFLUX [5]</th><th>MODELFLUX [5]</th><th>FIBER2FLUX [5]</th><th>R_DEV [5]</th><th>EXTINCTION [5]</th><th>PSF_FWHM [5]</th><th>AIRMASS</th><th>SKYFLUX [5]</th><th>EB_MINUS_V</th><th>IMAGE_DEPTH [5]</th><th>IMATCH</th><th>Z</th><th>WEIGHT_FKP</th><th>WEIGHT_CP</th><th>WEIGHT_NOZ</th><th>WEIGHT_STAR</th><th>WEIGHT_SEEING</th><th>WEIGHT_SYSTOT</th><th>NZ</th><th>COMP</th><th>PLATE</th><th>FIBERID</th><th>MJD</th><th>FINALN</th><th>TILE [3]</th><th>SPECTILE</th><th>ICOLLIDED</th><th>INGROUP</th><th>MULTGROUP</th><th>CHI_SQ</th><th>QUICK_OBJECT_ID</th><th>M_0</th><th>ODDS</th><th>T_B</th><th>T_ML</th><th>Z_B</th><th>Z_B_MAX</th><th>Z_B_MIN</th><th>Z_ML</th><th>RA_2</th><th>DEC_2</th><th>HPX2048</th><th>NEPOCHS_G</th><th>NEPOCHS_R</th><th>NEPOCHS_I</th><th>NEPOCHS_Z</th><th>MAG_PSF_G</th><th>MAG_PSF_R</th><th>MAG_PSF_I</th><th>MAG_PSF_Z</th><th>MAGERR_PSF_G</th><th>MAGERR_PSF_R</th><th>MAGERR_PSF_I</th><th>MAGERR_PSF_Z</th><th>MAG_AUTO_G</th><th>MAG_AUTO_R</th><th>MAG_AUTO_I</th><th>MAG_AUTO_Z</th><th>MAGERR_AUTO_G</th><th>MAGERR_AUTO_R</th><th>MAGERR_AUTO_I</th><th>MAGERR_AUTO_Z</th><th>SPREAD_MODEL_G</th><th>SPREAD_MODEL_R</th><th>SPREAD_MODEL_I</th><th>SPREAD_MODEL_Z</th><th>SPREADERR_MODEL_G</th><th>SPREADERR_MODEL_R</th><th>SPREADERR_MODEL_I</th><th>SPREADERR_MODEL_Z</th><th>CLASS_STAR_G</th><th>CLASS_STAR_R</th><th>CLASS_STAR_I</th><th>CLASS_STAR_Z</th><th>FLAGS_G</th><th>FLAGS_R</th><th>FLAGS_I</th><th>FLAGS_Z</th><th>WAVG_MAG_PSF_G</th><th>WAVG_MAG_PSF_R</th><th>WAVG_MAG_PSF_I</th><th>WAVG_MAG_PSF_Z</th><th>WAVG_MAGERR_PSF_G</th><th>WAVG_MAGERR_PSF_R</th><th>WAVG_MAGERR_PSF_I</th><th>WAVG_MAGERR_PSF_Z</th><th>WAVG_MAGRMS_PSF_G</th><th>WAVG_MAGRMS_PSF_R</th><th>WAVG_MAGRMS_PSF_I</th><th>WAVG_MAGRMS_PSF_Z</th><th>WAVG_MAG_AUTO_G</th><th>WAVG_MAG_AUTO_R</th><th>WAVG_MAG_AUTO_I</th><th>WAVG_MAG_AUTO_Z</th><th>WAVG_MAGERR_AUTO_G</th><th>WAVG_MAGERR_AUTO_R</th><th>WAVG_MAGERR_AUTO_I</th><th>WAVG_MAGERR_AUTO_Z</th><th>WAVG_MAGRMS_AUTO_G</th><th>WAVG_MAGRMS_AUTO_R</th><th>WAVG_MAGRMS_AUTO_I</th><th>WAVG_MAGRMS_AUTO_Z</th><th>WAVG_SPREAD_MODEL_G</th><th>WAVG_SPREAD_MODEL_R</th><th>WAVG_SPREAD_MODEL_I</th><th>WAVG_SPREAD_MODEL_Z</th><th>WAVG_SPREADERR_MODEL_G</th><th>WAVG_SPREADERR_MODEL_R</th><th>WAVG_SPREADERR_MODEL_I</th><th>WAVG_SPREADERR_MODEL_Z</th><th>WAVG_SPREADRMS_MODEL_G</th><th>WAVG_SPREADRMS_MODEL_R</th><th>WAVG_SPREADRMS_MODEL_I</th><th>WAVG_SPREADRMS_MODEL_Z</th><th>WAVG_FLAGS_G</th><th>WAVG_FLAGS_R</th><th>WAVG_FLAGS_I</th><th>WAVG_FLAGS_Z</th><th>EXPNUM_G</th><th>EXPNUM_R</th><th>EXPNUM_I</th><th>EXPNUM_Z</th><th>CCDNUM_G</th><th>CCDNUM_R</th><th>CCDNUM_I</th><th>CCDNUM_Z</th><th>T_EFF_G</th><th>T_EFF_R</th><th>T_EFF_I</th><th>T_EFF_Z</th><th>EXPTIME_G</th><th>EXPTIME_R</th><th>EXPTIME_I</th><th>EXPTIME_Z</th><th>A_IMAGE_G</th><th>A_IMAGE_R</th><th>A_IMAGE_I</th><th>A_IMAGE_Z</th><th>B_IMAGE_G</th><th>B_IMAGE_R</th><th>B_IMAGE_I</th><th>B_IMAGE_Z</th><th>THETA_IMAGE_G</th><th>THETA_IMAGE_R</th><th>THETA_IMAGE_I</th><th>THETA_IMAGE_Z</th><th>EBV</th><th>EXTINCTION_G</th><th>EXTINCTION_R</th><th>EXTINCTION_I</th><th>EXTINCTION_Z</th><th>EXTENDED_CLASS_G</th><th>EXTENDED_CLASS_R</th><th>EXTENDED_CLASS_I</th><th>EXTENDED_CLASS_Z</th></tr></thead>\n",
       "<thead><tr><th>float64</th><th>float64</th><th>int32</th><th>bytes12</th><th>int32</th><th>int32</th><th>int32</th><th>int32</th><th>int32</th><th>int32</th><th>float32</th><th>float32</th><th>float32</th><th>float32</th><th>float32</th><th>float32</th><th>float32</th><th>float32</th><th>float32</th><th>float32</th><th>float32</th><th>float32</th><th>float32</th><th>int32</th><th>float32</th><th>float32</th><th>float32</th><th>float32</th><th>float32</th><th>float32</th><th>float32</th><th>float32</th><th>float32</th><th>int32</th><th>int32</th><th>int32</th><th>int32</th><th>int16</th><th>int32</th><th>int32</th><th>int32</th><th>int32</th><th>float32</th><th>int64</th><th>float32</th><th>float32</th><th>float32</th><th>float32</th><th>float32</th><th>float32</th><th>float32</th><th>float32</th><th>float64</th><th>float64</th><th>int64</th><th>int16</th><th>int16</th><th>int16</th><th>int16</th><th>float32</th><th>float32</th><th>float32</th><th>float32</th><th>float32</th><th>float32</th><th>float32</th><th>float32</th><th>float32</th><th>float32</th><th>float32</th><th>float32</th><th>float32</th><th>float32</th><th>float32</th><th>float32</th><th>float32</th><th>float32</th><th>float32</th><th>float32</th><th>float32</th><th>float32</th><th>float32</th><th>float32</th><th>float32</th><th>float32</th><th>float32</th><th>float32</th><th>int16</th><th>int16</th><th>int16</th><th>int16</th><th>float32</th><th>float32</th><th>float32</th><th>float32</th><th>float32</th><th>float32</th><th>float32</th><th>float32</th><th>float32</th><th>float32</th><th>float32</th><th>float32</th><th>float32</th><th>float32</th><th>float32</th><th>float32</th><th>float32</th><th>float32</th><th>float32</th><th>float32</th><th>float32</th><th>float32</th><th>float32</th><th>float32</th><th>float32</th><th>float32</th><th>float32</th><th>float32</th><th>float32</th><th>float32</th><th>float32</th><th>float32</th><th>float32</th><th>float32</th><th>float32</th><th>float32</th><th>int16</th><th>int16</th><th>int16</th><th>int16</th><th>int32</th><th>int32</th><th>int32</th><th>int32</th><th>int32</th><th>int32</th><th>int32</th><th>int32</th><th>float32</th><th>float32</th><th>float32</th><th>float32</th><th>float32</th><th>float32</th><th>float32</th><th>float32</th><th>float32</th><th>float32</th><th>float32</th><th>float32</th><th>float32</th><th>float32</th><th>float32</th><th>float32</th><th>float32</th><th>float32</th><th>float32</th><th>float32</th><th>float32</th><th>float32</th><th>float32</th><th>float32</th><th>float32</th><th>int64</th><th>int64</th><th>int64</th><th>int64</th></tr></thead>\n",
       "<tr><td>122.2298841904572</td><td>9.82609204782013</td><td>5182</td><td>301</td><td>1</td><td>48</td><td>917</td><td>14</td><td>23381</td><td>3464</td><td>0.0 .. 1.0</td><td>0.33957267 .. 16.723385</td><td>0.3395568 .. 17.359074</td><td>0.43331012 .. 12.537145</td><td>0.47933638 .. 22.49408</td><td>0.17315657 .. 5.796077</td><td>0.0027971396 .. 1.9181961</td><td>0.10121267 .. 0.029038513</td><td>1.9178215 .. 1.6360421</td><td>1.0927238</td><td>1.0298258 .. 19.111454</td><td>0.019633884</td><td>1.2327142 .. 5.051849</td><td>1</td><td>0.4679218</td><td>0.21974313</td><td>1.0</td><td>1.0</td><td>1.0947797</td><td>1.0469179</td><td>1.1526445</td><td>0.0003550768</td><td>0.96793</td><td>4510</td><td>51</td><td>55559</td><td>14</td><td>11050 .. -1</td><td>11050</td><td>0</td><td>50667</td><td>1</td><td>10.289847</td><td>10509900122675</td><td>21.906769</td><td>0.8517488</td><td>1.0</td><td>1.0</td><td>0.465</td><td>0.53784347</td><td>0.39215654</td><td>0.465</td><td>122.2298695669639</td><td>9.82606134549907</td><td>22895749</td><td>2</td><td>3</td><td>3</td><td>3</td><td>22.828087</td><td>20.862438</td><td>20.297047</td><td>20.035694</td><td>0.058674138</td><td>0.012682965</td><td>0.014001367</td><td>0.019242147</td><td>21.906769</td><td>20.17809</td><td>19.397156</td><td>19.2408</td><td>0.07634932</td><td>0.02132046</td><td>0.025490312</td><td>0.034346033</td><td>0.009532526</td><td>0.010112527</td><td>0.011353571</td><td>0.013438019</td><td>0.0023836305</td><td>0.0005272743</td><td>0.0005824054</td><td>0.00086873607</td><td>0.11482963</td><td>0.25421113</td><td>0.045523323</td><td>0.083207145</td><td>0</td><td>0</td><td>0</td><td>0</td><td>22.79045</td><td>20.912003</td><td>20.233839</td><td>19.926003</td><td>0.042206082</td><td>0.009784012</td><td>0.00795428</td><td>0.01122899</td><td>0.05508357</td><td>0.06640172</td><td>0.14802556</td><td>0.098373696</td><td>21.96283</td><td>20.17073</td><td>19.451443</td><td>19.135275</td><td>0.05730583</td><td>0.01589934</td><td>0.014502916</td><td>0.019503023</td><td>0.08932974</td><td>0.029593443</td><td>0.07604091</td><td>0.08896594</td><td>0.012124544</td><td>0.011348674</td><td>0.012059944</td><td>0.012542105</td><td>0.0018345037</td><td>0.00043980332</td><td>0.0003358236</td><td>0.00049978617</td><td>0.0043425243</td><td>0.0018619546</td><td>0.0006510567</td><td>0.0009099441</td><td>0</td><td>0</td><td>0</td><td>0</td><td>511192</td><td>185509</td><td>929862</td><td>807104</td><td>29</td><td>2</td><td>3</td><td>29</td><td>0.637913</td><td>0.511152</td><td>0.838819</td><td>0.458403</td><td>125.0</td><td>150.0</td><td>86.0</td><td>120.0</td><td>1.9242901</td><td>3.5688052</td><td>3.294498</td><td>2.2578814</td><td>1.6501927</td><td>3.0257783</td><td>2.76751</td><td>2.1621027</td><td>-17.722946</td><td>-18.070593</td><td>-21.010805</td><td>16.93163</td><td>0.019688027</td><td>0.06272606</td><td>0.042132378</td><td>0.030890515</td><td>0.02354688</td><td>3</td><td>3</td><td>3</td><td>3</td></tr>\n",
       "<tr><td>122.2739743618113</td><td>9.79016759192159</td><td>5182</td><td>301</td><td>1</td><td>48</td><td>1151</td><td>14</td><td>23381</td><td>3464</td><td>1.0 .. 1.0</td><td>31.10887 .. 17.33706</td><td>4.0754986 .. 21.344904</td><td>0.1586689 .. 12.293053</td><td>0.049473852 .. 14.129984</td><td>0.008445066 .. 5.553781</td><td>74.92313 .. 2.3262963</td><td>0.106513396 .. 0.030559322</td><td>1.9178215 .. 1.6360421</td><td>1.0927238</td><td>1.0298258 .. 19.111454</td><td>0.020662151</td><td>1.2327142 .. 5.051849</td><td>1</td><td>0.63525075</td><td>0.41596153</td><td>1.0</td><td>1.0</td><td>1.1163877</td><td>1.0469179</td><td>1.1753945</td><td>0.00014040685</td><td>0.96793</td><td>4510</td><td>49</td><td>55559</td><td>14</td><td>11050 .. -1</td><td>11050</td><td>0</td><td>30438</td><td>1</td><td>11.951977</td><td>10509900150255</td><td>23.08241</td><td>0.99520147</td><td>1.0</td><td>1.0</td><td>0.685</td><td>0.76878244</td><td>0.60121757</td><td>0.695</td><td>122.27400441284647</td><td>9.790120281588287</td><td>22895661</td><td>1</td><td>3</td><td>3</td><td>3</td><td>23.554695</td><td>21.389544</td><td>20.470562</td><td>19.857773</td><td>0.116562404</td><td>0.020455645</td><td>0.016009014</td><td>0.0141525185</td><td>23.08241</td><td>20.71932</td><td>19.720226</td><td>19.231812</td><td>0.13555473</td><td>0.03469264</td><td>0.026175978</td><td>0.025692299</td><td>0.0102548</td><td>0.012513136</td><td>0.013716963</td><td>0.0118331</td><td>0.0045620454</td><td>0.00089374604</td><td>0.00068689464</td><td>0.0006052063</td><td>0.61428905</td><td>0.11463143</td><td>0.04285674</td><td>0.035710238</td><td>0</td><td>0</td><td>0</td><td>0</td><td>23.554695</td><td>21.42887</td><td>20.406578</td><td>19.928995</td><td>0.116562404</td><td>0.013741161</td><td>0.009168705</td><td>0.010892748</td><td>0.1165624</td><td>0.072695956</td><td>0.14563145</td><td>0.1264623</td><td>23.08241</td><td>20.750162</td><td>19.70312</td><td>19.291641</td><td>0.13555473</td><td>0.021856377</td><td>0.015633525</td><td>0.019111386</td><td>0.13555473</td><td>0.050709855</td><td>0.059196163</td><td>0.09054413</td><td>0.0102548</td><td>0.01340332</td><td>0.013563709</td><td>0.012486997</td><td>0.0045620454</td><td>0.00059328135</td><td>0.00039599385</td><td>0.0004843771</td><td>0.0045620454</td><td>0.0010247075</td><td>0.00033858808</td><td>0.0016525374</td><td>0</td><td>0</td><td>0</td><td>0</td><td>511192</td><td>185508</td><td>929862</td><td>784330</td><td>30</td><td>3</td><td>3</td><td>29</td><td>0.637913</td><td>0.51179</td><td>0.838819</td><td>0.392711</td><td>125.0</td><td>150.0</td><td>86.0</td><td>186.0</td><td>1.4079396</td><td>3.024676</td><td>2.5972009</td><td>2.906641</td><td>1.2417414</td><td>2.4921627</td><td>2.3745444</td><td>2.7295277</td><td>81.05076</td><td>64.03555</td><td>1.6115582</td><td>68.61915</td><td>0.020268554</td><td>0.06457561</td><td>0.043374706</td><td>0.03180136</td><td>0.02424119</td><td>3</td><td>3</td><td>3</td><td>3</td></tr>\n",
       "<tr><td>122.69960980046855</td><td>9.961016779281822</td><td>5182</td><td>301</td><td>1</td><td>51</td><td>944</td><td>14</td><td>23380</td><td>3457</td><td>1.0 .. 1.0</td><td>-0.66428334 .. 23.095396</td><td>-0.5455396 .. 30.872421</td><td>-0.1876476 .. 13.282377</td><td>-0.9008507 .. 34.940994</td><td>-0.19559366 .. 6.3956738</td><td>0.7426581 .. 4.307485</td><td>0.120663956 .. 0.0346192</td><td>1.8142854 .. 1.5222121</td><td>1.0914437</td><td>1.0292436 .. 18.963593</td><td>0.023407169</td><td>1.165165 .. 4.6818123</td><td>1</td><td>0.5204749</td><td>0.19588123</td><td>2.0</td><td>1.0</td><td>1.1029986</td><td>1.0274609</td><td>1.1397151</td><td>0.00041051346</td><td>0.9695817</td><td>4509</td><td>441</td><td>55574</td><td>14</td><td>11049 .. -1</td><td>11049</td><td>0</td><td>30966</td><td>2</td><td>2.453188</td><td>10509900012071</td><td>21.638428</td><td>0.60571986</td><td>1.0</td><td>1.0</td><td>0.305</td><td>0.515</td><td>0.24011214</td><td>0.305</td><td>122.69964830083465</td><td>9.961038324480043</td><td>22895875</td><td>3</td><td>3</td><td>2</td><td>4</td><td>22.721327</td><td>21.017757</td><td>20.318348</td><td>19.954887</td><td>0.056463964</td><td>0.019161673</td><td>0.014459413</td><td>0.018279923</td><td>21.638428</td><td>20.137873</td><td>19.681799</td><td>19.228077</td><td>0.07469757</td><td>0.02991695</td><td>0.024587391</td><td>0.03390258</td><td>0.013451988</td><td>0.013175546</td><td>0.012167926</td><td>0.01391262</td><td>0.0022770292</td><td>0.0008461488</td><td>0.00059622945</td><td>0.00082971604</td><td>0.09167371</td><td>0.05382702</td><td>0.037453372</td><td>0.04230095</td><td>0</td><td>2</td><td>3</td><td>3</td><td>22.740738</td><td>21.020277</td><td>20.145744</td><td>19.82546</td><td>0.03403116</td><td>0.01137439</td><td>0.00942382</td><td>0.009000046</td><td>0.11159156</td><td>0.035419013</td><td>0.2073706</td><td>0.09699236</td><td>21.660345</td><td>20.178219</td><td>19.36712</td><td>19.059828</td><td>0.045700364</td><td>0.017798776</td><td>0.015640495</td><td>0.016064864</td><td>0.20854837</td><td>0.057782467</td><td>0.36015394</td><td>0.13295418</td><td>0.012084657</td><td>0.0127764</td><td>0.012144478</td><td>0.013692756</td><td>0.0013719472</td><td>0.0004926346</td><td>0.00039217537</td><td>0.00040421876</td><td>0.004767741</td><td>0.00043227855</td><td>2.8694101e-05</td><td>0.00017592644</td><td>2</td><td>3</td><td>3</td><td>3</td><td>511192</td><td>511195</td><td>929838</td><td>807104</td><td>24</td><td>32</td><td>28</td><td>24</td><td>0.637913</td><td>0.952815</td><td>0.656553</td><td>0.458403</td><td>125.0</td><td>63.0</td><td>85.0</td><td>120.0</td><td>2.8937242</td><td>3.168141</td><td>2.632938</td><td>2.610976</td><td>1.8309044</td><td>2.535307</td><td>2.0171916</td><td>2.1030104</td><td>32.01957</td><td>22.733183</td><td>32.487034</td><td>44.798615</td><td>0.022945793</td><td>0.0731053</td><td>0.049103998</td><td>0.03600195</td><td>0.027443169</td><td>3</td><td>3</td><td>3</td><td>3</td></tr>\n",
       "<tr><td>122.83523060978735</td><td>9.910653187848244</td><td>5182</td><td>301</td><td>1</td><td>52</td><td>794</td><td>14</td><td>23380</td><td>3457</td><td>0.0 .. 1.0</td><td>1.3901292 .. 16.711388</td><td>3.2126427 .. 23.148544</td><td>0.18522868 .. 12.877177</td><td>0.27354664 .. 22.75143</td><td>0.096131444 .. 6.135394</td><td>60.130524 .. 3.1178944</td><td>0.121733084 .. 0.03492594</td><td>1.7872189 .. 1.4584938</td><td>1.0910206</td><td>1.0290513 .. 18.87152</td><td>0.023614565</td><td>1.1474572 .. 4.474829</td><td>1</td><td>0.5253143</td><td>0.19836766</td><td>1.0</td><td>1.0</td><td>1.0573677</td><td>1.0364791</td><td>1.1021547</td><td>0.00040411443</td><td>0.9695817</td><td>4509</td><td>453</td><td>55574</td><td>14</td><td>11049 .. -1</td><td>11049</td><td>0</td><td>978</td><td>1</td><td>1.3477353</td><td>10509900123090</td><td>21.867455</td><td>0.96215904</td><td>1.0</td><td>1.0</td><td>0.485</td><td>0.5588379</td><td>0.41116208</td><td>0.485</td><td>122.83525081530011</td><td>9.910645952307618</td><td>22894503</td><td>3</td><td>2</td><td>2</td><td>4</td><td>22.569801</td><td>20.909828</td><td>20.223604</td><td>19.802822</td><td>0.0523207</td><td>0.017820984</td><td>0.013177083</td><td>0.016816849</td><td>21.867455</td><td>20.296465</td><td>19.583145</td><td>19.136608</td><td>0.07670667</td><td>0.02928617</td><td>0.023771506</td><td>0.030306356</td><td>0.013721801</td><td>0.010965353</td><td>0.0109439</td><td>0.011930169</td><td>0.002090311</td><td>0.0007551702</td><td>0.00054078805</td><td>0.000720283</td><td>0.049815644</td><td>0.12949726</td><td>0.06678995</td><td>0.032400146</td><td>0</td><td>0</td><td>0</td><td>0</td><td>22.622948</td><td>20.903482</td><td>20.100676</td><td>19.717741</td><td>0.031120589</td><td>0.012987793</td><td>0.008810236</td><td>0.008281895</td><td>0.06654183</td><td>0.009532605</td><td>0.15543084</td><td>0.0613115</td><td>22.03226</td><td>20.314135</td><td>19.533373</td><td>19.101713</td><td>0.047990046</td><td>0.021686245</td><td>0.015376886</td><td>0.014632844</td><td>0.16411936</td><td>0.027404219</td><td>0.058905784</td><td>0.058308307</td><td>0.012675686</td><td>0.010872881</td><td>0.010745201</td><td>0.011682114</td><td>0.0012907345</td><td>0.0005327239</td><td>0.00037005535</td><td>0.00036472542</td><td>0.001966709</td><td>0.00013015738</td><td>0.0002631603</td><td>0.00064528396</td><td>0</td><td>0</td><td>0</td><td>0</td><td>511192</td><td>511195</td><td>929838</td><td>807104</td><td>31</td><td>39</td><td>36</td><td>31</td><td>0.637913</td><td>0.952815</td><td>0.656553</td><td>0.458403</td><td>125.0</td><td>63.0</td><td>85.0</td><td>120.0</td><td>2.2973504</td><td>2.5885062</td><td>2.4521303</td><td>2.4506087</td><td>1.850568</td><td>2.3166137</td><td>2.2409418</td><td>2.0693123</td><td>-84.71641</td><td>-71.531685</td><td>77.708855</td><td>-84.1957</td><td>0.023299025</td><td>0.07423069</td><td>0.049859915</td><td>0.03655617</td><td>0.027865633</td><td>3</td><td>3</td><td>3</td><td>3</td></tr>\n",
       "<tr><td>122.92797534121252</td><td>9.900365668770773</td><td>5182</td><td>301</td><td>1</td><td>53</td><td>870</td><td>14</td><td>23380</td><td>3457</td><td>0.0 .. 0.34804776</td><td>0.3185087 .. 22.741959</td><td>0.2892991 .. 24.299555</td><td>0.29891723 .. 15.880931</td><td>0.2665054 .. 23.124483</td><td>0.17860329 .. 7.812243</td><td>0.9253799 .. 1.8367149</td><td>0.11850163 .. 0.033998817</td><td>1.8948168 .. 1.4757643</td><td>1.0905993</td><td>1.0288599 .. 18.871147</td><td>0.022987707</td><td>1.2161955 .. 4.527667</td><td>1</td><td>0.52410907</td><td>0.1977248</td><td>1.0</td><td>1.0</td><td>1.0303571</td><td>1.0105426</td><td>1.0471247</td><td>0.0004057534</td><td>0.9695817</td><td>4509</td><td>403</td><td>55574</td><td>14</td><td>11049 .. -1</td><td>11049</td><td>0</td><td>7475</td><td>1</td><td>7.7891583</td><td>10509900072468</td><td>22.018534</td><td>1.0</td><td>1.0</td><td>1.0</td><td>0.545</td><td>0.6218213</td><td>0.46817875</td><td>0.545</td><td>122.92800310156382</td><td>9.900370563828787</td><td>22894489</td><td>2</td><td>2</td><td>2</td><td>4</td><td>22.596737</td><td>20.957066</td><td>20.230236</td><td>19.566273</td><td>0.049154725</td><td>0.01814004</td><td>0.013271562</td><td>0.011072165</td><td>22.018534</td><td>20.06047</td><td>19.286242</td><td>18.781301</td><td>0.07461279</td><td>0.028150188</td><td>0.022355955</td><td>0.019681608</td><td>0.010247178</td><td>0.017330043</td><td>0.014625353</td><td>0.014500772</td><td>0.002059264</td><td>0.00084040134</td><td>0.00056498515</td><td>0.0004976138</td><td>0.1575169</td><td>0.025096962</td><td>0.029289285</td><td>0.034834955</td><td>0</td><td>0</td><td>0</td><td>0</td><td>22.657255</td><td>20.914679</td><td>20.019577</td><td>19.610619</td><td>0.03862531</td><td>0.012734341</td><td>0.008475965</td><td>0.0073628635</td><td>0.105692156</td><td>0.059081115</td><td>0.24302883</td><td>0.047812976</td><td>21.96292</td><td>20.054256</td><td>19.23154</td><td>18.812607</td><td>0.05487226</td><td>0.020024804</td><td>0.014342195</td><td>0.012460295</td><td>0.08507864</td><td>0.008894671</td><td>0.06367748</td><td>0.033932444</td><td>0.012679048</td><td>0.01634146</td><td>0.013943669</td><td>0.015490633</td><td>0.001681786</td><td>0.00058547594</td><td>0.00036735667</td><td>0.00034347505</td><td>0.0045877807</td><td>0.0013570692</td><td>0.00081513583</td><td>0.0011634293</td><td>0</td><td>0</td><td>0</td><td>0</td><td>511196</td><td>511195</td><td>929838</td><td>784330</td><td>39</td><td>39</td><td>36</td><td>31</td><td>0.625132</td><td>0.952815</td><td>0.656553</td><td>0.392711</td><td>125.0</td><td>63.0</td><td>85.0</td><td>186.0</td><td>2.1804328</td><td>3.125796</td><td>3.0279233</td><td>3.9094825</td><td>1.6266642</td><td>2.7414289</td><td>2.6456282</td><td>3.0865345</td><td>-80.5491</td><td>86.54841</td><td>76.19101</td><td>68.75235</td><td>0.022931948</td><td>0.07306118</td><td>0.049074367</td><td>0.035980225</td><td>0.02742661</td><td>3</td><td>3</td><td>3</td><td>3</td></tr>\n",
       "<tr><td>122.98295819647083</td><td>10.093918112003946</td><td>5182</td><td>301</td><td>1</td><td>53</td><td>1124</td><td>14</td><td>23380</td><td>3457</td><td>1.0 .. 1.0</td><td>2.8867986 .. 19.290264</td><td>5.396482 .. 27.72675</td><td>0.60658944 .. 11.214681</td><td>0.6770145 .. 15.609215</td><td>0.2048666 .. 5.9664044</td><td>54.20734 .. 6.2407</td><td>0.12928791 .. 0.037093468</td><td>1.8948168 .. 1.4757643</td><td>1.0905993</td><td>1.0288599 .. 18.871147</td><td>0.0250801</td><td>1.2161955 .. 4.527667</td><td>1</td><td>0.6490937</td><td>0.46881902</td><td>1.0</td><td>1.0</td><td>1.071001</td><td>1.0105426</td><td>1.08843</td><td>0.000113301925</td><td>0.9695817</td><td>4509</td><td>378</td><td>55574</td><td>14</td><td>11049 .. -1</td><td>11049</td><td>0</td><td>28367</td><td>1</td><td>1.7552046</td><td>10509900093796</td><td>22.375862</td><td>1.0</td><td>1.0</td><td>1.0</td><td>0.565</td><td>0.6428157</td><td>0.4871843</td><td>0.565</td><td>122.98297054716767</td><td>10.093917298333395</td><td>22894573</td><td>3</td><td>3</td><td>1</td><td>4</td><td>23.033913</td><td>21.284267</td><td>20.085735</td><td>19.771088</td><td>0.06994961</td><td>0.022904534</td><td>0.012521606</td><td>0.013304746</td><td>22.375862</td><td>20.482996</td><td>19.574324</td><td>19.176159</td><td>0.09411609</td><td>0.033818986</td><td>0.02178389</td><td>0.022979336</td><td>0.018167414</td><td>0.017442163</td><td>0.0112593565</td><td>0.013353991</td><td>0.0029900423</td><td>0.0010324869</td><td>0.0005357389</td><td>0.00058185955</td><td>0.07873408</td><td>0.017845336</td><td>0.09934973</td><td>0.031868078</td><td>0</td><td>0</td><td>0</td><td>0</td><td>23.086126</td><td>21.173883</td><td>20.085735</td><td>19.809364</td><td>0.048768777</td><td>0.013142489</td><td>0.012521606</td><td>0.0087949755</td><td>0.16035835</td><td>0.17350371</td><td>0.012521606</td><td>0.044642415</td><td>22.44344</td><td>20.457153</td><td>19.574324</td><td>19.197208</td><td>0.06047853</td><td>0.0203876</td><td>0.02178389</td><td>0.015668405</td><td>0.14984867</td><td>0.120112315</td><td>0.02178389</td><td>0.024684476</td><td>0.016443893</td><td>0.015466792</td><td>0.0112593565</td><td>0.013224674</td><td>0.0020570613</td><td>0.0005965997</td><td>0.0005357389</td><td>0.00039446415</td><td>0.005890205</td><td>0.0023849779</td><td>0.0005357389</td><td>0.00055886304</td><td>2</td><td>0</td><td>0</td><td>0</td><td>511196</td><td>511195</td><td>816295</td><td>784330</td><td>33</td><td>33</td><td>34</td><td>18</td><td>0.625132</td><td>0.952815</td><td>0.443824</td><td>0.392711</td><td>125.0</td><td>63.0</td><td>120.0</td><td>186.0</td><td>1.7775512</td><td>2.8829243</td><td>3.346235</td><td>3.2820694</td><td>1.7189388</td><td>2.096894</td><td>3.0005765</td><td>2.7308629</td><td>-20.590939</td><td>-31.931612</td><td>-35.69407</td><td>-33.966335</td><td>0.024128266</td><td>0.076872654</td><td>0.05163449</td><td>0.03785725</td><td>0.028857406</td><td>3</td><td>3</td><td>3</td><td>3</td></tr>\n",
       "<tr><td>123.02572295038274</td><td>10.007167259582769</td><td>5182</td><td>301</td><td>1</td><td>53</td><td>1141</td><td>14</td><td>23380</td><td>3457</td><td>1.0 .. 0.90790343</td><td>0.6534211 .. 21.633656</td><td>2.0053418 .. 27.68835</td><td>-0.03900699 .. 13.078192</td><td>-0.04326703 .. 24.400442</td><td>-0.072916634 .. 6.6788883</td><td>50.86383 .. 3.4797995</td><td>0.11480033 .. 0.03293689</td><td>1.8948168 .. 1.4757643</td><td>1.0905993</td><td>1.0288599 .. 18.871147</td><td>0.022269703</td><td>1.2161955 .. 4.527667</td><td>1</td><td>0.50428325</td><td>0.18636265</td><td>1.0</td><td>1.0</td><td>1.0756856</td><td>1.0105426</td><td>1.0931908</td><td>0.0004365882</td><td>0.9695817</td><td>4509</td><td>368</td><td>55574</td><td>14</td><td>11049 .. -1</td><td>11049</td><td>0</td><td>28215</td><td>1</td><td>3.9131823</td><td>10509900121685</td><td>22.185814</td><td>1.0</td><td>1.0</td><td>1.0</td><td>0.495</td><td>0.56933516</td><td>0.42066488</td><td>0.495</td><td>123.02573999983834</td><td>10.007153218157328</td><td>22894542</td><td>3</td><td>3</td><td>2</td><td>3</td><td>22.816761</td><td>21.031773</td><td>20.39795</td><td>19.838936</td><td>0.057722904</td><td>0.018934485</td><td>0.015007227</td><td>0.018878939</td><td>22.185814</td><td>20.197613</td><td>19.478601</td><td>19.087143</td><td>0.08247803</td><td>0.02980634</td><td>0.025662012</td><td>0.032033365</td><td>0.017842602</td><td>0.014478321</td><td>0.014726723</td><td>0.016177226</td><td>0.002538519</td><td>0.00083624857</td><td>0.0006460488</td><td>0.00090952974</td><td>0.084352076</td><td>0.026420219</td><td>0.026903244</td><td>0.019400565</td><td>0</td><td>0</td><td>0</td><td>0</td><td>22.73127</td><td>20.94519</td><td>20.212473</td><td>19.880817</td><td>0.034298934</td><td>0.010931176</td><td>0.009745203</td><td>0.011331729</td><td>0.08631339</td><td>0.12874448</td><td>0.22121364</td><td>0.0544379</td><td>22.07796</td><td>20.201221</td><td>19.467207</td><td>19.151726</td><td>0.048717648</td><td>0.017072577</td><td>0.016409397</td><td>0.018998697</td><td>0.17089924</td><td>0.054332558</td><td>0.013179488</td><td>0.059450734</td><td>0.01685935</td><td>0.0146868965</td><td>0.013613599</td><td>0.014750675</td><td>0.0014680472</td><td>0.0004935782</td><td>0.00042070425</td><td>0.000511656</td><td>0.004939596</td><td>0.0004708257</td><td>0.0013350924</td><td>0.0012018414</td><td>0</td><td>0</td><td>0</td><td>0</td><td>511196</td><td>511195</td><td>929838</td><td>603062</td><td>33</td><td>33</td><td>29</td><td>33</td><td>0.625132</td><td>0.952815</td><td>0.656553</td><td>0.556162</td><td>125.0</td><td>63.0</td><td>85.0</td><td>80.0</td><td>2.2967408</td><td>2.8933406</td><td>2.745569</td><td>2.948462</td><td>1.6566322</td><td>2.7686403</td><td>2.6427255</td><td>2.8082166</td><td>-82.0398</td><td>-89.604774</td><td>46.387314</td><td>22.150965</td><td>0.023649987</td><td>0.07534886</td><td>0.050610974</td><td>0.03710683</td><td>0.028285386</td><td>3</td><td>3</td><td>3</td><td>3</td></tr>\n",
       "<tr><td>123.20093041370272</td><td>10.025735870339496</td><td>5182</td><td>301</td><td>1</td><td>55</td><td>1162</td><td>14</td><td>23380</td><td>3457</td><td>1.0 .. 0.88207704</td><td>-1.0495538 .. 26.509636</td><td>-1.3344603 .. 34.05141</td><td>-0.103706524 .. 10.433801</td><td>-0.6075002 .. 22.253132</td><td>-0.0066231806 .. 4.8988733</td><td>8.343094 .. 6.6857376</td><td>0.12714854 .. 0.036479667</td><td>1.8744159 .. 1.4829441</td><td>1.0897622</td><td>1.0187769 .. 18.962107</td><td>0.02466509</td><td>1.1967416 .. 4.5604377</td><td>1</td><td>0.56378585</td><td>0.23422065</td><td>1.0</td><td>2.1119773</td><td>1.1021721</td><td>1.0186799</td><td>1.1291279</td><td>0.00032694783</td><td>0.9695817</td><td>4509</td><td>331</td><td>55574</td><td>14</td><td>11049 .. -1</td><td>11049</td><td>0</td><td>41194</td><td>1</td><td>1.896224</td><td>10509900121918</td><td>22.516449</td><td>0.99672246</td><td>1.0</td><td>1.0</td><td>0.555</td><td>0.6323185</td><td>0.47768152</td><td>0.555</td><td>123.20099186184859</td><td>10.025705408291898</td><td>22894462</td><td>3</td><td>3</td><td>2</td><td>3</td><td>23.319565</td><td>21.441713</td><td>20.654022</td><td>19.983496</td><td>0.085683025</td><td>0.02498697</td><td>0.018729007</td><td>0.021525819</td><td>22.516449</td><td>20.578281</td><td>19.693981</td><td>19.322645</td><td>0.11347527</td><td>0.037561357</td><td>0.031400725</td><td>0.035240654</td><td>0.010809541</td><td>0.014782561</td><td>0.015791245</td><td>0.014993681</td><td>0.0033150762</td><td>0.0010937888</td><td>0.0008213156</td><td>0.0009904382</td><td>0.17056148</td><td>0.020638743</td><td>0.025326662</td><td>0.016291296</td><td>0</td><td>0</td><td>0</td><td>0</td><td>23.190111</td><td>21.348907</td><td>20.414005</td><td>19.98666</td><td>0.05172405</td><td>0.015187456</td><td>0.0118824905</td><td>0.012336717</td><td>0.12142386</td><td>0.1635827</td><td>0.2732586</td><td>0.011612684</td><td>22.38203</td><td>20.516262</td><td>19.665392</td><td>19.282362</td><td>0.06547012</td><td>0.02285908</td><td>0.019976761</td><td>0.020587293</td><td>0.29174906</td><td>0.06118277</td><td>0.03272888</td><td>0.051493805</td><td>0.011394225</td><td>0.014707422</td><td>0.013524571</td><td>0.014503019</td><td>0.0020399778</td><td>0.000675421</td><td>0.00051453704</td><td>0.0005483345</td><td>0.0018102693</td><td>0.0021246257</td><td>0.0025162103</td><td>0.001667908</td><td>0</td><td>0</td><td>0</td><td>0</td><td>511196</td><td>511195</td><td>929838</td><td>603062</td><td>34</td><td>34</td><td>30</td><td>34</td><td>0.625132</td><td>0.952815</td><td>0.656553</td><td>0.556162</td><td>125.0</td><td>63.0</td><td>85.0</td><td>80.0</td><td>2.110955</td><td>2.826424</td><td>2.990708</td><td>3.0511718</td><td>1.070397</td><td>2.419164</td><td>2.3051054</td><td>2.251831</td><td>-24.767828</td><td>-34.175808</td><td>-24.791742</td><td>-18.049328</td><td>0.02461296</td><td>0.078416884</td><td>0.05267173</td><td>0.038617734</td><td>0.029437099</td><td>3</td><td>3</td><td>3</td><td>3</td></tr>\n",
       "<tr><td>121.47023625902126</td><td>10.005317248908629</td><td>5182</td><td>301</td><td>2</td><td>44</td><td>341</td><td>14</td><td>23381</td><td>3464</td><td>-0.0 .. 1.0</td><td>-0.31720665 .. 21.080189</td><td>-0.31716424 .. 22.79286</td><td>-0.309324 .. 14.03285</td><td>-0.39401922 .. 24.664137</td><td>0.115142755 .. 7.2118664</td><td>0.00026283096 .. 2.7741098</td><td>0.0981744 .. 0.028166816</td><td>2.0776203 .. 1.5479671</td><td>1.0909557</td><td>1.0486463 .. 20.578243</td><td>0.0190445</td><td>1.3465158 .. 4.959448</td><td>1</td><td>0.5776747</td><td>0.27265173</td><td>1.0</td><td>1.0</td><td>1.0520463</td><td>1.0118008</td><td>1.070498</td><td>0.00026676824</td><td>0.96793</td><td>4510</td><td>186</td><td>55559</td><td>14</td><td>11050 .. -1</td><td>11050</td><td>0</td><td>32629</td><td>2</td><td>23.941925</td><td>10509900112112</td><td>22.296284</td><td>1.0</td><td>1.0</td><td>1.0</td><td>0.585</td><td>0.66381013</td><td>0.5061898</td><td>0.595</td><td>121.47024036586565</td><td>10.005346287046677</td><td>22895548</td><td>1</td><td>1</td><td>2</td><td>1</td><td>22.870472</td><td>21.05761</td><td>20.155754</td><td>19.497906</td><td>0.05992625</td><td>0.01888429</td><td>0.011813838</td><td>0.010152433</td><td>22.296284</td><td>20.251724</td><td>19.480888</td><td>18.856705</td><td>0.09041913</td><td>0.03045756</td><td>0.019935265</td><td>0.018386848</td><td>0.016411794</td><td>0.015452008</td><td>0.013392535</td><td>0.01183803</td><td>0.0027452456</td><td>0.0009146065</td><td>0.0005084043</td><td>0.00043606712</td><td>0.10011998</td><td>0.041593596</td><td>0.04082682</td><td>0.045620754</td><td>0</td><td>0</td><td>0</td><td>3</td><td>22.870472</td><td>21.05761</td><td>20.170307</td><td>19.497906</td><td>0.05992625</td><td>0.01888429</td><td>0.008781206</td><td>0.010152433</td><td>0.05992625</td><td>0.01888429</td><td>0.022741765</td><td>0.010152433</td><td>22.296284</td><td>20.251724</td><td>19.431452</td><td>18.856705</td><td>0.09041913</td><td>0.03045756</td><td>0.014941984</td><td>0.018386848</td><td>0.09041913</td><td>0.030457558</td><td>0.07855363</td><td>0.018386848</td><td>0.016411794</td><td>0.015452009</td><td>0.013922512</td><td>0.01183803</td><td>0.0027452456</td><td>0.0009146065</td><td>0.0003831938</td><td>0.00043606712</td><td>0.0027452456</td><td>0.00091460644</td><td>0.0008515692</td><td>0.00043606712</td><td>0</td><td>0</td><td>0</td><td>3</td><td>510192</td><td>510193</td><td>929861</td><td>784330</td><td>21</td><td>21</td><td>18</td><td>20</td><td>0.670976</td><td>0.867322</td><td>0.794503</td><td>0.392711</td><td>105.0</td><td>64.0</td><td>85.0</td><td>186.0</td><td>1.8342335</td><td>2.7826934</td><td>2.5928178</td><td>3.241739</td><td>1.6786908</td><td>2.3323174</td><td>2.4972112</td><td>3.1656651</td><td>-34.077892</td><td>-77.05531</td><td>-27.51128</td><td>39.86873</td><td>0.019405773</td><td>0.061826788</td><td>0.04152835</td><td>0.030447656</td><td>0.023209304</td><td>3</td><td>3</td><td>3</td><td>3</td></tr>\n",
       "<tr><td>121.95583026504929</td><td>10.038462233197437</td><td>5182</td><td>301</td><td>2</td><td>47</td><td>947</td><td>14</td><td>23381</td><td>3464</td><td>1.0 .. 1.0</td><td>-0.3696051 .. 21.848566</td><td>-0.3696375 .. 26.698381</td><td>-0.29720446 .. 16.647934</td><td>-0.3635873 .. 26.962282</td><td>-0.14298804 .. 8.055502</td><td>0.012863353 .. 2.3400855</td><td>0.11084921 .. 0.03180329</td><td>1.8991865 .. 1.4749031</td><td>1.0896821</td><td>1.0421575 .. 20.347353</td><td>0.02150324</td><td>1.2263563 .. 4.6984496</td><td>1</td><td>0.46042922</td><td>0.23565517</td><td>1.0</td><td>1.5023195</td><td>1.0495291</td><td>1.0651097</td><td>1.1242032</td><td>0.00032434883</td><td>0.96793</td><td>4510</td><td>63</td><td>55559</td><td>14</td><td>11050 .. -1</td><td>11050</td><td>0</td><td>48664</td><td>1</td><td>6.663138</td><td>10509900078639</td><td>22.160248</td><td>0.9777529</td><td>1.0</td><td>1.0</td><td>0.455</td><td>0.52734625</td><td>0.38265377</td><td>0.455</td><td>121.95582423581352</td><td>10.038468665841023</td><td>22896164</td><td>2</td><td>2</td><td>2</td><td>4</td><td>22.555885</td><td>20.753626</td><td>20.171036</td><td>19.632801</td><td>0.04410833</td><td>0.014910984</td><td>0.012480173</td><td>0.01171679</td><td>22.160248</td><td>20.255459</td><td>19.553894</td><td>19.265148</td><td>0.0742667</td><td>0.022405881</td><td>0.02136142</td><td>0.018258234</td><td>0.008451539</td><td>0.011891089</td><td>0.011349751</td><td>0.01065468</td><td>0.0017622028</td><td>0.0006255348</td><td>0.0005126948</td><td>0.00049584854</td><td>0.12596224</td><td>0.044552114</td><td>0.06823768</td><td>0.049269605</td><td>0</td><td>0</td><td>0</td><td>0</td><td>22.576773</td><td>20.773022</td><td>20.044693</td><td>19.688683</td><td>0.0337666</td><td>0.01094879</td><td>0.008359247</td><td>0.0077703386</td><td>0.03462111</td><td>0.029576972</td><td>0.16032122</td><td>0.08092354</td><td>22.078999</td><td>20.245512</td><td>19.5688</td><td>19.237463</td><td>0.053219285</td><td>0.016339865</td><td>0.014180633</td><td>0.012896417</td><td>0.11800713</td><td>0.014962468</td><td>0.01857968</td><td>0.034477778</td><td>0.009541504</td><td>0.012059526</td><td>0.010508118</td><td>0.011656367</td><td>0.0014292112</td><td>0.0004842203</td><td>0.0003494743</td><td>0.0003377252</td><td>0.0020278627</td><td>0.00028547246</td><td>0.0011060637</td><td>0.0014797407</td><td>0</td><td>0</td><td>0</td><td>0</td><td>511192</td><td>511191</td><td>929838</td><td>784330</td><td>22</td><td>22</td><td>26</td><td>21</td><td>0.637913</td><td>0.915799</td><td>0.656553</td><td>0.392711</td><td>125.0</td><td>61.0</td><td>85.0</td><td>186.0</td><td>2.0555217</td><td>2.7671692</td><td>2.5691214</td><td>2.8643506</td><td>1.7567459</td><td>2.279467</td><td>2.3845124</td><td>2.768849</td><td>8.4975395</td><td>-13.040067</td><td>0.31014267</td><td>-11.862517</td><td>0.020972397</td><td>0.06681806</td><td>0.04488093</td><td>0.032905694</td><td>0.025082989</td><td>3</td><td>3</td><td>3</td><td>3</td></tr>\n",
       "<tr><td>...</td><td>...</td><td>...</td><td>...</td><td>...</td><td>...</td><td>...</td><td>...</td><td>...</td><td>...</td><td>...</td><td>...</td><td>...</td><td>...</td><td>...</td><td>...</td><td>...</td><td>...</td><td>...</td><td>...</td><td>...</td><td>...</td><td>...</td><td>...</td><td>...</td><td>...</td><td>...</td><td>...</td><td>...</td><td>...</td><td>...</td><td>...</td><td>...</td><td>...</td><td>...</td><td>...</td><td>...</td><td>...</td><td>...</td><td>...</td><td>...</td><td>...</td><td>...</td><td>...</td><td>...</td><td>...</td><td>...</td><td>...</td><td>...</td><td>...</td><td>...</td><td>...</td><td>...</td><td>...</td><td>...</td><td>...</td><td>...</td><td>...</td><td>...</td><td>...</td><td>...</td><td>...</td><td>...</td><td>...</td><td>...</td><td>...</td><td>...</td><td>...</td><td>...</td><td>...</td><td>...</td><td>...</td><td>...</td><td>...</td><td>...</td><td>...</td><td>...</td><td>...</td><td>...</td><td>...</td><td>...</td><td>...</td><td>...</td><td>...</td><td>...</td><td>...</td><td>...</td><td>...</td><td>...</td><td>...</td><td>...</td><td>...</td><td>...</td><td>...</td><td>...</td><td>...</td><td>...</td><td>...</td><td>...</td><td>...</td><td>...</td><td>...</td><td>...</td><td>...</td><td>...</td><td>...</td><td>...</td><td>...</td><td>...</td><td>...</td><td>...</td><td>...</td><td>...</td><td>...</td><td>...</td><td>...</td><td>...</td><td>...</td><td>...</td><td>...</td><td>...</td><td>...</td><td>...</td><td>...</td><td>...</td><td>...</td><td>...</td><td>...</td><td>...</td><td>...</td><td>...</td><td>...</td><td>...</td><td>...</td><td>...</td><td>...</td><td>...</td><td>...</td><td>...</td><td>...</td><td>...</td><td>...</td><td>...</td><td>...</td><td>...</td><td>...</td><td>...</td><td>...</td><td>...</td><td>...</td><td>...</td><td>...</td><td>...</td><td>...</td><td>...</td><td>...</td><td>...</td><td>...</td><td>...</td><td>...</td><td>...</td><td>...</td><td>...</td><td>...</td><td>...</td><td>...</td><td>...</td><td>...</td></tr>\n",
       "<tr><td>121.7084131175308</td><td>9.001852749422607</td><td>5935</td><td>301</td><td>3</td><td>33</td><td>753</td><td>27</td><td>23393</td><td>7666</td><td>1.0 .. 1.0</td><td>4.300442 .. 72.56215</td><td>5.2618423 .. 104.47109</td><td>0.39430287 .. 37.95133</td><td>1.6525452 .. 121.330925</td><td>0.2977523 .. 23.520094</td><td>22.66849 .. 3.8077042</td><td>0.119593546 .. 0.034312095</td><td>1.3242682 .. 1.0830421</td><td>1.1052554</td><td>0.9306958 .. 22.866085</td><td>0.023199523</td><td>0.81359804 .. 3.6604373</td><td>2</td><td>0.3274826</td><td>0.22434212</td><td>1.0</td><td>1.0</td><td>1.0</td><td>1.0</td><td>1.0</td><td>0.00034574777</td><td>0.95988536</td><td>2419</td><td>109</td><td>54139</td><td>27</td><td>-1 .. -1</td><td>0</td><td>0</td><td>-1</td><td>-1</td><td>0.30114904</td><td>10509900068243</td><td>19.754982</td><td>0.8915784</td><td>1.0</td><td>1.0</td><td>0.285</td><td>0.3488934</td><td>0.22110659</td><td>0.285</td><td>121.70842543470124</td><td>9.001854169635095</td><td>22893225</td><td>5</td><td>6</td><td>2</td><td>3</td><td>21.058525</td><td>19.285582</td><td>18.843775</td><td>18.462196</td><td>0.013473257</td><td>0.0038278715</td><td>0.0044014007</td><td>0.0050125816</td><td>19.754982</td><td>18.291252</td><td>17.794561</td><td>17.460798</td><td>0.01925695</td><td>0.0055404548</td><td>0.0070441486</td><td>0.008186553</td><td>0.016805543</td><td>0.013603302</td><td>0.0139234075</td><td>0.015151881</td><td>0.00064589025</td><td>0.00016420727</td><td>0.00018955268</td><td>0.0002363344</td><td>0.025238933</td><td>0.028792702</td><td>0.028946714</td><td>0.029261092</td><td>2</td><td>0</td><td>0</td><td>0</td><td>20.86626</td><td>19.292507</td><td>18.870901</td><td>18.431845</td><td>0.006464922</td><td>0.0021476804</td><td>0.0032630356</td><td>0.0028105124</td><td>0.17838</td><td>0.07057403</td><td>0.042168427</td><td>0.10678308</td><td>19.679562</td><td>18.28176</td><td>17.796152</td><td>17.451275</td><td>0.009006574</td><td>0.0029767237</td><td>0.0053178007</td><td>0.0049917283</td><td>0.056461193</td><td>0.019628184</td><td>0.002563877</td><td>0.021116316</td><td>0.0170024</td><td>0.014387065</td><td>0.014040139</td><td>0.014546208</td><td>0.00031284735</td><td>0.00010609312</td><td>0.00014194433</td><td>0.00013180234</td><td>0.0012788079</td><td>0.0012210303</td><td>0.00018514255</td><td>0.00096368557</td><td>2</td><td>0</td><td>0</td><td>0</td><td>511192</td><td>185508</td><td>929862</td><td>781514</td><td>57</td><td>27</td><td>27</td><td>7</td><td>0.637913</td><td>0.51179</td><td>0.838819</td><td>0.994152</td><td>125.0</td><td>150.0</td><td>86.0</td><td>80.0</td><td>5.550925</td><td>6.2068615</td><td>5.619769</td><td>5.422676</td><td>3.9878023</td><td>5.1039066</td><td>4.522472</td><td>4.381768</td><td>81.55956</td><td>82.40054</td><td>82.146866</td><td>85.59153</td><td>0.022969594</td><td>0.07318112</td><td>0.04915493</td><td>0.036039293</td><td>0.027471634</td><td>3</td><td>3</td><td>3</td><td>3</td></tr>\n",
       "<tr><td>121.75870465098195</td><td>9.068740781637475</td><td>5935</td><td>301</td><td>3</td><td>34</td><td>366</td><td>27</td><td>23393</td><td>7666</td><td>1.0 .. 1.0</td><td>2.142548 .. 114.112816</td><td>2.3797853 .. 162.5115</td><td>1.463721 .. 54.76185</td><td>3.2786016 .. 175.0866</td><td>0.7017625 .. 35.610596</td><td>3.495945 .. 4.5286074</td><td>0.11847257 .. 0.03399048</td><td>1.3531673 .. 1.1040103</td><td>1.104846</td><td>0.93434125 .. 22.86565</td><td>0.022982068</td><td>0.83282644 .. 3.7311857</td><td>2</td><td>0.23070483</td><td>0.19505946</td><td>1.0</td><td>1.0</td><td>1.0</td><td>1.0</td><td>1.0</td><td>0.00041266417</td><td>0.95988536</td><td>2419</td><td>114</td><td>54139</td><td>27</td><td>-1 .. -1</td><td>0</td><td>0</td><td>-1</td><td>-1</td><td>63.60913</td><td>10509900094566</td><td>19.082897</td><td>1.0</td><td>2.0</td><td>2.0</td><td>0.425</td><td>0.49585456</td><td>0.35414544</td><td>0.425</td><td>121.75873931399077</td><td>9.068729575476738</td><td>22893242</td><td>4</td><td>5</td><td>3</td><td>2</td><td>20.23819</td><td>18.729206</td><td>18.472458</td><td>18.275202</td><td>0.0075119557</td><td>0.0026796802</td><td>0.0034266522</td><td>0.004392208</td><td>19.082897</td><td>17.59641</td><td>17.225555</td><td>16.981924</td><td>0.010675</td><td>0.0042253495</td><td>0.0055466257</td><td>0.008075961</td><td>0.022500573</td><td>0.017045652</td><td>0.021181334</td><td>0.025360156</td><td>0.00038647253</td><td>0.00012002857</td><td>0.00015869224</td><td>0.00022468083</td><td>0.028938813</td><td>0.028733816</td><td>0.030041587</td><td>0.031320658</td><td>0</td><td>2</td><td>2</td><td>0</td><td>20.050123</td><td>18.764513</td><td>18.358215</td><td>18.171267</td><td>0.0038898117</td><td>0.0016363929</td><td>0.00196565</td><td>0.0032270367</td><td>0.19998856</td><td>0.09508181</td><td>0.2356426</td><td>0.15869065</td><td>19.02799</td><td>17.62584</td><td>17.194284</td><td>16.974918</td><td>0.0057182442</td><td>0.0023224936</td><td>0.0032662312</td><td>0.0058463085</td><td>0.046268858</td><td>0.04137542</td><td>0.060775537</td><td>0.010384983</td><td>0.017965704</td><td>0.0187709</td><td>0.019782696</td><td>0.02236147</td><td>0.00019175644</td><td>8.719777e-05</td><td>9.33042e-05</td><td>0.00015721726</td><td>0.004167836</td><td>0.0036548725</td><td>0.0039023655</td><td>0.0041528316</td><td>0</td><td>2</td><td>2</td><td>0</td><td>511192</td><td>185508</td><td>929862</td><td>807104</td><td>57</td><td>27</td><td>27</td><td>57</td><td>0.637913</td><td>0.51179</td><td>0.838819</td><td>0.458403</td><td>125.0</td><td>150.0</td><td>86.0</td><td>120.0</td><td>5.572117</td><td>9.818918</td><td>7.5269284</td><td>6.1481433</td><td>3.9196348</td><td>6.1190047</td><td>4.913065</td><td>4.1097503</td><td>54.174255</td><td>60.285706</td><td>65.68431</td><td>65.07848</td><td>0.022932889</td><td>0.073064186</td><td>0.049076382</td><td>0.035981704</td><td>0.027427735</td><td>3</td><td>3</td><td>3</td><td>3</td></tr>\n",
       "<tr><td>122.07965518417612</td><td>9.0382145470594</td><td>5935</td><td>301</td><td>3</td><td>36</td><td>450</td><td>27</td><td>23393</td><td>7666</td><td>1.0 .. 1.0</td><td>19.276337 .. 413.3631</td><td>32.659565 .. 602.2473</td><td>5.906221 .. 135.24431</td><td>26.583431 .. 662.1964</td><td>3.6468818 .. 92.37715</td><td>11.347891 .. 6.4327703</td><td>0.1300149 .. 0.037302043</td><td>1.3092022 .. 1.0638179</td><td>1.1040322</td><td>0.93781793 .. 22.76126</td><td>0.025221124</td><td>0.8069705 .. 3.586972</td><td>2</td><td>0.09162057</td><td>0.072019316</td><td>1.0</td><td>1.0</td><td>1.0</td><td>1.0</td><td>1.0</td><td>0.0012885163</td><td>0.95988536</td><td>2419</td><td>32</td><td>54139</td><td>27</td><td>-1 .. -1</td><td>0</td><td>0</td><td>-1</td><td>-1</td><td>4.5364404</td><td>10509900017094</td><td>17.173227</td><td>1.0</td><td>3.0</td><td>2.0</td><td>0.385</td><td>0.45386568</td><td>0.31613433</td><td>2.535</td><td>122.07967569457665</td><td>9.038205298723312</td><td>22893167</td><td>4</td><td>4</td><td>3</td><td>3</td><td>18.579576</td><td>17.575916</td><td>17.37886</td><td>17.177654</td><td>0.002939818</td><td>0.0013576343</td><td>0.001750321</td><td>0.0020540713</td><td>17.173227</td><td>16.212978</td><td>15.887588</td><td>15.620129</td><td>0.0029643083</td><td>0.0014833941</td><td>0.0020835327</td><td>0.0032657841</td><td>0.018036984</td><td>0.01608325</td><td>0.017428543</td><td>0.020064576</td><td>0.00015901343</td><td>6.426491e-05</td><td>8.401455e-05</td><td>0.00010990069</td><td>0.02863257</td><td>0.028633932</td><td>0.02863338</td><td>0.02863062</td><td>2</td><td>2</td><td>2</td><td>2</td><td>18.587198</td><td>17.600636</td><td>17.230042</td><td>17.009546</td><td>0.0014214328</td><td>0.0009599782</td><td>0.0009807504</td><td>0.0011786091</td><td>0.24830863</td><td>0.062070306</td><td>0.23514964</td><td>0.14735228</td><td>17.1688</td><td>16.221508</td><td>15.865721</td><td>15.611267</td><td>0.001704219</td><td>0.00093814085</td><td>0.0012214277</td><td>0.0017671107</td><td>0.041596815</td><td>0.02164152</td><td>0.021774448</td><td>0.007967407</td><td>0.018009843</td><td>0.016308561</td><td>0.016797516</td><td>0.01797782</td><td>8.378708e-05</td><td>5.159714e-05</td><td>4.6980924e-05</td><td>5.8688318e-05</td><td>0.00070342043</td><td>0.0014326446</td><td>0.00080442335</td><td>0.0017817111</td><td>2</td><td>2</td><td>2</td><td>2</td><td>511192</td><td>185508</td><td>929862</td><td>807104</td><td>58</td><td>28</td><td>28</td><td>58</td><td>0.637913</td><td>0.51179</td><td>0.838819</td><td>0.458403</td><td>125.0</td><td>150.0</td><td>86.0</td><td>120.0</td><td>9.517933</td><td>11.609186</td><td>9.934108</td><td>8.642146</td><td>8.354217</td><td>9.850795</td><td>8.51014</td><td>7.6152015</td><td>13.745715</td><td>11.894806</td><td>12.387958</td><td>14.628018</td><td>0.022780905</td><td>0.07257996</td><td>0.048751134</td><td>0.03574324</td><td>0.027245961</td><td>3</td><td>3</td><td>3</td><td>3</td></tr>\n",
       "<tr><td>122.13098729326825</td><td>8.639061593065634</td><td>5972</td><td>301</td><td>5</td><td>44</td><td>201</td><td>27</td><td>24524</td><td>7666</td><td>0.88236487 .. 0.99977165</td><td>1.5601484 .. 138.95941</td><td>1.5851773 .. 180.50197</td><td>1.1644975 .. 65.942696</td><td>2.5444255 .. 198.80318</td><td>0.7442872 .. 42.618507</td><td>1.8211851 .. 3.388743</td><td>0.0980917 .. 0.028143087</td><td>1.4102343 .. 1.1481619</td><td>1.1040238</td><td>0.6396449 .. 14.103014</td><td>0.019028457</td><td>0.71886384 .. 3.0481122</td><td>2</td><td>0.1985858</td><td>0.18844752</td><td>1.0</td><td>1.0</td><td>1.0</td><td>1.0</td><td>1.0</td><td>0.0004306517</td><td>0.95988536</td><td>2570</td><td>409</td><td>54081</td><td>27</td><td>-1 .. -1</td><td>0</td><td>0</td><td>-1</td><td>-1</td><td>0.65721697</td><td>10509900025180</td><td>18.584484</td><td>1.0</td><td>2.0</td><td>2.0</td><td>0.375</td><td>0.44336843</td><td>0.30663157</td><td>0.375</td><td>122.13102309772026</td><td>8.639048041528454</td><td>22892683</td><td>4</td><td>4</td><td>2</td><td>2</td><td>19.808784</td><td>18.563087</td><td>18.29672</td><td>17.916378</td><td>0.005742683</td><td>0.002320071</td><td>0.0029651553</td><td>0.0032600253</td><td>18.584484</td><td>17.346346</td><td>16.908401</td><td>16.619717</td><td>0.008107279</td><td>0.0030565055</td><td>0.0044012107</td><td>0.0050721923</td><td>0.01547553</td><td>0.016712014</td><td>0.017864248</td><td>0.017405786</td><td>0.00025826966</td><td>0.00011265193</td><td>0.00014638058</td><td>0.00015763438</td><td>0.02872584</td><td>0.028680658</td><td>0.028668134</td><td>0.028642202</td><td>2</td><td>3</td><td>3</td><td>3</td><td>19.66408</td><td>18.518576</td><td>18.297644</td><td>17.897034</td><td>0.0030376154</td><td>0.0015678741</td><td>0.002145409</td><td>0.002308935</td><td>0.10304451</td><td>0.07654413</td><td>0.0013662323</td><td>0.027446028</td><td>18.500402</td><td>17.292978</td><td>16.90697</td><td>16.609875</td><td>0.0043053403</td><td>0.0020907514</td><td>0.0032920144</td><td>0.0035818992</td><td>0.060644</td><td>0.068936236</td><td>0.0022658145</td><td>0.01388216</td><td>0.014660842</td><td>0.017042683</td><td>0.017257756</td><td>0.017209835</td><td>0.00014246818</td><td>8.036821e-05</td><td>0.0001009942</td><td>0.00011047341</td><td>0.0012603778</td><td>0.00044103435</td><td>0.0008165754</td><td>0.00027220938</td><td>2</td><td>3</td><td>3</td><td>3</td><td>724487</td><td>185508</td><td>929862</td><td>781515</td><td>25</td><td>42</td><td>42</td><td>25</td><td>0.722336</td><td>0.51179</td><td>0.838819</td><td>1.06388</td><td>158.0</td><td>150.0</td><td>86.0</td><td>80.0</td><td>6.4628077</td><td>8.3674135</td><td>7.2689033</td><td>6.6929092</td><td>5.7923074</td><td>7.049163</td><td>6.2771244</td><td>5.841243</td><td>80.643196</td><td>82.26968</td><td>84.728516</td><td>85.08589</td><td>0.01897719</td><td>0.060461327</td><td>0.040611185</td><td>0.02977521</td><td>0.022696719</td><td>3</td><td>3</td><td>3</td><td>3</td></tr>\n",
       "<tr><td>122.11238217245241</td><td>8.628202331355913</td><td>5972</td><td>301</td><td>5</td><td>44</td><td>685</td><td>27</td><td>24524</td><td>7666</td><td>1.0 .. 1.0</td><td>0.3223365 .. 85.281044</td><td>0.33034262 .. 124.8451</td><td>0.27181482 .. 29.20287</td><td>0.7321539 .. 156.25488</td><td>0.26288092 .. 19.693808</td><td>1.0861399 .. 7.4827876</td><td>0.09812474 .. 0.028152566</td><td>1.4102343 .. 1.1481619</td><td>1.1040238</td><td>0.6396449 .. 14.103014</td><td>0.019034866</td><td>0.71886384 .. 3.0481122</td><td>2</td><td>0.2632575</td><td>0.23504505</td><td>1.0</td><td>1.0</td><td>1.0</td><td>1.0</td><td>1.0</td><td>0.00032545038</td><td>0.95988536</td><td>2570</td><td>419</td><td>54081</td><td>27</td><td>-1 .. -1</td><td>0</td><td>0</td><td>-1</td><td>-1</td><td>55.090023</td><td>10509900186248</td><td>19.253946</td><td>1.0</td><td>3.0</td><td>2.0</td><td>0.615</td><td>0.69530183</td><td>0.5346982</td><td>3.315</td><td>122.11238750963408</td><td>8.628197196894035</td><td>22892683</td><td>6</td><td>5</td><td>3</td><td>2</td><td>20.954493</td><td>19.48997</td><td>19.216824</td><td>18.80221</td><td>0.012786341</td><td>0.0041844114</td><td>0.0054299333</td><td>0.0062563578</td><td>19.253946</td><td>18.19537</td><td>17.677849</td><td>17.244623</td><td>0.015623077</td><td>0.004312728</td><td>0.006542258</td><td>0.008438733</td><td>0.016849322</td><td>0.017998904</td><td>0.018436672</td><td>0.017722474</td><td>0.00056181505</td><td>0.00019588172</td><td>0.00026073598</td><td>0.00029009694</td><td>0.024042798</td><td>0.028614797</td><td>0.028578572</td><td>0.028261805</td><td>3</td><td>3</td><td>3</td><td>3</td><td>20.800571</td><td>19.45083</td><td>19.034836</td><td>18.732187</td><td>0.0060661575</td><td>0.0027200123</td><td>0.0030663682</td><td>0.0044658957</td><td>0.112379536</td><td>0.07814025</td><td>0.26280826</td><td>0.100916415</td><td>19.269787</td><td>18.110754</td><td>17.60693</td><td>17.225855</td><td>0.0071647726</td><td>0.0031206885</td><td>0.0039147064</td><td>0.006124638</td><td>0.064633965</td><td>0.08306859</td><td>0.06261134</td><td>0.02796258</td><td>0.018259387</td><td>0.018569103</td><td>0.01826032</td><td>0.018256364</td><td>0.0002815627</td><td>0.00013624234</td><td>0.000142607</td><td>0.00021269427</td><td>0.0017775602</td><td>0.0008929468</td><td>0.0008382362</td><td>0.00081175094</td><td>3</td><td>3</td><td>3</td><td>3</td><td>724487</td><td>185509</td><td>929862</td><td>781514</td><td>25</td><td>42</td><td>42</td><td>18</td><td>0.722336</td><td>0.511152</td><td>0.838819</td><td>0.994152</td><td>158.0</td><td>150.0</td><td>86.0</td><td>80.0</td><td>5.597585</td><td>6.580161</td><td>6.0648694</td><td>6.003508</td><td>5.223642</td><td>4.898054</td><td>5.0703077</td><td>5.3805633</td><td>-13.760228</td><td>-29.525005</td><td>-29.780632</td><td>-22.48475</td><td>0.01884952</td><td>0.06005457</td><td>0.040337972</td><td>0.029574897</td><td>0.022544026</td><td>3</td><td>3</td><td>3</td><td>3</td></tr>\n",
       "<tr><td>122.2314182657585</td><td>8.56054292586437</td><td>6004</td><td>301</td><td>4</td><td>42</td><td>596</td><td>27</td><td>24524</td><td>7666</td><td>0.83347726 .. 1.0</td><td>5.5843873 .. 144.8632</td><td>6.368093 .. 198.32838</td><td>1.9991544 .. 63.89293</td><td>5.0551777 .. 207.60278</td><td>0.7643485 .. 36.633106</td><td>11.618857 .. 5.155573</td><td>0.100094214 .. 0.02871762</td><td>1.6465118 .. 1.2202199</td><td>1.1196494</td><td>0.8142719 .. 13.116922</td><td>0.019416917</td><td>0.9540571 .. 3.1270394</td><td>2</td><td>0.19704504</td><td>0.1872874</td><td>1.0</td><td>1.0</td><td>1.0</td><td>1.0</td><td>1.0</td><td>0.00043393875</td><td>0.95988536</td><td>2570</td><td>457</td><td>54081</td><td>27</td><td>-1 .. -1</td><td>0</td><td>0</td><td>-1</td><td>-1</td><td>3.2364144</td><td>10509900145140</td><td>18.78889</td><td>0.998187</td><td>2.0</td><td>2.0</td><td>0.365</td><td>0.43287122</td><td>0.2971288</td><td>0.365</td><td>122.23143121023854</td><td>8.560541739146416</td><td>22892590</td><td>3</td><td>10</td><td>2</td><td>2</td><td>19.89795</td><td>18.6507</td><td>18.378132</td><td>17.993618</td><td>0.0060093356</td><td>0.0037665283</td><td>0.0031683594</td><td>0.0034374213</td><td>18.78889</td><td>17.569603</td><td>17.171413</td><td>16.868532</td><td>0.008315219</td><td>0.0047695762</td><td>0.004528579</td><td>0.005284063</td><td>0.014924293</td><td>0.015685948</td><td>0.016293146</td><td>0.015851181</td><td>0.0002717468</td><td>0.00018232982</td><td>0.00015078999</td><td>0.00016605541</td><td>0.028724471</td><td>0.028693581</td><td>0.02863945</td><td>0.028839082</td><td>0</td><td>0</td><td>0</td><td>0</td><td>19.80656</td><td>18.611984</td><td>18.174957</td><td>17.922594</td><td>0.0042045717</td><td>0.0015527352</td><td>0.0020646506</td><td>0.0024669208</td><td>0.12881456</td><td>0.042693943</td><td>0.24402823</td><td>0.10346545</td><td>18.77597</td><td>17.583015</td><td>17.146387</td><td>16.861034</td><td>0.0057894937</td><td>0.0020585489</td><td>0.0029929988</td><td>0.0038633107</td><td>0.027943429</td><td>0.01484202</td><td>0.030920276</td><td>0.011335816</td><td>0.015825765</td><td>0.015421925</td><td>0.015604729</td><td>0.015506091</td><td>0.00020059307</td><td>7.524713e-05</td><td>9.871808e-05</td><td>0.000117131654</td><td>0.0012919063</td><td>0.0004129099</td><td>0.0008345359</td><td>0.00048564628</td><td>0</td><td>0</td><td>0</td><td>0</td><td>724487</td><td>724488</td><td>929862</td><td>781515</td><td>32</td><td>32</td><td>48</td><td>32</td><td>0.722336</td><td>0.729557</td><td>0.838819</td><td>1.06388</td><td>158.0</td><td>81.0</td><td>86.0</td><td>80.0</td><td>6.113435</td><td>6.7623563</td><td>6.2438145</td><td>6.2951484</td><td>4.799285</td><td>5.3531055</td><td>5.0486226</td><td>4.7004886</td><td>76.4789</td><td>83.126335</td><td>78.96679</td><td>80.349304</td><td>0.019476347</td><td>0.06205164</td><td>0.041679382</td><td>0.030558387</td><td>0.02329371</td><td>3</td><td>3</td><td>3</td><td>3</td></tr>\n",
       "<tr><td>122.34238587626945</td><td>8.465658347644238</td><td>6004</td><td>301</td><td>4</td><td>42</td><td>723</td><td>27</td><td>24524</td><td>7666</td><td>1.0 .. 0.9626121</td><td>44.69155 .. 141.90897</td><td>29.356094 .. 178.5855</td><td>1.0994035 .. 75.90922</td><td>2.5126407 .. 192.43329</td><td>0.64397424 .. 45.159573</td><td>74.93683 .. 2.8007195</td><td>0.10147145 .. 0.029112756</td><td>1.6465118 .. 1.2202199</td><td>1.1196494</td><td>0.8142719 .. 13.116922</td><td>0.019684082</td><td>0.9540571 .. 3.1270394</td><td>2</td><td>0.19943056</td><td>0.18892647</td><td>1.0</td><td>1.0</td><td>1.0</td><td>1.0</td><td>1.0</td><td>0.00042930644</td><td>0.95988536</td><td>2570</td><td>547</td><td>54081</td><td>27</td><td>-1 .. -1</td><td>0</td><td>0</td><td>-1</td><td>-1</td><td>1.1167084</td><td>10509900029734</td><td>18.82084</td><td>1.0</td><td>2.0</td><td>2.0</td><td>0.365</td><td>0.43287122</td><td>0.2971288</td><td>0.365</td><td>122.34240318270382</td><td>8.465658899852798</td><td>22892556</td><td>6</td><td>12</td><td>3</td><td>2</td><td>19.758884</td><td>18.459736</td><td>18.182526</td><td>17.82299</td><td>0.0055225305</td><td>0.0023103408</td><td>0.0027754062</td><td>0.0030606245</td><td>18.82084</td><td>17.593063</td><td>17.171972</td><td>16.87323</td><td>0.0076399073</td><td>0.0030237066</td><td>0.0038559092</td><td>0.004670317</td><td>0.015466668</td><td>0.015056411</td><td>0.01797021</td><td>0.017091788</td><td>0.00024942996</td><td>0.00010684886</td><td>0.00013869513</td><td>0.00014866474</td><td>0.028714806</td><td>0.028779777</td><td>0.028681556</td><td>0.028743945</td><td>3</td><td>3</td><td>3</td><td>3</td><td>19.609894</td><td>18.444874</td><td>18.035013</td><td>17.73671</td><td>0.0025505559</td><td>0.0011966394</td><td>0.0015500631</td><td>0.0021897438</td><td>0.10047818</td><td>0.041448735</td><td>0.21642765</td><td>0.124917865</td><td>18.806488</td><td>17.601006</td><td>17.147161</td><td>16.865088</td><td>0.0036281403</td><td>0.0015938093</td><td>0.0022675227</td><td>0.0034142074</td><td>0.025533078</td><td>0.01750086</td><td>0.04180011</td><td>0.012308229</td><td>0.014325626</td><td>0.015668321</td><td>0.015671343</td><td>0.016162122</td><td>0.00011588729</td><td>5.8459984e-05</td><td>7.32117e-05</td><td>0.000104249244</td><td>0.0011759382</td><td>0.0009326947</td><td>0.0021566658</td><td>0.00129301</td><td>3</td><td>3</td><td>3</td><td>3</td><td>724487</td><td>185509</td><td>929862</td><td>781515</td><td>33</td><td>48</td><td>49</td><td>33</td><td>0.722336</td><td>0.511152</td><td>0.838819</td><td>1.06388</td><td>158.0</td><td>150.0</td><td>86.0</td><td>80.0</td><td>5.1794767</td><td>6.2882986</td><td>5.455415</td><td>5.238262</td><td>4.762541</td><td>5.4966407</td><td>5.018417</td><td>4.6424403</td><td>-8.712849</td><td>19.008184</td><td>10.268085</td><td>-0.26778644</td><td>0.019933254</td><td>0.06350735</td><td>0.042657163</td><td>0.031275276</td><td>0.02384017</td><td>3</td><td>3</td><td>3</td><td>3</td></tr>\n",
       "<tr><td>121.85946135972108</td><td>8.871868958954558</td><td>6004</td><td>301</td><td>5</td><td>40</td><td>564</td><td>27</td><td>24531</td><td>7666</td><td>1.0 .. 1.0</td><td>12.386123 .. 240.67209</td><td>20.25916 .. 362.9157</td><td>2.1851435 .. 82.55926</td><td>11.586806 .. 400.3599</td><td>1.2710433 .. 46.166706</td><td>21.917824 .. 8.730664</td><td>0.12066513 .. 0.034619536</td><td>1.345437 .. 1.3858273</td><td>1.1171514</td><td>0.84255993 .. 12.505425</td><td>0.023407396</td><td>0.792137 .. 3.4671924</td><td>2</td><td>0.14500313</td><td>0.13332142</td><td>1.0</td><td>1.0</td><td>1.0</td><td>1.0</td><td>1.0</td><td>0.00065006706</td><td>0.95988536</td><td>2419</td><td>13</td><td>54139</td><td>27</td><td>-1 .. -1</td><td>0</td><td>0</td><td>-1</td><td>-1</td><td>21.119959</td><td>10509900111879</td><td>17.83852</td><td>1.0</td><td>2.0</td><td>2.0</td><td>0.305</td><td>0.36988786</td><td>0.24011214</td><td>0.305</td><td>121.85948991356491</td><td>8.871866688143953</td><td>22893099</td><td>2</td><td>4</td><td>3</td><td>3</td><td>19.573437</td><td>18.41996</td><td>18.222149</td><td>17.870281</td><td>0.0052527376</td><td>0.0021593776</td><td>0.0028590236</td><td>0.0031953906</td><td>17.83852</td><td>16.724537</td><td>16.379147</td><td>16.069756</td><td>0.006528546</td><td>0.0028548623</td><td>0.0041983626</td><td>0.0049821897</td><td>0.022259675</td><td>0.018898929</td><td>0.020660484</td><td>0.021094333</td><td>0.00028686275</td><td>0.00010247631</td><td>0.00013791422</td><td>0.0001604332</td><td>0.02856443</td><td>0.028633788</td><td>0.028638218</td><td>0.028623816</td><td>0</td><td>3</td><td>2</td><td>2</td><td>19.430775</td><td>18.406683</td><td>18.050276</td><td>17.757656</td><td>0.003906532</td><td>0.0014616186</td><td>0.0015988206</td><td>0.0018159339</td><td>0.22318543</td><td>0.1036609</td><td>0.28033307</td><td>0.09304141</td><td>17.796484</td><td>16.72634</td><td>16.34688</td><td>16.078278</td><td>0.004969216</td><td>0.0018349553</td><td>0.00240705</td><td>0.0030030666</td><td>0.06888346</td><td>0.014650124</td><td>0.044287242</td><td>0.029965047</td><td>0.021666367</td><td>0.019373791</td><td>0.019589156</td><td>0.020088373</td><td>0.00021431048</td><td>7.997153e-05</td><td>7.68535e-05</td><td>8.684431e-05</td><td>0.00093662285</td><td>0.0016804766</td><td>0.0018025134</td><td>0.00090442307</td><td>2</td><td>3</td><td>2</td><td>2</td><td>510192</td><td>185508</td><td>929862</td><td>781514</td><td>62</td><td>34</td><td>35</td><td>12</td><td>0.670976</td><td>0.51179</td><td>0.838819</td><td>0.994152</td><td>105.0</td><td>150.0</td><td>86.0</td><td>80.0</td><td>10.544935</td><td>13.998818</td><td>12.217269</td><td>11.442691</td><td>7.442717</td><td>10.018346</td><td>8.46881</td><td>8.294334</td><td>-13.120739</td><td>-21.988956</td><td>-24.522594</td><td>-22.49496</td><td>0.023302596</td><td>0.07424207</td><td>0.049867555</td><td>0.036561772</td><td>0.027869904</td><td>3</td><td>3</td><td>3</td><td>3</td></tr>\n",
       "<tr><td>121.63192704409497</td><td>9.156075518850686</td><td>6004</td><td>301</td><td>6</td><td>39</td><td>564</td><td>27</td><td>23393</td><td>7666</td><td>0.51938826 .. 1.0</td><td>2.9967017 .. 154.68985</td><td>3.3742323 .. 211.36357</td><td>1.466679 .. 75.37085</td><td>4.0951376 .. 235.3342</td><td>0.9046339 .. 38.73192</td><td>6.683441 .. 5.0249667</td><td>0.10623441 .. 0.030479278</td><td>1.5375212 .. 1.5259303</td><td>1.1143693</td><td>0.8604665 .. 12.623233</td><td>0.020608032</td><td>0.9136515 .. 3.8350677</td><td>2</td><td>0.17782131</td><td>0.1640794</td><td>1.0</td><td>1.0</td><td>1.0</td><td>1.0</td><td>1.0</td><td>0.00050946104</td><td>0.95988536</td><td>2419</td><td>108</td><td>54139</td><td>27</td><td>-1 .. -1</td><td>0</td><td>0</td><td>-1</td><td>-1</td><td>157.89429</td><td>10509900182906</td><td>18.352058</td><td>1.0</td><td>2.0</td><td>2.0</td><td>0.325</td><td>0.3908823</td><td>0.2591177</td><td>0.325</td><td>121.63195447367134</td><td>9.156058995223916</td><td>22894640</td><td>2</td><td>3</td><td>2</td><td>3</td><td>19.852018</td><td>18.56969</td><td>18.316</td><td>17.934984</td><td>0.0056929584</td><td>0.0024202745</td><td>0.0032111316</td><td>0.0034998774</td><td>18.352058</td><td>17.139084</td><td>16.90973</td><td>16.500412</td><td>0.007969769</td><td>0.0034758952</td><td>0.004457218</td><td>0.0056403205</td><td>0.017770665</td><td>0.016592562</td><td>0.017006643</td><td>0.018302739</td><td>0.00027793515</td><td>0.000115922114</td><td>0.00014553498</td><td>0.00017279244</td><td>0.028590558</td><td>0.028669512</td><td>0.028634002</td><td>0.028641853</td><td>2</td><td>3</td><td>3</td><td>3</td><td>19.73846</td><td>18.54253</td><td>18.342297</td><td>17.891193</td><td>0.004623073</td><td>0.0017373138</td><td>0.0023487785</td><td>0.0019102305</td><td>0.21180916</td><td>0.07815166</td><td>0.039794717</td><td>0.13867635</td><td>18.306446</td><td>17.173546</td><td>16.897118</td><td>16.527239</td><td>0.006424596</td><td>0.0023622618</td><td>0.0035260557</td><td>0.003316436</td><td>0.08383514</td><td>0.06047625</td><td>0.022327714</td><td>0.026409201</td><td>0.01785808</td><td>0.016533839</td><td>0.017521346</td><td>0.017733619</td><td>0.00024391216</td><td>9.05036e-05</td><td>0.000109311186</td><td>9.3993265e-05</td><td>0.00019042342</td><td>0.00095084234</td><td>0.0008212893</td><td>0.0016278272</td><td>2</td><td>3</td><td>3</td><td>3</td><td>511192</td><td>185508</td><td>929861</td><td>781514</td><td>53</td><td>20</td><td>50</td><td>3</td><td>0.637913</td><td>0.51179</td><td>0.794503</td><td>0.994152</td><td>125.0</td><td>150.0</td><td>85.0</td><td>80.0</td><td>8.280823</td><td>10.901392</td><td>8.555836</td><td>8.534449</td><td>6.135414</td><td>8.094922</td><td>6.4497476</td><td>6.155286</td><td>12.84642</td><td>17.20686</td><td>26.82815</td><td>23.015755</td><td>0.021126715</td><td>0.067309715</td><td>0.04521117</td><td>0.033147816</td><td>0.02526755</td><td>3</td><td>3</td><td>3</td><td>3</td></tr>\n",
       "<tr><td>121.92185004661356</td><td>9.265419735142942</td><td>6004</td><td>301</td><td>6</td><td>41</td><td>619</td><td>27</td><td>23393</td><td>7666</td><td>1.0 .. 0.91025394</td><td>0.5317356 .. 53.289135</td><td>0.4680817 .. 67.59793</td><td>0.47086787 .. 28.038307</td><td>0.84291714 .. 71.24577</td><td>0.36159506 .. 15.400884</td><td>0.47814432 .. 3.786103</td><td>0.10933024 .. 0.031367492</td><td>1.7553037 .. 1.4766113</td><td>1.1136968</td><td>0.8628637 .. 12.793589</td><td>0.02120858</td><td>1.0442 .. 3.735934</td><td>2</td><td>0.33952555</td><td>0.21108098</td><td>1.0</td><td>1.0</td><td>1.0</td><td>1.0</td><td>1.0</td><td>0.00037375186</td><td>0.95988536</td><td>2419</td><td>74</td><td>54139</td><td>27</td><td>-1 .. -1</td><td>0</td><td>0</td><td>-1</td><td>-1</td><td>4.8673096</td><td>10509900153083</td><td>20.382023</td><td>1.0</td><td>1.0</td><td>1.0</td><td>0.355</td><td>0.42237398</td><td>0.287626</td><td>0.355</td><td>121.92186571172913</td><td>9.265407983882767</td><td>22894673</td><td>2</td><td>3</td><td>1</td><td>3</td><td>21.711475</td><td>19.8587</td><td>19.082556</td><td>18.84695</td><td>0.021110699</td><td>0.005571625</td><td>0.005470987</td><td>0.005678939</td><td>20.382023</td><td>18.809223</td><td>18.205036</td><td>17.903896</td><td>0.027321579</td><td>0.00758051</td><td>0.007819715</td><td>0.009035151</td><td>0.021753402</td><td>0.016305966</td><td>0.016524216</td><td>0.016673984</td><td>0.0010457572</td><td>0.00024952705</td><td>0.00025384178</td><td>0.00026170502</td><td>0.016782474</td><td>0.02864623</td><td>0.028589306</td><td>0.028585369</td><td>3</td><td>3</td><td>3</td><td>3</td><td>21.705433</td><td>19.916275</td><td>19.082556</td><td>18.924953</td><td>0.015640693</td><td>0.0044722892</td><td>0.005470987</td><td>0.0046456633</td><td>0.009381551</td><td>0.08466059</td><td>0.005470987</td><td>0.1394217</td><td>20.35337</td><td>18.80732</td><td>18.205036</td><td>17.927158</td><td>0.020302897</td><td>0.005757118</td><td>0.007819715</td><td>0.0073331064</td><td>0.044752534</td><td>0.019866563</td><td>0.007819715</td><td>0.03473787</td><td>0.020878911</td><td>0.017114157</td><td>0.016524216</td><td>0.017014164</td><td>0.0007776501</td><td>0.00022572464</td><td>0.00025384178</td><td>0.00021610653</td><td>0.0013677508</td><td>0.001486832</td><td>0.00025384178</td><td>0.0009005689</td><td>3</td><td>3</td><td>3</td><td>3</td><td>511192</td><td>185508</td><td>816296</td><td>784330</td><td>53</td><td>21</td><td>54</td><td>47</td><td>0.637913</td><td>0.51179</td><td>0.450031</td><td>0.392711</td><td>125.0</td><td>150.0</td><td>120.0</td><td>186.0</td><td>4.266644</td><td>5.4362893</td><td>5.602642</td><td>5.010118</td><td>3.1856172</td><td>4.110499</td><td>4.0742893</td><td>3.8737888</td><td>18.44668</td><td>20.229174</td><td>24.512152</td><td>19.890093</td><td>0.021123663</td><td>0.06729999</td><td>0.04520464</td><td>0.03314303</td><td>0.025263902</td><td>3</td><td>3</td><td>3</td><td>3</td></tr>\n",
       "</table>"
      ],
      "text/plain": [
       "<Table length=205>\n",
       "       RA_1              DEC_1        ... EXTENDED_CLASS_I EXTENDED_CLASS_Z\n",
       "     float64            float64       ...      int64            int64      \n",
       "------------------ ------------------ ... ---------------- ----------------\n",
       " 122.2298841904572   9.82609204782013 ...                3                3\n",
       " 122.2739743618113   9.79016759192159 ...                3                3\n",
       "122.69960980046855  9.961016779281822 ...                3                3\n",
       "122.83523060978735  9.910653187848244 ...                3                3\n",
       "122.92797534121252  9.900365668770773 ...                3                3\n",
       "122.98295819647083 10.093918112003946 ...                3                3\n",
       "123.02572295038274 10.007167259582769 ...                3                3\n",
       "123.20093041370272 10.025735870339496 ...                3                3\n",
       "121.47023625902126 10.005317248908629 ...                3                3\n",
       "121.95583026504929 10.038462233197437 ...                3                3\n",
       "               ...                ... ...              ...              ...\n",
       " 121.7084131175308  9.001852749422607 ...                3                3\n",
       "121.75870465098195  9.068740781637475 ...                3                3\n",
       "122.07965518417612    9.0382145470594 ...                3                3\n",
       "122.13098729326825  8.639061593065634 ...                3                3\n",
       "122.11238217245241  8.628202331355913 ...                3                3\n",
       " 122.2314182657585   8.56054292586437 ...                3                3\n",
       "122.34238587626945  8.465658347644238 ...                3                3\n",
       "121.85946135972108  8.871868958954558 ...                3                3\n",
       "121.63192704409497  9.156075518850686 ...                3                3\n",
       "121.92185004661356  9.265419735142942 ...                3                3"
      ]
     },
     "execution_count": 14,
     "metadata": {},
     "output_type": "execute_result"
    }
   ],
   "source": [
    "data_all"
   ]
  },
  {
   "cell_type": "code",
   "execution_count": 15,
   "id": "dbabbc0a-6864-47e8-9fbe-2111bcd001e2",
   "metadata": {},
   "outputs": [],
   "source": [
    "def compute_median_bias(zpred, ztrue):\n",
    "    \"\"\"Compute the median bias                                                                                                                                                                              \n",
    "                                                                                                                                                                                                            \n",
    "    Parameters                                                                                                                                                                                              \n",
    "    ----------                                                                                                                                                                                              \n",
    "    zpred : predicted redshift                                                                                                                                                                              \n",
    "    ztest : spectroscopic redshift                                                                                                                                                                          \n",
    "                                                                                                                                                                                                            \n",
    "    Returns                                                                                                                                                                                                 \n",
    "    -------                                                                                                                                                                                                 \n",
    "    bias : the bias (ztrue - zpred)                                                                                                                                                                         \n",
    "    \"\"\"\n",
    "    return np.median(ztrue - zpred)\n",
    "\n",
    "def compute_sigma68(zpred, ztrue):\n",
    "    \"\"\"Compute the rms error between zpred and ztrue                                                                                                                                                        \n",
    "                                                                                                                                                                                                            \n",
    "    Parameters                                                                                                                                                                                              \n",
    "    ----------                                                                                                                                                                                              \n",
    "    zpred : predicted redshift                                                                                                                                                                              \n",
    "    ztrue : spectroscopic redshift                                                                                                                                                                          \n",
    "                                                                                                                                                                                                            \n",
    "    Returns                                                                                                                                                                                                 \n",
    "    -------                                                                                                                                                                                                 \n",
    "    rms_error : root-mean square error                                                                                                                                                                      \n",
    "    \"\"\"\n",
    "    # This question asks for the rms error of the difference                                                                                                                                                \n",
    "    # distribution.                                                                                                                                                                                         \n",
    "    return np.std(ztrue - zpred)\n",
    "\n",
    "    # This definition of sigma68 differs from that in Sanchez et. al                                                                                                                                        \n",
    "    # 2015, which defined sigma_68 to be the 68% containment about the                                                                                                                                      \n",
    "    # median.  Sanchez's value would be something more like:                                                                                                                                                \n",
    "    #return np.abs(np.diff(np.percentile(ztrue-zpred,[16,84])))/2.                                                                                                                                          \n",
    "    # which gives a significantly smaller value.                                                                                                                                                            \n",
    "\n",
    "def compute_outlier_fraction(zpred, ztrue, nsigma=2):\n",
    "    \"\"\"Compute the outlier fraction between zpred and ztrue                                                                                                                                                 \n",
    "                                                                                                                                                                                                            \n",
    "    Parameters                                                                                                                                                                                              \n",
    "    ----------                                                                                                                                                                                              \n",
    "    zpred : predicted redshift                                                                                                                                                                              \n",
    "    ztrue : spectroscopic redshift                                                                                                                                                                          \n",
    "    nsigma: number of sigma to classify outliers                                                                                                                                                            \n",
    "                                                                                                                                                                                                            \n",
    "    Returns                                                                                                                                                                                                 \n",
    "    -------                                                                                                                                                                                                 \n",
    "    frac : outlier fraction                                                                                                                                                                                 \n",
    "    \"\"\"\n",
    "    sigma68 = compute_sigma68(zpred,ztrue)\n",
    "    return np.sum(abs(zpred - ztrue)>nsigma*sigma68)/float(len(zpred))"
   ]
  },
  {
   "cell_type": "code",
   "execution_count": 16,
   "id": "0d46d3e5-a412-4b38-ad22-d6481bd22c3a",
   "metadata": {},
   "outputs": [],
   "source": [
    "data_all['EXTENDED_CLASS_G'] = 1*((data_all['SPREAD_MODEL_G'] + 3*data_all['SPREADERR_MODEL_G']) > 0.005) + 1*((data_all['SPREAD_MODEL_G'] + data_all['SPREADERR_MODEL_G']) > 0.003) + 1*((data_all['SPREAD_MODEL_G'] - data_all['SPREADERR_MODEL_G']) > 0.003)"
   ]
  },
  {
   "cell_type": "code",
   "execution_count": 17,
   "id": "1a915651-c7a6-46fb-89da-480131f82e67",
   "metadata": {},
   "outputs": [
    {
     "data": {
      "text/html": [
       "&lt;Column name=&apos;EXTENDED_CLASS_G&apos; dtype=&apos;int64&apos; length=205&gt;\n",
       "<table>\n",
       "<tr><td>3</td></tr>\n",
       "<tr><td>3</td></tr>\n",
       "<tr><td>3</td></tr>\n",
       "<tr><td>3</td></tr>\n",
       "<tr><td>3</td></tr>\n",
       "<tr><td>3</td></tr>\n",
       "<tr><td>3</td></tr>\n",
       "<tr><td>3</td></tr>\n",
       "<tr><td>3</td></tr>\n",
       "<tr><td>3</td></tr>\n",
       "<tr><td>3</td></tr>\n",
       "<tr><td>3</td></tr>\n",
       "<tr><td>...</td></tr>\n",
       "<tr><td>3</td></tr>\n",
       "<tr><td>3</td></tr>\n",
       "<tr><td>3</td></tr>\n",
       "<tr><td>3</td></tr>\n",
       "<tr><td>3</td></tr>\n",
       "<tr><td>3</td></tr>\n",
       "<tr><td>3</td></tr>\n",
       "<tr><td>3</td></tr>\n",
       "<tr><td>3</td></tr>\n",
       "<tr><td>3</td></tr>\n",
       "<tr><td>3</td></tr>\n",
       "<tr><td>3</td></tr>\n",
       "</table>"
      ],
      "text/plain": [
       "<Column name='EXTENDED_CLASS_G' dtype='int64' length=205>\n",
       "  3\n",
       "  3\n",
       "  3\n",
       "  3\n",
       "  3\n",
       "  3\n",
       "  3\n",
       "  3\n",
       "  3\n",
       "  3\n",
       "  3\n",
       "  3\n",
       "...\n",
       "  3\n",
       "  3\n",
       "  3\n",
       "  3\n",
       "  3\n",
       "  3\n",
       "  3\n",
       "  3\n",
       "  3\n",
       "  3\n",
       "  3\n",
       "  3"
      ]
     },
     "execution_count": 17,
     "metadata": {},
     "output_type": "execute_result"
    }
   ],
   "source": [
    "data_all['EXTENDED_CLASS_G']"
   ]
  },
  {
   "cell_type": "code",
   "execution_count": 18,
   "id": "55e93194-3beb-481f-82f0-14be3f946e8d",
   "metadata": {},
   "outputs": [],
   "source": [
    "data_all = data_all[data_all['EXTENDED_CLASS_G']>1]"
   ]
  },
  {
   "cell_type": "code",
   "execution_count": 19,
   "id": "3590405f-5bde-49b0-8fe7-cb0896acd0a2",
   "metadata": {},
   "outputs": [],
   "source": [
    "z_spec, z_bpz = data_all['Z'], data_all['Z_B']"
   ]
  },
  {
   "cell_type": "code",
   "execution_count": 20,
   "id": "97e32e32-4c2e-4bbe-805a-9479ef63d8ae",
   "metadata": {},
   "outputs": [
    {
     "data": {
      "image/png": "[encoded data removed]",
      "text/plain": [
       "<Figure size 432x288 with 1 Axes>"
      ]
     },
     "metadata": {
      "needs_background": "light"
     },
     "output_type": "display_data"
    },
    {
     "data": {
      "image/png": "[encoded data removed]",
      "text/plain": [
       "<Figure size 432x288 with 1 Axes>"
      ]
     },
     "metadata": {
      "needs_background": "light"
     },
     "output_type": "display_data"
    }
   ],
   "source": [
    "plt.hist(z_bpz-z_spec, range=(-2.2, 2.2), bins = 'auto')\n",
    "plt.xlabel('bpz best redshift - spectroscopic redshift')\n",
    "plt.show()\n",
    "plt.scatter(z_bpz, z_bpz-z_spec)\n",
    "plt.xlabel('bpz best redshift')\n",
    "plt.ylabel('bpz best redshift - spectroscopic redshift')\n",
    "plt.ylim(2, -2)\n",
    "plt.show()"
   ]
  },
  {
   "cell_type": "code",
   "execution_count": 21,
   "id": "998731f8-c891-4e55-8109-614bc93eed4f",
   "metadata": {},
   "outputs": [
    {
     "data": {
      "text/plain": [
       "Text(0.5, 0, 'bpz best redshift')"
      ]
     },
     "execution_count": 21,
     "metadata": {},
     "output_type": "execute_result"
    },
    {
     "data": {
      "image/png": "[encoded data removed]",
      "text/plain": [
       "<Figure size 432x288 with 1 Axes>"
      ]
     },
     "metadata": {
      "needs_background": "light"
     },
     "output_type": "display_data"
    }
   ],
   "source": [
    "n, bins, patches = plt.hist(z_bpz, range = (0.01, 1.2), bins = 22)\n",
    "plt.xlabel('bpz best redshift')"
   ]
  },
  {
   "cell_type": "code",
   "execution_count": 22,
   "id": "74bf45f5-8cb4-4c22-b4c7-402cedaff458",
   "metadata": {},
   "outputs": [
    {
     "data": {
      "text/plain": [
       "Text(0.5, 0, 'spectroscopic best redshift')"
      ]
     },
     "execution_count": 22,
     "metadata": {},
     "output_type": "execute_result"
    },
    {
     "data": {
      "image/png": "[encoded data removed]",
      "text/plain": [
       "<Figure size 432x288 with 1 Axes>"
      ]
     },
     "metadata": {
      "needs_background": "light"
     },
     "output_type": "display_data"
    }
   ],
   "source": [
    "nc, binsc, patchesc =  plt.hist(z_spec, range = (0.01, 1.2), bins = 22)\n",
    "plt.xlabel('spectroscopic best redshift')"
   ]
  },
  {
   "cell_type": "code",
   "execution_count": 23,
   "id": "bb3f3222-6193-441a-95ae-82d8a2ec1549",
   "metadata": {},
   "outputs": [
    {
     "data": {
      "image/png": "[encoded data removed]",
      "text/plain": [
       "<Figure size 432x288 with 1 Axes>"
      ]
     },
     "metadata": {
      "needs_background": "light"
     },
     "output_type": "display_data"
    }
   ],
   "source": [
    "plt.hist2d(z_bpz, z_spec, range=[(0, 1.2),(0, 1.2)], bins=35)\n",
    "plt.plot(np.linspace(0, 1.2), np.linspace(0, 1.2), 'r--')\n",
    "plt.xlabel('bpz best redshift')\n",
    "plt.ylabel('spectroscopic redshift')\n",
    "plt.show()"
   ]
  },
  {
   "cell_type": "markdown",
   "id": "c26d8607-3187-47d1-acfe-632646442ab5",
   "metadata": {
    "tags": []
   },
   "source": [
    "## Bias"
   ]
  },
  {
   "cell_type": "code",
   "execution_count": 24,
   "id": "1b781db1-ff8b-426e-8db6-f1749f075da8",
   "metadata": {},
   "outputs": [],
   "source": [
    "#z_err_nn = data_all['zerr']"
   ]
  },
  {
   "cell_type": "markdown",
   "id": "b1a48685-d5a0-4abe-880b-2f185612544c",
   "metadata": {},
   "source": [
    "**BPZ BIAS**"
   ]
  },
  {
   "cell_type": "code",
   "execution_count": 25,
   "id": "a7b6031f-9bca-4fde-bb93-0980669d98fc",
   "metadata": {},
   "outputs": [],
   "source": [
    "bias_bpz = z_bpz - z_spec\n",
    "#bias_clecio = z_nn - z_spec"
   ]
  },
  {
   "cell_type": "code",
   "execution_count": 38,
   "id": "5e790693-ae4d-4806-944c-917cd8b1c35e",
   "metadata": {},
   "outputs": [
    {
     "data": {
      "text/plain": [
       "Text(0.5, 0, 'bias BPZ relative to BOSS spec z')"
      ]
     },
     "execution_count": 38,
     "metadata": {},
     "output_type": "execute_result"
    },
    {
     "data": {
      "image/png": "[encoded data removed]",
      "text/plain": [
       "<Figure size 432x288 with 1 Axes>"
      ]
     },
     "metadata": {
      "needs_background": "light"
     },
     "output_type": "display_data"
    }
   ],
   "source": [
    "n, bins, patches = plt.hist(bias_bpz, range=(-1.2, 1.2), bins = 'auto')\n",
    "plt.xlabel('bias BPZ relative to BOSS spec z')"
   ]
  },
  {
   "cell_type": "code",
   "execution_count": 27,
   "id": "49568744-1a60-4b52-9c51-3f6a486bd5be",
   "metadata": {},
   "outputs": [],
   "source": [
    "z_err_bpz_68 = compute_sigma68(z_bpz, z_spec)"
   ]
  },
  {
   "cell_type": "code",
   "execution_count": 28,
   "id": "f577bd32-93d6-4a3d-877f-98c53798d4e6",
   "metadata": {},
   "outputs": [
    {
     "data": {
      "text/plain": [
       "0.10948243"
      ]
     },
     "execution_count": 28,
     "metadata": {},
     "output_type": "execute_result"
    }
   ],
   "source": [
    "z_err_bpz_68"
   ]
  },
  {
   "cell_type": "code",
   "execution_count": 37,
   "id": "e631b6ea-d932-48c6-8dce-242e616a0364",
   "metadata": {
    "tags": []
   },
   "outputs": [
    {
     "data": {
      "text/plain": [
       "(-10.0, 10.0)"
      ]
     },
     "execution_count": 37,
     "metadata": {},
     "output_type": "execute_result"
    },
    {
     "data": {
      "image/png": "[encoded data removed]",
      "text/plain": [
       "<Figure size 432x288 with 1 Axes>"
      ]
     },
     "metadata": {
      "needs_background": "light"
     },
     "output_type": "display_data"
    }
   ],
   "source": [
    "plt.scatter(z_bpz, bias_bpz/z_err_bpz_68)\n",
    "plt.xlabel('bpz best redshift')\n",
    "plt.ylabel('bias')\n",
    "plt.ylim(-10, 10)"
   ]
  },
  {
   "cell_type": "code",
   "execution_count": 30,
   "id": "adc9f1f3-6d75-427f-a9cf-9c9c6786ce6f",
   "metadata": {},
   "outputs": [
    {
     "name": "stdout",
     "output_type": "stream",
     "text": [
      "median bias = -0.0019827783\n"
     ]
    }
   ],
   "source": [
    "bias_bpz_med = np.median(bias_bpz)\n",
    "print('median bias =', bias_bpz_med)"
   ]
  },
  {
   "cell_type": "markdown",
   "id": "8679fe9c-e8e0-4c24-a168-1991ca64dc79",
   "metadata": {},
   "source": [
    "## Outliers"
   ]
  },
  {
   "cell_type": "code",
   "execution_count": 35,
   "id": "222464b7-f319-4c31-9b11-b2f04ac90348",
   "metadata": {},
   "outputs": [
    {
     "data": {
      "text/plain": [
       "0.014634146341463415"
      ]
     },
     "execution_count": 35,
     "metadata": {},
     "output_type": "execute_result"
    }
   ],
   "source": [
    "compute_outlier_fraction(z_bpz, z_spec, nsigma = 3) #6.817977118638658406979402570869)"
   ]
  },
  {
   "cell_type": "code",
   "execution_count": 32,
   "id": "2dc62060-c179-49cd-9582-55dcd649a8da",
   "metadata": {},
   "outputs": [
    {
     "data": {
      "text/plain": [
       "0.0"
      ]
     },
     "execution_count": 32,
     "metadata": {},
     "output_type": "execute_result"
    }
   ],
   "source": [
    "len(bias_bpz[bias_bpz<-6])/len(bias_bpz)"
   ]
  },
  {
   "cell_type": "code",
   "execution_count": 33,
   "id": "6d525569-11ff-4a21-9479-2fcb04be410f",
   "metadata": {
    "tags": []
   },
   "outputs": [
    {
     "data": {
      "text/plain": [
       "0.014634146341463415"
      ]
     },
     "execution_count": 33,
     "metadata": {},
     "output_type": "execute_result"
    }
   ],
   "source": [
    "nsigma = 3\n",
    "sigma68 = np.std(bias_bpz[bias_bpz>-6])\n",
    "np.sum(abs(bias_bpz[bias_bpz>-6])>nsigma*sigma68)/float(len(z_spec[bias_bpz>-6]))"
   ]
  },
  {
   "cell_type": "code",
   "execution_count": null,
   "id": "4837b968-5a14-4f35-bec2-a0eea2a1303c",
   "metadata": {},
   "outputs": [],
   "source": [
    "mask1 = z_spec != 99\n",
    "mask2 = z_spec != -99\n",
    "mask = mask1*mask2"
   ]
  },
  {
   "cell_type": "code",
   "execution_count": null,
   "id": "4775fac0-ed0e-47a3-987c-8eef726a1432",
   "metadata": {},
   "outputs": [],
   "source": []
  },
  {
   "cell_type": "code",
   "execution_count": null,
   "id": "45e33b4f-b4d2-4ea5-b1c0-0bbbcf5b9943",
   "metadata": {},
   "outputs": [],
   "source": [
    "compute_outlier_fraction(z_bpz[mask], z_spec[mask], nsigma = 2)"
   ]
  },
  {
   "cell_type": "code",
   "execution_count": null,
   "id": "aab04ec6-cf65-4b0a-b601-fe47c078fc01",
   "metadata": {},
   "outputs": [],
   "source": [
    "compute_outlier_fraction(z_nn, z_spec, nsigma = 3)"
   ]
  }
 ],
 "metadata": {
  "kernelspec": {
   "display_name": "Python 3",
   "language": "python",
   "name": "python3"
  },
  "language_info": {
   "codemirror_mode": {
    "name": "ipython",
    "version": 3
   },
   "file_extension": ".py",
   "mimetype": "text/x-python",
   "name": "python",
   "nbconvert_exporter": "python",
   "pygments_lexer": "ipython3",
   "version": "3.9.5"
  }
 },
 "nbformat": 4,
 "nbformat_minor": 5
}
