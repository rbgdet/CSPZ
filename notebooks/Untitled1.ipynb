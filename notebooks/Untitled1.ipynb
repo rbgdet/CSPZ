{
 "cells": [
  {
   "cell_type": "code",
   "execution_count": 3,
   "id": "dcf4a4f7",
   "metadata": {},
   "outputs": [],
   "source": [
    "import numpy as np\n",
    "import matplotlib.pyplot as plt"
   ]
  },
  {
   "cell_type": "code",
   "execution_count": 43,
   "id": "c942405d",
   "metadata": {},
   "outputs": [],
   "source": [
    "x = np.linspace(-100, 100, 10000)"
   ]
  },
  {
   "cell_type": "code",
   "execution_count": 11,
   "id": "2b5f3837",
   "metadata": {},
   "outputs": [],
   "source": [
    "import scipy\n",
    "from scipy.special import gamma\n",
    "from scipy.stats import norm"
   ]
  },
  {
   "cell_type": "code",
   "execution_count": 32,
   "id": "31f3306d",
   "metadata": {},
   "outputs": [],
   "source": []
  },
  {
   "cell_type": "code",
   "execution_count": 59,
   "id": "5c7d39b7",
   "metadata": {
    "scrolled": true
   },
   "outputs": [
    {
     "data": {
      "text/plain": [
       "[<matplotlib.lines.Line2D at 0x7f0c7ace8a10>]"
      ]
     },
     "execution_count": 59,
     "metadata": {},
     "output_type": "execute_result"
    },
    {
     "data": {
      "image/png": "[encoded data removed]",
      "text/plain": [
       "<Figure size 432x288 with 1 Axes>"
      ]
     },
     "metadata": {
      "needs_background": "light"
     },
     "output_type": "display_data"
    }
   ],
   "source": [
    "gauss1_2 = norm(loc=2.22, scale=.1)\n",
    "y=gauss1_2.pdf(x)\n",
    "y/=np.cumsum(y).max()\n",
    "plt.plot(x, y)"
   ]
  },
  {
   "cell_type": "code",
   "execution_count": 64,
   "id": "b5fb3064",
   "metadata": {},
   "outputs": [],
   "source": [
    "def mean(x, pdf):\n",
    "    y=pdf(x)\n",
    "    y/=np.sum(y)\n",
    "    return np.dot(x, y)\n",
    "\n",
    "def std(x, pdf):\n",
    "    y=pdf(x)\n",
    "    y/=np.sum(y)\n",
    "    mu = np.dot(x, y)\n",
    "    return np.sqrt(np.dot((x-mu)**2, y))"
   ]
  },
  {
   "cell_type": "code",
   "execution_count": 67,
   "id": "a0bcb232",
   "metadata": {},
   "outputs": [],
   "source": [
    "def mean(x, y):\n",
    "    y/=np.sum(y)\n",
    "    return np.dot(x, y)\n",
    "\n",
    "def std(x, y):\n",
    "    y/=np.sum(y)\n",
    "    mu = np.dot(x, y)\n",
    "    return np.sqrt(np.dot((x-mu)**2, y))"
   ]
  },
  {
   "cell_type": "code",
   "execution_count": 66,
   "id": "6fcd12d5",
   "metadata": {},
   "outputs": [
    {
     "data": {
      "text/plain": [
       "0.10000000000000021"
      ]
     },
     "execution_count": 66,
     "metadata": {},
     "output_type": "execute_result"
    }
   ],
   "source": [
    "std(x, gauss1_2.pdf)"
   ]
  },
  {
   "cell_type": "code",
   "execution_count": 10,
   "id": "b559283a",
   "metadata": {},
   "outputs": [
    {
     "data": {
      "text/plain": [
       "[<matplotlib.lines.Line2D at 0x7f0e5cb676d0>]"
      ]
     },
     "execution_count": 10,
     "metadata": {},
     "output_type": "execute_result"
    },
    {
     "data": {
      "image/png": "[encoded data removed]",
      "text/plain": [
       "<Figure size 432x288 with 1 Axes>"
      ]
     },
     "metadata": {
      "needs_background": "light"
     },
     "output_type": "display_data"
    }
   ],
   "source": [
    "plt.plot(x, gamma(x))"
   ]
  }
 ],
 "metadata": {
  "kernelspec": {
   "display_name": "Python 3",
   "language": "python",
   "name": "python3"
  },
  "language_info": {
   "codemirror_mode": {
    "name": "ipython",
    "version": 3
   },
   "file_extension": ".py",
   "mimetype": "text/x-python",
   "name": "python",
   "nbconvert_exporter": "python",
   "pygments_lexer": "ipython3",
   "version": "3.7.6"
  }
 },
 "nbformat": 4,
 "nbformat_minor": 5
}
