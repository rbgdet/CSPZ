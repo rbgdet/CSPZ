{
 "cells": [
  {
   "cell_type": "code",
   "execution_count": 30,
   "id": "8e99cf16",
   "metadata": {},
   "outputs": [],
   "source": [
    "import numpy as np"
   ]
  },
  {
   "cell_type": "code",
   "execution_count": 29,
   "id": "ca1f8731",
   "metadata": {},
   "outputs": [],
   "source": [
    "a = np.array([1, 2, 3, 4, 5])\n",
    "b = np.array([1, 3, 5])"
   ]
  },
  {
   "cell_type": "code",
   "execution_count": 28,
   "id": "17eb4abc",
   "metadata": {},
   "outputs": [
    {
     "name": "stdout",
     "output_type": "stream",
     "text": [
      "True\n"
     ]
    }
   ],
   "source": [
    "mask = np.zeros_like(a).astype(bool)\n",
    "for b_i in b:\n",
    "    mask_i = (a == b_i)\n",
    "    mask = np.logical_or(mask, mask_i)\n",
    "    \n",
    "print(mask.sum()==b.size)"
   ]
  },
  {
   "cell_type": "code",
   "execution_count": 27,
   "id": "2b5eed90",
   "metadata": {},
   "outputs": [
    {
     "data": {
      "text/plain": [
       "<function ndarray.sum>"
      ]
     },
     "execution_count": 27,
     "metadata": {},
     "output_type": "execute_result"
    }
   ],
   "source": [
    "mask.sum"
   ]
  },
  {
   "cell_type": "code",
   "execution_count": null,
   "id": "f42fcfc7",
   "metadata": {},
   "outputs": [],
   "source": []
  }
 ],
 "metadata": {
  "kernelspec": {
   "display_name": "Python 3",
   "language": "python",
   "name": "python3"
  },
  "language_info": {
   "codemirror_mode": {
    "name": "ipython",
    "version": 3
   },
   "file_extension": ".py",
   "mimetype": "text/x-python",
   "name": "python",
   "nbconvert_exporter": "python",
   "pygments_lexer": "ipython3",
   "version": "3.7.6"
  }
 },
 "nbformat": 4,
 "nbformat_minor": 5
}
