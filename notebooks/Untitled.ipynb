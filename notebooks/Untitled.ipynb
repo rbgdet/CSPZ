{
 "cells": [
  {
   "cell_type": "code",
   "execution_count": 1,
   "id": "e39acd68-d2ac-474b-b41c-d07516d3357d",
   "metadata": {},
   "outputs": [],
   "source": [
    "# 3rd party # remove imports that are not needed\n",
    "import numpy as np\n",
    "import pandas as pd\n",
    "import pylab as plt\n",
    "import h5py\n",
    "import matplotlib\n",
    "%matplotlib inline\n",
    "from astropy.utils.data import download_file  #import file from URL\n",
    "from matplotlib.ticker import NullFormatter\n",
    "import astropy.table\n",
    "\n",
    "dataclecio = astropy.table.Table.read('/data/des90.a/data/jsanch87/DELVE_w_photozs_06416.fits')"
   ]
  },
  {
   "cell_type": "code",
   "execution_count": 2,
   "id": "305ea959-ec6f-43da-aa86-2f489d3479cf",
   "metadata": {},
   "outputs": [],
   "source": [
    "dataclecio = dataclecio[dataclecio['extended_class']>1]"
   ]
  },
  {
   "cell_type": "code",
   "execution_count": 5,
   "id": "82d56bbf-8d31-49e6-a26f-91118d0f03a8",
   "metadata": {},
   "outputs": [
    {
     "data": {
      "text/html": [
       "<i>Table length=2542</i>\n",
       "<table id=\"table140028692430560\" class=\"table-striped table-bordered table-condensed\">\n",
       "<thead><tr><th>RA</th><th>DEC</th><th>FLAGS_G</th><th>FLAGS_R</th><th>FLAGS_I</th><th>FLAGS_Z</th><th>z</th><th>zerr</th><th>extended_class</th><th>flag_nband</th><th>flag_sn10</th><th>flag_color_cut</th><th>training</th><th>zspec</th><th>ID</th><th>CHI_SQ</th><th>M_0</th><th>ODDS</th><th>T_B</th><th>T_ML</th><th>Z_B</th><th>Z_B_MAX</th><th>Z_B_MIN</th><th>Z_ML</th></tr></thead>\n",
       "<thead><tr><th>float64</th><th>float64</th><th>int16</th><th>int16</th><th>int16</th><th>int16</th><th>float64</th><th>float64</th><th>int64</th><th>int16</th><th>int16</th><th>int16</th><th>int16</th><th>float64</th><th>int64</th><th>float32</th><th>float32</th><th>float32</th><th>float32</th><th>float32</th><th>float32</th><th>float32</th><th>float32</th><th>float32</th></tr></thead>\n",
       "<tr><td>226.19222455923003</td><td>-2.2600542774630696</td><td>0</td><td>0</td><td>99</td><td>0</td><td>99.0</td><td>99.0</td><td>3</td><td>3</td><td>0</td><td>1</td><td>0</td><td>99.0</td><td>10641600005271</td><td>57.76758</td><td>20.55278</td><td>0.25712186</td><td>1.0</td><td>1.0</td><td>0.415</td><td>0.685</td><td>0.205</td><td>0.005</td></tr>\n",
       "<tr><td>226.19305933488468</td><td>-2.2756274711278763</td><td>0</td><td>0</td><td>0</td><td>0</td><td>0.7781897783279419</td><td>0.0650557139068842</td><td>3</td><td>4</td><td>3</td><td>0</td><td>0</td><td>99.0</td><td>10641600005274</td><td>4.5950403</td><td>18.733782</td><td>1.0</td><td>1.0</td><td>1.0</td><td>0.815</td><td>0.9052463</td><td>0.7247537</td><td>0.815</td></tr>\n",
       "<tr><td>226.2047462108713</td><td>-2.2508000088737106</td><td>0</td><td>0</td><td>0</td><td>0</td><td>0.8249779939651489</td><td>0.07465618558228015</td><td>3</td><td>4</td><td>2</td><td>0</td><td>0</td><td>99.0</td><td>10641600005276</td><td>0.12595512</td><td>21.122446</td><td>0.5366475</td><td>6.0</td><td>4.0</td><td>0.965</td><td>1.165</td><td>0.86729527</td><td>1.105</td></tr>\n",
       "<tr><td>226.21502231992628</td><td>-2.226907227074747</td><td>0</td><td>0</td><td>0</td><td>0</td><td>0.7711434960365295</td><td>0.05990347392857076</td><td>2</td><td>4</td><td>4</td><td>0</td><td>0</td><td>99.0</td><td>10641600005281</td><td>2.9629862</td><td>18.952757</td><td>0.9895324</td><td>1.0</td><td>1.0</td><td>0.635</td><td>0.7162963</td><td>0.5537037</td><td>0.635</td></tr>\n",
       "<tr><td>226.23074258523187</td><td>-2.239172180646051</td><td>0</td><td>0</td><td>0</td><td>0</td><td>0.19673851877450943</td><td>0.02148736329004168</td><td>3</td><td>4</td><td>4</td><td>0</td><td>0</td><td>99.0</td><td>10641600005284</td><td>0.75149447</td><td>19.179844</td><td>0.9895073</td><td>2.0</td><td>2.0</td><td>0.095</td><td>0.14944614</td><td>0.040553864</td><td>0.095</td></tr>\n",
       "<tr><td>226.23406532260748</td><td>-2.252654755613193</td><td>0</td><td>0</td><td>0</td><td>0</td><td>0.3420431613922119</td><td>0.03557408569008111</td><td>3</td><td>4</td><td>4</td><td>0</td><td>0</td><td>99.0</td><td>10641600005286</td><td>0.764873</td><td>20.598305</td><td>0.8313447</td><td>3.0</td><td>3.0</td><td>0.125</td><td>0.195</td><td>0.06906219</td><td>0.125</td></tr>\n",
       "<tr><td>226.25504761410187</td><td>-2.238905836483397</td><td>0</td><td>0</td><td>0</td><td>0</td><td>0.5843139588832855</td><td>0.030563173577189406</td><td>3</td><td>4</td><td>4</td><td>0</td><td>0</td><td>99.0</td><td>10641600005293</td><td>0.21097168</td><td>20.487204</td><td>0.5190631</td><td>2.0</td><td>1.0</td><td>0.405</td><td>0.475</td><td>0.215</td><td>0.215</td></tr>\n",
       "<tr><td>226.26288208374598</td><td>-2.178529819932578</td><td>0</td><td>0</td><td>0</td><td>0</td><td>0.33469144999980927</td><td>0.016127261519432085</td><td>3</td><td>4</td><td>4</td><td>0</td><td>0</td><td>99.0</td><td>10641600005295</td><td>2.1470988</td><td>18.939308</td><td>1.0</td><td>2.0</td><td>2.0</td><td>0.355</td><td>0.42237398</td><td>0.287626</td><td>0.355</td></tr>\n",
       "<tr><td>226.26611901106395</td><td>-2.2338507481306067</td><td>2</td><td>2</td><td>2</td><td>1</td><td>0.23499781638383865</td><td>0.014679739616811294</td><td>3</td><td>4</td><td>4</td><td>0</td><td>0</td><td>99.0</td><td>10641600005296</td><td>3.2134807</td><td>18.221272</td><td>0.9963588</td><td>1.0</td><td>1.0</td><td>0.205</td><td>0.26491562</td><td>0.14508438</td><td>0.205</td></tr>\n",
       "<tr><td>226.28809830778133</td><td>-2.1549269792294297</td><td>0</td><td>0</td><td>0</td><td>0</td><td>0.8001368045806885</td><td>0.05788394537568087</td><td>2</td><td>4</td><td>1</td><td>0</td><td>0</td><td>99.0</td><td>10641600005309</td><td>2.1403615</td><td>20.402952</td><td>0.48921034</td><td>5.0</td><td>6.0</td><td>0.115</td><td>0.775</td><td>0.059559412</td><td>1.015</td></tr>\n",
       "<tr><td>...</td><td>...</td><td>...</td><td>...</td><td>...</td><td>...</td><td>...</td><td>...</td><td>...</td><td>...</td><td>...</td><td>...</td><td>...</td><td>...</td><td>...</td><td>...</td><td>...</td><td>...</td><td>...</td><td>...</td><td>...</td><td>...</td><td>...</td><td>...</td></tr>\n",
       "<tr><td>226.25092716894693</td><td>-2.6247225803125502</td><td>3</td><td>99</td><td>99</td><td>99</td><td>99.0</td><td>99.0</td><td>3</td><td>1</td><td>1</td><td>1</td><td>0</td><td>99.0</td><td>10641600218905</td><td>41.122265</td><td>18.115772</td><td>0.2508302</td><td>1.0</td><td>1.0</td><td>0.405</td><td>0.625</td><td>0.175</td><td>0.005</td></tr>\n",
       "<tr><td>226.47607773752028</td><td>-2.1783690070050596</td><td>3</td><td>99</td><td>99</td><td>99</td><td>99.0</td><td>99.0</td><td>3</td><td>1</td><td>1</td><td>1</td><td>0</td><td>99.0</td><td>10641600218967</td><td>35.75194</td><td>20.769403</td><td>0.24821714</td><td>1.0</td><td>1.0</td><td>0.425</td><td>0.725</td><td>0.215</td><td>0.005</td></tr>\n",
       "<tr><td>226.33774308278512</td><td>-2.3998330733237765</td><td>2</td><td>99</td><td>99</td><td>99</td><td>99.0</td><td>99.0</td><td>3</td><td>1</td><td>0</td><td>1</td><td>0</td><td>99.0</td><td>10641600218978</td><td>24.471714</td><td>19.424034</td><td>0.2508302</td><td>1.0</td><td>1.0</td><td>0.405</td><td>0.625</td><td>0.175</td><td>0.005</td></tr>\n",
       "<tr><td>226.60015239624414</td><td>-2.370709886617064</td><td>2</td><td>99</td><td>99</td><td>99</td><td>99.0</td><td>99.0</td><td>3</td><td>1</td><td>0</td><td>1</td><td>0</td><td>99.0</td><td>10641600218980</td><td>27.884537</td><td>20.89913</td><td>0.2434117</td><td>1.0</td><td>1.0</td><td>0.435</td><td>0.735</td><td>0.215</td><td>0.005</td></tr>\n",
       "<tr><td>226.3095925736611</td><td>-2.4903229359539836</td><td>2</td><td>99</td><td>99</td><td>99</td><td>99.0</td><td>99.0</td><td>3</td><td>1</td><td>0</td><td>1</td><td>0</td><td>99.0</td><td>10641600218995</td><td>21.457556</td><td>19.268894</td><td>0.2508302</td><td>1.0</td><td>1.0</td><td>0.405</td><td>0.625</td><td>0.175</td><td>0.005</td></tr>\n",
       "<tr><td>226.31391710457478</td><td>-2.5667535114136655</td><td>2</td><td>99</td><td>99</td><td>99</td><td>99.0</td><td>99.0</td><td>3</td><td>1</td><td>1</td><td>1</td><td>0</td><td>99.0</td><td>10641600218996</td><td>30.36762</td><td>19.764511</td><td>0.2508302</td><td>1.0</td><td>1.0</td><td>0.405</td><td>0.625</td><td>0.175</td><td>0.005</td></tr>\n",
       "<tr><td>226.36313081820867</td><td>-2.4507424034355267</td><td>2</td><td>99</td><td>99</td><td>99</td><td>99.0</td><td>99.0</td><td>3</td><td>1</td><td>1</td><td>1</td><td>0</td><td>99.0</td><td>10641600218997</td><td>39.955498</td><td>20.4022</td><td>0.2332271</td><td>1.0</td><td>1.0</td><td>0.405</td><td>0.665</td><td>0.185</td><td>0.005</td></tr>\n",
       "<tr><td>226.39446077744861</td><td>-2.425896261851534</td><td>2</td><td>99</td><td>99</td><td>99</td><td>99.0</td><td>99.0</td><td>3</td><td>1</td><td>1</td><td>1</td><td>0</td><td>99.0</td><td>10641600219030</td><td>87.258896</td><td>18.780043</td><td>0.2508302</td><td>1.0</td><td>1.0</td><td>0.405</td><td>0.625</td><td>0.175</td><td>0.005</td></tr>\n",
       "<tr><td>226.3943872448851</td><td>-2.425993101936342</td><td>2</td><td>99</td><td>99</td><td>99</td><td>99.0</td><td>99.0</td><td>3</td><td>1</td><td>1</td><td>1</td><td>0</td><td>99.0</td><td>10641600219080</td><td>52.234146</td><td>18.780043</td><td>0.2508302</td><td>1.0</td><td>1.0</td><td>0.405</td><td>0.625</td><td>0.175</td><td>0.005</td></tr>\n",
       "<tr><td>226.62404969017155</td><td>-2.439093410018529</td><td>2</td><td>99</td><td>99</td><td>99</td><td>99.0</td><td>99.0</td><td>3</td><td>1</td><td>1</td><td>1</td><td>0</td><td>99.0</td><td>10641600219082</td><td>81.69671</td><td>20.92587</td><td>0.2434117</td><td>1.0</td><td>1.0</td><td>0.435</td><td>0.735</td><td>0.215</td><td>0.005</td></tr>\n",
       "</table>"
      ],
      "text/plain": [
       "<Table length=2542>\n",
       "        RA                 DEC         FLAGS_G ...   Z_B_MIN     Z_ML \n",
       "     float64             float64        int16  ...   float32   float32\n",
       "------------------ ------------------- ------- ... ----------- -------\n",
       "226.19222455923003 -2.2600542774630696       0 ...       0.205   0.005\n",
       "226.19305933488468 -2.2756274711278763       0 ...   0.7247537   0.815\n",
       " 226.2047462108713 -2.2508000088737106       0 ...  0.86729527   1.105\n",
       "226.21502231992628  -2.226907227074747       0 ...   0.5537037   0.635\n",
       "226.23074258523187  -2.239172180646051       0 ... 0.040553864   0.095\n",
       "226.23406532260748  -2.252654755613193       0 ...  0.06906219   0.125\n",
       "226.25504761410187  -2.238905836483397       0 ...       0.215   0.215\n",
       "226.26288208374598  -2.178529819932578       0 ...    0.287626   0.355\n",
       "226.26611901106395 -2.2338507481306067       2 ...  0.14508438   0.205\n",
       "226.28809830778133 -2.1549269792294297       0 ... 0.059559412   1.015\n",
       "               ...                 ...     ... ...         ...     ...\n",
       "226.25092716894693 -2.6247225803125502       3 ...       0.175   0.005\n",
       "226.47607773752028 -2.1783690070050596       3 ...       0.215   0.005\n",
       "226.33774308278512 -2.3998330733237765       2 ...       0.175   0.005\n",
       "226.60015239624414  -2.370709886617064       2 ...       0.215   0.005\n",
       " 226.3095925736611 -2.4903229359539836       2 ...       0.175   0.005\n",
       "226.31391710457478 -2.5667535114136655       2 ...       0.175   0.005\n",
       "226.36313081820867 -2.4507424034355267       2 ...       0.185   0.005\n",
       "226.39446077744861  -2.425896261851534       2 ...       0.175   0.005\n",
       " 226.3943872448851  -2.425993101936342       2 ...       0.175   0.005\n",
       "226.62404969017155  -2.439093410018529       2 ...       0.215   0.005"
      ]
     },
     "execution_count": 5,
     "metadata": {},
     "output_type": "execute_result"
    }
   ],
   "source": [
    "dataclecio"
   ]
  },
  {
   "cell_type": "code",
   "execution_count": 4,
   "id": "88699568-8eb6-4e11-a53f-5dc596293176",
   "metadata": {},
   "outputs": [],
   "source": [
    "z_bpz, z_nn = dataclecio['Z_B'], dataclecio['z']"
   ]
  },
  {
   "cell_type": "markdown",
   "id": "145a7fc6-6e31-4595-9366-92acb02b269d",
   "metadata": {},
   "source": [
    "## Histograms"
   ]
  },
  {
   "cell_type": "code",
   "execution_count": 5,
   "id": "e19a5ba8-cdc1-4e26-a638-898a2bdfd060",
   "metadata": {},
   "outputs": [
    {
     "data": {
      "text/plain": [
       "(array([  7.,  12.,  13.,  37.,  39.,  66., 139.,  78.,  49.,  58.,  92.,\n",
       "         80.,  83., 734., 157.,  61.,  69.,  73.,  97.,  98.,  77.,  47.,\n",
       "         52.,  57.,  41.,  43.,  49.,  41.,  16.,  10.,  10.,  22.,   6.,\n",
       "          6.,   3.,   9.,   4.,   4.,   0.]),\n",
       " array([0.        , 0.03076923, 0.06153846, 0.09230769, 0.12307692,\n",
       "        0.15384616, 0.18461539, 0.21538462, 0.24615385, 0.2769231 ,\n",
       "        0.30769232, 0.33846155, 0.36923078, 0.4       , 0.43076923,\n",
       "        0.46153846, 0.4923077 , 0.52307695, 0.5538462 , 0.5846154 ,\n",
       "        0.61538464, 0.64615387, 0.6769231 , 0.7076923 , 0.73846155,\n",
       "        0.7692308 , 0.8       , 0.83076924, 0.86153847, 0.8923077 ,\n",
       "        0.9230769 , 0.95384616, 0.9846154 , 1.0153847 , 1.0461539 ,\n",
       "        1.0769231 , 1.1076924 , 1.1384616 , 1.1692308 , 1.2       ],\n",
       "       dtype=float32),\n",
       " <BarContainer object of 39 artists>)"
      ]
     },
     "execution_count": 5,
     "metadata": {},
     "output_type": "execute_result"
    },
    {
     "data": {
      "image/png": "[encoded data removed]",
      "text/plain": [
       "<Figure size 432x288 with 1 Axes>"
      ]
     },
     "metadata": {
      "needs_background": "light"
     },
     "output_type": "display_data"
    }
   ],
   "source": [
    "plt.hist(z_bpz, range=(0, 1.2), bins = 'auto')"
   ]
  },
  {
   "cell_type": "code",
   "execution_count": 7,
   "id": "985129c5-5e90-445f-a0b7-e9e867b2554c",
   "metadata": {},
   "outputs": [
    {
     "data": {
      "text/plain": [
       "(array([  0.,   5.,   5.,  24.,  33.,  40.,  45.,  51.,  76.,  39.,  39.,\n",
       "         55., 101., 113., 195., 184., 151., 122., 128., 151., 161.,  60.,\n",
       "          6.,   0.,   0.,   0.,   0.,   0.,   0.,   0.,   0.]),\n",
       " array([0.        , 0.03870968, 0.07741935, 0.11612903, 0.15483871,\n",
       "        0.19354839, 0.23225806, 0.27096774, 0.30967742, 0.3483871 ,\n",
       "        0.38709677, 0.42580645, 0.46451613, 0.50322581, 0.54193548,\n",
       "        0.58064516, 0.61935484, 0.65806452, 0.69677419, 0.73548387,\n",
       "        0.77419355, 0.81290323, 0.8516129 , 0.89032258, 0.92903226,\n",
       "        0.96774194, 1.00645161, 1.04516129, 1.08387097, 1.12258065,\n",
       "        1.16129032, 1.2       ]),\n",
       " <BarContainer object of 31 artists>)"
      ]
     },
     "execution_count": 7,
     "metadata": {},
     "output_type": "execute_result"
    },
    {
     "data": {
      "image/png": "[encoded data removed]",
      "text/plain": [
       "<Figure size 432x288 with 1 Axes>"
      ]
     },
     "metadata": {
      "needs_background": "light"
     },
     "output_type": "display_data"
    }
   ],
   "source": [
    "plt.hist(z_nn, range=(0, 1.2), bins = 'auto')"
   ]
  },
  {
   "cell_type": "markdown",
   "id": "2527c322-559e-4ede-b88b-c9dc28078005",
   "metadata": {
    "tags": []
   },
   "source": [
    "## Ploting residuals"
   ]
  },
  {
   "cell_type": "code",
   "execution_count": 22,
   "id": "95b38662-caed-455f-86d0-59063bdf42f5",
   "metadata": {},
   "outputs": [
    {
     "data": {
      "image/png": "[encoded data removed]",
      "text/plain": [
       "<Figure size 432x288 with 1 Axes>"
      ]
     },
     "metadata": {
      "needs_background": "light"
     },
     "output_type": "display_data"
    },
    {
     "data": {
      "image/png": "[encoded data removed]",
      "text/plain": [
       "<Figure size 432x288 with 1 Axes>"
      ]
     },
     "metadata": {
      "needs_background": "light"
     },
     "output_type": "display_data"
    }
   ],
   "source": [
    "plt.hist(z_bpz-z_nn, range=(-1.2, 1.2), bins = 'auto')\n",
    "plt.xlabel('bpz best redshift - ML redshift')\n",
    "plt.ylabel('counts')\n",
    "plt.show()\n",
    "\n",
    "\n",
    "\n",
    "plt.scatter(z_bpz, z_bpz-z_spec)\n",
    "plt.show()"
   ]
  },
  {
   "cell_type": "code",
   "execution_count": 11,
   "id": "df8c13dc-2afa-4706-9b35-78eec61b89cc",
   "metadata": {},
   "outputs": [
    {
     "data": {
      "image/png": "[encoded data removed]",
      "text/plain": [
       "<Figure size 432x288 with 1 Axes>"
      ]
     },
     "metadata": {
      "needs_background": "light"
     },
     "output_type": "display_data"
    }
   ],
   "source": [
    "plt.hist2d(z_bpz, z_bpz-z_clecio, range=[(0, 1.2),(-1.2, 1.2)], bins=30)\n",
    "plt.axhline(0.0, ls='--', c='r')\n",
    "plt.xlabel('bpz best redshift')\n",
    "plt.ylabel('bpz best redshift - ML redshift')\n",
    "plt.show()"
   ]
  },
  {
   "cell_type": "markdown",
   "id": "9b73aa64-9c31-46dc-908f-1d21f512c90d",
   "metadata": {
    "jupyter": {
     "source_hidden": true
    },
    "tags": []
   },
   "source": [
    "## Bias"
   ]
  },
  {
   "cell_type": "code",
   "execution_count": 12,
   "id": "71c67e0e-2fa4-4b97-8a98-99ca74e48a50",
   "metadata": {},
   "outputs": [],
   "source": [
    "z_spec = dataclecio['zspec']"
   ]
  },
  {
   "cell_type": "code",
   "execution_count": 13,
   "id": "ba0fba78-f2bf-4db7-bdc3-d3e2659872f6",
   "metadata": {},
   "outputs": [],
   "source": [
    "z_err_NN = dataclecio['zerr']"
   ]
  },
  {
   "cell_type": "markdown",
   "id": "0b8e7c5d-0b5b-41a1-aeaa-003c4b2a919c",
   "metadata": {},
   "source": [
    "**BPZ BIAS**"
   ]
  },
  {
   "cell_type": "code",
   "execution_count": 14,
   "id": "3fffefc4-c04f-468e-a7b8-8e84dfd75742",
   "metadata": {},
   "outputs": [],
   "source": [
    "bias_bpz = z_bpz - z_spec\n",
    "bias_clecio = z_clecio - z_spec\n",
    "std_bpz = np.std(z_bpz, ddof = 1)"
   ]
  },
  {
   "cell_type": "code",
   "execution_count": 15,
   "id": "c7871c76-07b0-4375-99e8-bff92d2b1b33",
   "metadata": {},
   "outputs": [
    {
     "data": {
      "image/png": "[encoded data removed]",
      "text/plain": [
       "<Figure size 432x288 with 1 Axes>"
      ]
     },
     "metadata": {
      "needs_background": "light"
     },
     "output_type": "display_data"
    }
   ],
   "source": [
    "n, bins, patches = plt.hist(bias_bpz, range=(0, 1.2), bins = 'auto')"
   ]
  },
  {
   "cell_type": "code",
   "execution_count": 16,
   "id": "e47a6fa6-14d9-45ab-a142-61f543552d24",
   "metadata": {},
   "outputs": [],
   "source": [
    "def compute_sigma68(zpred, ztrue):\n",
    "    \"\"\"Compute the rms error between zpred and ztrue                                                                                                                                                        \n",
    "                                                                                                                                                                                                            \n",
    "    Parameters                                                                                                                                                                                              \n",
    "    ----------                                                                                                                                                                                              \n",
    "    zpred : predicted redshift                                                                                                                                                                              \n",
    "    ztrue : spectroscopic redshift                                                                                                                                                                          \n",
    "                                                                                                                                                                                                            \n",
    "    Returns                                                                                                                                                                                                 \n",
    "    -------                                                                                                                                                                                                 \n",
    "    rms_error : root-mean square error                                                                                                                                                                      \n",
    "    \"\"\"\n",
    "    # This question asks for the rms error of the difference                                                                                                                                                \n",
    "    # distribution.                                                                                                                                                                                         \n",
    "    return np.std(ztrue - zpred)"
   ]
  },
  {
   "cell_type": "code",
   "execution_count": 18,
   "id": "20ea9553-011a-420b-8910-5e149ad64ec1",
   "metadata": {},
   "outputs": [],
   "source": [
    "z_err_bpz_68 = compute_sigma68(z_bpz, z_spec)"
   ]
  },
  {
   "cell_type": "code",
   "execution_count": 20,
   "id": "c591bdd2-9f04-45ca-bc1e-caa3464b904d",
   "metadata": {
    "tags": []
   },
   "outputs": [
    {
     "data": {
      "text/plain": [
       "(-1.0, 1.0)"
      ]
     },
     "execution_count": 20,
     "metadata": {},
     "output_type": "execute_result"
    },
    {
     "data": {
      "image/png": "[encoded data removed]",
      "text/plain": [
       "<Figure size 432x288 with 1 Axes>"
      ]
     },
     "metadata": {
      "needs_background": "light"
     },
     "output_type": "display_data"
    }
   ],
   "source": [
    "plt.scatter(z_bpz, bias_bpz/z_err_bpz_68)\n",
    "plt.xlabel('bpz redshift')\n",
    "plt.ylabel('bias')\n",
    "plt.ylim(-1, 1)"
   ]
  },
  {
   "cell_type": "code",
   "execution_count": 56,
   "id": "44d0ec21-5372-46d0-8d99-37cfdb5ed763",
   "metadata": {},
   "outputs": [
    {
     "name": "stdout",
     "output_type": "stream",
     "text": [
      "median bias = -98.58500000834465\n"
     ]
    }
   ],
   "source": [
    "bias_bpz_med = np.median(bias_bpz)\n",
    "print('median bias =', bias_bpz_med)"
   ]
  }
 ],
 "metadata": {
  "kernelspec": {
   "display_name": "Python 3",
   "language": "python",
   "name": "python3"
  },
  "language_info": {
   "codemirror_mode": {
    "name": "ipython",
    "version": 3
   },
   "file_extension": ".py",
   "mimetype": "text/x-python",
   "name": "python",
   "nbconvert_exporter": "python",
   "pygments_lexer": "ipython3",
   "version": "3.9.5"
  }
 },
 "nbformat": 4,
 "nbformat_minor": 5
}
