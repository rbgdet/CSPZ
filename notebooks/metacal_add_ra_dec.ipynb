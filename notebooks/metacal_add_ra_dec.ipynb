{
 "cells": [
  {
   "cell_type": "code",
   "execution_count": 33,
   "id": "54f4a4f1",
   "metadata": {
    "scrolled": true
   },
   "outputs": [
    {
     "name": "stdout",
     "output_type": "stream",
     "text": [
      "time: 21.649483919143677 seconds\n"
     ]
    }
   ],
   "source": [
    "import numpy as np\n",
    "import h5py\n",
    "import time\n",
    "\n",
    "t0 = time.time()\n",
    "\n",
    "Mask = np.load('/project2/chihway/raulteixeira/data/metacal_gold_mask.npy')\n",
    "\n",
    "with h5py.File('/project2/chihway/data/decade/metacal_gold_combined_20230613.hdf') as f: #unused\n",
    "    ra = np.array(f['RA'])[Mask]\n",
    "    dec = np.array(f['DEC'])[Mask]\n",
    "    ids = np.load('/project/chihway/raulteixeira/data/metcal_gold_ids.npy')\n",
    "\n",
    "col_n_dtypes = [('COADD_OBJECT_ID', np.int64), ('RA', np.float64), ('DEC', np.float64)]\n",
    "df = np.rec.array([ids, ra, dec], dtype=col_n_dtypes)\n",
    "\n",
    "np.savez('/project/chihway/raulteixeira/data/metacal_gold_mask_ra_dec.npz', df)\n",
    "\n",
    "print('time:', time.time()-t0, 'seconds')"
   ]
  },
  {
   "cell_type": "code",
   "execution_count": 4,
   "id": "faeed21e",
   "metadata": {},
   "outputs": [],
   "source": [
    "import glob"
   ]
  },
  {
   "cell_type": "code",
   "execution_count": 32,
   "id": "c2d11338",
   "metadata": {},
   "outputs": [
    {
     "data": {
      "text/plain": [
       "['/project/chihway/raulteixeira/data/som_BalrogOfTheDECADE_20231002_26x26_ids+cells+fluxes.npz',\n",
       " '/project/chihway/raulteixeira/data/BPZ+SOM_mcal_gold_wide_26x26_ids+cells+fluxes.npz',\n",
       " '/project/chihway/raulteixeira/data/som_metacal_gold_wide_48x48_ids+cells+fluxes.npz',\n",
       " '/project/chihway/raulteixeira/data/BPZ+SOM_mcal_gold_wide_26x26_ids+cells+fluxes_TomoBins.npz',\n",
       " '/project/chihway/raulteixeira/data/som_metacal_gold_wide_26x26_ids+cells+fluxes.npz']"
      ]
     },
     "execution_count": 32,
     "metadata": {},
     "output_type": "execute_result"
    }
   ],
   "source": [
    "glob.glob('/project/chihway/raulteixeira/data/*ids*.npz')"
   ]
  }
 ],
 "metadata": {
  "kernelspec": {
   "display_name": "Python 3 (ipykernel)",
   "language": "python",
   "name": "python3"
  },
  "language_info": {
   "codemirror_mode": {
    "name": "ipython",
    "version": 3
   },
   "file_extension": ".py",
   "mimetype": "text/x-python",
   "name": "python",
   "nbconvert_exporter": "python",
   "pygments_lexer": "ipython3",
   "version": "3.11.4"
  }
 },
 "nbformat": 4,
 "nbformat_minor": 5
}
