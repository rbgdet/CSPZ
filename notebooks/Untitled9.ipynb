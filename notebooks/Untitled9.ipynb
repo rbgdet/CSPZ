{
 "cells": [
  {
   "cell_type": "code",
   "execution_count": 1,
   "id": "7a27eb6e",
   "metadata": {},
   "outputs": [],
   "source": [
    "import numpy as np\n",
    "import h5py\n",
    "import time\n",
    "import pandas as pd\n",
    "import matplotlib.pyplot as plt\n",
    "import glob"
   ]
  },
  {
   "cell_type": "code",
   "execution_count": 2,
   "id": "569ed527",
   "metadata": {},
   "outputs": [],
   "source": [
    "df = pd.read_csv('/project/chihway/raulteixeira/data/missing_rows.csv.gz')"
   ]
  },
  {
   "cell_type": "code",
   "execution_count": 3,
   "id": "7bd47d4d",
   "metadata": {},
   "outputs": [
    {
     "data": {
      "text/plain": [
       "Unnamed: 0         True\n",
       "COADD_OBJECT_ID    True\n",
       "FLUX_R             True\n",
       "FLUX_ERR_R         True\n",
       "FLUX_I             True\n",
       "FLUX_ERR_I         True\n",
       "FLUX_Z             True\n",
       "FLUX_ERR_Z         True\n",
       "dtype: bool"
      ]
     },
     "execution_count": 3,
     "metadata": {},
     "output_type": "execute_result"
    }
   ],
   "source": [
    "np.isfinite(df).all()"
   ]
  },
  {
   "cell_type": "code",
   "execution_count": 4,
   "id": "4b2715e1",
   "metadata": {},
   "outputs": [
    {
     "data": {
      "text/plain": [
       "True"
      ]
     },
     "execution_count": 4,
     "metadata": {},
     "output_type": "execute_result"
    }
   ],
   "source": [
    "(df['FLUX_I']).any()"
   ]
  },
  {
   "cell_type": "code",
   "execution_count": 8,
   "id": "26ebfbea",
   "metadata": {},
   "outputs": [],
   "source": [
    "mask = np.load('/project2/chihway/raulteixeira/data/metacal_gold_mask.npy')\n",
    "df2 = pd.DataFrame()\n",
    "with h5py.File('/project/chihway/data/decade/metacal_gold_combined_20230613.hdf') as f:\n",
    "    \n",
    "    bands = ['G', 'R', 'I', 'Z']\n",
    "    neg_mask = np.array(f['BDF_FLUX_I'])[mask]<=0\n",
    "    for band in bands:\n",
    "        \n",
    "        fluxcol = f'BDF_FLUX_{band}'\n",
    "        errcol = f'BDF_FLUX_ERR_{band}'\n",
    "        \n",
    "        df2[fluxcol]=np.array(f[fluxcol])[mask][neg_mask]\n",
    "        df2[errcol]=np.array(f[errcol])[mask][neg_mask]\n",
    "        \n",
    "    idcol = 'COADD_OBJECT_ID'\n",
    "    df2[idcol] = np.array(f[idcol])[mask][neg_mask]"
   ]
  },
  {
   "cell_type": "code",
   "execution_count": 6,
   "id": "3e78c8b4",
   "metadata": {},
   "outputs": [
    {
     "data": {
      "text/plain": [
       "True"
      ]
     },
     "execution_count": 6,
     "metadata": {},
     "output_type": "execute_result"
    }
   ],
   "source": [
    "neg_mask.sum()==len(df)"
   ]
  },
  {
   "cell_type": "code",
   "execution_count": 17,
   "id": "bc28bba0",
   "metadata": {},
   "outputs": [
    {
     "data": {
      "text/plain": [
       "1.0"
      ]
     },
     "execution_count": 17,
     "metadata": {},
     "output_type": "execute_result"
    }
   ],
   "source": [
    "((df2.BDF_FLUX_R>0) | (df2.BDF_FLUX_G>0) | (df2.BDF_FLUX_Z>0)).sum()/len(df2)"
   ]
  }
 ],
 "metadata": {
  "kernelspec": {
   "display_name": "Python 3 (ipykernel)",
   "language": "python",
   "name": "python3"
  },
  "language_info": {
   "codemirror_mode": {
    "name": "ipython",
    "version": 3
   },
   "file_extension": ".py",
   "mimetype": "text/x-python",
   "name": "python",
   "nbconvert_exporter": "python",
   "pygments_lexer": "ipython3",
   "version": "3.11.4"
  }
 },
 "nbformat": 4,
 "nbformat_minor": 5
}
