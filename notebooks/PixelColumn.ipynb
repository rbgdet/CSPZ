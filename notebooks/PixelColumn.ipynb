{
 "cells": [
  {
   "cell_type": "markdown",
   "id": "6dd1dd22-112d-44db-a35d-0402acc621b5",
   "metadata": {},
   "source": [
    "# **Pixel Column Creator**\n",
    "## This notebook reads a fits data table with RA and DEC columns and <br /> writes a column for the healpy pixels of that table to the specified directory "
   ]
  },
  {
   "cell_type": "code",
   "execution_count": 2,
   "id": "2d264271-f246-47ec-9d61-639d97b0ae71",
   "metadata": {},
   "outputs": [],
   "source": [
    "# 3rd party # remove imports that are not needed\n",
    "import numpy as np\n",
    "import astropy.table\n",
    "import healpy as hp"
   ]
  },
  {
   "cell_type": "code",
   "execution_count": 4,
   "id": "75c07dd4-b3c3-4301-804a-cb542e38d1b8",
   "metadata": {},
   "outputs": [],
   "source": [
    "# Get fits table\n",
    "data=astropy.table.Table.read('/data/des90.a/data/raulteix/data/BOSSDELVE/BOSSDELVE.fits', format='fits')\n",
    "#change to your specified directory"
   ]
  },
  {
   "cell_type": "code",
   "execution_count": 9,
   "id": "a067f927-80fc-494b-b77e-0d8574177ca8",
   "metadata": {},
   "outputs": [],
   "source": [
    "ra1, dec1, ra2, dec2 = data['RA_1'], data['DEC_1'], data['RA_2'], data['DEC_2']"
   ]
  },
  {
   "cell_type": "code",
   "execution_count": 23,
   "id": "04fbda73-523f-4165-b98e-d8779e976e7e",
   "metadata": {},
   "outputs": [],
   "source": [
    "# remove objects that are in different pixels in each catalog \n",
    "# to elliminate confusion\n",
    "mask = hp.ang2pix(32, ra1, dec1, lonlat=True)==hp.ang2pix(32, ra2, dec2, lonlat=True)"
   ]
  },
  {
   "cell_type": "code",
   "execution_count": 24,
   "id": "65a6af88-d402-4ef7-8a23-0a8ee8d5d9af",
   "metadata": {},
   "outputs": [],
   "source": [
    "ra1m, dec1m, ra2m, dec2m = ra1[mask], dec1[mask], ra2[mask], dec2[mask]"
   ]
  },
  {
   "cell_type": "code",
   "execution_count": 31,
   "id": "afd97cbf-dff9-4bf3-847e-4a8734b7fff8",
   "metadata": {},
   "outputs": [],
   "source": [
    "pixels = hp.ang2pix(32, ra1m, dec1m, lonlat=True)"
   ]
  },
  {
   "cell_type": "code",
   "execution_count": 49,
   "id": "93547240-f83a-427e-acfd-d359c8a87cca",
   "metadata": {},
   "outputs": [],
   "source": [
    "#removing borderline objects\n",
    "data=data[mask]"
   ]
  },
  {
   "cell_type": "code",
   "execution_count": 50,
   "id": "17b03b6e-5d06-4339-8d76-586f20924a4d",
   "metadata": {},
   "outputs": [],
   "source": [
    "data.add_column(pixels, name='PIXELS')"
   ]
  },
  {
   "cell_type": "code",
   "execution_count": 52,
   "id": "b4c42d42-8dda-4fb3-9b79-a3eacebb8730",
   "metadata": {},
   "outputs": [],
   "source": [
    "# Now we will write the file\n",
    "# Change the file path for your purposes\n",
    "data.write('/data/des90.a/data/raulteix/data/BOSSDELVE/BOSSDELVEwpxs.fits', format='fits')"
   ]
  }
 ],
 "metadata": {
  "kernelspec": {
   "display_name": "Python 3 (ipykernel)",
   "language": "python",
   "name": "python3"
  },
  "language_info": {
   "codemirror_mode": {
    "name": "ipython",
    "version": 3
   },
   "file_extension": ".py",
   "mimetype": "text/x-python",
   "name": "python",
   "nbconvert_exporter": "python",
   "pygments_lexer": "ipython3",
   "version": "3.10.2"
  }
 },
 "nbformat": 4,
 "nbformat_minor": 5
}
