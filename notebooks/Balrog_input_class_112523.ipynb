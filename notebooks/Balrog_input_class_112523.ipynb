{
 "cells": [
  {
   "cell_type": "code",
   "execution_count": 2,
   "metadata": {},
   "outputs": [],
   "source": [
    "import numpy as np\n",
    "import h5py\n",
    "import pandas as pd\n",
    "import time\n",
    "outpath = '/project/chihway/raulteixeira/data'\n",
    "\n",
    "def flux2mag(flux):\n",
    "    '''\n",
    "    Converts fluxes to magnitudes\n",
    "    '''\n",
    "    return -2.5 * np.log10(flux) + 30"
   ]
  },
  {
   "cell_type": "code",
   "execution_count": 1,
   "metadata": {},
   "outputs": [
    {
     "ename": "NameError",
     "evalue": "name 'pd' is not defined",
     "output_type": "error",
     "traceback": [
      "\u001b[0;31m---------------------------------------------------------------------------\u001b[0m",
      "\u001b[0;31mNameError\u001b[0m                                 Traceback (most recent call last)",
      "Cell \u001b[0;32mIn[1], line 5\u001b[0m\n\u001b[1;32m      1\u001b[0m keys \u001b[38;5;241m=\u001b[39m [\u001b[38;5;124m'\u001b[39m\u001b[38;5;124mFLAGS_FOREGROUND\u001b[39m\u001b[38;5;124m'\u001b[39m, \u001b[38;5;124m'\u001b[39m\u001b[38;5;124mID\u001b[39m\u001b[38;5;124m'\u001b[39m, \u001b[38;5;124m'\u001b[39m\u001b[38;5;124mTruth_ind\u001b[39m\u001b[38;5;124m'\u001b[39m, \u001b[38;5;124m'\u001b[39m\u001b[38;5;124mbadfrac\u001b[39m\u001b[38;5;124m'\u001b[39m, \u001b[38;5;124m'\u001b[39m\u001b[38;5;124md_arcsec\u001b[39m\u001b[38;5;124m'\u001b[39m, \u001b[38;5;124m'\u001b[39m\u001b[38;5;124md_contam_arcsec\u001b[39m\u001b[38;5;124m'\u001b[39m, \u001b[38;5;124m'\u001b[39m\u001b[38;5;124mdec\u001b[39m\u001b[38;5;124m'\u001b[39m,\\\n\u001b[1;32m      2\u001b[0m         \u001b[38;5;124m'\u001b[39m\u001b[38;5;124mdetected\u001b[39m\u001b[38;5;124m'\u001b[39m, \u001b[38;5;124m'\u001b[39m\u001b[38;5;124mid\u001b[39m\u001b[38;5;124m'\u001b[39m, \u001b[38;5;124m'\u001b[39m\u001b[38;5;124minj_class\u001b[39m\u001b[38;5;124m'\u001b[39m, \u001b[38;5;124m'\u001b[39m\u001b[38;5;124mmcal_T_err_noshear\u001b[39m\u001b[38;5;124m'\u001b[39m, \u001b[38;5;124m'\u001b[39m\u001b[38;5;124mmcal_T_noshear\u001b[39m\u001b[38;5;124m'\u001b[39m, \u001b[38;5;124m'\u001b[39m\u001b[38;5;124mmcal_T_ratio_noshear\u001b[39m\u001b[38;5;124m'\u001b[39m,\\\n\u001b[1;32m      3\u001b[0m         \u001b[38;5;124m'\u001b[39m\u001b[38;5;124mmcal_s2n_noshear\u001b[39m\u001b[38;5;124m'\u001b[39m, \u001b[38;5;124m'\u001b[39m\u001b[38;5;124mmcal_s2n_r_noshear\u001b[39m\u001b[38;5;124m'\u001b[39m, \u001b[38;5;124m'\u001b[39m\u001b[38;5;124mra\u001b[39m\u001b[38;5;124m'\u001b[39m, \u001b[38;5;124m'\u001b[39m\u001b[38;5;124mtilename\u001b[39m\u001b[38;5;124m'\u001b[39m, \u001b[38;5;124m'\u001b[39m\u001b[38;5;124mtrue_dec\u001b[39m\u001b[38;5;124m'\u001b[39m, \u001b[38;5;124m'\u001b[39m\u001b[38;5;124mtrue_ra\u001b[39m\u001b[38;5;124m'\u001b[39m, \u001b[38;5;124m'\u001b[39m\u001b[38;5;124mmcal_flags\u001b[39m\u001b[38;5;124m'\u001b[39m]\n\u001b[0;32m----> 5\u001b[0m df \u001b[38;5;241m=\u001b[39m \u001b[43mpd\u001b[49m\u001b[38;5;241m.\u001b[39mDataFrame()\n\u001b[1;32m      6\u001b[0m \u001b[38;5;28;01mwith\u001b[39;00m h5py\u001b[38;5;241m.\u001b[39mFile(\u001b[38;5;124m'\u001b[39m\u001b[38;5;124m/project/chihway/dhayaa/DECADE/BalrogOfTheDECADE_20231120.hdf5\u001b[39m\u001b[38;5;124m'\u001b[39m) \u001b[38;5;28;01mas\u001b[39;00m f:\n\u001b[1;32m      7\u001b[0m     flux_r, flux_i, flux_z \u001b[38;5;241m=\u001b[39m np\u001b[38;5;241m.\u001b[39marray(f[\u001b[38;5;124m'\u001b[39m\u001b[38;5;124mmcal_flux_noshear\u001b[39m\u001b[38;5;124m'\u001b[39m])\u001b[38;5;241m.\u001b[39mT\n",
      "\u001b[0;31mNameError\u001b[0m: name 'pd' is not defined"
     ]
    }
   ],
   "source": [
    "keys = ['FLAGS_FOREGROUND', 'ID', 'Truth_ind', 'badfrac', 'd_arcsec', 'd_contam_arcsec', 'dec',\\\n",
    "        'detected', 'id', 'inj_class', 'mcal_T_err_noshear', 'mcal_T_noshear', 'mcal_T_ratio_noshear',\\\n",
    "        'mcal_s2n_noshear', 'mcal_s2n_r_noshear', 'ra', 'tilename', 'true_dec', 'true_ra', 'mcal_flags']\n",
    "\n",
    "df = pd.DataFrame()\n",
    "with h5py.File('/project/chihway/dhayaa/DECADE/BalrogOfTheDECADE_20231120.hdf5') as f:\n",
    "    flux_r, flux_i, flux_z = np.array(f['mcal_flux_noshear']).T\n",
    "    flux_err_r, flux_err_i, flux_err_z = np.array(f['mcal_flux_err_noshear']).T\n",
    "    g1, g2  = np.array(f['mcal_g_noshear']).T\n",
    "    \n",
    "    df['mcal_flux_r_noshear'] = flux_r\n",
    "    df['mcal_flux_r_err_noshear']= flux_err_r\n",
    "    df['mcal_flux_i_noshear'] = flux_i\n",
    "    df['mcal_flux_i_err_noshear']= flux_err_i\n",
    "    df['mcal_flux_z_noshear'] = flux_z\n",
    "    df['mcal_flux_z_err_noshear']= flux_err_z\n",
    "    \n",
    "    df['g1'] = g1\n",
    "    df['g2'] = g2\n",
    "    for key in keys:\n",
    "        df[key]= np.array(f[key])\n",
    "\n",
    "# df.loc[df['detected'].astype(bool)&(df.FLAGS_FOREGROUND.values==0)]"
   ]
  },
  {
   "cell_type": "code",
   "execution_count": 17,
   "metadata": {},
   "outputs": [
    {
     "name": "stderr",
     "output_type": "stream",
     "text": [
      "/tmp/jobs/31336570/ipykernel_247322/2327421322.py:1: PerformanceWarning: \n",
      "your performance may suffer as PyTables will pickle object types that it cannot\n",
      "map directly to c-types [inferred_type->bytes,key->block5_values] [items->Index(['tilename'], dtype='object')]\n",
      "\n",
      "  df.to_hdf('%s/BalrogoftheDECADE_112523.hdf5'%outpath, key='df')\n"
     ]
    }
   ],
   "source": [
    "df.to_hdf('%s/BalrogoftheDECADE_112523.hdf5'%outpath, key='df')\n",
    "\n",
    "# np.savez('%s/BalrogoftheDECADE_Mask112523.npz'%outpath, df['detected'].astype(bool).values)"
   ]
  },
  {
   "cell_type": "code",
   "execution_count": 31,
   "metadata": {},
   "outputs": [],
   "source": [
    "# mask = np.load('%s/BalrogoftheDECADE_Mask112523.npz'%outpath)"
   ]
  },
  {
   "cell_type": "code",
   "execution_count": 3,
   "metadata": {},
   "outputs": [],
   "source": [
    "df = pd.read_hdf('%s/BalrogoftheDECADE_112523.hdf5'%outpath, key='df')"
   ]
  },
  {
   "cell_type": "code",
   "execution_count": 9,
   "metadata": {},
   "outputs": [
    {
     "name": "stdout",
     "output_type": "stream",
     "text": [
      "-rw-rw-r-- 1 raulteixeira pi-chihway 1.6G Nov 26 00:53 /project/chihway/raulteixeira/data/BalrogoftheDECADE_112523.hdf5\r\n"
     ]
    }
   ],
   "source": [
    "!ls /project/chihway/raulteixeira/data/BalrogoftheDECADE_112523.hdf5 -lht"
   ]
  },
  {
   "cell_type": "code",
   "execution_count": 22,
   "metadata": {},
   "outputs": [
    {
     "name": "stdout",
     "output_type": "stream",
     "text": [
      "time cut: 1.6094179153442383 seconds\n"
     ]
    }
   ],
   "source": [
    "t0 = time.time()\n",
    "\n",
    "fluxcols    = ['mcal_flux_r_noshear', 'mcal_flux_i_noshear', 'mcal_flux_z_noshear']\n",
    "fluxerrcols = ['mcal_flux_r_err_noshear', 'mcal_flux_i_err_noshear', 'mcal_flux_z_err_noshear']\n",
    "\n",
    "flux_r, flux_i, flux_z = (df[fluxcol] for fluxcol in fluxcols)\n",
    "flux_err_r, flux_err_i, flux_err_z = (df[fluxerrcol] for fluxerrcol in fluxerrcols)\n",
    "\n",
    "# flux_err_r, flux_err_i, flux_err_z = np.array(f['mcal_flux_err_noshear']).T\n",
    "mag_r = flux2mag(flux_r)\n",
    "mag_i = flux2mag(flux_i)\n",
    "mag_z = flux2mag(flux_z)\n",
    "\n",
    "mcal_pz_mask = ((mag_i < 23.5) & (mag_i > 18) & \n",
    "                (mag_r < 26)   & (mag_r > 15) & \n",
    "                (mag_z < 26)   & (mag_z > 15) & \n",
    "                (mag_r - mag_i < 4)   & (mag_r - mag_i > -1.5) & \n",
    "                (mag_i - mag_z < 4)   & (mag_i - mag_z > -1.5))\n",
    "\n",
    "SNR     = df['mcal_s2n_noshear']\n",
    "T_ratio = df['mcal_T_ratio_noshear']\n",
    "T       = df['mcal_T_noshear']\n",
    "flags   = df['mcal_flags']\n",
    "\n",
    "fg = df['FLAGS_FOREGROUND']\n",
    "\n",
    "g1, g2  = df['g1'], df['g2']\n",
    "\n",
    "#Metacal cuts based on DES Y3 ones (from here: https://des.ncsa.illinois.edu/releases/y3a2/Y3key-catalogs)\n",
    "SNR_Mask   = (SNR > 10) & (SNR < 1000)\n",
    "Tratio_Mask= T_ratio > 0.5\n",
    "T_Mask     = T < 10\n",
    "Flag_Mask  = flags == 0\n",
    "#SG_Mask = (sg>=4)\n",
    "FG_Mask = (fg==0)\n",
    "\n",
    "Other_Mask = np.invert((T > 2) & (SNR < 30)) & np.invert((np.log10(T) < (22.25 - mag_r)/3.5) & (g1**2 + g2**2 > 0.8**2))\n",
    "\n",
    "Mask = mcal_pz_mask & SNR_Mask & Tratio_Mask & T_Mask & Flag_Mask & Other_Mask & FG_Mask #& SG_Mask\n",
    "\n",
    "np.savez('/project/chihway/raulteixeira/data/Balrog_20231125_MASK_GOLD+WL+FG.npz', Mask)\n",
    "\n",
    "print('time cut:', time.time()-t0, 'seconds')"
   ]
  },
  {
   "cell_type": "code",
   "execution_count": 5,
   "metadata": {},
   "outputs": [
    {
     "data": {
      "text/plain": [
       "1312588"
      ]
     },
     "execution_count": 5,
     "metadata": {},
     "output_type": "execute_result"
    }
   ],
   "source": [
    "np.load('/project/chihway/raulteixeira/data/Balrog_20231125_MASK_GOLD+WL+FG.npz')['arr_0'].sum()"
   ]
  },
  {
   "cell_type": "code",
   "execution_count": 31,
   "metadata": {},
   "outputs": [
    {
     "data": {
      "text/plain": [
       "1312588"
      ]
     },
     "execution_count": 31,
     "metadata": {},
     "output_type": "execute_result"
    }
   ],
   "source": [
    "Mask.sum()"
   ]
  },
  {
   "cell_type": "code",
   "execution_count": 33,
   "metadata": {},
   "outputs": [],
   "source": [
    "fp_mask = (df['true_ra'] < 180) & (df['true_dec'] > -25)"
   ]
  },
  {
   "cell_type": "code",
   "execution_count": 34,
   "metadata": {},
   "outputs": [
    {
     "data": {
      "text/plain": [
       "5309281"
      ]
     },
     "execution_count": 34,
     "metadata": {},
     "output_type": "execute_result"
    }
   ],
   "source": [
    "fp_mask"
   ]
  },
  {
   "cell_type": "code",
   "execution_count": 46,
   "metadata": {},
   "outputs": [],
   "source": [
    "good_DF_ids = np.unique(df['ID'][fp_mask&Mask&class_mask])"
   ]
  },
  {
   "cell_type": "code",
   "execution_count": 58,
   "metadata": {},
   "outputs": [
    {
     "data": {
      "text/plain": [
       "154886"
      ]
     },
     "execution_count": 58,
     "metadata": {},
     "output_type": "execute_result"
    }
   ],
   "source": [
    "good_DF_ids.size"
   ]
  },
  {
   "cell_type": "code",
   "execution_count": 44,
   "metadata": {},
   "outputs": [
    {
     "data": {
      "text/plain": [
       "0          692581195\n",
       "1          692581196\n",
       "2          692581197\n",
       "3          692581243\n",
       "4          692581244\n",
       "             ...    \n",
       "2826983    698430493\n",
       "2826984    698430494\n",
       "2826985    698430540\n",
       "2826986    698430541\n",
       "2826987    698430542\n",
       "Name: ID, Length: 2826988, dtype: int64"
      ]
     },
     "execution_count": 44,
     "metadata": {},
     "output_type": "execute_result"
    }
   ],
   "source": [
    "raw_DF['ID']"
   ]
  },
  {
   "cell_type": "code",
   "execution_count": 75,
   "metadata": {},
   "outputs": [],
   "source": [
    "wrg3e = (Mask)[df.detected&fp_mask]"
   ]
  },
  {
   "cell_type": "code",
   "execution_count": 77,
   "metadata": {},
   "outputs": [
    {
     "data": {
      "text/plain": [
       "0.28153078318391855"
      ]
     },
     "execution_count": 77,
     "metadata": {},
     "output_type": "execute_result"
    }
   ],
   "source": [
    "wrg3e.mean()"
   ]
  },
  {
   "cell_type": "code",
   "execution_count": 54,
   "metadata": {},
   "outputs": [],
   "source": [
    "clean_DF = pd.read_csv('/project2/chihway/raulteixeira/data/deepfields_clean.csv.gz')\n",
    "alex_DF = pd.read_csv('/project/chihway/raulteixeira/data/deepfields_with_redshifts.csv.gz')"
   ]
  },
  {
   "cell_type": "code",
   "execution_count": 55,
   "metadata": {},
   "outputs": [],
   "source": [
    "good_DF = clean_DF[np.isin(clean_DF['ID'], good_DF_ids)]"
   ]
  },
  {
   "cell_type": "code",
   "execution_count": 56,
   "metadata": {},
   "outputs": [],
   "source": [
    "good_DF = good_DF.merge(alex_DF[['ID', 'Z']], on='ID', how='left')"
   ]
  },
  {
   "cell_type": "code",
   "execution_count": 80,
   "metadata": {},
   "outputs": [],
   "source": [
    "good_DF.to_hdf('%s/deep_Balrog_DR3_1_1_fp_GOLD_WL_FG.hdf5'%outpath, key='df')"
   ]
  },
  {
   "cell_type": "code",
   "execution_count": null,
   "metadata": {},
   "outputs": [],
   "source": [
    "good_DF = "
   ]
  },
  {
   "cell_type": "code",
   "execution_count": 59,
   "metadata": {},
   "outputs": [
    {
     "data": {
      "text/plain": [
       "55084"
      ]
     },
     "execution_count": 59,
     "metadata": {},
     "output_type": "execute_result"
    }
   ],
   "source": [
    "np.isfinite(good_DF['Z']).sum()"
   ]
  },
  {
   "cell_type": "code",
   "execution_count": 36,
   "metadata": {},
   "outputs": [
    {
     "data": {
      "text/plain": [
       "834737"
      ]
     },
     "execution_count": 36,
     "metadata": {},
     "output_type": "execute_result"
    }
   ],
   "source": [
    "(fp_mask&Mask&class_mask).sum()"
   ]
  },
  {
   "cell_type": "code",
   "execution_count": 9,
   "metadata": {},
   "outputs": [
    {
     "data": {
      "text/plain": [
       "Index(['mcal_flux_r_noshear', 'mcal_flux_r_err_noshear', 'mcal_flux_i_noshear',\n",
       "       'mcal_flux_i_err_noshear', 'mcal_flux_z_noshear',\n",
       "       'mcal_flux_z_err_noshear', 'g1', 'g2', 'FLAGS_FOREGROUND', 'ID',\n",
       "       'Truth_ind', 'badfrac', 'd_arcsec', 'd_contam_arcsec', 'dec',\n",
       "       'detected', 'id', 'inj_class', 'mcal_T_err_noshear', 'mcal_T_noshear',\n",
       "       'mcal_T_ratio_noshear', 'mcal_s2n_noshear', 'mcal_s2n_r_noshear', 'ra',\n",
       "       'tilename', 'true_dec', 'true_ra'],\n",
       "      dtype='object')"
      ]
     },
     "execution_count": 9,
     "metadata": {},
     "output_type": "execute_result"
    }
   ],
   "source": [
    "df.columns"
   ]
  },
  {
   "cell_type": "code",
   "execution_count": null,
   "metadata": {},
   "outputs": [],
   "source": [
    "shorter_cols = ['mcal_flux_r_noshear', 'mcal_flux_r_err_noshear', 'mcal_flux_i_noshear',\n",
    "                'mcal_flux_i_err_noshear', 'mcal_flux_z_noshear', 'mcal_flux_z_err_noshear', \n",
    "                'ID', 'id','tilename']"
   ]
  },
  {
   "cell_type": "code",
   "execution_count": 15,
   "metadata": {},
   "outputs": [],
   "source": [
    "class_mask = df['detected'].astype(bool).values & (df['d_contam_arcsec'].values>1.5)"
   ]
  },
  {
   "cell_type": "code",
   "execution_count": 18,
   "metadata": {},
   "outputs": [
    {
     "data": {
      "text/plain": [
       "(4935450,)"
      ]
     },
     "execution_count": 18,
     "metadata": {},
     "output_type": "execute_result"
    }
   ],
   "source": [
    "wide_cells.shape"
   ]
  },
  {
   "cell_type": "code",
   "execution_count": 20,
   "metadata": {},
   "outputs": [
    {
     "name": "stderr",
     "output_type": "stream",
     "text": [
      "/tmp/jobs/31339947/ipykernel_297192/1151916408.py:2: SettingWithCopyWarning: \n",
      "A value is trying to be set on a copy of a slice from a DataFrame\n",
      "\n",
      "See the caveats in the documentation: https://pandas.pydata.org/pandas-docs/stable/user_guide/indexing.html#returning-a-view-versus-a-copy\n",
      "  df['wide_cells'][class_mask] = wide_cells\n"
     ]
    }
   ],
   "source": [
    "df['wide_cells'] = np.nan\n",
    "df['wide_cells'][class_mask] = wide_cells"
   ]
  },
  {
   "cell_type": "code",
   "execution_count": 22,
   "metadata": {},
   "outputs": [
    {
     "name": "stderr",
     "output_type": "stream",
     "text": [
      "/tmp/jobs/31339947/ipykernel_297192/2728549286.py:1: PerformanceWarning: \n",
      "your performance may suffer as PyTables will pickle object types that it cannot\n",
      "map directly to c-types [inferred_type->bytes,key->block5_values] [items->Index(['tilename'], dtype='object')]\n",
      "\n",
      "  df.to_hdf('%s/BalrogoftheDECADE_112523_wide_cells.hdf5'%outpath, key='df')\n"
     ]
    }
   ],
   "source": [
    "df.to_hdf('%s/BalrogoftheDECADE_112523_wide_cells.hdf5'%outpath, key='df')"
   ]
  },
  {
   "cell_type": "code",
   "execution_count": 16,
   "metadata": {},
   "outputs": [],
   "source": [
    "np.savez('%s/BalrogoftheDECADE_Mask_DET_CONTAM_1dot5_112523.npz'%outpath, class_mask)\n",
    "df[shorter_cols][class_mask].to_csv('%s/BalrogoftheDECADE_112523_MASKED_DET_CONTAM_1dot5_fluxes+errs+ID+id+tilename.csv.gz'%outpath)"
   ]
  },
  {
   "cell_type": "code",
   "execution_count": null,
   "metadata": {},
   "outputs": [],
   "source": [
    "df[~df['detected'].astype(bool).values].sum()"
   ]
  },
  {
   "cell_type": "code",
   "execution_count": null,
   "metadata": {},
   "outputs": [],
   "source": [
    "np.rec.array(df[~df['detected'].astype(bool).values])"
   ]
  },
  {
   "cell_type": "code",
   "execution_count": 18,
   "metadata": {},
   "outputs": [
    {
     "name": "stdout",
     "output_type": "stream",
     "text": [
      "-rw-rw-r-- 1 raulteixeira pi-chihway 1.6G Nov 26 00:53 /project/chihway/raulteixeira/data/BalrogoftheDECADE_112523.hdf5\r\n"
     ]
    }
   ],
   "source": [
    "!ls -lht /project/chihway/raulteixeira/data/BalrogoftheDECADE_112523.hdf5"
   ]
  },
  {
   "cell_type": "code",
   "execution_count": 6,
   "metadata": {},
   "outputs": [],
   "source": [
    "n_deep = 48\n",
    "outpath = '/project/chihway/raulteixeira/data'\n",
    "\n",
    "balrog_det_DF = pd.read_hdf('%s/deep_Balrog_DR3_1_1_fp_GOLD_WL_FG.hdf5'%outpath, key='df')"
   ]
  },
  {
   "cell_type": "code",
   "execution_count": 7,
   "metadata": {},
   "outputs": [
    {
     "data": {
      "text/html": [
       "<div>\n",
       "<style scoped>\n",
       "    .dataframe tbody tr th:only-of-type {\n",
       "        vertical-align: middle;\n",
       "    }\n",
       "\n",
       "    .dataframe tbody tr th {\n",
       "        vertical-align: top;\n",
       "    }\n",
       "\n",
       "    .dataframe thead th {\n",
       "        text-align: right;\n",
       "    }\n",
       "</style>\n",
       "<table border=\"1\" class=\"dataframe\">\n",
       "  <thead>\n",
       "    <tr style=\"text-align: right;\">\n",
       "      <th></th>\n",
       "      <th>ID</th>\n",
       "      <th>RA</th>\n",
       "      <th>DEC</th>\n",
       "      <th>KNN_CLASS</th>\n",
       "      <th>BDF_FLUX_DERED_CALIB_U</th>\n",
       "      <th>BDF_FLUX_DERED_CALIB_G</th>\n",
       "      <th>BDF_FLUX_DERED_CALIB_R</th>\n",
       "      <th>BDF_FLUX_DERED_CALIB_I</th>\n",
       "      <th>BDF_FLUX_DERED_CALIB_Z</th>\n",
       "      <th>BDF_FLUX_DERED_CALIB_J</th>\n",
       "      <th>...</th>\n",
       "      <th>BDF_FLUX_DERED_CALIB_KS</th>\n",
       "      <th>BDF_FLUX_ERR_DERED_CALIB_U</th>\n",
       "      <th>BDF_FLUX_ERR_DERED_CALIB_G</th>\n",
       "      <th>BDF_FLUX_ERR_DERED_CALIB_R</th>\n",
       "      <th>BDF_FLUX_ERR_DERED_CALIB_I</th>\n",
       "      <th>BDF_FLUX_ERR_DERED_CALIB_Z</th>\n",
       "      <th>BDF_FLUX_ERR_DERED_CALIB_J</th>\n",
       "      <th>BDF_FLUX_ERR_DERED_CALIB_H</th>\n",
       "      <th>BDF_FLUX_ERR_DERED_CALIB_KS</th>\n",
       "      <th>Z</th>\n",
       "    </tr>\n",
       "  </thead>\n",
       "  <tbody>\n",
       "    <tr>\n",
       "      <th>0</th>\n",
       "      <td>692581197</td>\n",
       "      <td>52.919675</td>\n",
       "      <td>-28.867296</td>\n",
       "      <td>1.0</td>\n",
       "      <td>204.186270</td>\n",
       "      <td>259.924072</td>\n",
       "      <td>640.058928</td>\n",
       "      <td>923.667161</td>\n",
       "      <td>990.715877</td>\n",
       "      <td>1470.225204</td>\n",
       "      <td>...</td>\n",
       "      <td>2012.706674</td>\n",
       "      <td>14.830872</td>\n",
       "      <td>6.298630</td>\n",
       "      <td>11.451556</td>\n",
       "      <td>16.559125</td>\n",
       "      <td>29.037093</td>\n",
       "      <td>38.015369</td>\n",
       "      <td>84.564620</td>\n",
       "      <td>56.049189</td>\n",
       "      <td>NaN</td>\n",
       "    </tr>\n",
       "    <tr>\n",
       "      <th>1</th>\n",
       "      <td>692581245</td>\n",
       "      <td>52.806489</td>\n",
       "      <td>-28.867570</td>\n",
       "      <td>1.0</td>\n",
       "      <td>482.933499</td>\n",
       "      <td>471.033683</td>\n",
       "      <td>666.071153</td>\n",
       "      <td>1136.945773</td>\n",
       "      <td>1345.197659</td>\n",
       "      <td>1742.870626</td>\n",
       "      <td>...</td>\n",
       "      <td>1956.258491</td>\n",
       "      <td>17.874394</td>\n",
       "      <td>7.675500</td>\n",
       "      <td>11.668144</td>\n",
       "      <td>18.085892</td>\n",
       "      <td>31.539036</td>\n",
       "      <td>42.248013</td>\n",
       "      <td>65.293374</td>\n",
       "      <td>58.042663</td>\n",
       "      <td>NaN</td>\n",
       "    </tr>\n",
       "    <tr>\n",
       "      <th>2</th>\n",
       "      <td>692581291</td>\n",
       "      <td>52.847828</td>\n",
       "      <td>-28.869228</td>\n",
       "      <td>1.0</td>\n",
       "      <td>1094.144134</td>\n",
       "      <td>1352.384103</td>\n",
       "      <td>2619.408382</td>\n",
       "      <td>4579.472224</td>\n",
       "      <td>5198.553619</td>\n",
       "      <td>7106.616134</td>\n",
       "      <td>...</td>\n",
       "      <td>9941.873784</td>\n",
       "      <td>28.111577</td>\n",
       "      <td>11.526915</td>\n",
       "      <td>19.684373</td>\n",
       "      <td>31.248676</td>\n",
       "      <td>52.726051</td>\n",
       "      <td>54.929058</td>\n",
       "      <td>83.638143</td>\n",
       "      <td>63.378619</td>\n",
       "      <td>NaN</td>\n",
       "    </tr>\n",
       "    <tr>\n",
       "      <th>3</th>\n",
       "      <td>692581293</td>\n",
       "      <td>52.856823</td>\n",
       "      <td>-28.870751</td>\n",
       "      <td>1.0</td>\n",
       "      <td>1986.774586</td>\n",
       "      <td>2948.795729</td>\n",
       "      <td>5489.816636</td>\n",
       "      <td>6215.050206</td>\n",
       "      <td>7144.472830</td>\n",
       "      <td>8527.280981</td>\n",
       "      <td>...</td>\n",
       "      <td>10108.686762</td>\n",
       "      <td>36.442989</td>\n",
       "      <td>16.605563</td>\n",
       "      <td>29.040082</td>\n",
       "      <td>37.448289</td>\n",
       "      <td>67.742527</td>\n",
       "      <td>46.799034</td>\n",
       "      <td>109.493905</td>\n",
       "      <td>68.978164</td>\n",
       "      <td>NaN</td>\n",
       "    </tr>\n",
       "    <tr>\n",
       "      <th>4</th>\n",
       "      <td>692581435</td>\n",
       "      <td>52.813987</td>\n",
       "      <td>-28.872141</td>\n",
       "      <td>1.0</td>\n",
       "      <td>1707.829727</td>\n",
       "      <td>2646.956330</td>\n",
       "      <td>4638.808679</td>\n",
       "      <td>5388.150997</td>\n",
       "      <td>6078.494828</td>\n",
       "      <td>7333.607844</td>\n",
       "      <td>...</td>\n",
       "      <td>8987.379186</td>\n",
       "      <td>25.853381</td>\n",
       "      <td>12.191459</td>\n",
       "      <td>20.531253</td>\n",
       "      <td>26.672065</td>\n",
       "      <td>46.166829</td>\n",
       "      <td>24.039285</td>\n",
       "      <td>53.206740</td>\n",
       "      <td>36.168111</td>\n",
       "      <td>NaN</td>\n",
       "    </tr>\n",
       "    <tr>\n",
       "      <th>...</th>\n",
       "      <td>...</td>\n",
       "      <td>...</td>\n",
       "      <td>...</td>\n",
       "      <td>...</td>\n",
       "      <td>...</td>\n",
       "      <td>...</td>\n",
       "      <td>...</td>\n",
       "      <td>...</td>\n",
       "      <td>...</td>\n",
       "      <td>...</td>\n",
       "      <td>...</td>\n",
       "      <td>...</td>\n",
       "      <td>...</td>\n",
       "      <td>...</td>\n",
       "      <td>...</td>\n",
       "      <td>...</td>\n",
       "      <td>...</td>\n",
       "      <td>...</td>\n",
       "      <td>...</td>\n",
       "      <td>...</td>\n",
       "      <td>...</td>\n",
       "    </tr>\n",
       "    <tr>\n",
       "      <th>144041</th>\n",
       "      <td>698431163</td>\n",
       "      <td>36.978001</td>\n",
       "      <td>-4.969034</td>\n",
       "      <td>1.0</td>\n",
       "      <td>191.622830</td>\n",
       "      <td>656.359471</td>\n",
       "      <td>2309.533102</td>\n",
       "      <td>3801.424896</td>\n",
       "      <td>4924.267036</td>\n",
       "      <td>8947.095761</td>\n",
       "      <td>...</td>\n",
       "      <td>16173.745160</td>\n",
       "      <td>20.108306</td>\n",
       "      <td>6.880690</td>\n",
       "      <td>11.452194</td>\n",
       "      <td>19.616352</td>\n",
       "      <td>31.847288</td>\n",
       "      <td>36.694250</td>\n",
       "      <td>43.902839</td>\n",
       "      <td>62.018809</td>\n",
       "      <td>NaN</td>\n",
       "    </tr>\n",
       "    <tr>\n",
       "      <th>144042</th>\n",
       "      <td>698431259</td>\n",
       "      <td>36.954328</td>\n",
       "      <td>-4.969575</td>\n",
       "      <td>1.0</td>\n",
       "      <td>120.250526</td>\n",
       "      <td>216.091623</td>\n",
       "      <td>506.742228</td>\n",
       "      <td>825.888467</td>\n",
       "      <td>965.745010</td>\n",
       "      <td>1440.678393</td>\n",
       "      <td>...</td>\n",
       "      <td>2379.999600</td>\n",
       "      <td>19.957054</td>\n",
       "      <td>6.650911</td>\n",
       "      <td>9.950356</td>\n",
       "      <td>17.043753</td>\n",
       "      <td>27.546567</td>\n",
       "      <td>47.713860</td>\n",
       "      <td>56.839087</td>\n",
       "      <td>69.299714</td>\n",
       "      <td>NaN</td>\n",
       "    </tr>\n",
       "    <tr>\n",
       "      <th>144043</th>\n",
       "      <td>698431931</td>\n",
       "      <td>36.889803</td>\n",
       "      <td>-4.975466</td>\n",
       "      <td>1.0</td>\n",
       "      <td>347.428774</td>\n",
       "      <td>524.071173</td>\n",
       "      <td>601.148175</td>\n",
       "      <td>624.480941</td>\n",
       "      <td>659.387098</td>\n",
       "      <td>1004.714485</td>\n",
       "      <td>...</td>\n",
       "      <td>1679.988042</td>\n",
       "      <td>18.309016</td>\n",
       "      <td>8.481602</td>\n",
       "      <td>10.596290</td>\n",
       "      <td>15.401787</td>\n",
       "      <td>26.191373</td>\n",
       "      <td>14.726907</td>\n",
       "      <td>20.140130</td>\n",
       "      <td>26.876241</td>\n",
       "      <td>NaN</td>\n",
       "    </tr>\n",
       "    <tr>\n",
       "      <th>144044</th>\n",
       "      <td>698432027</td>\n",
       "      <td>37.016463</td>\n",
       "      <td>-4.977824</td>\n",
       "      <td>1.0</td>\n",
       "      <td>802.635318</td>\n",
       "      <td>1458.256794</td>\n",
       "      <td>2833.101547</td>\n",
       "      <td>3339.585189</td>\n",
       "      <td>3624.605553</td>\n",
       "      <td>4458.817035</td>\n",
       "      <td>...</td>\n",
       "      <td>5281.051492</td>\n",
       "      <td>27.929286</td>\n",
       "      <td>11.570527</td>\n",
       "      <td>18.455662</td>\n",
       "      <td>27.335210</td>\n",
       "      <td>44.253162</td>\n",
       "      <td>23.356293</td>\n",
       "      <td>33.124416</td>\n",
       "      <td>48.277439</td>\n",
       "      <td>NaN</td>\n",
       "    </tr>\n",
       "    <tr>\n",
       "      <th>144045</th>\n",
       "      <td>698433084</td>\n",
       "      <td>36.950846</td>\n",
       "      <td>-4.988718</td>\n",
       "      <td>1.0</td>\n",
       "      <td>913.408554</td>\n",
       "      <td>1487.087670</td>\n",
       "      <td>2627.382738</td>\n",
       "      <td>3171.650317</td>\n",
       "      <td>3546.032013</td>\n",
       "      <td>4280.590301</td>\n",
       "      <td>...</td>\n",
       "      <td>5224.536310</td>\n",
       "      <td>23.182884</td>\n",
       "      <td>9.952796</td>\n",
       "      <td>15.344451</td>\n",
       "      <td>22.949706</td>\n",
       "      <td>36.520408</td>\n",
       "      <td>17.959507</td>\n",
       "      <td>25.384459</td>\n",
       "      <td>37.413690</td>\n",
       "      <td>NaN</td>\n",
       "    </tr>\n",
       "  </tbody>\n",
       "</table>\n",
       "<p>144046 rows × 21 columns</p>\n",
       "</div>"
      ],
      "text/plain": [
       "               ID         RA        DEC  KNN_CLASS  BDF_FLUX_DERED_CALIB_U  \\\n",
       "0       692581197  52.919675 -28.867296        1.0              204.186270   \n",
       "1       692581245  52.806489 -28.867570        1.0              482.933499   \n",
       "2       692581291  52.847828 -28.869228        1.0             1094.144134   \n",
       "3       692581293  52.856823 -28.870751        1.0             1986.774586   \n",
       "4       692581435  52.813987 -28.872141        1.0             1707.829727   \n",
       "...           ...        ...        ...        ...                     ...   \n",
       "144041  698431163  36.978001  -4.969034        1.0              191.622830   \n",
       "144042  698431259  36.954328  -4.969575        1.0              120.250526   \n",
       "144043  698431931  36.889803  -4.975466        1.0              347.428774   \n",
       "144044  698432027  37.016463  -4.977824        1.0              802.635318   \n",
       "144045  698433084  36.950846  -4.988718        1.0              913.408554   \n",
       "\n",
       "        BDF_FLUX_DERED_CALIB_G  BDF_FLUX_DERED_CALIB_R  \\\n",
       "0                   259.924072              640.058928   \n",
       "1                   471.033683              666.071153   \n",
       "2                  1352.384103             2619.408382   \n",
       "3                  2948.795729             5489.816636   \n",
       "4                  2646.956330             4638.808679   \n",
       "...                        ...                     ...   \n",
       "144041              656.359471             2309.533102   \n",
       "144042              216.091623              506.742228   \n",
       "144043              524.071173              601.148175   \n",
       "144044             1458.256794             2833.101547   \n",
       "144045             1487.087670             2627.382738   \n",
       "\n",
       "        BDF_FLUX_DERED_CALIB_I  BDF_FLUX_DERED_CALIB_Z  \\\n",
       "0                   923.667161              990.715877   \n",
       "1                  1136.945773             1345.197659   \n",
       "2                  4579.472224             5198.553619   \n",
       "3                  6215.050206             7144.472830   \n",
       "4                  5388.150997             6078.494828   \n",
       "...                        ...                     ...   \n",
       "144041             3801.424896             4924.267036   \n",
       "144042              825.888467              965.745010   \n",
       "144043              624.480941              659.387098   \n",
       "144044             3339.585189             3624.605553   \n",
       "144045             3171.650317             3546.032013   \n",
       "\n",
       "        BDF_FLUX_DERED_CALIB_J  ...  BDF_FLUX_DERED_CALIB_KS  \\\n",
       "0                  1470.225204  ...              2012.706674   \n",
       "1                  1742.870626  ...              1956.258491   \n",
       "2                  7106.616134  ...              9941.873784   \n",
       "3                  8527.280981  ...             10108.686762   \n",
       "4                  7333.607844  ...              8987.379186   \n",
       "...                        ...  ...                      ...   \n",
       "144041             8947.095761  ...             16173.745160   \n",
       "144042             1440.678393  ...              2379.999600   \n",
       "144043             1004.714485  ...              1679.988042   \n",
       "144044             4458.817035  ...              5281.051492   \n",
       "144045             4280.590301  ...              5224.536310   \n",
       "\n",
       "        BDF_FLUX_ERR_DERED_CALIB_U  BDF_FLUX_ERR_DERED_CALIB_G  \\\n",
       "0                        14.830872                    6.298630   \n",
       "1                        17.874394                    7.675500   \n",
       "2                        28.111577                   11.526915   \n",
       "3                        36.442989                   16.605563   \n",
       "4                        25.853381                   12.191459   \n",
       "...                            ...                         ...   \n",
       "144041                   20.108306                    6.880690   \n",
       "144042                   19.957054                    6.650911   \n",
       "144043                   18.309016                    8.481602   \n",
       "144044                   27.929286                   11.570527   \n",
       "144045                   23.182884                    9.952796   \n",
       "\n",
       "        BDF_FLUX_ERR_DERED_CALIB_R  BDF_FLUX_ERR_DERED_CALIB_I  \\\n",
       "0                        11.451556                   16.559125   \n",
       "1                        11.668144                   18.085892   \n",
       "2                        19.684373                   31.248676   \n",
       "3                        29.040082                   37.448289   \n",
       "4                        20.531253                   26.672065   \n",
       "...                            ...                         ...   \n",
       "144041                   11.452194                   19.616352   \n",
       "144042                    9.950356                   17.043753   \n",
       "144043                   10.596290                   15.401787   \n",
       "144044                   18.455662                   27.335210   \n",
       "144045                   15.344451                   22.949706   \n",
       "\n",
       "        BDF_FLUX_ERR_DERED_CALIB_Z  BDF_FLUX_ERR_DERED_CALIB_J  \\\n",
       "0                        29.037093                   38.015369   \n",
       "1                        31.539036                   42.248013   \n",
       "2                        52.726051                   54.929058   \n",
       "3                        67.742527                   46.799034   \n",
       "4                        46.166829                   24.039285   \n",
       "...                            ...                         ...   \n",
       "144041                   31.847288                   36.694250   \n",
       "144042                   27.546567                   47.713860   \n",
       "144043                   26.191373                   14.726907   \n",
       "144044                   44.253162                   23.356293   \n",
       "144045                   36.520408                   17.959507   \n",
       "\n",
       "        BDF_FLUX_ERR_DERED_CALIB_H  BDF_FLUX_ERR_DERED_CALIB_KS   Z  \n",
       "0                        84.564620                    56.049189 NaN  \n",
       "1                        65.293374                    58.042663 NaN  \n",
       "2                        83.638143                    63.378619 NaN  \n",
       "3                       109.493905                    68.978164 NaN  \n",
       "4                        53.206740                    36.168111 NaN  \n",
       "...                            ...                          ...  ..  \n",
       "144041                   43.902839                    62.018809 NaN  \n",
       "144042                   56.839087                    69.299714 NaN  \n",
       "144043                   20.140130                    26.876241 NaN  \n",
       "144044                   33.124416                    48.277439 NaN  \n",
       "144045                   25.384459                    37.413690 NaN  \n",
       "\n",
       "[144046 rows x 21 columns]"
      ]
     },
     "execution_count": 7,
     "metadata": {},
     "output_type": "execute_result"
    }
   ],
   "source": [
    "balrog_det_DF"
   ]
  },
  {
   "cell_type": "code",
   "execution_count": 5,
   "metadata": {},
   "outputs": [
    {
     "name": "stdout",
     "output_type": "stream",
     "text": [
      "length of dataframe and number of redshift samples: 144046 55084\n"
     ]
    }
   ],
   "source": [
    "bands = list('UGRIZJH')+['KS']\n",
    "\n",
    "fluxes_d = np.array([balrog_det_DF[f'BDF_FLUX_DERED_CALIB_{band}'].values for band in bands]).T\n",
    "fluxerrs_d = np.array([balrog_det_DF[f'BDF_FLUX_ERR_DERED_CALIB_{band}'].values for band in bands]).T\n",
    "\n",
    "def flux2mag(flux):\n",
    "    return -2.5 * np.log10(flux) + 30\n",
    "\n",
    "# cols = [f'flux_{band.lower()}' for band in bands]+[f'flux_err_{band.lower()}' for band in bands]\n",
    "# df = pd.DataFrame(np.hstack([fluxes_d, fluxerrs_d]), columns=cols)\n",
    "\n",
    "# mags_d = np.zeros((len(df),len(bands)))\n",
    "# magerrs_d = np.zeros((len(df),len(bands)))\n",
    "\n",
    "# for i,band in enumerate(bands):\n",
    "#     print(i,band)\n",
    "#     mags_d[:,i] = flux2mag(fluxes_d[:,i])\n",
    "\n",
    "# colors = np.zeros((len(fluxes_d),len(bands)-1))\n",
    "# for i in range(len(bands)-1):\n",
    "#     colors[:,i] = mags_d[:,i] - mags_d[:,i+1]\n",
    "\n",
    "# normal_colors = np.mean(colors > -1, axis=1) == 1\n",
    "# normal_colors.sum()\n",
    "\n",
    "# df = df[normal_colors]\n",
    "\n",
    "# #mask faint objects, i < 25\n",
    "balrog_det_DF = balrog_det_DF[flux2mag(balrog_det_DF.BDF_FLUX_DERED_CALIB_I.values) < 25]\n",
    "print('length of dataframe and number of redshift samples:', len(balrog_det_DF), np.sum(np.isfinite(balrog_det_DF['Z'])))"
   ]
  },
  {
   "cell_type": "code",
   "execution_count": 4,
   "metadata": {},
   "outputs": [],
   "source": [
    "df = pd.read_csv('%s/BalrogoftheDECADE_112523_MASKED_DET_CONTAM_1dot5_fluxes+errs+ID+id+tilename.csv.gz'%outpath)\n",
    "\n",
    "wide_cells = np.load(\"%s/som_BalrogoftheDECADE_112523_26x26.npz\"%outpath)['cells']\n",
    "df['wide_cells']=wide_cells"
   ]
  },
  {
   "cell_type": "code",
   "execution_count": 11,
   "metadata": {},
   "outputs": [
    {
     "data": {
      "text/plain": [
       "(array([1590774,  291264,  254521,  342487,  295201,  512856,  447482,\n",
       "         367775,  298578,  534512]),\n",
       " array([  0. ,  67.5, 135. , 202.5, 270. , 337.5, 405. , 472.5, 540. ,\n",
       "        607.5, 675. ]))"
      ]
     },
     "execution_count": 11,
     "metadata": {},
     "output_type": "execute_result"
    }
   ],
   "source": [
    "np.histogram(df['wide_cells'])"
   ]
  },
  {
   "cell_type": "code",
   "execution_count": 5,
   "metadata": {},
   "outputs": [],
   "source": [
    "balrog_full = pd.read_hdf('%s/BalrogoftheDECADE_112523.hdf5'%outpath, key='df')"
   ]
  },
  {
   "cell_type": "code",
   "execution_count": null,
   "metadata": {},
   "outputs": [],
   "source": [
    "balrog_full.merge(df, )"
   ]
  }
 ],
 "metadata": {
  "kernelspec": {
   "display_name": "Python 3 (ipykernel)",
   "language": "python",
   "name": "python3"
  },
  "language_info": {
   "codemirror_mode": {
    "name": "ipython",
    "version": 3
   },
   "file_extension": ".py",
   "mimetype": "text/x-python",
   "name": "python",
   "nbconvert_exporter": "python",
   "pygments_lexer": "ipython3",
   "version": "3.11.4"
  }
 },
 "nbformat": 4,
 "nbformat_minor": 2
}
